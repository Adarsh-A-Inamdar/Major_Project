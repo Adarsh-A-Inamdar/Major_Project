{
 "cells": [
  {
   "cell_type": "markdown",
   "metadata": {},
   "source": [
    "# Leukemia Classification and Grading (Complete Pipeline)\n",
    "\n",
    "This notebook orchestrates the entire pipeline for the Leukemia Classification and Grading project:\n",
    "1.  **Setup**: Imports libraries and configures paths.\n",
    "2.  **Data Preparation**: Preprocesses and splits the data into training, validation, and test sets.\n",
    "3.  **Model Training**: Trains both a baseline and a multi-task model.\n",
    "4.  **Prediction**: Uses the trained multi-task model to classify a new, single image."
   ]
  },
  {
   "cell_type": "markdown",
   "metadata": {},
   "source": [
    "## 1. Setup: Imports and Configuration"
   ]
  },
  {
   "cell_type": "code",
   "execution_count": 5,
   "metadata": {},
   "outputs": [],
   "source": [
    "import os\n",
    "import logging\n",
    "import random\n",
    "import shutil\n",
    "import glob\n",
    "from pathlib import Path\n",
    "\n",
    "import cv2\n",
    "import torch\n",
    "import torch.nn as nn\n",
    "import torch.optim as optim\n",
    "from torch.utils.data import DataLoader\n",
    "from torchvision import datasets, transforms, models\n",
    "from tqdm.notebook import tqdm\n",
    "from sklearn.metrics import classification_report, confusion_matrix\n",
    "import numpy as np\n",
    "import seaborn as sns\n",
    "import matplotlib.pyplot as plt\n",
    "from PIL import Image\n",
    "\n",
    "%matplotlib inline"
   ]
  },
  {
   "cell_type": "markdown",
   "metadata": {},
   "source": [
    "### Configuration"
   ]
  },
  {
   "cell_type": "code",
   "execution_count": 6,
   "metadata": {},
   "outputs": [],
   "source": [
    "PROJECT_ROOT = Path('/Users/adarshainamdar/Documents/Major_Project')\n",
    "DATA_DIR_RAW = PROJECT_ROOT / 'data/raw'\n",
    "\n",
    "OUTPUTS_DIR = PROJECT_ROOT / 'outputs'\n",
    "PROCESSED_DATA_DIR = PROJECT_ROOT / 'data/processed_data'\n",
    "PROCESSED_DIR = PROCESSED_DATA_DIR / 'processed'\n",
    "TRAIN_DIR = PROCESSED_DATA_DIR / 'train'\n",
    "VAL_DIR = PROCESSED_DATA_DIR / 'val'\n",
    "TEST_DIR = PROCESSED_DATA_DIR / 'test'\n",
    "MODEL_DIR = OUTPUTS_DIR / 'models'\n",
    "LOG_DIR = OUTPUTS_DIR / 'logs'\n",
    "\n",
    "IMAGE_SIZE = 224\n",
    "BATCH_SIZE = 32\n",
    "LEARNING_RATE = 0.001\n",
    "CLASSES = ['ALL', 'AML', 'CLL', 'CML']\n",
    "GRADES = ['Chronic', 'Accelerated', 'Blast']"
   ]
  },
  {
   "cell_type": "markdown",
   "metadata": {},
   "source": [
    "### Training Parameters"
   ]
  },
  {
   "cell_type": "code",
   "execution_count": 7,
   "metadata": {},
   "outputs": [],
   "source": [
    "NUM_EPOCHS = 500\n",
    "SKIP_DATA_PREP = False"
   ]
  },
  {
   "cell_type": "markdown",
   "metadata": {},
   "source": [
    "## 2. Helper Functions and Classes"
   ]
  },
  {
   "cell_type": "code",
   "execution_count": 8,
   "metadata": {},
   "outputs": [],
   "source": [
    "def setup_logging():\n",
    "    \"\"\"Configures the logging for the entire script.\"\"\"\n",
    "    LOG_DIR.mkdir(parents=True, exist_ok=True)\n",
    "    LOG_FILE = LOG_DIR / 'training_notebook.log'\n",
    "    \n",
    "    for handler in logging.root.handlers[:]:\n",
    "        logging.root.removeHandler(handler)\n",
    "        \n",
    "    logging.basicConfig(\n",
    "        level=logging.INFO,\n",
    "        format='%(asctime)s - %(levelname)s - %(message)s',\n",
    "        handlers=[\n",
    "            logging.FileHandler(LOG_FILE, mode='w'),\n",
    "            logging.StreamHandler()\n",
    "        ]\n",
    "    )\n",
    "    logging.info(f\"Logging setup complete. Log file: {LOG_FILE.resolve()}\")"
   ]
  },
  {
   "cell_type": "code",
   "execution_count": 9,
   "metadata": {},
   "outputs": [],
   "source": [
    "def prepare_data():\n",
    "    \"\"\"Checks for local data, then preprocesses and splits it.\"\"\"\n",
    "    if not DATA_DIR_RAW.exists():\n",
    "        logging.error(f\"Local data directory not found at '{DATA_DIR_RAW.resolve()}'.\")\n",
    "        return False\n",
    "    else:\n",
    "        logging.info(f\"Found local data at '{DATA_DIR_RAW.resolve()}'.\")\n",
    "\n",
    "    logging.info(\"Starting image preprocessing (resizing to %dx%d)...\", IMAGE_SIZE, IMAGE_SIZE)\n",
    "    PROCESSED_DIR.mkdir(parents=True, exist_ok=True)\n",
    "    image_extensions = ['*.jpg', '*.jpeg', '*.png', '*.bmp', '*.tif', '*.tiff']\n",
    "\n",
    "    for cls in CLASSES:\n",
    "        in_dir = DATA_DIR_RAW / cls\n",
    "        out_dir = PROCESSED_DIR / cls\n",
    "        out_dir.mkdir(parents=True, exist_ok=True)\n",
    "        \n",
    "        image_paths = []\n",
    "        for ext in image_extensions:\n",
    "            image_paths.extend(glob.glob(str(in_dir / '**' / ext), recursive=True))\n",
    "            image_paths.extend(glob.glob(str(in_dir / '**' / ext.upper()), recursive=True))\n",
    "\n",
    "        if not image_paths:\n",
    "            logging.warning(f\"No images found for class '{cls}' in directory '{in_dir}'. Skipping this class.\")\n",
    "            continue\n",
    "\n",
    "        for fp in tqdm(image_paths, desc=f\"Processing {cls}\"):\n",
    "            img = cv2.imread(fp)\n",
    "            if img is not None:\n",
    "                img_resized = cv2.resize(img, (IMAGE_SIZE, IMAGE_SIZE), interpolation=cv2.INTER_AREA)\n",
    "                unique_name = f\"{Path(fp).parent.name}_{Path(fp).name}\"\n",
    "                cv2.imwrite(str(out_dir / unique_name), img_resized)\n",
    "\n",
    "    logging.info(\"Image preprocessing complete.\")\n",
    "\n",
    "    logging.info(\"Splitting data into train, validation, and test sets.\")\n",
    "    random.seed(42)\n",
    "    for cls in CLASSES:\n",
    "        files = list((PROCESSED_DIR / cls).glob('*.*'))\n",
    "        if not files:\n",
    "            continue\n",
    "        random.shuffle(files)\n",
    "        n = len(files)\n",
    "        n_train, n_val = int(0.7 * n), int(0.15 * n)\n",
    "        train_files, val_files, test_files = files[:n_train], files[n_train:n_train + n_val], files[n_train + n_val:]\n",
    "\n",
    "        for d, fileset in [(\"train\", train_files), (\"val\", val_files), (\"test\", test_files)]:\n",
    "            dest_dir = PROCESSED_DATA_DIR / d / cls\n",
    "            dest_dir.mkdir(parents=True, exist_ok=True)\n",
    "            for f in fileset:\n",
    "                shutil.copy2(f, dest_dir / f.name)\n",
    "    logging.info(\"Data splitting complete.\")\n",
    "\n",
    "    total_files_in_train = sum([len(files) for r, d, files in os.walk(str(TRAIN_DIR))])\n",
    "    if total_files_in_train == 0:\n",
    "        logging.error(\"Data preparation step ran, but the training directory is empty.\")\n",
    "        return False\n",
    "    \n",
    "    return True"
   ]
  },
  {
   "cell_type": "code",
   "execution_count": 10,
   "metadata": {},
   "outputs": [],
   "source": [
    "class MultiTaskModel(nn.Module):\n",
    "    \"\"\"A ResNet18 model with two separate heads for classification and grading.\"\"\"\n",
    "    def __init__(self, n_types, n_grades):\n",
    "        super().__init__()\n",
    "        self.backbone = models.resnet18(weights=models.ResNet18_Weights.DEFAULT)\n",
    "        d_model = self.backbone.fc.in_features\n",
    "        self.backbone.fc = nn.Identity()\n",
    "        self.head_type = nn.Linear(d_model, n_types)\n",
    "        self.head_grade = nn.Linear(d_model, n_grades)\n",
    "\n",
    "    def forward(self, x):\n",
    "        features = self.backbone(x)\n",
    "        return self.head_type(features), self.head_grade(features)\n",
    "\n",
    "class MultiTaskDataset(datasets.ImageFolder):\n",
    "    \"\"\"Custom dataset to return type and (simulated) grade labels.\"\"\"\n",
    "    def __init__(self, root, transform=None):\n",
    "        super().__init__(root, transform=transform)\n",
    "        self.grade_map = {cls: i % len(GRADES) for i, cls in enumerate(self.classes)}\n",
    "\n",
    "    def __getitem__(self, index):\n",
    "        path, type_label = self.samples[index]\n",
    "        sample = self.loader(path)\n",
    "        if self.transform is not None:\n",
    "            sample = self.transform(sample)\n",
    "        \n",
    "        class_name = self.classes[type_label]\n",
    "        grade_label = self.grade_map[class_name]\n",
    "        \n",
    "        return sample, type_label, grade_label"
   ]
  },
  {
   "cell_type": "code",
   "execution_count": 11,
   "metadata": {},
   "outputs": [],
   "source": [
    "def train_baseline_model(model, criterion, optimizer, train_loader, val_loader, device, num_epochs):\n",
    "    logging.info(\"--- Starting Baseline Model Training ---\")\n",
    "    model.to(device)\n",
    "    best_val_acc = 0.0\n",
    "\n",
    "    for epoch in range(num_epochs):\n",
    "        model.train()\n",
    "        loop = tqdm(train_loader, desc=f\"Epoch {epoch+1}/{num_epochs} [Train]\", leave=False)\n",
    "        for inputs, labels in loop:\n",
    "            inputs, labels = inputs.to(device), labels.to(device)\n",
    "            optimizer.zero_grad()\n",
    "            outputs = model(inputs)\n",
    "            loss = criterion(outputs, labels)\n",
    "            loss.backward()\n",
    "            optimizer.step()\n",
    "\n",
    "        model.eval()\n",
    "        val_corrects = 0\n",
    "        with torch.no_grad():\n",
    "            for inputs, labels in val_loader:\n",
    "                inputs, labels = inputs.to(device), labels.to(device)\n",
    "                outputs = model(inputs)\n",
    "                _, preds = torch.max(outputs, 1)\n",
    "                val_corrects += torch.sum(preds == labels.data)\n",
    "        \n",
    "        val_acc = val_corrects.item() / len(val_loader.dataset)\n",
    "        logging.info(f\"Epoch {epoch+1}/{num_epochs} | Validation Acc: {val_acc:.4f}\")\n",
    "\n",
    "        if val_acc > best_val_acc:\n",
    "            best_val_acc = val_acc\n",
    "            torch.save(model.state_dict(), MODEL_DIR / 'baseline_cls.pt')\n",
    "            logging.info(f\"New best baseline model saved with acc: {best_val_acc:.4f}\")"
   ]
  },
  {
   "cell_type": "code",
   "execution_count": 12,
   "metadata": {},
   "outputs": [],
   "source": [
    "def train_multitask_model(model, criteria, optimizer, train_loader, val_loader, device, num_epochs):\n",
    "    logging.info(\"--- Starting Multi-Task Model Training ---\")\n",
    "    model.to(device)\n",
    "    best_val_acc = 0.0\n",
    "    type_criterion, grade_criterion = criteria\n",
    "\n",
    "    for epoch in range(num_epochs):\n",
    "        model.train()\n",
    "        loop = tqdm(train_loader, desc=f\"Epoch {epoch+1}/{num_epochs} [Train]\", leave=False)\n",
    "        for inputs, type_labels, grade_labels in loop:\n",
    "            inputs, type_labels, grade_labels = inputs.to(device), type_labels.to(device), grade_labels.to(device)\n",
    "            optimizer.zero_grad()\n",
    "            type_logits, grade_logits = model(inputs)\n",
    "            loss = type_criterion(type_logits, type_labels) + 0.5 * grade_criterion(grade_logits, grade_labels)\n",
    "            loss.backward()\n",
    "            optimizer.step()\n",
    "\n",
    "        model.eval()\n",
    "        type_corrects = 0\n",
    "        with torch.no_grad():\n",
    "            for inputs, type_labels, _ in val_loader:\n",
    "                inputs, type_labels = inputs.to(device), type_labels.to(device)\n",
    "                type_logits, _ = model(inputs)\n",
    "                _, type_preds = torch.max(type_logits, 1)\n",
    "                type_corrects += torch.sum(type_preds == type_labels.data)\n",
    "        \n",
    "        val_type_acc = type_corrects.item() / len(val_loader.dataset)\n",
    "        logging.info(f\"Epoch {epoch+1}/{num_epochs} | Validation Type Acc: {val_type_acc:.4f}\")\n",
    "\n",
    "        if val_type_acc > best_val_acc:\n",
    "            best_val_acc = val_type_acc\n",
    "            torch.save(model.state_dict(), MODEL_DIR / 'multitask_model.pt')\n",
    "            logging.info(f\"New best multi-task model saved with acc: {best_val_acc:.4f}\")"
   ]
  },
  {
   "cell_type": "code",
   "execution_count": 13,
   "metadata": {},
   "outputs": [],
   "source": [
    "def evaluate_model(model, loader, device, class_names):\n",
    "    logging.info(\"--- Evaluating Model on Test Set ---\")\n",
    "    model.to(device)\n",
    "    model.eval()\n",
    "    y_true, y_pred = [], []\n",
    "    with torch.no_grad():\n",
    "        for inputs, labels in loader:\n",
    "            inputs, labels = inputs.to(device), labels.to(device)\n",
    "            outputs = model(inputs)\n",
    "            _, predicted = torch.max(outputs.data, 1)\n",
    "            y_true.extend(labels.cpu().numpy())\n",
    "            y_pred.extend(predicted.cpu().numpy())\n",
    "    \n",
    "    report = classification_report(y_true, y_pred, target_names=class_names)\n",
    "    logging.info(\"Classification Report:\\n%s\", report)\n",
    "    \n",
    "    cm = confusion_matrix(y_true, y_pred)\n",
    "    plt.figure(figsize=(8, 6))\n",
    "    sns.heatmap(cm, annot=True, fmt='d', cmap='Blues', xticklabels=class_names, yticklabels=class_names)\n",
    "    plt.xlabel('Predicted')\n",
    "    plt.ylabel('True')\n",
    "    plt.title('Confusion Matrix')\n",
    "    plt.show()"
   ]
  },
  {
   "cell_type": "markdown",
   "metadata": {},
   "source": [
    "## 3. Main Pipeline Execution\n",
    "\n",
    "This block runs the entire data preparation and training pipeline."
   ]
  },
  {
   "cell_type": "code",
   "execution_count": 14,
   "metadata": {},
   "outputs": [
    {
     "name": "stderr",
     "output_type": "stream",
     "text": [
      "2025-09-13 08:02:10,793 - INFO - Logging setup complete. Log file: /Users/adarshainamdar/Documents/Major_Project/outputs/logs/training_notebook.log\n",
      "2025-09-13 08:02:10,794 - INFO - Found local data at '/Users/adarshainamdar/Documents/Major_Project/data/raw'.\n",
      "2025-09-13 08:02:10,795 - INFO - Starting image preprocessing (resizing to 224x224)...\n"
     ]
    },
    {
     "data": {
      "application/vnd.jupyter.widget-view+json": {
       "model_id": "d356b8c22fff42cab021e7d32f8ff498",
       "version_major": 2,
       "version_minor": 0
      },
      "text/plain": [
       "Processing ALL:   0%|          | 0/320 [00:00<?, ?it/s]"
      ]
     },
     "metadata": {},
     "output_type": "display_data"
    },
    {
     "data": {
      "application/vnd.jupyter.widget-view+json": {
       "model_id": "8e523ae9e7de472098e3a0c0905e5eda",
       "version_major": 2,
       "version_minor": 0
      },
      "text/plain": [
       "Processing AML:   0%|          | 0/320 [00:00<?, ?it/s]"
      ]
     },
     "metadata": {},
     "output_type": "display_data"
    },
    {
     "data": {
      "application/vnd.jupyter.widget-view+json": {
       "model_id": "b1e48cde5a314185bcd8c975bffcfd6a",
       "version_major": 2,
       "version_minor": 0
      },
      "text/plain": [
       "Processing CLL:   0%|          | 0/320 [00:00<?, ?it/s]"
      ]
     },
     "metadata": {},
     "output_type": "display_data"
    },
    {
     "data": {
      "application/vnd.jupyter.widget-view+json": {
       "model_id": "4267b1abfdaf4e6bb02b463f53defa0d",
       "version_major": 2,
       "version_minor": 0
      },
      "text/plain": [
       "Processing CML:   0%|          | 0/320 [00:00<?, ?it/s]"
      ]
     },
     "metadata": {},
     "output_type": "display_data"
    },
    {
     "name": "stderr",
     "output_type": "stream",
     "text": [
      "2025-09-13 08:02:12,216 - INFO - Image preprocessing complete.\n",
      "2025-09-13 08:02:12,217 - INFO - Splitting data into train, validation, and test sets.\n",
      "2025-09-13 08:02:12,641 - INFO - Data splitting complete.\n",
      "2025-09-13 08:02:12,656 - INFO - Using device: mps\n",
      "2025-09-13 08:02:12,657 - INFO - \n",
      "=== BASELINE MODEL PIPELINE ===\n",
      "2025-09-13 08:02:12,832 - INFO - --- Starting Baseline Model Training ---\n"
     ]
    },
    {
     "data": {
      "application/vnd.jupyter.widget-view+json": {
       "model_id": "4ae185c515e94eae9f53b91270d03e75",
       "version_major": 2,
       "version_minor": 0
      },
      "text/plain": [
       "Epoch 1/500 [Train]:   0%|          | 0/28 [00:00<?, ?it/s]"
      ]
     },
     "metadata": {},
     "output_type": "display_data"
    },
    {
     "name": "stderr",
     "output_type": "stream",
     "text": [
      "2025-09-13 08:02:17,862 - INFO - Epoch 1/500 | Validation Acc: 0.5990\n",
      "2025-09-13 08:02:17,936 - INFO - New best baseline model saved with acc: 0.5990\n"
     ]
    },
    {
     "data": {
      "application/vnd.jupyter.widget-view+json": {
       "model_id": "c4c848560b1b4c23ae46123eda5c42f1",
       "version_major": 2,
       "version_minor": 0
      },
      "text/plain": [
       "Epoch 2/500 [Train]:   0%|          | 0/28 [00:00<?, ?it/s]"
      ]
     },
     "metadata": {},
     "output_type": "display_data"
    },
    {
     "name": "stderr",
     "output_type": "stream",
     "text": [
      "2025-09-13 08:02:22,457 - INFO - Epoch 2/500 | Validation Acc: 0.5885\n"
     ]
    },
    {
     "data": {
      "application/vnd.jupyter.widget-view+json": {
       "model_id": "e1ea3e1f47864e2e954c3046ed3c6704",
       "version_major": 2,
       "version_minor": 0
      },
      "text/plain": [
       "Epoch 3/500 [Train]:   0%|          | 0/28 [00:00<?, ?it/s]"
      ]
     },
     "metadata": {},
     "output_type": "display_data"
    },
    {
     "name": "stderr",
     "output_type": "stream",
     "text": [
      "2025-09-13 08:02:26,883 - INFO - Epoch 3/500 | Validation Acc: 0.6615\n",
      "2025-09-13 08:02:26,962 - INFO - New best baseline model saved with acc: 0.6615\n"
     ]
    },
    {
     "data": {
      "application/vnd.jupyter.widget-view+json": {
       "model_id": "b0b5c1edb17f4de7a8099c3956f3520c",
       "version_major": 2,
       "version_minor": 0
      },
      "text/plain": [
       "Epoch 4/500 [Train]:   0%|          | 0/28 [00:00<?, ?it/s]"
      ]
     },
     "metadata": {},
     "output_type": "display_data"
    },
    {
     "name": "stderr",
     "output_type": "stream",
     "text": [
      "2025-09-13 08:02:31,464 - INFO - Epoch 4/500 | Validation Acc: 0.5990\n"
     ]
    },
    {
     "data": {
      "application/vnd.jupyter.widget-view+json": {
       "model_id": "b8c84851e9784234ac5c767588c4fef6",
       "version_major": 2,
       "version_minor": 0
      },
      "text/plain": [
       "Epoch 5/500 [Train]:   0%|          | 0/28 [00:00<?, ?it/s]"
      ]
     },
     "metadata": {},
     "output_type": "display_data"
    },
    {
     "name": "stderr",
     "output_type": "stream",
     "text": [
      "2025-09-13 08:02:35,876 - INFO - Epoch 5/500 | Validation Acc: 0.4427\n"
     ]
    },
    {
     "data": {
      "application/vnd.jupyter.widget-view+json": {
       "model_id": "cd06f5a2f16d415291a82bc64ae2c8cf",
       "version_major": 2,
       "version_minor": 0
      },
      "text/plain": [
       "Epoch 6/500 [Train]:   0%|          | 0/28 [00:00<?, ?it/s]"
      ]
     },
     "metadata": {},
     "output_type": "display_data"
    },
    {
     "name": "stderr",
     "output_type": "stream",
     "text": [
      "2025-09-13 08:02:40,262 - INFO - Epoch 6/500 | Validation Acc: 0.6927\n",
      "2025-09-13 08:02:40,336 - INFO - New best baseline model saved with acc: 0.6927\n"
     ]
    },
    {
     "data": {
      "application/vnd.jupyter.widget-view+json": {
       "model_id": "816d25f7927b46f3bcf2f600e5d1c99c",
       "version_major": 2,
       "version_minor": 0
      },
      "text/plain": [
       "Epoch 7/500 [Train]:   0%|          | 0/28 [00:00<?, ?it/s]"
      ]
     },
     "metadata": {},
     "output_type": "display_data"
    },
    {
     "name": "stderr",
     "output_type": "stream",
     "text": [
      "2025-09-13 08:02:44,748 - INFO - Epoch 7/500 | Validation Acc: 0.6406\n"
     ]
    },
    {
     "data": {
      "application/vnd.jupyter.widget-view+json": {
       "model_id": "128733bb43e245b2921c3bbb7c94c712",
       "version_major": 2,
       "version_minor": 0
      },
      "text/plain": [
       "Epoch 8/500 [Train]:   0%|          | 0/28 [00:00<?, ?it/s]"
      ]
     },
     "metadata": {},
     "output_type": "display_data"
    },
    {
     "name": "stderr",
     "output_type": "stream",
     "text": [
      "2025-09-13 08:02:49,272 - INFO - Epoch 8/500 | Validation Acc: 0.7188\n",
      "2025-09-13 08:02:49,343 - INFO - New best baseline model saved with acc: 0.7188\n"
     ]
    },
    {
     "data": {
      "application/vnd.jupyter.widget-view+json": {
       "model_id": "a43c6a138e7b4da1af9e7e28f9e326f6",
       "version_major": 2,
       "version_minor": 0
      },
      "text/plain": [
       "Epoch 9/500 [Train]:   0%|          | 0/28 [00:00<?, ?it/s]"
      ]
     },
     "metadata": {},
     "output_type": "display_data"
    },
    {
     "name": "stderr",
     "output_type": "stream",
     "text": [
      "2025-09-13 08:02:53,931 - INFO - Epoch 9/500 | Validation Acc: 0.6146\n"
     ]
    },
    {
     "data": {
      "application/vnd.jupyter.widget-view+json": {
       "model_id": "526797fdc1c3427b98e8f15faf7f9f3b",
       "version_major": 2,
       "version_minor": 0
      },
      "text/plain": [
       "Epoch 10/500 [Train]:   0%|          | 0/28 [00:00<?, ?it/s]"
      ]
     },
     "metadata": {},
     "output_type": "display_data"
    },
    {
     "name": "stderr",
     "output_type": "stream",
     "text": [
      "2025-09-13 08:02:58,364 - INFO - Epoch 10/500 | Validation Acc: 0.6667\n"
     ]
    },
    {
     "data": {
      "application/vnd.jupyter.widget-view+json": {
       "model_id": "5a217266dc4945a7a894e27fa4b25fe2",
       "version_major": 2,
       "version_minor": 0
      },
      "text/plain": [
       "Epoch 11/500 [Train]:   0%|          | 0/28 [00:00<?, ?it/s]"
      ]
     },
     "metadata": {},
     "output_type": "display_data"
    },
    {
     "name": "stderr",
     "output_type": "stream",
     "text": [
      "2025-09-13 08:03:02,777 - INFO - Epoch 11/500 | Validation Acc: 0.6667\n"
     ]
    },
    {
     "data": {
      "application/vnd.jupyter.widget-view+json": {
       "model_id": "619e479285d74bf68a82f5d736e78cf4",
       "version_major": 2,
       "version_minor": 0
      },
      "text/plain": [
       "Epoch 12/500 [Train]:   0%|          | 0/28 [00:00<?, ?it/s]"
      ]
     },
     "metadata": {},
     "output_type": "display_data"
    },
    {
     "name": "stderr",
     "output_type": "stream",
     "text": [
      "2025-09-13 08:03:07,242 - INFO - Epoch 12/500 | Validation Acc: 0.7135\n"
     ]
    },
    {
     "data": {
      "application/vnd.jupyter.widget-view+json": {
       "model_id": "64b40b1fcd17460b84a6b2040641d472",
       "version_major": 2,
       "version_minor": 0
      },
      "text/plain": [
       "Epoch 13/500 [Train]:   0%|          | 0/28 [00:00<?, ?it/s]"
      ]
     },
     "metadata": {},
     "output_type": "display_data"
    },
    {
     "name": "stderr",
     "output_type": "stream",
     "text": [
      "2025-09-13 08:03:11,673 - INFO - Epoch 13/500 | Validation Acc: 0.8125\n",
      "2025-09-13 08:03:11,745 - INFO - New best baseline model saved with acc: 0.8125\n"
     ]
    },
    {
     "data": {
      "application/vnd.jupyter.widget-view+json": {
       "model_id": "98d0aa49bc1c4e858e4914bff23085ea",
       "version_major": 2,
       "version_minor": 0
      },
      "text/plain": [
       "Epoch 14/500 [Train]:   0%|          | 0/28 [00:00<?, ?it/s]"
      ]
     },
     "metadata": {},
     "output_type": "display_data"
    },
    {
     "name": "stderr",
     "output_type": "stream",
     "text": [
      "2025-09-13 08:03:16,199 - INFO - Epoch 14/500 | Validation Acc: 0.6823\n"
     ]
    },
    {
     "data": {
      "application/vnd.jupyter.widget-view+json": {
       "model_id": "7ed9f75f4c614ac8896952b802c73f1b",
       "version_major": 2,
       "version_minor": 0
      },
      "text/plain": [
       "Epoch 15/500 [Train]:   0%|          | 0/28 [00:00<?, ?it/s]"
      ]
     },
     "metadata": {},
     "output_type": "display_data"
    },
    {
     "name": "stderr",
     "output_type": "stream",
     "text": [
      "2025-09-13 08:03:20,636 - INFO - Epoch 15/500 | Validation Acc: 0.7969\n"
     ]
    },
    {
     "data": {
      "application/vnd.jupyter.widget-view+json": {
       "model_id": "497a68ef1a8c4af496da55e8365ec810",
       "version_major": 2,
       "version_minor": 0
      },
      "text/plain": [
       "Epoch 16/500 [Train]:   0%|          | 0/28 [00:00<?, ?it/s]"
      ]
     },
     "metadata": {},
     "output_type": "display_data"
    },
    {
     "name": "stderr",
     "output_type": "stream",
     "text": [
      "2025-09-13 08:03:25,026 - INFO - Epoch 16/500 | Validation Acc: 0.7500\n"
     ]
    },
    {
     "data": {
      "application/vnd.jupyter.widget-view+json": {
       "model_id": "69f381969c6546d59f8afaebb2b1505e",
       "version_major": 2,
       "version_minor": 0
      },
      "text/plain": [
       "Epoch 17/500 [Train]:   0%|          | 0/28 [00:00<?, ?it/s]"
      ]
     },
     "metadata": {},
     "output_type": "display_data"
    },
    {
     "name": "stderr",
     "output_type": "stream",
     "text": [
      "2025-09-13 08:03:29,415 - INFO - Epoch 17/500 | Validation Acc: 0.6615\n"
     ]
    },
    {
     "data": {
      "application/vnd.jupyter.widget-view+json": {
       "model_id": "1f1786b3bc004789ba83c5aced506181",
       "version_major": 2,
       "version_minor": 0
      },
      "text/plain": [
       "Epoch 18/500 [Train]:   0%|          | 0/28 [00:00<?, ?it/s]"
      ]
     },
     "metadata": {},
     "output_type": "display_data"
    },
    {
     "name": "stderr",
     "output_type": "stream",
     "text": [
      "2025-09-13 08:03:33,849 - INFO - Epoch 18/500 | Validation Acc: 0.5729\n"
     ]
    },
    {
     "data": {
      "application/vnd.jupyter.widget-view+json": {
       "model_id": "a96999520f1d4ca5a66a9b83f4990b56",
       "version_major": 2,
       "version_minor": 0
      },
      "text/plain": [
       "Epoch 19/500 [Train]:   0%|          | 0/28 [00:00<?, ?it/s]"
      ]
     },
     "metadata": {},
     "output_type": "display_data"
    },
    {
     "name": "stderr",
     "output_type": "stream",
     "text": [
      "2025-09-13 08:03:38,241 - INFO - Epoch 19/500 | Validation Acc: 0.7812\n"
     ]
    },
    {
     "data": {
      "application/vnd.jupyter.widget-view+json": {
       "model_id": "f6a7e5932369438eb79f9eb52580fbe0",
       "version_major": 2,
       "version_minor": 0
      },
      "text/plain": [
       "Epoch 20/500 [Train]:   0%|          | 0/28 [00:00<?, ?it/s]"
      ]
     },
     "metadata": {},
     "output_type": "display_data"
    },
    {
     "name": "stderr",
     "output_type": "stream",
     "text": [
      "2025-09-13 08:03:42,632 - INFO - Epoch 20/500 | Validation Acc: 0.8229\n",
      "2025-09-13 08:03:42,701 - INFO - New best baseline model saved with acc: 0.8229\n"
     ]
    },
    {
     "data": {
      "application/vnd.jupyter.widget-view+json": {
       "model_id": "6f8644182e354b36b2ae2df925f89c52",
       "version_major": 2,
       "version_minor": 0
      },
      "text/plain": [
       "Epoch 21/500 [Train]:   0%|          | 0/28 [00:00<?, ?it/s]"
      ]
     },
     "metadata": {},
     "output_type": "display_data"
    },
    {
     "name": "stderr",
     "output_type": "stream",
     "text": [
      "2025-09-13 08:03:47,112 - INFO - Epoch 21/500 | Validation Acc: 0.7812\n"
     ]
    },
    {
     "data": {
      "application/vnd.jupyter.widget-view+json": {
       "model_id": "6019742973df4e0da4ab603a9b8f29d6",
       "version_major": 2,
       "version_minor": 0
      },
      "text/plain": [
       "Epoch 22/500 [Train]:   0%|          | 0/28 [00:00<?, ?it/s]"
      ]
     },
     "metadata": {},
     "output_type": "display_data"
    },
    {
     "name": "stderr",
     "output_type": "stream",
     "text": [
      "2025-09-13 08:03:51,632 - INFO - Epoch 22/500 | Validation Acc: 0.8698\n",
      "2025-09-13 08:03:51,698 - INFO - New best baseline model saved with acc: 0.8698\n"
     ]
    },
    {
     "data": {
      "application/vnd.jupyter.widget-view+json": {
       "model_id": "d2eb6b5f5e4b410090f55da7653ef39d",
       "version_major": 2,
       "version_minor": 0
      },
      "text/plain": [
       "Epoch 23/500 [Train]:   0%|          | 0/28 [00:00<?, ?it/s]"
      ]
     },
     "metadata": {},
     "output_type": "display_data"
    },
    {
     "name": "stderr",
     "output_type": "stream",
     "text": [
      "2025-09-13 08:03:56,129 - INFO - Epoch 23/500 | Validation Acc: 0.7708\n"
     ]
    },
    {
     "data": {
      "application/vnd.jupyter.widget-view+json": {
       "model_id": "c8a775a5f7234bee84174ff2acbadf3f",
       "version_major": 2,
       "version_minor": 0
      },
      "text/plain": [
       "Epoch 24/500 [Train]:   0%|          | 0/28 [00:00<?, ?it/s]"
      ]
     },
     "metadata": {},
     "output_type": "display_data"
    },
    {
     "name": "stderr",
     "output_type": "stream",
     "text": [
      "2025-09-13 08:04:00,587 - INFO - Epoch 24/500 | Validation Acc: 0.6094\n"
     ]
    },
    {
     "data": {
      "application/vnd.jupyter.widget-view+json": {
       "model_id": "e638bf40feb34341886ce9233e3b1211",
       "version_major": 2,
       "version_minor": 0
      },
      "text/plain": [
       "Epoch 25/500 [Train]:   0%|          | 0/28 [00:00<?, ?it/s]"
      ]
     },
     "metadata": {},
     "output_type": "display_data"
    },
    {
     "name": "stderr",
     "output_type": "stream",
     "text": [
      "2025-09-13 08:04:05,047 - INFO - Epoch 25/500 | Validation Acc: 0.7292\n"
     ]
    },
    {
     "data": {
      "application/vnd.jupyter.widget-view+json": {
       "model_id": "046e59f1bc694c1984b992007a2fd74d",
       "version_major": 2,
       "version_minor": 0
      },
      "text/plain": [
       "Epoch 26/500 [Train]:   0%|          | 0/28 [00:00<?, ?it/s]"
      ]
     },
     "metadata": {},
     "output_type": "display_data"
    },
    {
     "name": "stderr",
     "output_type": "stream",
     "text": [
      "2025-09-13 08:04:09,491 - INFO - Epoch 26/500 | Validation Acc: 0.8385\n"
     ]
    },
    {
     "data": {
      "application/vnd.jupyter.widget-view+json": {
       "model_id": "db73eb1413d3491e8c34e521cc7a10f4",
       "version_major": 2,
       "version_minor": 0
      },
      "text/plain": [
       "Epoch 27/500 [Train]:   0%|          | 0/28 [00:00<?, ?it/s]"
      ]
     },
     "metadata": {},
     "output_type": "display_data"
    },
    {
     "name": "stderr",
     "output_type": "stream",
     "text": [
      "2025-09-13 08:04:14,026 - INFO - Epoch 27/500 | Validation Acc: 0.8594\n"
     ]
    },
    {
     "data": {
      "application/vnd.jupyter.widget-view+json": {
       "model_id": "b9e1497424a14c01a854a08c504c212c",
       "version_major": 2,
       "version_minor": 0
      },
      "text/plain": [
       "Epoch 28/500 [Train]:   0%|          | 0/28 [00:00<?, ?it/s]"
      ]
     },
     "metadata": {},
     "output_type": "display_data"
    },
    {
     "name": "stderr",
     "output_type": "stream",
     "text": [
      "2025-09-13 08:04:18,475 - INFO - Epoch 28/500 | Validation Acc: 0.8229\n"
     ]
    },
    {
     "data": {
      "application/vnd.jupyter.widget-view+json": {
       "model_id": "becfc846d2084a7e93ceb9cf434e4d35",
       "version_major": 2,
       "version_minor": 0
      },
      "text/plain": [
       "Epoch 29/500 [Train]:   0%|          | 0/28 [00:00<?, ?it/s]"
      ]
     },
     "metadata": {},
     "output_type": "display_data"
    },
    {
     "name": "stderr",
     "output_type": "stream",
     "text": [
      "2025-09-13 08:04:22,895 - INFO - Epoch 29/500 | Validation Acc: 0.8281\n"
     ]
    },
    {
     "data": {
      "application/vnd.jupyter.widget-view+json": {
       "model_id": "9980af77c8834bcaba9fe9d7ad20b020",
       "version_major": 2,
       "version_minor": 0
      },
      "text/plain": [
       "Epoch 30/500 [Train]:   0%|          | 0/28 [00:00<?, ?it/s]"
      ]
     },
     "metadata": {},
     "output_type": "display_data"
    },
    {
     "name": "stderr",
     "output_type": "stream",
     "text": [
      "2025-09-13 08:04:27,323 - INFO - Epoch 30/500 | Validation Acc: 0.8125\n"
     ]
    },
    {
     "data": {
      "application/vnd.jupyter.widget-view+json": {
       "model_id": "16082bf1bfed4036b2d9aabd303cd579",
       "version_major": 2,
       "version_minor": 0
      },
      "text/plain": [
       "Epoch 31/500 [Train]:   0%|          | 0/28 [00:00<?, ?it/s]"
      ]
     },
     "metadata": {},
     "output_type": "display_data"
    },
    {
     "name": "stderr",
     "output_type": "stream",
     "text": [
      "2025-09-13 08:04:31,787 - INFO - Epoch 31/500 | Validation Acc: 0.7969\n"
     ]
    },
    {
     "data": {
      "application/vnd.jupyter.widget-view+json": {
       "model_id": "77e2660581e94b318a28b96822084528",
       "version_major": 2,
       "version_minor": 0
      },
      "text/plain": [
       "Epoch 32/500 [Train]:   0%|          | 0/28 [00:00<?, ?it/s]"
      ]
     },
     "metadata": {},
     "output_type": "display_data"
    },
    {
     "name": "stderr",
     "output_type": "stream",
     "text": [
      "2025-09-13 08:04:36,266 - INFO - Epoch 32/500 | Validation Acc: 0.6927\n"
     ]
    },
    {
     "data": {
      "application/vnd.jupyter.widget-view+json": {
       "model_id": "7eb628e174c0431480c61671d1310734",
       "version_major": 2,
       "version_minor": 0
      },
      "text/plain": [
       "Epoch 33/500 [Train]:   0%|          | 0/28 [00:00<?, ?it/s]"
      ]
     },
     "metadata": {},
     "output_type": "display_data"
    },
    {
     "name": "stderr",
     "output_type": "stream",
     "text": [
      "2025-09-13 08:04:40,761 - INFO - Epoch 33/500 | Validation Acc: 0.8542\n"
     ]
    },
    {
     "data": {
      "application/vnd.jupyter.widget-view+json": {
       "model_id": "1f2db1cfbc8e40a997d22c53ffc662af",
       "version_major": 2,
       "version_minor": 0
      },
      "text/plain": [
       "Epoch 34/500 [Train]:   0%|          | 0/28 [00:00<?, ?it/s]"
      ]
     },
     "metadata": {},
     "output_type": "display_data"
    },
    {
     "name": "stderr",
     "output_type": "stream",
     "text": [
      "2025-09-13 08:04:45,406 - INFO - Epoch 34/500 | Validation Acc: 0.8229\n"
     ]
    },
    {
     "data": {
      "application/vnd.jupyter.widget-view+json": {
       "model_id": "d48e61df048b4db1a9597fdcad7977ad",
       "version_major": 2,
       "version_minor": 0
      },
      "text/plain": [
       "Epoch 35/500 [Train]:   0%|          | 0/28 [00:00<?, ?it/s]"
      ]
     },
     "metadata": {},
     "output_type": "display_data"
    },
    {
     "name": "stderr",
     "output_type": "stream",
     "text": [
      "2025-09-13 08:04:50,067 - INFO - Epoch 35/500 | Validation Acc: 0.7292\n"
     ]
    },
    {
     "data": {
      "application/vnd.jupyter.widget-view+json": {
       "model_id": "1865fdec31e544cca784386b080d46f0",
       "version_major": 2,
       "version_minor": 0
      },
      "text/plain": [
       "Epoch 36/500 [Train]:   0%|          | 0/28 [00:00<?, ?it/s]"
      ]
     },
     "metadata": {},
     "output_type": "display_data"
    },
    {
     "name": "stderr",
     "output_type": "stream",
     "text": [
      "2025-09-13 08:04:54,534 - INFO - Epoch 36/500 | Validation Acc: 0.8177\n"
     ]
    },
    {
     "data": {
      "application/vnd.jupyter.widget-view+json": {
       "model_id": "9a547c9d73e8486c9bda9ae590d0411a",
       "version_major": 2,
       "version_minor": 0
      },
      "text/plain": [
       "Epoch 37/500 [Train]:   0%|          | 0/28 [00:00<?, ?it/s]"
      ]
     },
     "metadata": {},
     "output_type": "display_data"
    },
    {
     "name": "stderr",
     "output_type": "stream",
     "text": [
      "2025-09-13 08:04:58,958 - INFO - Epoch 37/500 | Validation Acc: 0.7969\n"
     ]
    },
    {
     "data": {
      "application/vnd.jupyter.widget-view+json": {
       "model_id": "93b568595f6e4cdd931c5379e42ef25e",
       "version_major": 2,
       "version_minor": 0
      },
      "text/plain": [
       "Epoch 38/500 [Train]:   0%|          | 0/28 [00:00<?, ?it/s]"
      ]
     },
     "metadata": {},
     "output_type": "display_data"
    },
    {
     "name": "stderr",
     "output_type": "stream",
     "text": [
      "2025-09-13 08:05:03,392 - INFO - Epoch 38/500 | Validation Acc: 0.8229\n"
     ]
    },
    {
     "data": {
      "application/vnd.jupyter.widget-view+json": {
       "model_id": "7e257e4589234907866e4595370998e0",
       "version_major": 2,
       "version_minor": 0
      },
      "text/plain": [
       "Epoch 39/500 [Train]:   0%|          | 0/28 [00:00<?, ?it/s]"
      ]
     },
     "metadata": {},
     "output_type": "display_data"
    },
    {
     "name": "stderr",
     "output_type": "stream",
     "text": [
      "2025-09-13 08:05:07,899 - INFO - Epoch 39/500 | Validation Acc: 0.7552\n"
     ]
    },
    {
     "data": {
      "application/vnd.jupyter.widget-view+json": {
       "model_id": "5785888a3b504c118d461f2891ef2bd9",
       "version_major": 2,
       "version_minor": 0
      },
      "text/plain": [
       "Epoch 40/500 [Train]:   0%|          | 0/28 [00:00<?, ?it/s]"
      ]
     },
     "metadata": {},
     "output_type": "display_data"
    },
    {
     "name": "stderr",
     "output_type": "stream",
     "text": [
      "2025-09-13 08:05:12,319 - INFO - Epoch 40/500 | Validation Acc: 0.8438\n"
     ]
    },
    {
     "data": {
      "application/vnd.jupyter.widget-view+json": {
       "model_id": "53a92c53a70245edbdc54c36eabc326d",
       "version_major": 2,
       "version_minor": 0
      },
      "text/plain": [
       "Epoch 41/500 [Train]:   0%|          | 0/28 [00:00<?, ?it/s]"
      ]
     },
     "metadata": {},
     "output_type": "display_data"
    },
    {
     "name": "stderr",
     "output_type": "stream",
     "text": [
      "2025-09-13 08:05:16,752 - INFO - Epoch 41/500 | Validation Acc: 0.8646\n"
     ]
    },
    {
     "data": {
      "application/vnd.jupyter.widget-view+json": {
       "model_id": "6385c0d3dd3b48fbb0e0afe84f2e6f95",
       "version_major": 2,
       "version_minor": 0
      },
      "text/plain": [
       "Epoch 42/500 [Train]:   0%|          | 0/28 [00:00<?, ?it/s]"
      ]
     },
     "metadata": {},
     "output_type": "display_data"
    },
    {
     "name": "stderr",
     "output_type": "stream",
     "text": [
      "2025-09-13 08:05:21,241 - INFO - Epoch 42/500 | Validation Acc: 0.8385\n"
     ]
    },
    {
     "data": {
      "application/vnd.jupyter.widget-view+json": {
       "model_id": "373f099fc928464cad845900429bc078",
       "version_major": 2,
       "version_minor": 0
      },
      "text/plain": [
       "Epoch 43/500 [Train]:   0%|          | 0/28 [00:00<?, ?it/s]"
      ]
     },
     "metadata": {},
     "output_type": "display_data"
    },
    {
     "name": "stderr",
     "output_type": "stream",
     "text": [
      "2025-09-13 08:05:25,683 - INFO - Epoch 43/500 | Validation Acc: 0.8021\n"
     ]
    },
    {
     "data": {
      "application/vnd.jupyter.widget-view+json": {
       "model_id": "27afca6ecf1f47a8bde10d30f7731f33",
       "version_major": 2,
       "version_minor": 0
      },
      "text/plain": [
       "Epoch 44/500 [Train]:   0%|          | 0/28 [00:00<?, ?it/s]"
      ]
     },
     "metadata": {},
     "output_type": "display_data"
    },
    {
     "name": "stderr",
     "output_type": "stream",
     "text": [
      "2025-09-13 08:05:30,184 - INFO - Epoch 44/500 | Validation Acc: 0.8646\n"
     ]
    },
    {
     "data": {
      "application/vnd.jupyter.widget-view+json": {
       "model_id": "92b4e15084a3421bb49b5fc8c024e83c",
       "version_major": 2,
       "version_minor": 0
      },
      "text/plain": [
       "Epoch 45/500 [Train]:   0%|          | 0/28 [00:00<?, ?it/s]"
      ]
     },
     "metadata": {},
     "output_type": "display_data"
    },
    {
     "name": "stderr",
     "output_type": "stream",
     "text": [
      "2025-09-13 08:05:34,690 - INFO - Epoch 45/500 | Validation Acc: 0.8177\n"
     ]
    },
    {
     "data": {
      "application/vnd.jupyter.widget-view+json": {
       "model_id": "1299efa6605f47e39667973ada4721ef",
       "version_major": 2,
       "version_minor": 0
      },
      "text/plain": [
       "Epoch 46/500 [Train]:   0%|          | 0/28 [00:00<?, ?it/s]"
      ]
     },
     "metadata": {},
     "output_type": "display_data"
    },
    {
     "name": "stderr",
     "output_type": "stream",
     "text": [
      "2025-09-13 08:05:39,096 - INFO - Epoch 46/500 | Validation Acc: 0.8125\n"
     ]
    },
    {
     "data": {
      "application/vnd.jupyter.widget-view+json": {
       "model_id": "8413cc0176144123a697437358af3fac",
       "version_major": 2,
       "version_minor": 0
      },
      "text/plain": [
       "Epoch 47/500 [Train]:   0%|          | 0/28 [00:00<?, ?it/s]"
      ]
     },
     "metadata": {},
     "output_type": "display_data"
    },
    {
     "name": "stderr",
     "output_type": "stream",
     "text": [
      "2025-09-13 08:05:43,559 - INFO - Epoch 47/500 | Validation Acc: 0.8542\n"
     ]
    },
    {
     "data": {
      "application/vnd.jupyter.widget-view+json": {
       "model_id": "59d6a2b431df4ae8836ebbcdd790f4f9",
       "version_major": 2,
       "version_minor": 0
      },
      "text/plain": [
       "Epoch 48/500 [Train]:   0%|          | 0/28 [00:00<?, ?it/s]"
      ]
     },
     "metadata": {},
     "output_type": "display_data"
    },
    {
     "name": "stderr",
     "output_type": "stream",
     "text": [
      "2025-09-13 08:05:47,971 - INFO - Epoch 48/500 | Validation Acc: 0.7656\n"
     ]
    },
    {
     "data": {
      "application/vnd.jupyter.widget-view+json": {
       "model_id": "c0c1c6fa2bab4583aac4d864243cd25c",
       "version_major": 2,
       "version_minor": 0
      },
      "text/plain": [
       "Epoch 49/500 [Train]:   0%|          | 0/28 [00:00<?, ?it/s]"
      ]
     },
     "metadata": {},
     "output_type": "display_data"
    },
    {
     "name": "stderr",
     "output_type": "stream",
     "text": [
      "2025-09-13 08:05:52,375 - INFO - Epoch 49/500 | Validation Acc: 0.8646\n"
     ]
    },
    {
     "data": {
      "application/vnd.jupyter.widget-view+json": {
       "model_id": "9e6390b3148448a994fc86999a526652",
       "version_major": 2,
       "version_minor": 0
      },
      "text/plain": [
       "Epoch 50/500 [Train]:   0%|          | 0/28 [00:00<?, ?it/s]"
      ]
     },
     "metadata": {},
     "output_type": "display_data"
    },
    {
     "name": "stderr",
     "output_type": "stream",
     "text": [
      "2025-09-13 08:05:56,782 - INFO - Epoch 50/500 | Validation Acc: 0.8906\n",
      "2025-09-13 08:05:56,860 - INFO - New best baseline model saved with acc: 0.8906\n"
     ]
    },
    {
     "data": {
      "application/vnd.jupyter.widget-view+json": {
       "model_id": "aa695d9dabf94014aa40f5bcb805ad25",
       "version_major": 2,
       "version_minor": 0
      },
      "text/plain": [
       "Epoch 51/500 [Train]:   0%|          | 0/28 [00:00<?, ?it/s]"
      ]
     },
     "metadata": {},
     "output_type": "display_data"
    },
    {
     "name": "stderr",
     "output_type": "stream",
     "text": [
      "2025-09-13 08:06:01,305 - INFO - Epoch 51/500 | Validation Acc: 0.8385\n"
     ]
    },
    {
     "data": {
      "application/vnd.jupyter.widget-view+json": {
       "model_id": "0f133a1ff0a446b090a60e5b501b8225",
       "version_major": 2,
       "version_minor": 0
      },
      "text/plain": [
       "Epoch 52/500 [Train]:   0%|          | 0/28 [00:00<?, ?it/s]"
      ]
     },
     "metadata": {},
     "output_type": "display_data"
    },
    {
     "name": "stderr",
     "output_type": "stream",
     "text": [
      "2025-09-13 08:06:05,811 - INFO - Epoch 52/500 | Validation Acc: 0.7969\n"
     ]
    },
    {
     "data": {
      "application/vnd.jupyter.widget-view+json": {
       "model_id": "357223252fbc4f91ad121eeee185228d",
       "version_major": 2,
       "version_minor": 0
      },
      "text/plain": [
       "Epoch 53/500 [Train]:   0%|          | 0/28 [00:00<?, ?it/s]"
      ]
     },
     "metadata": {},
     "output_type": "display_data"
    },
    {
     "name": "stderr",
     "output_type": "stream",
     "text": [
      "2025-09-13 08:06:10,257 - INFO - Epoch 53/500 | Validation Acc: 0.9010\n",
      "2025-09-13 08:06:10,335 - INFO - New best baseline model saved with acc: 0.9010\n"
     ]
    },
    {
     "data": {
      "application/vnd.jupyter.widget-view+json": {
       "model_id": "4ef9731bf16943a8b52103c67bcb4fb6",
       "version_major": 2,
       "version_minor": 0
      },
      "text/plain": [
       "Epoch 54/500 [Train]:   0%|          | 0/28 [00:00<?, ?it/s]"
      ]
     },
     "metadata": {},
     "output_type": "display_data"
    },
    {
     "name": "stderr",
     "output_type": "stream",
     "text": [
      "2025-09-13 08:06:14,752 - INFO - Epoch 54/500 | Validation Acc: 0.8854\n"
     ]
    },
    {
     "data": {
      "application/vnd.jupyter.widget-view+json": {
       "model_id": "979e3e1cbb5f423198ecbc72545f7a8a",
       "version_major": 2,
       "version_minor": 0
      },
      "text/plain": [
       "Epoch 55/500 [Train]:   0%|          | 0/28 [00:00<?, ?it/s]"
      ]
     },
     "metadata": {},
     "output_type": "display_data"
    },
    {
     "name": "stderr",
     "output_type": "stream",
     "text": [
      "2025-09-13 08:06:19,158 - INFO - Epoch 55/500 | Validation Acc: 0.9062\n",
      "2025-09-13 08:06:19,228 - INFO - New best baseline model saved with acc: 0.9062\n"
     ]
    },
    {
     "data": {
      "application/vnd.jupyter.widget-view+json": {
       "model_id": "8b4fc20fd0c04bf298804dd0e372807b",
       "version_major": 2,
       "version_minor": 0
      },
      "text/plain": [
       "Epoch 56/500 [Train]:   0%|          | 0/28 [00:00<?, ?it/s]"
      ]
     },
     "metadata": {},
     "output_type": "display_data"
    },
    {
     "name": "stderr",
     "output_type": "stream",
     "text": [
      "2025-09-13 08:06:23,628 - INFO - Epoch 56/500 | Validation Acc: 0.9167\n",
      "2025-09-13 08:06:23,698 - INFO - New best baseline model saved with acc: 0.9167\n"
     ]
    },
    {
     "data": {
      "application/vnd.jupyter.widget-view+json": {
       "model_id": "417f9f1970734cdf91e83542ef44aaba",
       "version_major": 2,
       "version_minor": 0
      },
      "text/plain": [
       "Epoch 57/500 [Train]:   0%|          | 0/28 [00:00<?, ?it/s]"
      ]
     },
     "metadata": {},
     "output_type": "display_data"
    },
    {
     "name": "stderr",
     "output_type": "stream",
     "text": [
      "2025-09-13 08:06:28,087 - INFO - Epoch 57/500 | Validation Acc: 0.8854\n"
     ]
    },
    {
     "data": {
      "application/vnd.jupyter.widget-view+json": {
       "model_id": "0bb47252561e45338ee62d54174dab61",
       "version_major": 2,
       "version_minor": 0
      },
      "text/plain": [
       "Epoch 58/500 [Train]:   0%|          | 0/28 [00:00<?, ?it/s]"
      ]
     },
     "metadata": {},
     "output_type": "display_data"
    },
    {
     "name": "stderr",
     "output_type": "stream",
     "text": [
      "2025-09-13 08:06:32,503 - INFO - Epoch 58/500 | Validation Acc: 0.8854\n"
     ]
    },
    {
     "data": {
      "application/vnd.jupyter.widget-view+json": {
       "model_id": "f1e1db0efb884856a1ffe7760ee6f4e7",
       "version_major": 2,
       "version_minor": 0
      },
      "text/plain": [
       "Epoch 59/500 [Train]:   0%|          | 0/28 [00:00<?, ?it/s]"
      ]
     },
     "metadata": {},
     "output_type": "display_data"
    },
    {
     "name": "stderr",
     "output_type": "stream",
     "text": [
      "2025-09-13 08:06:36,951 - INFO - Epoch 59/500 | Validation Acc: 0.8698\n"
     ]
    },
    {
     "data": {
      "application/vnd.jupyter.widget-view+json": {
       "model_id": "39200b98410845b092460831a1631c6c",
       "version_major": 2,
       "version_minor": 0
      },
      "text/plain": [
       "Epoch 60/500 [Train]:   0%|          | 0/28 [00:00<?, ?it/s]"
      ]
     },
     "metadata": {},
     "output_type": "display_data"
    },
    {
     "name": "stderr",
     "output_type": "stream",
     "text": [
      "2025-09-13 08:06:41,392 - INFO - Epoch 60/500 | Validation Acc: 0.8125\n"
     ]
    },
    {
     "data": {
      "application/vnd.jupyter.widget-view+json": {
       "model_id": "9960277a72ef45ec81eac105218f843a",
       "version_major": 2,
       "version_minor": 0
      },
      "text/plain": [
       "Epoch 61/500 [Train]:   0%|          | 0/28 [00:00<?, ?it/s]"
      ]
     },
     "metadata": {},
     "output_type": "display_data"
    },
    {
     "name": "stderr",
     "output_type": "stream",
     "text": [
      "2025-09-13 08:06:45,794 - INFO - Epoch 61/500 | Validation Acc: 0.8854\n"
     ]
    },
    {
     "data": {
      "application/vnd.jupyter.widget-view+json": {
       "model_id": "6f32c4d500d148c981e3936629cb35e5",
       "version_major": 2,
       "version_minor": 0
      },
      "text/plain": [
       "Epoch 62/500 [Train]:   0%|          | 0/28 [00:00<?, ?it/s]"
      ]
     },
     "metadata": {},
     "output_type": "display_data"
    },
    {
     "name": "stderr",
     "output_type": "stream",
     "text": [
      "2025-09-13 08:06:50,241 - INFO - Epoch 62/500 | Validation Acc: 0.8802\n"
     ]
    },
    {
     "data": {
      "application/vnd.jupyter.widget-view+json": {
       "model_id": "bc9b2c74d4054a80b22c589f81a4d3ce",
       "version_major": 2,
       "version_minor": 0
      },
      "text/plain": [
       "Epoch 63/500 [Train]:   0%|          | 0/28 [00:00<?, ?it/s]"
      ]
     },
     "metadata": {},
     "output_type": "display_data"
    },
    {
     "name": "stderr",
     "output_type": "stream",
     "text": [
      "2025-09-13 08:06:54,688 - INFO - Epoch 63/500 | Validation Acc: 0.8906\n"
     ]
    },
    {
     "data": {
      "application/vnd.jupyter.widget-view+json": {
       "model_id": "60d718b42caa419c842187ab0affd346",
       "version_major": 2,
       "version_minor": 0
      },
      "text/plain": [
       "Epoch 64/500 [Train]:   0%|          | 0/28 [00:00<?, ?it/s]"
      ]
     },
     "metadata": {},
     "output_type": "display_data"
    },
    {
     "name": "stderr",
     "output_type": "stream",
     "text": [
      "2025-09-13 08:06:59,134 - INFO - Epoch 64/500 | Validation Acc: 0.8490\n"
     ]
    },
    {
     "data": {
      "application/vnd.jupyter.widget-view+json": {
       "model_id": "231f7642df984c76ab24d027dea759c7",
       "version_major": 2,
       "version_minor": 0
      },
      "text/plain": [
       "Epoch 65/500 [Train]:   0%|          | 0/28 [00:00<?, ?it/s]"
      ]
     },
     "metadata": {},
     "output_type": "display_data"
    },
    {
     "name": "stderr",
     "output_type": "stream",
     "text": [
      "2025-09-13 08:07:03,561 - INFO - Epoch 65/500 | Validation Acc: 0.8542\n"
     ]
    },
    {
     "data": {
      "application/vnd.jupyter.widget-view+json": {
       "model_id": "05497c72b26f492f9fcf61ca14b44d2e",
       "version_major": 2,
       "version_minor": 0
      },
      "text/plain": [
       "Epoch 66/500 [Train]:   0%|          | 0/28 [00:00<?, ?it/s]"
      ]
     },
     "metadata": {},
     "output_type": "display_data"
    },
    {
     "name": "stderr",
     "output_type": "stream",
     "text": [
      "2025-09-13 08:07:08,005 - INFO - Epoch 66/500 | Validation Acc: 0.8750\n"
     ]
    },
    {
     "data": {
      "application/vnd.jupyter.widget-view+json": {
       "model_id": "16e5e49ba8ca4d4295783211485dc302",
       "version_major": 2,
       "version_minor": 0
      },
      "text/plain": [
       "Epoch 67/500 [Train]:   0%|          | 0/28 [00:00<?, ?it/s]"
      ]
     },
     "metadata": {},
     "output_type": "display_data"
    },
    {
     "name": "stderr",
     "output_type": "stream",
     "text": [
      "2025-09-13 08:07:12,509 - INFO - Epoch 67/500 | Validation Acc: 0.8490\n"
     ]
    },
    {
     "data": {
      "application/vnd.jupyter.widget-view+json": {
       "model_id": "85a0b426e13146d8b7ebe7b78b7871f3",
       "version_major": 2,
       "version_minor": 0
      },
      "text/plain": [
       "Epoch 68/500 [Train]:   0%|          | 0/28 [00:00<?, ?it/s]"
      ]
     },
     "metadata": {},
     "output_type": "display_data"
    },
    {
     "name": "stderr",
     "output_type": "stream",
     "text": [
      "2025-09-13 08:07:17,041 - INFO - Epoch 68/500 | Validation Acc: 0.9062\n"
     ]
    },
    {
     "data": {
      "application/vnd.jupyter.widget-view+json": {
       "model_id": "560592bbb41b46eb8bd7f9ad442078ad",
       "version_major": 2,
       "version_minor": 0
      },
      "text/plain": [
       "Epoch 69/500 [Train]:   0%|          | 0/28 [00:00<?, ?it/s]"
      ]
     },
     "metadata": {},
     "output_type": "display_data"
    },
    {
     "name": "stderr",
     "output_type": "stream",
     "text": [
      "2025-09-13 08:07:21,491 - INFO - Epoch 69/500 | Validation Acc: 0.8333\n"
     ]
    },
    {
     "data": {
      "application/vnd.jupyter.widget-view+json": {
       "model_id": "1cde2e070e27447482532d100b592189",
       "version_major": 2,
       "version_minor": 0
      },
      "text/plain": [
       "Epoch 70/500 [Train]:   0%|          | 0/28 [00:00<?, ?it/s]"
      ]
     },
     "metadata": {},
     "output_type": "display_data"
    },
    {
     "name": "stderr",
     "output_type": "stream",
     "text": [
      "2025-09-13 08:07:25,930 - INFO - Epoch 70/500 | Validation Acc: 0.8854\n"
     ]
    },
    {
     "data": {
      "application/vnd.jupyter.widget-view+json": {
       "model_id": "c0909c3283fc4c91bccc87147379d63d",
       "version_major": 2,
       "version_minor": 0
      },
      "text/plain": [
       "Epoch 71/500 [Train]:   0%|          | 0/28 [00:00<?, ?it/s]"
      ]
     },
     "metadata": {},
     "output_type": "display_data"
    },
    {
     "name": "stderr",
     "output_type": "stream",
     "text": [
      "2025-09-13 08:07:30,357 - INFO - Epoch 71/500 | Validation Acc: 0.9219\n",
      "2025-09-13 08:07:30,452 - INFO - New best baseline model saved with acc: 0.9219\n"
     ]
    },
    {
     "data": {
      "application/vnd.jupyter.widget-view+json": {
       "model_id": "73c29802c3db49d98d40780805e98a70",
       "version_major": 2,
       "version_minor": 0
      },
      "text/plain": [
       "Epoch 72/500 [Train]:   0%|          | 0/28 [00:00<?, ?it/s]"
      ]
     },
     "metadata": {},
     "output_type": "display_data"
    },
    {
     "name": "stderr",
     "output_type": "stream",
     "text": [
      "2025-09-13 08:07:34,902 - INFO - Epoch 72/500 | Validation Acc: 0.9062\n"
     ]
    },
    {
     "data": {
      "application/vnd.jupyter.widget-view+json": {
       "model_id": "79cb440c30514c3bb40eacb4fb2ef807",
       "version_major": 2,
       "version_minor": 0
      },
      "text/plain": [
       "Epoch 73/500 [Train]:   0%|          | 0/28 [00:00<?, ?it/s]"
      ]
     },
     "metadata": {},
     "output_type": "display_data"
    },
    {
     "name": "stderr",
     "output_type": "stream",
     "text": [
      "2025-09-13 08:07:39,347 - INFO - Epoch 73/500 | Validation Acc: 0.8854\n"
     ]
    },
    {
     "data": {
      "application/vnd.jupyter.widget-view+json": {
       "model_id": "6dfbe025fbfb42d3b974f7ab2487b702",
       "version_major": 2,
       "version_minor": 0
      },
      "text/plain": [
       "Epoch 74/500 [Train]:   0%|          | 0/28 [00:00<?, ?it/s]"
      ]
     },
     "metadata": {},
     "output_type": "display_data"
    },
    {
     "name": "stderr",
     "output_type": "stream",
     "text": [
      "2025-09-13 08:07:43,812 - INFO - Epoch 74/500 | Validation Acc: 0.9062\n"
     ]
    },
    {
     "data": {
      "application/vnd.jupyter.widget-view+json": {
       "model_id": "c83639929e334d8eb323d7d461de77f6",
       "version_major": 2,
       "version_minor": 0
      },
      "text/plain": [
       "Epoch 75/500 [Train]:   0%|          | 0/28 [00:00<?, ?it/s]"
      ]
     },
     "metadata": {},
     "output_type": "display_data"
    },
    {
     "name": "stderr",
     "output_type": "stream",
     "text": [
      "2025-09-13 08:07:48,246 - INFO - Epoch 75/500 | Validation Acc: 0.9010\n"
     ]
    },
    {
     "data": {
      "application/vnd.jupyter.widget-view+json": {
       "model_id": "f74ffe47924c4ee18129eb2d68e38e27",
       "version_major": 2,
       "version_minor": 0
      },
      "text/plain": [
       "Epoch 76/500 [Train]:   0%|          | 0/28 [00:00<?, ?it/s]"
      ]
     },
     "metadata": {},
     "output_type": "display_data"
    },
    {
     "name": "stderr",
     "output_type": "stream",
     "text": [
      "2025-09-13 08:07:52,780 - INFO - Epoch 76/500 | Validation Acc: 0.8646\n"
     ]
    },
    {
     "data": {
      "application/vnd.jupyter.widget-view+json": {
       "model_id": "39b36dc89d54424091a914ddfbdabca9",
       "version_major": 2,
       "version_minor": 0
      },
      "text/plain": [
       "Epoch 77/500 [Train]:   0%|          | 0/28 [00:00<?, ?it/s]"
      ]
     },
     "metadata": {},
     "output_type": "display_data"
    },
    {
     "name": "stderr",
     "output_type": "stream",
     "text": [
      "2025-09-13 08:07:57,220 - INFO - Epoch 77/500 | Validation Acc: 0.7969\n"
     ]
    },
    {
     "data": {
      "application/vnd.jupyter.widget-view+json": {
       "model_id": "de2e60ae2f2f4f01984a6cf3b83bfeb3",
       "version_major": 2,
       "version_minor": 0
      },
      "text/plain": [
       "Epoch 78/500 [Train]:   0%|          | 0/28 [00:00<?, ?it/s]"
      ]
     },
     "metadata": {},
     "output_type": "display_data"
    },
    {
     "name": "stderr",
     "output_type": "stream",
     "text": [
      "2025-09-13 08:08:01,671 - INFO - Epoch 78/500 | Validation Acc: 0.9167\n"
     ]
    },
    {
     "data": {
      "application/vnd.jupyter.widget-view+json": {
       "model_id": "d83fac61e3874b67afc06444b2abdcbd",
       "version_major": 2,
       "version_minor": 0
      },
      "text/plain": [
       "Epoch 79/500 [Train]:   0%|          | 0/28 [00:00<?, ?it/s]"
      ]
     },
     "metadata": {},
     "output_type": "display_data"
    },
    {
     "name": "stderr",
     "output_type": "stream",
     "text": [
      "2025-09-13 08:08:06,133 - INFO - Epoch 79/500 | Validation Acc: 0.8698\n"
     ]
    },
    {
     "data": {
      "application/vnd.jupyter.widget-view+json": {
       "model_id": "174de18ec2ef4b66b69e44ab657e9b2c",
       "version_major": 2,
       "version_minor": 0
      },
      "text/plain": [
       "Epoch 80/500 [Train]:   0%|          | 0/28 [00:00<?, ?it/s]"
      ]
     },
     "metadata": {},
     "output_type": "display_data"
    },
    {
     "name": "stderr",
     "output_type": "stream",
     "text": [
      "2025-09-13 08:08:10,575 - INFO - Epoch 80/500 | Validation Acc: 0.8385\n"
     ]
    },
    {
     "data": {
      "application/vnd.jupyter.widget-view+json": {
       "model_id": "ce1db19013a74fdc92affe028ec57596",
       "version_major": 2,
       "version_minor": 0
      },
      "text/plain": [
       "Epoch 81/500 [Train]:   0%|          | 0/28 [00:00<?, ?it/s]"
      ]
     },
     "metadata": {},
     "output_type": "display_data"
    },
    {
     "name": "stderr",
     "output_type": "stream",
     "text": [
      "2025-09-13 08:08:15,012 - INFO - Epoch 81/500 | Validation Acc: 0.8750\n"
     ]
    },
    {
     "data": {
      "application/vnd.jupyter.widget-view+json": {
       "model_id": "1923aec025a248caa048b27829eb8a7f",
       "version_major": 2,
       "version_minor": 0
      },
      "text/plain": [
       "Epoch 82/500 [Train]:   0%|          | 0/28 [00:00<?, ?it/s]"
      ]
     },
     "metadata": {},
     "output_type": "display_data"
    },
    {
     "name": "stderr",
     "output_type": "stream",
     "text": [
      "2025-09-13 08:08:19,445 - INFO - Epoch 82/500 | Validation Acc: 0.9010\n"
     ]
    },
    {
     "data": {
      "application/vnd.jupyter.widget-view+json": {
       "model_id": "539a901204484b59bca09c647145ef7c",
       "version_major": 2,
       "version_minor": 0
      },
      "text/plain": [
       "Epoch 83/500 [Train]:   0%|          | 0/28 [00:00<?, ?it/s]"
      ]
     },
     "metadata": {},
     "output_type": "display_data"
    },
    {
     "name": "stderr",
     "output_type": "stream",
     "text": [
      "2025-09-13 08:08:23,848 - INFO - Epoch 83/500 | Validation Acc: 0.8854\n"
     ]
    },
    {
     "data": {
      "application/vnd.jupyter.widget-view+json": {
       "model_id": "d036520a045049249d7ef4a87a65d7bd",
       "version_major": 2,
       "version_minor": 0
      },
      "text/plain": [
       "Epoch 84/500 [Train]:   0%|          | 0/28 [00:00<?, ?it/s]"
      ]
     },
     "metadata": {},
     "output_type": "display_data"
    },
    {
     "name": "stderr",
     "output_type": "stream",
     "text": [
      "2025-09-13 08:08:28,264 - INFO - Epoch 84/500 | Validation Acc: 0.9167\n"
     ]
    },
    {
     "data": {
      "application/vnd.jupyter.widget-view+json": {
       "model_id": "0d787f0a89584b5ab4f63dd3676058fe",
       "version_major": 2,
       "version_minor": 0
      },
      "text/plain": [
       "Epoch 85/500 [Train]:   0%|          | 0/28 [00:00<?, ?it/s]"
      ]
     },
     "metadata": {},
     "output_type": "display_data"
    },
    {
     "name": "stderr",
     "output_type": "stream",
     "text": [
      "2025-09-13 08:08:32,703 - INFO - Epoch 85/500 | Validation Acc: 0.9062\n"
     ]
    },
    {
     "data": {
      "application/vnd.jupyter.widget-view+json": {
       "model_id": "792423fbb6954ea4aa4f697d98b544ca",
       "version_major": 2,
       "version_minor": 0
      },
      "text/plain": [
       "Epoch 86/500 [Train]:   0%|          | 0/28 [00:00<?, ?it/s]"
      ]
     },
     "metadata": {},
     "output_type": "display_data"
    },
    {
     "name": "stderr",
     "output_type": "stream",
     "text": [
      "2025-09-13 08:08:37,175 - INFO - Epoch 86/500 | Validation Acc: 0.8854\n"
     ]
    },
    {
     "data": {
      "application/vnd.jupyter.widget-view+json": {
       "model_id": "cb182a8d030e4b40a5dba2fd7dd48357",
       "version_major": 2,
       "version_minor": 0
      },
      "text/plain": [
       "Epoch 87/500 [Train]:   0%|          | 0/28 [00:00<?, ?it/s]"
      ]
     },
     "metadata": {},
     "output_type": "display_data"
    },
    {
     "name": "stderr",
     "output_type": "stream",
     "text": [
      "2025-09-13 08:08:41,617 - INFO - Epoch 87/500 | Validation Acc: 0.8177\n"
     ]
    },
    {
     "data": {
      "application/vnd.jupyter.widget-view+json": {
       "model_id": "dcc021e62e534f33a806ee7439a39a67",
       "version_major": 2,
       "version_minor": 0
      },
      "text/plain": [
       "Epoch 88/500 [Train]:   0%|          | 0/28 [00:00<?, ?it/s]"
      ]
     },
     "metadata": {},
     "output_type": "display_data"
    },
    {
     "name": "stderr",
     "output_type": "stream",
     "text": [
      "2025-09-13 08:08:46,073 - INFO - Epoch 88/500 | Validation Acc: 0.8125\n"
     ]
    },
    {
     "data": {
      "application/vnd.jupyter.widget-view+json": {
       "model_id": "ed4967147e044086996522e9d1384424",
       "version_major": 2,
       "version_minor": 0
      },
      "text/plain": [
       "Epoch 89/500 [Train]:   0%|          | 0/28 [00:00<?, ?it/s]"
      ]
     },
     "metadata": {},
     "output_type": "display_data"
    },
    {
     "name": "stderr",
     "output_type": "stream",
     "text": [
      "2025-09-13 08:08:50,590 - INFO - Epoch 89/500 | Validation Acc: 0.8698\n"
     ]
    },
    {
     "data": {
      "application/vnd.jupyter.widget-view+json": {
       "model_id": "c0bcbe9df425480db9f61ed2ed60b783",
       "version_major": 2,
       "version_minor": 0
      },
      "text/plain": [
       "Epoch 90/500 [Train]:   0%|          | 0/28 [00:00<?, ?it/s]"
      ]
     },
     "metadata": {},
     "output_type": "display_data"
    },
    {
     "name": "stderr",
     "output_type": "stream",
     "text": [
      "2025-09-13 08:08:55,153 - INFO - Epoch 90/500 | Validation Acc: 0.8958\n"
     ]
    },
    {
     "data": {
      "application/vnd.jupyter.widget-view+json": {
       "model_id": "f923059bbcb547f5a2bdae675830cbde",
       "version_major": 2,
       "version_minor": 0
      },
      "text/plain": [
       "Epoch 91/500 [Train]:   0%|          | 0/28 [00:00<?, ?it/s]"
      ]
     },
     "metadata": {},
     "output_type": "display_data"
    },
    {
     "name": "stderr",
     "output_type": "stream",
     "text": [
      "2025-09-13 08:08:59,641 - INFO - Epoch 91/500 | Validation Acc: 0.7865\n"
     ]
    },
    {
     "data": {
      "application/vnd.jupyter.widget-view+json": {
       "model_id": "c9041e9a2de94d72b44d5fb46e79dd54",
       "version_major": 2,
       "version_minor": 0
      },
      "text/plain": [
       "Epoch 92/500 [Train]:   0%|          | 0/28 [00:00<?, ?it/s]"
      ]
     },
     "metadata": {},
     "output_type": "display_data"
    },
    {
     "name": "stderr",
     "output_type": "stream",
     "text": [
      "2025-09-13 08:09:04,092 - INFO - Epoch 92/500 | Validation Acc: 0.8385\n"
     ]
    },
    {
     "data": {
      "application/vnd.jupyter.widget-view+json": {
       "model_id": "851843b64cce4e5181ce42250cd20fe5",
       "version_major": 2,
       "version_minor": 0
      },
      "text/plain": [
       "Epoch 93/500 [Train]:   0%|          | 0/28 [00:00<?, ?it/s]"
      ]
     },
     "metadata": {},
     "output_type": "display_data"
    },
    {
     "name": "stderr",
     "output_type": "stream",
     "text": [
      "2025-09-13 08:09:08,577 - INFO - Epoch 93/500 | Validation Acc: 0.8854\n"
     ]
    },
    {
     "data": {
      "application/vnd.jupyter.widget-view+json": {
       "model_id": "b94218d6f6aa485d86d0c7e364194a68",
       "version_major": 2,
       "version_minor": 0
      },
      "text/plain": [
       "Epoch 94/500 [Train]:   0%|          | 0/28 [00:00<?, ?it/s]"
      ]
     },
     "metadata": {},
     "output_type": "display_data"
    },
    {
     "name": "stderr",
     "output_type": "stream",
     "text": [
      "2025-09-13 08:09:13,060 - INFO - Epoch 94/500 | Validation Acc: 0.8750\n"
     ]
    },
    {
     "data": {
      "application/vnd.jupyter.widget-view+json": {
       "model_id": "7765245d936b485cb3bc27a60d89a9cb",
       "version_major": 2,
       "version_minor": 0
      },
      "text/plain": [
       "Epoch 95/500 [Train]:   0%|          | 0/28 [00:00<?, ?it/s]"
      ]
     },
     "metadata": {},
     "output_type": "display_data"
    },
    {
     "name": "stderr",
     "output_type": "stream",
     "text": [
      "2025-09-13 08:09:17,476 - INFO - Epoch 95/500 | Validation Acc: 0.9062\n"
     ]
    },
    {
     "data": {
      "application/vnd.jupyter.widget-view+json": {
       "model_id": "4ce935016ed547e6b68e9dd44319118a",
       "version_major": 2,
       "version_minor": 0
      },
      "text/plain": [
       "Epoch 96/500 [Train]:   0%|          | 0/28 [00:00<?, ?it/s]"
      ]
     },
     "metadata": {},
     "output_type": "display_data"
    },
    {
     "name": "stderr",
     "output_type": "stream",
     "text": [
      "2025-09-13 08:09:21,885 - INFO - Epoch 96/500 | Validation Acc: 0.9010\n"
     ]
    },
    {
     "data": {
      "application/vnd.jupyter.widget-view+json": {
       "model_id": "2e8657ef22ac4341899dcde1b829855e",
       "version_major": 2,
       "version_minor": 0
      },
      "text/plain": [
       "Epoch 97/500 [Train]:   0%|          | 0/28 [00:00<?, ?it/s]"
      ]
     },
     "metadata": {},
     "output_type": "display_data"
    },
    {
     "name": "stderr",
     "output_type": "stream",
     "text": [
      "2025-09-13 08:09:26,289 - INFO - Epoch 97/500 | Validation Acc: 0.8906\n"
     ]
    },
    {
     "data": {
      "application/vnd.jupyter.widget-view+json": {
       "model_id": "c0339674a92a423f9105d0942b6b351c",
       "version_major": 2,
       "version_minor": 0
      },
      "text/plain": [
       "Epoch 98/500 [Train]:   0%|          | 0/28 [00:00<?, ?it/s]"
      ]
     },
     "metadata": {},
     "output_type": "display_data"
    },
    {
     "name": "stderr",
     "output_type": "stream",
     "text": [
      "2025-09-13 08:09:30,750 - INFO - Epoch 98/500 | Validation Acc: 0.8698\n"
     ]
    },
    {
     "data": {
      "application/vnd.jupyter.widget-view+json": {
       "model_id": "78ff15d0e81b4db59a5f2894ee8cdaab",
       "version_major": 2,
       "version_minor": 0
      },
      "text/plain": [
       "Epoch 99/500 [Train]:   0%|          | 0/28 [00:00<?, ?it/s]"
      ]
     },
     "metadata": {},
     "output_type": "display_data"
    },
    {
     "name": "stderr",
     "output_type": "stream",
     "text": [
      "2025-09-13 08:09:35,226 - INFO - Epoch 99/500 | Validation Acc: 0.8594\n"
     ]
    },
    {
     "data": {
      "application/vnd.jupyter.widget-view+json": {
       "model_id": "1a2d2229cf6440fe8acb11e919953ee0",
       "version_major": 2,
       "version_minor": 0
      },
      "text/plain": [
       "Epoch 100/500 [Train]:   0%|          | 0/28 [00:00<?, ?it/s]"
      ]
     },
     "metadata": {},
     "output_type": "display_data"
    },
    {
     "name": "stderr",
     "output_type": "stream",
     "text": [
      "2025-09-13 08:09:39,600 - INFO - Epoch 100/500 | Validation Acc: 0.8490\n"
     ]
    },
    {
     "data": {
      "application/vnd.jupyter.widget-view+json": {
       "model_id": "85932e7f27a04fce8398a7fa6e37a8d5",
       "version_major": 2,
       "version_minor": 0
      },
      "text/plain": [
       "Epoch 101/500 [Train]:   0%|          | 0/28 [00:00<?, ?it/s]"
      ]
     },
     "metadata": {},
     "output_type": "display_data"
    },
    {
     "name": "stderr",
     "output_type": "stream",
     "text": [
      "2025-09-13 08:09:44,148 - INFO - Epoch 101/500 | Validation Acc: 0.8594\n"
     ]
    },
    {
     "data": {
      "application/vnd.jupyter.widget-view+json": {
       "model_id": "23d061592ae549178098b0bb67ea8b51",
       "version_major": 2,
       "version_minor": 0
      },
      "text/plain": [
       "Epoch 102/500 [Train]:   0%|          | 0/28 [00:00<?, ?it/s]"
      ]
     },
     "metadata": {},
     "output_type": "display_data"
    },
    {
     "name": "stderr",
     "output_type": "stream",
     "text": [
      "2025-09-13 08:09:48,652 - INFO - Epoch 102/500 | Validation Acc: 0.9010\n"
     ]
    },
    {
     "data": {
      "application/vnd.jupyter.widget-view+json": {
       "model_id": "97b4748ded074a63a1dc4e40b4601e60",
       "version_major": 2,
       "version_minor": 0
      },
      "text/plain": [
       "Epoch 103/500 [Train]:   0%|          | 0/28 [00:00<?, ?it/s]"
      ]
     },
     "metadata": {},
     "output_type": "display_data"
    },
    {
     "name": "stderr",
     "output_type": "stream",
     "text": [
      "2025-09-13 08:09:53,094 - INFO - Epoch 103/500 | Validation Acc: 0.9115\n"
     ]
    },
    {
     "data": {
      "application/vnd.jupyter.widget-view+json": {
       "model_id": "906771bdb2b142d18affbde87da6fa3e",
       "version_major": 2,
       "version_minor": 0
      },
      "text/plain": [
       "Epoch 104/500 [Train]:   0%|          | 0/28 [00:00<?, ?it/s]"
      ]
     },
     "metadata": {},
     "output_type": "display_data"
    },
    {
     "name": "stderr",
     "output_type": "stream",
     "text": [
      "2025-09-13 08:09:57,550 - INFO - Epoch 104/500 | Validation Acc: 0.8906\n"
     ]
    },
    {
     "data": {
      "application/vnd.jupyter.widget-view+json": {
       "model_id": "ba3a6dfc29494e14bf5d24ab9b672025",
       "version_major": 2,
       "version_minor": 0
      },
      "text/plain": [
       "Epoch 105/500 [Train]:   0%|          | 0/28 [00:00<?, ?it/s]"
      ]
     },
     "metadata": {},
     "output_type": "display_data"
    },
    {
     "name": "stderr",
     "output_type": "stream",
     "text": [
      "2025-09-13 08:10:02,057 - INFO - Epoch 105/500 | Validation Acc: 0.8438\n"
     ]
    },
    {
     "data": {
      "application/vnd.jupyter.widget-view+json": {
       "model_id": "d6b7053696c84c61b2366b631c3f0128",
       "version_major": 2,
       "version_minor": 0
      },
      "text/plain": [
       "Epoch 106/500 [Train]:   0%|          | 0/28 [00:00<?, ?it/s]"
      ]
     },
     "metadata": {},
     "output_type": "display_data"
    },
    {
     "name": "stderr",
     "output_type": "stream",
     "text": [
      "2025-09-13 08:10:06,556 - INFO - Epoch 106/500 | Validation Acc: 0.8646\n"
     ]
    },
    {
     "data": {
      "application/vnd.jupyter.widget-view+json": {
       "model_id": "1d5aa127cbea4efabbf9875ccc0c2a4c",
       "version_major": 2,
       "version_minor": 0
      },
      "text/plain": [
       "Epoch 107/500 [Train]:   0%|          | 0/28 [00:00<?, ?it/s]"
      ]
     },
     "metadata": {},
     "output_type": "display_data"
    },
    {
     "name": "stderr",
     "output_type": "stream",
     "text": [
      "2025-09-13 08:10:10,987 - INFO - Epoch 107/500 | Validation Acc: 0.8542\n"
     ]
    },
    {
     "data": {
      "application/vnd.jupyter.widget-view+json": {
       "model_id": "234b1e57d3634191b64e3847d58173b5",
       "version_major": 2,
       "version_minor": 0
      },
      "text/plain": [
       "Epoch 108/500 [Train]:   0%|          | 0/28 [00:00<?, ?it/s]"
      ]
     },
     "metadata": {},
     "output_type": "display_data"
    },
    {
     "name": "stderr",
     "output_type": "stream",
     "text": [
      "2025-09-13 08:10:15,431 - INFO - Epoch 108/500 | Validation Acc: 0.8646\n"
     ]
    },
    {
     "data": {
      "application/vnd.jupyter.widget-view+json": {
       "model_id": "5e5ed8df24f043d0bc83d44fac03a93a",
       "version_major": 2,
       "version_minor": 0
      },
      "text/plain": [
       "Epoch 109/500 [Train]:   0%|          | 0/28 [00:00<?, ?it/s]"
      ]
     },
     "metadata": {},
     "output_type": "display_data"
    },
    {
     "name": "stderr",
     "output_type": "stream",
     "text": [
      "2025-09-13 08:10:19,883 - INFO - Epoch 109/500 | Validation Acc: 0.8073\n"
     ]
    },
    {
     "data": {
      "application/vnd.jupyter.widget-view+json": {
       "model_id": "1cd49a95ec7a4576984de02104ca21aa",
       "version_major": 2,
       "version_minor": 0
      },
      "text/plain": [
       "Epoch 110/500 [Train]:   0%|          | 0/28 [00:00<?, ?it/s]"
      ]
     },
     "metadata": {},
     "output_type": "display_data"
    },
    {
     "name": "stderr",
     "output_type": "stream",
     "text": [
      "2025-09-13 08:10:24,326 - INFO - Epoch 110/500 | Validation Acc: 0.9115\n"
     ]
    },
    {
     "data": {
      "application/vnd.jupyter.widget-view+json": {
       "model_id": "3c041f9314e041deb7facbaa3a2ca069",
       "version_major": 2,
       "version_minor": 0
      },
      "text/plain": [
       "Epoch 111/500 [Train]:   0%|          | 0/28 [00:00<?, ?it/s]"
      ]
     },
     "metadata": {},
     "output_type": "display_data"
    },
    {
     "name": "stderr",
     "output_type": "stream",
     "text": [
      "2025-09-13 08:10:28,745 - INFO - Epoch 111/500 | Validation Acc: 0.9115\n"
     ]
    },
    {
     "data": {
      "application/vnd.jupyter.widget-view+json": {
       "model_id": "dc46d240a1de4def9b97844916157ec1",
       "version_major": 2,
       "version_minor": 0
      },
      "text/plain": [
       "Epoch 112/500 [Train]:   0%|          | 0/28 [00:00<?, ?it/s]"
      ]
     },
     "metadata": {},
     "output_type": "display_data"
    },
    {
     "name": "stderr",
     "output_type": "stream",
     "text": [
      "2025-09-13 08:10:33,204 - INFO - Epoch 112/500 | Validation Acc: 0.8438\n"
     ]
    },
    {
     "data": {
      "application/vnd.jupyter.widget-view+json": {
       "model_id": "961823c4bf9a4f2d85110bf5668aaa3a",
       "version_major": 2,
       "version_minor": 0
      },
      "text/plain": [
       "Epoch 113/500 [Train]:   0%|          | 0/28 [00:00<?, ?it/s]"
      ]
     },
     "metadata": {},
     "output_type": "display_data"
    },
    {
     "name": "stderr",
     "output_type": "stream",
     "text": [
      "2025-09-13 08:10:37,632 - INFO - Epoch 113/500 | Validation Acc: 0.8750\n"
     ]
    },
    {
     "data": {
      "application/vnd.jupyter.widget-view+json": {
       "model_id": "f8f49402250e4266ac05150a0625e900",
       "version_major": 2,
       "version_minor": 0
      },
      "text/plain": [
       "Epoch 114/500 [Train]:   0%|          | 0/28 [00:00<?, ?it/s]"
      ]
     },
     "metadata": {},
     "output_type": "display_data"
    },
    {
     "name": "stderr",
     "output_type": "stream",
     "text": [
      "2025-09-13 08:10:42,065 - INFO - Epoch 114/500 | Validation Acc: 0.8698\n"
     ]
    },
    {
     "data": {
      "application/vnd.jupyter.widget-view+json": {
       "model_id": "dae99fef9554420aa79cd8005a5fc1eb",
       "version_major": 2,
       "version_minor": 0
      },
      "text/plain": [
       "Epoch 115/500 [Train]:   0%|          | 0/28 [00:00<?, ?it/s]"
      ]
     },
     "metadata": {},
     "output_type": "display_data"
    },
    {
     "name": "stderr",
     "output_type": "stream",
     "text": [
      "2025-09-13 08:10:46,492 - INFO - Epoch 115/500 | Validation Acc: 0.8906\n"
     ]
    },
    {
     "data": {
      "application/vnd.jupyter.widget-view+json": {
       "model_id": "4c83bef22cd54bfca46a5aa272491839",
       "version_major": 2,
       "version_minor": 0
      },
      "text/plain": [
       "Epoch 116/500 [Train]:   0%|          | 0/28 [00:00<?, ?it/s]"
      ]
     },
     "metadata": {},
     "output_type": "display_data"
    },
    {
     "name": "stderr",
     "output_type": "stream",
     "text": [
      "2025-09-13 08:10:50,925 - INFO - Epoch 116/500 | Validation Acc: 0.9115\n"
     ]
    },
    {
     "data": {
      "application/vnd.jupyter.widget-view+json": {
       "model_id": "fe49ec42707d4718aaa15cf81fe566b3",
       "version_major": 2,
       "version_minor": 0
      },
      "text/plain": [
       "Epoch 117/500 [Train]:   0%|          | 0/28 [00:00<?, ?it/s]"
      ]
     },
     "metadata": {},
     "output_type": "display_data"
    },
    {
     "name": "stderr",
     "output_type": "stream",
     "text": [
      "2025-09-13 08:10:55,343 - INFO - Epoch 117/500 | Validation Acc: 0.8229\n"
     ]
    },
    {
     "data": {
      "application/vnd.jupyter.widget-view+json": {
       "model_id": "532a1f5ee8294012a690f1fa22d4f13f",
       "version_major": 2,
       "version_minor": 0
      },
      "text/plain": [
       "Epoch 118/500 [Train]:   0%|          | 0/28 [00:00<?, ?it/s]"
      ]
     },
     "metadata": {},
     "output_type": "display_data"
    },
    {
     "name": "stderr",
     "output_type": "stream",
     "text": [
      "2025-09-13 08:10:59,776 - INFO - Epoch 118/500 | Validation Acc: 0.8177\n"
     ]
    },
    {
     "data": {
      "application/vnd.jupyter.widget-view+json": {
       "model_id": "49f2ddea383848fead5656c7eff2704d",
       "version_major": 2,
       "version_minor": 0
      },
      "text/plain": [
       "Epoch 119/500 [Train]:   0%|          | 0/28 [00:00<?, ?it/s]"
      ]
     },
     "metadata": {},
     "output_type": "display_data"
    },
    {
     "name": "stderr",
     "output_type": "stream",
     "text": [
      "2025-09-13 08:11:04,241 - INFO - Epoch 119/500 | Validation Acc: 0.8750\n"
     ]
    },
    {
     "data": {
      "application/vnd.jupyter.widget-view+json": {
       "model_id": "1bed9e5727ae4ef287f637db1c06b241",
       "version_major": 2,
       "version_minor": 0
      },
      "text/plain": [
       "Epoch 120/500 [Train]:   0%|          | 0/28 [00:00<?, ?it/s]"
      ]
     },
     "metadata": {},
     "output_type": "display_data"
    },
    {
     "name": "stderr",
     "output_type": "stream",
     "text": [
      "2025-09-13 08:11:08,671 - INFO - Epoch 120/500 | Validation Acc: 0.8333\n"
     ]
    },
    {
     "data": {
      "application/vnd.jupyter.widget-view+json": {
       "model_id": "3fdf2b99ecf34fefa326491ac56bbb78",
       "version_major": 2,
       "version_minor": 0
      },
      "text/plain": [
       "Epoch 121/500 [Train]:   0%|          | 0/28 [00:00<?, ?it/s]"
      ]
     },
     "metadata": {},
     "output_type": "display_data"
    },
    {
     "name": "stderr",
     "output_type": "stream",
     "text": [
      "2025-09-13 08:11:13,105 - INFO - Epoch 121/500 | Validation Acc: 0.8906\n"
     ]
    },
    {
     "data": {
      "application/vnd.jupyter.widget-view+json": {
       "model_id": "f4e6cdfdccf142ac87229a39cd4b2f6e",
       "version_major": 2,
       "version_minor": 0
      },
      "text/plain": [
       "Epoch 122/500 [Train]:   0%|          | 0/28 [00:00<?, ?it/s]"
      ]
     },
     "metadata": {},
     "output_type": "display_data"
    },
    {
     "name": "stderr",
     "output_type": "stream",
     "text": [
      "2025-09-13 08:11:17,536 - INFO - Epoch 122/500 | Validation Acc: 0.9010\n"
     ]
    },
    {
     "data": {
      "application/vnd.jupyter.widget-view+json": {
       "model_id": "c1594e8350674dbbb0df3bc44e102e02",
       "version_major": 2,
       "version_minor": 0
      },
      "text/plain": [
       "Epoch 123/500 [Train]:   0%|          | 0/28 [00:00<?, ?it/s]"
      ]
     },
     "metadata": {},
     "output_type": "display_data"
    },
    {
     "name": "stderr",
     "output_type": "stream",
     "text": [
      "2025-09-13 08:11:21,958 - INFO - Epoch 123/500 | Validation Acc: 0.7604\n"
     ]
    },
    {
     "data": {
      "application/vnd.jupyter.widget-view+json": {
       "model_id": "d72368097b2041fe9a73dda85822ef0c",
       "version_major": 2,
       "version_minor": 0
      },
      "text/plain": [
       "Epoch 124/500 [Train]:   0%|          | 0/28 [00:00<?, ?it/s]"
      ]
     },
     "metadata": {},
     "output_type": "display_data"
    },
    {
     "name": "stderr",
     "output_type": "stream",
     "text": [
      "2025-09-13 08:11:26,384 - INFO - Epoch 124/500 | Validation Acc: 0.8333\n"
     ]
    },
    {
     "data": {
      "application/vnd.jupyter.widget-view+json": {
       "model_id": "072c91933cd14e0aa997d2656d93b1f0",
       "version_major": 2,
       "version_minor": 0
      },
      "text/plain": [
       "Epoch 125/500 [Train]:   0%|          | 0/28 [00:00<?, ?it/s]"
      ]
     },
     "metadata": {},
     "output_type": "display_data"
    },
    {
     "name": "stderr",
     "output_type": "stream",
     "text": [
      "2025-09-13 08:11:30,779 - INFO - Epoch 125/500 | Validation Acc: 0.9167\n"
     ]
    },
    {
     "data": {
      "application/vnd.jupyter.widget-view+json": {
       "model_id": "608795d6b7f44d92a9fd203917a40ae1",
       "version_major": 2,
       "version_minor": 0
      },
      "text/plain": [
       "Epoch 126/500 [Train]:   0%|          | 0/28 [00:00<?, ?it/s]"
      ]
     },
     "metadata": {},
     "output_type": "display_data"
    },
    {
     "name": "stderr",
     "output_type": "stream",
     "text": [
      "2025-09-13 08:11:35,199 - INFO - Epoch 126/500 | Validation Acc: 0.8906\n"
     ]
    },
    {
     "data": {
      "application/vnd.jupyter.widget-view+json": {
       "model_id": "899121b453594e598d496742faacfd78",
       "version_major": 2,
       "version_minor": 0
      },
      "text/plain": [
       "Epoch 127/500 [Train]:   0%|          | 0/28 [00:00<?, ?it/s]"
      ]
     },
     "metadata": {},
     "output_type": "display_data"
    },
    {
     "name": "stderr",
     "output_type": "stream",
     "text": [
      "2025-09-13 08:11:39,646 - INFO - Epoch 127/500 | Validation Acc: 0.9010\n"
     ]
    },
    {
     "data": {
      "application/vnd.jupyter.widget-view+json": {
       "model_id": "ea01fc6688874a08b8d99f6bf83081a1",
       "version_major": 2,
       "version_minor": 0
      },
      "text/plain": [
       "Epoch 128/500 [Train]:   0%|          | 0/28 [00:00<?, ?it/s]"
      ]
     },
     "metadata": {},
     "output_type": "display_data"
    },
    {
     "name": "stderr",
     "output_type": "stream",
     "text": [
      "2025-09-13 08:11:44,099 - INFO - Epoch 128/500 | Validation Acc: 0.8958\n"
     ]
    },
    {
     "data": {
      "application/vnd.jupyter.widget-view+json": {
       "model_id": "7c5b55e1677c4a88af6ceec020b55ef7",
       "version_major": 2,
       "version_minor": 0
      },
      "text/plain": [
       "Epoch 129/500 [Train]:   0%|          | 0/28 [00:00<?, ?it/s]"
      ]
     },
     "metadata": {},
     "output_type": "display_data"
    },
    {
     "name": "stderr",
     "output_type": "stream",
     "text": [
      "2025-09-13 08:11:48,527 - INFO - Epoch 129/500 | Validation Acc: 0.8490\n"
     ]
    },
    {
     "data": {
      "application/vnd.jupyter.widget-view+json": {
       "model_id": "4495af1222d64753828bc46cb1587b09",
       "version_major": 2,
       "version_minor": 0
      },
      "text/plain": [
       "Epoch 130/500 [Train]:   0%|          | 0/28 [00:00<?, ?it/s]"
      ]
     },
     "metadata": {},
     "output_type": "display_data"
    },
    {
     "name": "stderr",
     "output_type": "stream",
     "text": [
      "2025-09-13 08:11:52,969 - INFO - Epoch 130/500 | Validation Acc: 0.9219\n"
     ]
    },
    {
     "data": {
      "application/vnd.jupyter.widget-view+json": {
       "model_id": "6fa8318931a7425e9e12625c0384cd2d",
       "version_major": 2,
       "version_minor": 0
      },
      "text/plain": [
       "Epoch 131/500 [Train]:   0%|          | 0/28 [00:00<?, ?it/s]"
      ]
     },
     "metadata": {},
     "output_type": "display_data"
    },
    {
     "name": "stderr",
     "output_type": "stream",
     "text": [
      "2025-09-13 08:11:57,415 - INFO - Epoch 131/500 | Validation Acc: 0.8854\n"
     ]
    },
    {
     "data": {
      "application/vnd.jupyter.widget-view+json": {
       "model_id": "7de5d34ece4d4abab49c7043212c3529",
       "version_major": 2,
       "version_minor": 0
      },
      "text/plain": [
       "Epoch 132/500 [Train]:   0%|          | 0/28 [00:00<?, ?it/s]"
      ]
     },
     "metadata": {},
     "output_type": "display_data"
    },
    {
     "name": "stderr",
     "output_type": "stream",
     "text": [
      "2025-09-13 08:12:01,870 - INFO - Epoch 132/500 | Validation Acc: 0.9219\n"
     ]
    },
    {
     "data": {
      "application/vnd.jupyter.widget-view+json": {
       "model_id": "4fd700c52b144670bfc4558b5d9b7cbb",
       "version_major": 2,
       "version_minor": 0
      },
      "text/plain": [
       "Epoch 133/500 [Train]:   0%|          | 0/28 [00:00<?, ?it/s]"
      ]
     },
     "metadata": {},
     "output_type": "display_data"
    },
    {
     "name": "stderr",
     "output_type": "stream",
     "text": [
      "2025-09-13 08:12:06,320 - INFO - Epoch 133/500 | Validation Acc: 0.8750\n"
     ]
    },
    {
     "data": {
      "application/vnd.jupyter.widget-view+json": {
       "model_id": "3ade9915f76b4a9187c7bbbc67c6ab22",
       "version_major": 2,
       "version_minor": 0
      },
      "text/plain": [
       "Epoch 134/500 [Train]:   0%|          | 0/28 [00:00<?, ?it/s]"
      ]
     },
     "metadata": {},
     "output_type": "display_data"
    },
    {
     "name": "stderr",
     "output_type": "stream",
     "text": [
      "2025-09-13 08:12:10,767 - INFO - Epoch 134/500 | Validation Acc: 0.8906\n"
     ]
    },
    {
     "data": {
      "application/vnd.jupyter.widget-view+json": {
       "model_id": "82b984b34a664f2c8218cc8206b18d91",
       "version_major": 2,
       "version_minor": 0
      },
      "text/plain": [
       "Epoch 135/500 [Train]:   0%|          | 0/28 [00:00<?, ?it/s]"
      ]
     },
     "metadata": {},
     "output_type": "display_data"
    },
    {
     "name": "stderr",
     "output_type": "stream",
     "text": [
      "2025-09-13 08:12:15,317 - INFO - Epoch 135/500 | Validation Acc: 0.8698\n"
     ]
    },
    {
     "data": {
      "application/vnd.jupyter.widget-view+json": {
       "model_id": "131a832333ba4cd1ae1dfe37f4402d8d",
       "version_major": 2,
       "version_minor": 0
      },
      "text/plain": [
       "Epoch 136/500 [Train]:   0%|          | 0/28 [00:00<?, ?it/s]"
      ]
     },
     "metadata": {},
     "output_type": "display_data"
    },
    {
     "name": "stderr",
     "output_type": "stream",
     "text": [
      "2025-09-13 08:12:19,867 - INFO - Epoch 136/500 | Validation Acc: 0.8542\n"
     ]
    },
    {
     "data": {
      "application/vnd.jupyter.widget-view+json": {
       "model_id": "a81f3c29122a425094fb46845b9ffacb",
       "version_major": 2,
       "version_minor": 0
      },
      "text/plain": [
       "Epoch 137/500 [Train]:   0%|          | 0/28 [00:00<?, ?it/s]"
      ]
     },
     "metadata": {},
     "output_type": "display_data"
    },
    {
     "name": "stderr",
     "output_type": "stream",
     "text": [
      "2025-09-13 08:12:24,334 - INFO - Epoch 137/500 | Validation Acc: 0.8438\n"
     ]
    },
    {
     "data": {
      "application/vnd.jupyter.widget-view+json": {
       "model_id": "d83c9e239d9945e99e00292da0fa648a",
       "version_major": 2,
       "version_minor": 0
      },
      "text/plain": [
       "Epoch 138/500 [Train]:   0%|          | 0/28 [00:00<?, ?it/s]"
      ]
     },
     "metadata": {},
     "output_type": "display_data"
    },
    {
     "name": "stderr",
     "output_type": "stream",
     "text": [
      "2025-09-13 08:12:28,814 - INFO - Epoch 138/500 | Validation Acc: 0.8646\n"
     ]
    },
    {
     "data": {
      "application/vnd.jupyter.widget-view+json": {
       "model_id": "2b025bb3d2a246679a1b4a697be873b5",
       "version_major": 2,
       "version_minor": 0
      },
      "text/plain": [
       "Epoch 139/500 [Train]:   0%|          | 0/28 [00:00<?, ?it/s]"
      ]
     },
     "metadata": {},
     "output_type": "display_data"
    },
    {
     "name": "stderr",
     "output_type": "stream",
     "text": [
      "2025-09-13 08:12:33,341 - INFO - Epoch 139/500 | Validation Acc: 0.8333\n"
     ]
    },
    {
     "data": {
      "application/vnd.jupyter.widget-view+json": {
       "model_id": "d9fb22fc5d6f444f89a2feba3c538d85",
       "version_major": 2,
       "version_minor": 0
      },
      "text/plain": [
       "Epoch 140/500 [Train]:   0%|          | 0/28 [00:00<?, ?it/s]"
      ]
     },
     "metadata": {},
     "output_type": "display_data"
    },
    {
     "name": "stderr",
     "output_type": "stream",
     "text": [
      "2025-09-13 08:12:37,863 - INFO - Epoch 140/500 | Validation Acc: 0.9010\n"
     ]
    },
    {
     "data": {
      "application/vnd.jupyter.widget-view+json": {
       "model_id": "6fd6175868eb4ad3b7cd6a346b21c256",
       "version_major": 2,
       "version_minor": 0
      },
      "text/plain": [
       "Epoch 141/500 [Train]:   0%|          | 0/28 [00:00<?, ?it/s]"
      ]
     },
     "metadata": {},
     "output_type": "display_data"
    },
    {
     "name": "stderr",
     "output_type": "stream",
     "text": [
      "2025-09-13 08:12:42,391 - INFO - Epoch 141/500 | Validation Acc: 0.9010\n"
     ]
    },
    {
     "data": {
      "application/vnd.jupyter.widget-view+json": {
       "model_id": "735ff90a4c49404397884ccecd948816",
       "version_major": 2,
       "version_minor": 0
      },
      "text/plain": [
       "Epoch 142/500 [Train]:   0%|          | 0/28 [00:00<?, ?it/s]"
      ]
     },
     "metadata": {},
     "output_type": "display_data"
    },
    {
     "name": "stderr",
     "output_type": "stream",
     "text": [
      "2025-09-13 08:12:46,972 - INFO - Epoch 142/500 | Validation Acc: 0.9062\n"
     ]
    },
    {
     "data": {
      "application/vnd.jupyter.widget-view+json": {
       "model_id": "3e8bc5a270374903b85a33fa3903ab46",
       "version_major": 2,
       "version_minor": 0
      },
      "text/plain": [
       "Epoch 143/500 [Train]:   0%|          | 0/28 [00:00<?, ?it/s]"
      ]
     },
     "metadata": {},
     "output_type": "display_data"
    },
    {
     "name": "stderr",
     "output_type": "stream",
     "text": [
      "2025-09-13 08:12:51,688 - INFO - Epoch 143/500 | Validation Acc: 0.9115\n"
     ]
    },
    {
     "data": {
      "application/vnd.jupyter.widget-view+json": {
       "model_id": "efede27ca4974dafaee1c65190ee36b2",
       "version_major": 2,
       "version_minor": 0
      },
      "text/plain": [
       "Epoch 144/500 [Train]:   0%|          | 0/28 [00:00<?, ?it/s]"
      ]
     },
     "metadata": {},
     "output_type": "display_data"
    },
    {
     "name": "stderr",
     "output_type": "stream",
     "text": [
      "2025-09-13 08:12:56,310 - INFO - Epoch 144/500 | Validation Acc: 0.8542\n"
     ]
    },
    {
     "data": {
      "application/vnd.jupyter.widget-view+json": {
       "model_id": "4c0c4af32d7e454aae83421627cde16f",
       "version_major": 2,
       "version_minor": 0
      },
      "text/plain": [
       "Epoch 145/500 [Train]:   0%|          | 0/28 [00:00<?, ?it/s]"
      ]
     },
     "metadata": {},
     "output_type": "display_data"
    },
    {
     "name": "stderr",
     "output_type": "stream",
     "text": [
      "2025-09-13 08:13:00,974 - INFO - Epoch 145/500 | Validation Acc: 0.8177\n"
     ]
    },
    {
     "data": {
      "application/vnd.jupyter.widget-view+json": {
       "model_id": "3b225f4511f646d2a508348388a4873a",
       "version_major": 2,
       "version_minor": 0
      },
      "text/plain": [
       "Epoch 146/500 [Train]:   0%|          | 0/28 [00:00<?, ?it/s]"
      ]
     },
     "metadata": {},
     "output_type": "display_data"
    },
    {
     "name": "stderr",
     "output_type": "stream",
     "text": [
      "2025-09-13 08:13:05,577 - INFO - Epoch 146/500 | Validation Acc: 0.9115\n"
     ]
    },
    {
     "data": {
      "application/vnd.jupyter.widget-view+json": {
       "model_id": "4d2db13260f44fd3bf4572604136a973",
       "version_major": 2,
       "version_minor": 0
      },
      "text/plain": [
       "Epoch 147/500 [Train]:   0%|          | 0/28 [00:00<?, ?it/s]"
      ]
     },
     "metadata": {},
     "output_type": "display_data"
    },
    {
     "name": "stderr",
     "output_type": "stream",
     "text": [
      "2025-09-13 08:13:10,309 - INFO - Epoch 147/500 | Validation Acc: 0.8802\n"
     ]
    },
    {
     "data": {
      "application/vnd.jupyter.widget-view+json": {
       "model_id": "46b98160218d470c97a652e5e04e623f",
       "version_major": 2,
       "version_minor": 0
      },
      "text/plain": [
       "Epoch 148/500 [Train]:   0%|          | 0/28 [00:00<?, ?it/s]"
      ]
     },
     "metadata": {},
     "output_type": "display_data"
    },
    {
     "name": "stderr",
     "output_type": "stream",
     "text": [
      "2025-09-13 08:13:15,000 - INFO - Epoch 148/500 | Validation Acc: 0.8646\n"
     ]
    },
    {
     "data": {
      "application/vnd.jupyter.widget-view+json": {
       "model_id": "4f7ff4d3d89c4454ad84b8502a8885c9",
       "version_major": 2,
       "version_minor": 0
      },
      "text/plain": [
       "Epoch 149/500 [Train]:   0%|          | 0/28 [00:00<?, ?it/s]"
      ]
     },
     "metadata": {},
     "output_type": "display_data"
    },
    {
     "name": "stderr",
     "output_type": "stream",
     "text": [
      "2025-09-13 08:13:19,640 - INFO - Epoch 149/500 | Validation Acc: 0.8594\n"
     ]
    },
    {
     "data": {
      "application/vnd.jupyter.widget-view+json": {
       "model_id": "5bb8c604eabe46bfac4512b0eab4c06a",
       "version_major": 2,
       "version_minor": 0
      },
      "text/plain": [
       "Epoch 150/500 [Train]:   0%|          | 0/28 [00:00<?, ?it/s]"
      ]
     },
     "metadata": {},
     "output_type": "display_data"
    },
    {
     "name": "stderr",
     "output_type": "stream",
     "text": [
      "2025-09-13 08:13:24,294 - INFO - Epoch 150/500 | Validation Acc: 0.8229\n"
     ]
    },
    {
     "data": {
      "application/vnd.jupyter.widget-view+json": {
       "model_id": "77e30ca33bbe4c0197c316293c10e248",
       "version_major": 2,
       "version_minor": 0
      },
      "text/plain": [
       "Epoch 151/500 [Train]:   0%|          | 0/28 [00:00<?, ?it/s]"
      ]
     },
     "metadata": {},
     "output_type": "display_data"
    },
    {
     "name": "stderr",
     "output_type": "stream",
     "text": [
      "2025-09-13 08:13:28,964 - INFO - Epoch 151/500 | Validation Acc: 0.8177\n"
     ]
    },
    {
     "data": {
      "application/vnd.jupyter.widget-view+json": {
       "model_id": "e8da1ab34c6e48f6b9c33a0c9b8f8b97",
       "version_major": 2,
       "version_minor": 0
      },
      "text/plain": [
       "Epoch 152/500 [Train]:   0%|          | 0/28 [00:00<?, ?it/s]"
      ]
     },
     "metadata": {},
     "output_type": "display_data"
    },
    {
     "name": "stderr",
     "output_type": "stream",
     "text": [
      "2025-09-13 08:13:33,673 - INFO - Epoch 152/500 | Validation Acc: 0.8385\n"
     ]
    },
    {
     "data": {
      "application/vnd.jupyter.widget-view+json": {
       "model_id": "94d9c6e245bf40a28f81b4ee3303966f",
       "version_major": 2,
       "version_minor": 0
      },
      "text/plain": [
       "Epoch 153/500 [Train]:   0%|          | 0/28 [00:00<?, ?it/s]"
      ]
     },
     "metadata": {},
     "output_type": "display_data"
    },
    {
     "name": "stderr",
     "output_type": "stream",
     "text": [
      "2025-09-13 08:13:38,316 - INFO - Epoch 153/500 | Validation Acc: 0.8438\n"
     ]
    },
    {
     "data": {
      "application/vnd.jupyter.widget-view+json": {
       "model_id": "7257a97cdc954336b6af60de6046dc38",
       "version_major": 2,
       "version_minor": 0
      },
      "text/plain": [
       "Epoch 154/500 [Train]:   0%|          | 0/28 [00:00<?, ?it/s]"
      ]
     },
     "metadata": {},
     "output_type": "display_data"
    },
    {
     "name": "stderr",
     "output_type": "stream",
     "text": [
      "2025-09-13 08:13:42,980 - INFO - Epoch 154/500 | Validation Acc: 0.8854\n"
     ]
    },
    {
     "data": {
      "application/vnd.jupyter.widget-view+json": {
       "model_id": "aa88fe43db0e483db6c1e15637332a0c",
       "version_major": 2,
       "version_minor": 0
      },
      "text/plain": [
       "Epoch 155/500 [Train]:   0%|          | 0/28 [00:00<?, ?it/s]"
      ]
     },
     "metadata": {},
     "output_type": "display_data"
    },
    {
     "name": "stderr",
     "output_type": "stream",
     "text": [
      "2025-09-13 08:13:47,591 - INFO - Epoch 155/500 | Validation Acc: 0.8854\n"
     ]
    },
    {
     "data": {
      "application/vnd.jupyter.widget-view+json": {
       "model_id": "84e5582bbddf49d9abb43640f7d52e0f",
       "version_major": 2,
       "version_minor": 0
      },
      "text/plain": [
       "Epoch 156/500 [Train]:   0%|          | 0/28 [00:00<?, ?it/s]"
      ]
     },
     "metadata": {},
     "output_type": "display_data"
    },
    {
     "name": "stderr",
     "output_type": "stream",
     "text": [
      "2025-09-13 08:13:52,264 - INFO - Epoch 156/500 | Validation Acc: 0.9271\n",
      "2025-09-13 08:13:52,339 - INFO - New best baseline model saved with acc: 0.9271\n"
     ]
    },
    {
     "data": {
      "application/vnd.jupyter.widget-view+json": {
       "model_id": "ebeefa4cd573487aa536016483b4487e",
       "version_major": 2,
       "version_minor": 0
      },
      "text/plain": [
       "Epoch 157/500 [Train]:   0%|          | 0/28 [00:00<?, ?it/s]"
      ]
     },
     "metadata": {},
     "output_type": "display_data"
    },
    {
     "name": "stderr",
     "output_type": "stream",
     "text": [
      "2025-09-13 08:13:56,965 - INFO - Epoch 157/500 | Validation Acc: 0.9219\n"
     ]
    },
    {
     "data": {
      "application/vnd.jupyter.widget-view+json": {
       "model_id": "95a923f74b05454b8ca361c49d3500cc",
       "version_major": 2,
       "version_minor": 0
      },
      "text/plain": [
       "Epoch 158/500 [Train]:   0%|          | 0/28 [00:00<?, ?it/s]"
      ]
     },
     "metadata": {},
     "output_type": "display_data"
    },
    {
     "name": "stderr",
     "output_type": "stream",
     "text": [
      "2025-09-13 08:14:01,641 - INFO - Epoch 158/500 | Validation Acc: 0.9271\n"
     ]
    },
    {
     "data": {
      "application/vnd.jupyter.widget-view+json": {
       "model_id": "6198bcc67cf14d0fa64366008deeeed3",
       "version_major": 2,
       "version_minor": 0
      },
      "text/plain": [
       "Epoch 159/500 [Train]:   0%|          | 0/28 [00:00<?, ?it/s]"
      ]
     },
     "metadata": {},
     "output_type": "display_data"
    },
    {
     "name": "stderr",
     "output_type": "stream",
     "text": [
      "2025-09-13 08:14:06,316 - INFO - Epoch 159/500 | Validation Acc: 0.9167\n"
     ]
    },
    {
     "data": {
      "application/vnd.jupyter.widget-view+json": {
       "model_id": "cbeb35324a134de3940b6a063fe2b160",
       "version_major": 2,
       "version_minor": 0
      },
      "text/plain": [
       "Epoch 160/500 [Train]:   0%|          | 0/28 [00:00<?, ?it/s]"
      ]
     },
     "metadata": {},
     "output_type": "display_data"
    },
    {
     "name": "stderr",
     "output_type": "stream",
     "text": [
      "2025-09-13 08:14:10,991 - INFO - Epoch 160/500 | Validation Acc: 0.9323\n",
      "2025-09-13 08:14:11,057 - INFO - New best baseline model saved with acc: 0.9323\n"
     ]
    },
    {
     "data": {
      "application/vnd.jupyter.widget-view+json": {
       "model_id": "03d477dca2364332b93adba6b0034979",
       "version_major": 2,
       "version_minor": 0
      },
      "text/plain": [
       "Epoch 161/500 [Train]:   0%|          | 0/28 [00:00<?, ?it/s]"
      ]
     },
     "metadata": {},
     "output_type": "display_data"
    },
    {
     "name": "stderr",
     "output_type": "stream",
     "text": [
      "2025-09-13 08:14:15,787 - INFO - Epoch 161/500 | Validation Acc: 0.9323\n"
     ]
    },
    {
     "data": {
      "application/vnd.jupyter.widget-view+json": {
       "model_id": "caaf5c2e37e047d8abfae968b13eae9f",
       "version_major": 2,
       "version_minor": 0
      },
      "text/plain": [
       "Epoch 162/500 [Train]:   0%|          | 0/28 [00:00<?, ?it/s]"
      ]
     },
     "metadata": {},
     "output_type": "display_data"
    },
    {
     "name": "stderr",
     "output_type": "stream",
     "text": [
      "2025-09-13 08:14:20,530 - INFO - Epoch 162/500 | Validation Acc: 0.9271\n"
     ]
    },
    {
     "data": {
      "application/vnd.jupyter.widget-view+json": {
       "model_id": "cf334100ffb54f59ab4a0ed8ecf9259f",
       "version_major": 2,
       "version_minor": 0
      },
      "text/plain": [
       "Epoch 163/500 [Train]:   0%|          | 0/28 [00:00<?, ?it/s]"
      ]
     },
     "metadata": {},
     "output_type": "display_data"
    },
    {
     "name": "stderr",
     "output_type": "stream",
     "text": [
      "2025-09-13 08:14:25,211 - INFO - Epoch 163/500 | Validation Acc: 0.9271\n"
     ]
    },
    {
     "data": {
      "application/vnd.jupyter.widget-view+json": {
       "model_id": "2c8b1949670749d4ab84c485d67c9ae6",
       "version_major": 2,
       "version_minor": 0
      },
      "text/plain": [
       "Epoch 164/500 [Train]:   0%|          | 0/28 [00:00<?, ?it/s]"
      ]
     },
     "metadata": {},
     "output_type": "display_data"
    },
    {
     "name": "stderr",
     "output_type": "stream",
     "text": [
      "2025-09-13 08:14:29,897 - INFO - Epoch 164/500 | Validation Acc: 0.9115\n"
     ]
    },
    {
     "data": {
      "application/vnd.jupyter.widget-view+json": {
       "model_id": "421bee8e20334f4b9432c2c298da207f",
       "version_major": 2,
       "version_minor": 0
      },
      "text/plain": [
       "Epoch 165/500 [Train]:   0%|          | 0/28 [00:00<?, ?it/s]"
      ]
     },
     "metadata": {},
     "output_type": "display_data"
    },
    {
     "name": "stderr",
     "output_type": "stream",
     "text": [
      "2025-09-13 08:14:34,971 - INFO - Epoch 165/500 | Validation Acc: 0.9271\n"
     ]
    },
    {
     "data": {
      "application/vnd.jupyter.widget-view+json": {
       "model_id": "2d6f8f31d912491396dc870835a9208a",
       "version_major": 2,
       "version_minor": 0
      },
      "text/plain": [
       "Epoch 166/500 [Train]:   0%|          | 0/28 [00:00<?, ?it/s]"
      ]
     },
     "metadata": {},
     "output_type": "display_data"
    },
    {
     "name": "stderr",
     "output_type": "stream",
     "text": [
      "2025-09-13 08:14:39,835 - INFO - Epoch 166/500 | Validation Acc: 0.9062\n"
     ]
    },
    {
     "data": {
      "application/vnd.jupyter.widget-view+json": {
       "model_id": "002df44fa3e44cd7b3dfcaf138e23ec1",
       "version_major": 2,
       "version_minor": 0
      },
      "text/plain": [
       "Epoch 167/500 [Train]:   0%|          | 0/28 [00:00<?, ?it/s]"
      ]
     },
     "metadata": {},
     "output_type": "display_data"
    },
    {
     "name": "stderr",
     "output_type": "stream",
     "text": [
      "2025-09-13 08:14:44,721 - INFO - Epoch 167/500 | Validation Acc: 0.8854\n"
     ]
    },
    {
     "data": {
      "application/vnd.jupyter.widget-view+json": {
       "model_id": "15c9913ce2a44b5cbf744f4a2051da81",
       "version_major": 2,
       "version_minor": 0
      },
      "text/plain": [
       "Epoch 168/500 [Train]:   0%|          | 0/28 [00:00<?, ?it/s]"
      ]
     },
     "metadata": {},
     "output_type": "display_data"
    },
    {
     "name": "stderr",
     "output_type": "stream",
     "text": [
      "2025-09-13 08:14:49,507 - INFO - Epoch 168/500 | Validation Acc: 0.9375\n",
      "2025-09-13 08:14:49,585 - INFO - New best baseline model saved with acc: 0.9375\n"
     ]
    },
    {
     "data": {
      "application/vnd.jupyter.widget-view+json": {
       "model_id": "9c3acfc8814a44b9ab85878febda6dae",
       "version_major": 2,
       "version_minor": 0
      },
      "text/plain": [
       "Epoch 169/500 [Train]:   0%|          | 0/28 [00:00<?, ?it/s]"
      ]
     },
     "metadata": {},
     "output_type": "display_data"
    },
    {
     "name": "stderr",
     "output_type": "stream",
     "text": [
      "2025-09-13 08:14:54,349 - INFO - Epoch 169/500 | Validation Acc: 0.9271\n"
     ]
    },
    {
     "data": {
      "application/vnd.jupyter.widget-view+json": {
       "model_id": "7fbc68745d9d49f1a62e3c239ed8fdcd",
       "version_major": 2,
       "version_minor": 0
      },
      "text/plain": [
       "Epoch 170/500 [Train]:   0%|          | 0/28 [00:00<?, ?it/s]"
      ]
     },
     "metadata": {},
     "output_type": "display_data"
    },
    {
     "name": "stderr",
     "output_type": "stream",
     "text": [
      "2025-09-13 08:14:59,116 - INFO - Epoch 170/500 | Validation Acc: 0.9219\n"
     ]
    },
    {
     "data": {
      "application/vnd.jupyter.widget-view+json": {
       "model_id": "ca92010fa070440f9ca89d12f8e4c0c6",
       "version_major": 2,
       "version_minor": 0
      },
      "text/plain": [
       "Epoch 171/500 [Train]:   0%|          | 0/28 [00:00<?, ?it/s]"
      ]
     },
     "metadata": {},
     "output_type": "display_data"
    },
    {
     "name": "stderr",
     "output_type": "stream",
     "text": [
      "2025-09-13 08:15:03,880 - INFO - Epoch 171/500 | Validation Acc: 0.8385\n"
     ]
    },
    {
     "data": {
      "application/vnd.jupyter.widget-view+json": {
       "model_id": "21a6f167a76d4bce92877f8144fd5b53",
       "version_major": 2,
       "version_minor": 0
      },
      "text/plain": [
       "Epoch 172/500 [Train]:   0%|          | 0/28 [00:00<?, ?it/s]"
      ]
     },
     "metadata": {},
     "output_type": "display_data"
    },
    {
     "name": "stderr",
     "output_type": "stream",
     "text": [
      "2025-09-13 08:15:08,606 - INFO - Epoch 172/500 | Validation Acc: 0.7865\n"
     ]
    },
    {
     "data": {
      "application/vnd.jupyter.widget-view+json": {
       "model_id": "1dbd7c2d83184f8392a0163a4765a51d",
       "version_major": 2,
       "version_minor": 0
      },
      "text/plain": [
       "Epoch 173/500 [Train]:   0%|          | 0/28 [00:00<?, ?it/s]"
      ]
     },
     "metadata": {},
     "output_type": "display_data"
    },
    {
     "name": "stderr",
     "output_type": "stream",
     "text": [
      "2025-09-13 08:15:13,309 - INFO - Epoch 173/500 | Validation Acc: 0.9062\n"
     ]
    },
    {
     "data": {
      "application/vnd.jupyter.widget-view+json": {
       "model_id": "f5b28009509a4d26b54dfef2ffdffe8b",
       "version_major": 2,
       "version_minor": 0
      },
      "text/plain": [
       "Epoch 174/500 [Train]:   0%|          | 0/28 [00:00<?, ?it/s]"
      ]
     },
     "metadata": {},
     "output_type": "display_data"
    },
    {
     "name": "stderr",
     "output_type": "stream",
     "text": [
      "2025-09-13 08:15:18,021 - INFO - Epoch 174/500 | Validation Acc: 0.8750\n"
     ]
    },
    {
     "data": {
      "application/vnd.jupyter.widget-view+json": {
       "model_id": "4cc85607961e4b379c00dcf5cbbbe2fe",
       "version_major": 2,
       "version_minor": 0
      },
      "text/plain": [
       "Epoch 175/500 [Train]:   0%|          | 0/28 [00:00<?, ?it/s]"
      ]
     },
     "metadata": {},
     "output_type": "display_data"
    },
    {
     "name": "stderr",
     "output_type": "stream",
     "text": [
      "2025-09-13 08:15:22,785 - INFO - Epoch 175/500 | Validation Acc: 0.9010\n"
     ]
    },
    {
     "data": {
      "application/vnd.jupyter.widget-view+json": {
       "model_id": "140941f64a5f4a24aab23a743b3550c6",
       "version_major": 2,
       "version_minor": 0
      },
      "text/plain": [
       "Epoch 176/500 [Train]:   0%|          | 0/28 [00:00<?, ?it/s]"
      ]
     },
     "metadata": {},
     "output_type": "display_data"
    },
    {
     "name": "stderr",
     "output_type": "stream",
     "text": [
      "2025-09-13 08:15:27,512 - INFO - Epoch 176/500 | Validation Acc: 0.8542\n"
     ]
    },
    {
     "data": {
      "application/vnd.jupyter.widget-view+json": {
       "model_id": "28912f2107544b269551945900eb109d",
       "version_major": 2,
       "version_minor": 0
      },
      "text/plain": [
       "Epoch 177/500 [Train]:   0%|          | 0/28 [00:00<?, ?it/s]"
      ]
     },
     "metadata": {},
     "output_type": "display_data"
    },
    {
     "name": "stderr",
     "output_type": "stream",
     "text": [
      "2025-09-13 08:15:32,195 - INFO - Epoch 177/500 | Validation Acc: 0.8750\n"
     ]
    },
    {
     "data": {
      "application/vnd.jupyter.widget-view+json": {
       "model_id": "e7305186dfea4e828805fe7b52acfb4c",
       "version_major": 2,
       "version_minor": 0
      },
      "text/plain": [
       "Epoch 178/500 [Train]:   0%|          | 0/28 [00:00<?, ?it/s]"
      ]
     },
     "metadata": {},
     "output_type": "display_data"
    },
    {
     "name": "stderr",
     "output_type": "stream",
     "text": [
      "2025-09-13 08:15:36,954 - INFO - Epoch 178/500 | Validation Acc: 0.8854\n"
     ]
    },
    {
     "data": {
      "application/vnd.jupyter.widget-view+json": {
       "model_id": "96c4b9180d884d2589ae9cdc3890d3dd",
       "version_major": 2,
       "version_minor": 0
      },
      "text/plain": [
       "Epoch 179/500 [Train]:   0%|          | 0/28 [00:00<?, ?it/s]"
      ]
     },
     "metadata": {},
     "output_type": "display_data"
    },
    {
     "name": "stderr",
     "output_type": "stream",
     "text": [
      "2025-09-13 08:15:41,717 - INFO - Epoch 179/500 | Validation Acc: 0.8854\n"
     ]
    },
    {
     "data": {
      "application/vnd.jupyter.widget-view+json": {
       "model_id": "2d2e25bf092f4ceb841fc524c2a0ee7d",
       "version_major": 2,
       "version_minor": 0
      },
      "text/plain": [
       "Epoch 180/500 [Train]:   0%|          | 0/28 [00:00<?, ?it/s]"
      ]
     },
     "metadata": {},
     "output_type": "display_data"
    },
    {
     "name": "stderr",
     "output_type": "stream",
     "text": [
      "2025-09-13 08:15:46,551 - INFO - Epoch 180/500 | Validation Acc: 0.8958\n"
     ]
    },
    {
     "data": {
      "application/vnd.jupyter.widget-view+json": {
       "model_id": "d727c9dc1bff48d6bdc8fe0c8b479120",
       "version_major": 2,
       "version_minor": 0
      },
      "text/plain": [
       "Epoch 181/500 [Train]:   0%|          | 0/28 [00:00<?, ?it/s]"
      ]
     },
     "metadata": {},
     "output_type": "display_data"
    },
    {
     "name": "stderr",
     "output_type": "stream",
     "text": [
      "2025-09-13 08:15:51,342 - INFO - Epoch 181/500 | Validation Acc: 0.9115\n"
     ]
    },
    {
     "data": {
      "application/vnd.jupyter.widget-view+json": {
       "model_id": "fd3bc1901345403e848de436d7766f41",
       "version_major": 2,
       "version_minor": 0
      },
      "text/plain": [
       "Epoch 182/500 [Train]:   0%|          | 0/28 [00:00<?, ?it/s]"
      ]
     },
     "metadata": {},
     "output_type": "display_data"
    },
    {
     "name": "stderr",
     "output_type": "stream",
     "text": [
      "2025-09-13 08:15:55,985 - INFO - Epoch 182/500 | Validation Acc: 0.8958\n"
     ]
    },
    {
     "data": {
      "application/vnd.jupyter.widget-view+json": {
       "model_id": "492b807ffba8493f94fc6928c1ae2748",
       "version_major": 2,
       "version_minor": 0
      },
      "text/plain": [
       "Epoch 183/500 [Train]:   0%|          | 0/28 [00:00<?, ?it/s]"
      ]
     },
     "metadata": {},
     "output_type": "display_data"
    },
    {
     "name": "stderr",
     "output_type": "stream",
     "text": [
      "2025-09-13 08:16:00,594 - INFO - Epoch 183/500 | Validation Acc: 0.8958\n"
     ]
    },
    {
     "data": {
      "application/vnd.jupyter.widget-view+json": {
       "model_id": "4b896ae5a86842f585bc4493acc973db",
       "version_major": 2,
       "version_minor": 0
      },
      "text/plain": [
       "Epoch 184/500 [Train]:   0%|          | 0/28 [00:00<?, ?it/s]"
      ]
     },
     "metadata": {},
     "output_type": "display_data"
    },
    {
     "name": "stderr",
     "output_type": "stream",
     "text": [
      "2025-09-13 08:16:05,161 - INFO - Epoch 184/500 | Validation Acc: 0.7969\n"
     ]
    },
    {
     "data": {
      "application/vnd.jupyter.widget-view+json": {
       "model_id": "f8c31fc56f254cecbf1c61e37bc890ac",
       "version_major": 2,
       "version_minor": 0
      },
      "text/plain": [
       "Epoch 185/500 [Train]:   0%|          | 0/28 [00:00<?, ?it/s]"
      ]
     },
     "metadata": {},
     "output_type": "display_data"
    },
    {
     "name": "stderr",
     "output_type": "stream",
     "text": [
      "2025-09-13 08:16:09,718 - INFO - Epoch 185/500 | Validation Acc: 0.8594\n"
     ]
    },
    {
     "data": {
      "application/vnd.jupyter.widget-view+json": {
       "model_id": "91004c622b1342eda5531e9eaedbfd90",
       "version_major": 2,
       "version_minor": 0
      },
      "text/plain": [
       "Epoch 186/500 [Train]:   0%|          | 0/28 [00:00<?, ?it/s]"
      ]
     },
     "metadata": {},
     "output_type": "display_data"
    },
    {
     "name": "stderr",
     "output_type": "stream",
     "text": [
      "2025-09-13 08:16:14,305 - INFO - Epoch 186/500 | Validation Acc: 0.8698\n"
     ]
    },
    {
     "data": {
      "application/vnd.jupyter.widget-view+json": {
       "model_id": "cd36b53afe884633bd0b64a59ddd854b",
       "version_major": 2,
       "version_minor": 0
      },
      "text/plain": [
       "Epoch 187/500 [Train]:   0%|          | 0/28 [00:00<?, ?it/s]"
      ]
     },
     "metadata": {},
     "output_type": "display_data"
    },
    {
     "name": "stderr",
     "output_type": "stream",
     "text": [
      "2025-09-13 08:16:18,866 - INFO - Epoch 187/500 | Validation Acc: 0.8594\n"
     ]
    },
    {
     "data": {
      "application/vnd.jupyter.widget-view+json": {
       "model_id": "956f9e8f3b0946cb874e25f879fed3af",
       "version_major": 2,
       "version_minor": 0
      },
      "text/plain": [
       "Epoch 188/500 [Train]:   0%|          | 0/28 [00:00<?, ?it/s]"
      ]
     },
     "metadata": {},
     "output_type": "display_data"
    },
    {
     "name": "stderr",
     "output_type": "stream",
     "text": [
      "2025-09-13 08:16:23,427 - INFO - Epoch 188/500 | Validation Acc: 0.9115\n"
     ]
    },
    {
     "data": {
      "application/vnd.jupyter.widget-view+json": {
       "model_id": "5a3b9d4390224c0fbf78b42a70cb8a87",
       "version_major": 2,
       "version_minor": 0
      },
      "text/plain": [
       "Epoch 189/500 [Train]:   0%|          | 0/28 [00:00<?, ?it/s]"
      ]
     },
     "metadata": {},
     "output_type": "display_data"
    },
    {
     "name": "stderr",
     "output_type": "stream",
     "text": [
      "2025-09-13 08:16:27,965 - INFO - Epoch 189/500 | Validation Acc: 0.9167\n"
     ]
    },
    {
     "data": {
      "application/vnd.jupyter.widget-view+json": {
       "model_id": "14c85d8732c647029039538095455245",
       "version_major": 2,
       "version_minor": 0
      },
      "text/plain": [
       "Epoch 190/500 [Train]:   0%|          | 0/28 [00:00<?, ?it/s]"
      ]
     },
     "metadata": {},
     "output_type": "display_data"
    },
    {
     "name": "stderr",
     "output_type": "stream",
     "text": [
      "2025-09-13 08:16:32,509 - INFO - Epoch 190/500 | Validation Acc: 0.9062\n"
     ]
    },
    {
     "data": {
      "application/vnd.jupyter.widget-view+json": {
       "model_id": "1916561153c64b239604297aee1dd9ca",
       "version_major": 2,
       "version_minor": 0
      },
      "text/plain": [
       "Epoch 191/500 [Train]:   0%|          | 0/28 [00:00<?, ?it/s]"
      ]
     },
     "metadata": {},
     "output_type": "display_data"
    },
    {
     "name": "stderr",
     "output_type": "stream",
     "text": [
      "2025-09-13 08:16:37,072 - INFO - Epoch 191/500 | Validation Acc: 0.8906\n"
     ]
    },
    {
     "data": {
      "application/vnd.jupyter.widget-view+json": {
       "model_id": "f8401ab15b3648cfbddcfd4b1caa14ac",
       "version_major": 2,
       "version_minor": 0
      },
      "text/plain": [
       "Epoch 192/500 [Train]:   0%|          | 0/28 [00:00<?, ?it/s]"
      ]
     },
     "metadata": {},
     "output_type": "display_data"
    },
    {
     "name": "stderr",
     "output_type": "stream",
     "text": [
      "2025-09-13 08:16:41,638 - INFO - Epoch 192/500 | Validation Acc: 0.8750\n"
     ]
    },
    {
     "data": {
      "application/vnd.jupyter.widget-view+json": {
       "model_id": "fe20fcf0e8e1485e81fb030549bd5500",
       "version_major": 2,
       "version_minor": 0
      },
      "text/plain": [
       "Epoch 193/500 [Train]:   0%|          | 0/28 [00:00<?, ?it/s]"
      ]
     },
     "metadata": {},
     "output_type": "display_data"
    },
    {
     "name": "stderr",
     "output_type": "stream",
     "text": [
      "2025-09-13 08:16:46,230 - INFO - Epoch 193/500 | Validation Acc: 0.8958\n"
     ]
    },
    {
     "data": {
      "application/vnd.jupyter.widget-view+json": {
       "model_id": "808e9279e8ec40d1b6fad77c17ba9426",
       "version_major": 2,
       "version_minor": 0
      },
      "text/plain": [
       "Epoch 194/500 [Train]:   0%|          | 0/28 [00:00<?, ?it/s]"
      ]
     },
     "metadata": {},
     "output_type": "display_data"
    },
    {
     "name": "stderr",
     "output_type": "stream",
     "text": [
      "2025-09-13 08:16:50,786 - INFO - Epoch 194/500 | Validation Acc: 0.8333\n"
     ]
    },
    {
     "data": {
      "application/vnd.jupyter.widget-view+json": {
       "model_id": "9c9e2e27ba80470d8f056a548b50ef2e",
       "version_major": 2,
       "version_minor": 0
      },
      "text/plain": [
       "Epoch 195/500 [Train]:   0%|          | 0/28 [00:00<?, ?it/s]"
      ]
     },
     "metadata": {},
     "output_type": "display_data"
    },
    {
     "name": "stderr",
     "output_type": "stream",
     "text": [
      "2025-09-13 08:16:55,363 - INFO - Epoch 195/500 | Validation Acc: 0.8646\n"
     ]
    },
    {
     "data": {
      "application/vnd.jupyter.widget-view+json": {
       "model_id": "219476f04702411eb532b89f7a06883a",
       "version_major": 2,
       "version_minor": 0
      },
      "text/plain": [
       "Epoch 196/500 [Train]:   0%|          | 0/28 [00:00<?, ?it/s]"
      ]
     },
     "metadata": {},
     "output_type": "display_data"
    },
    {
     "name": "stderr",
     "output_type": "stream",
     "text": [
      "2025-09-13 08:16:59,940 - INFO - Epoch 196/500 | Validation Acc: 0.8750\n"
     ]
    },
    {
     "data": {
      "application/vnd.jupyter.widget-view+json": {
       "model_id": "1c5b8d21a84e4c4a9fa36629c466f591",
       "version_major": 2,
       "version_minor": 0
      },
      "text/plain": [
       "Epoch 197/500 [Train]:   0%|          | 0/28 [00:00<?, ?it/s]"
      ]
     },
     "metadata": {},
     "output_type": "display_data"
    },
    {
     "name": "stderr",
     "output_type": "stream",
     "text": [
      "2025-09-13 08:17:04,492 - INFO - Epoch 197/500 | Validation Acc: 0.9271\n"
     ]
    },
    {
     "data": {
      "application/vnd.jupyter.widget-view+json": {
       "model_id": "548b9bf479644ceba4b53b118c995042",
       "version_major": 2,
       "version_minor": 0
      },
      "text/plain": [
       "Epoch 198/500 [Train]:   0%|          | 0/28 [00:00<?, ?it/s]"
      ]
     },
     "metadata": {},
     "output_type": "display_data"
    },
    {
     "name": "stderr",
     "output_type": "stream",
     "text": [
      "2025-09-13 08:17:09,034 - INFO - Epoch 198/500 | Validation Acc: 0.9010\n"
     ]
    },
    {
     "data": {
      "application/vnd.jupyter.widget-view+json": {
       "model_id": "e4e649a874b442ff9bbb537b32aaf4d0",
       "version_major": 2,
       "version_minor": 0
      },
      "text/plain": [
       "Epoch 199/500 [Train]:   0%|          | 0/28 [00:00<?, ?it/s]"
      ]
     },
     "metadata": {},
     "output_type": "display_data"
    },
    {
     "name": "stderr",
     "output_type": "stream",
     "text": [
      "2025-09-13 08:17:13,586 - INFO - Epoch 199/500 | Validation Acc: 0.8958\n"
     ]
    },
    {
     "data": {
      "application/vnd.jupyter.widget-view+json": {
       "model_id": "49b5857337584dffbe45b0da5df12a6e",
       "version_major": 2,
       "version_minor": 0
      },
      "text/plain": [
       "Epoch 200/500 [Train]:   0%|          | 0/28 [00:00<?, ?it/s]"
      ]
     },
     "metadata": {},
     "output_type": "display_data"
    },
    {
     "name": "stderr",
     "output_type": "stream",
     "text": [
      "2025-09-13 08:17:18,182 - INFO - Epoch 200/500 | Validation Acc: 0.9062\n"
     ]
    },
    {
     "data": {
      "application/vnd.jupyter.widget-view+json": {
       "model_id": "e79483eed84a4b69a156a0a2f68ec5e8",
       "version_major": 2,
       "version_minor": 0
      },
      "text/plain": [
       "Epoch 201/500 [Train]:   0%|          | 0/28 [00:00<?, ?it/s]"
      ]
     },
     "metadata": {},
     "output_type": "display_data"
    },
    {
     "name": "stderr",
     "output_type": "stream",
     "text": [
      "2025-09-13 08:17:22,905 - INFO - Epoch 201/500 | Validation Acc: 0.9115\n"
     ]
    },
    {
     "data": {
      "application/vnd.jupyter.widget-view+json": {
       "model_id": "7c4f5c93c0ed4840857984689cf9309b",
       "version_major": 2,
       "version_minor": 0
      },
      "text/plain": [
       "Epoch 202/500 [Train]:   0%|          | 0/28 [00:00<?, ?it/s]"
      ]
     },
     "metadata": {},
     "output_type": "display_data"
    },
    {
     "name": "stderr",
     "output_type": "stream",
     "text": [
      "2025-09-13 08:17:27,693 - INFO - Epoch 202/500 | Validation Acc: 0.8750\n"
     ]
    },
    {
     "data": {
      "application/vnd.jupyter.widget-view+json": {
       "model_id": "9c0430e745ed4bdd988825e2f2fbf0b5",
       "version_major": 2,
       "version_minor": 0
      },
      "text/plain": [
       "Epoch 203/500 [Train]:   0%|          | 0/28 [00:00<?, ?it/s]"
      ]
     },
     "metadata": {},
     "output_type": "display_data"
    },
    {
     "name": "stderr",
     "output_type": "stream",
     "text": [
      "2025-09-13 08:17:32,499 - INFO - Epoch 203/500 | Validation Acc: 0.8802\n"
     ]
    },
    {
     "data": {
      "application/vnd.jupyter.widget-view+json": {
       "model_id": "79032c0d676b4db8a1224f60898c6726",
       "version_major": 2,
       "version_minor": 0
      },
      "text/plain": [
       "Epoch 204/500 [Train]:   0%|          | 0/28 [00:00<?, ?it/s]"
      ]
     },
     "metadata": {},
     "output_type": "display_data"
    },
    {
     "name": "stderr",
     "output_type": "stream",
     "text": [
      "2025-09-13 08:17:37,239 - INFO - Epoch 204/500 | Validation Acc: 0.8594\n"
     ]
    },
    {
     "data": {
      "application/vnd.jupyter.widget-view+json": {
       "model_id": "a3484ffc2aa742a9baab78986b518802",
       "version_major": 2,
       "version_minor": 0
      },
      "text/plain": [
       "Epoch 205/500 [Train]:   0%|          | 0/28 [00:00<?, ?it/s]"
      ]
     },
     "metadata": {},
     "output_type": "display_data"
    },
    {
     "name": "stderr",
     "output_type": "stream",
     "text": [
      "2025-09-13 08:17:41,979 - INFO - Epoch 205/500 | Validation Acc: 0.8802\n"
     ]
    },
    {
     "data": {
      "application/vnd.jupyter.widget-view+json": {
       "model_id": "a1b4f8326ff24fbcac271edac127d73b",
       "version_major": 2,
       "version_minor": 0
      },
      "text/plain": [
       "Epoch 206/500 [Train]:   0%|          | 0/28 [00:00<?, ?it/s]"
      ]
     },
     "metadata": {},
     "output_type": "display_data"
    },
    {
     "name": "stderr",
     "output_type": "stream",
     "text": [
      "2025-09-13 08:17:46,718 - INFO - Epoch 206/500 | Validation Acc: 0.8698\n"
     ]
    },
    {
     "data": {
      "application/vnd.jupyter.widget-view+json": {
       "model_id": "b13bf4aea8324e03a314d772a7b9da71",
       "version_major": 2,
       "version_minor": 0
      },
      "text/plain": [
       "Epoch 207/500 [Train]:   0%|          | 0/28 [00:00<?, ?it/s]"
      ]
     },
     "metadata": {},
     "output_type": "display_data"
    },
    {
     "name": "stderr",
     "output_type": "stream",
     "text": [
      "2025-09-13 08:17:51,520 - INFO - Epoch 207/500 | Validation Acc: 0.9167\n"
     ]
    },
    {
     "data": {
      "application/vnd.jupyter.widget-view+json": {
       "model_id": "ff5192610cd544c1bcff752717d6b900",
       "version_major": 2,
       "version_minor": 0
      },
      "text/plain": [
       "Epoch 208/500 [Train]:   0%|          | 0/28 [00:00<?, ?it/s]"
      ]
     },
     "metadata": {},
     "output_type": "display_data"
    },
    {
     "name": "stderr",
     "output_type": "stream",
     "text": [
      "2025-09-13 08:17:56,277 - INFO - Epoch 208/500 | Validation Acc: 0.8958\n"
     ]
    },
    {
     "data": {
      "application/vnd.jupyter.widget-view+json": {
       "model_id": "d681bdfa8d1140c4a6dcbd880b68f26e",
       "version_major": 2,
       "version_minor": 0
      },
      "text/plain": [
       "Epoch 209/500 [Train]:   0%|          | 0/28 [00:00<?, ?it/s]"
      ]
     },
     "metadata": {},
     "output_type": "display_data"
    },
    {
     "name": "stderr",
     "output_type": "stream",
     "text": [
      "2025-09-13 08:18:01,000 - INFO - Epoch 209/500 | Validation Acc: 0.8698\n"
     ]
    },
    {
     "data": {
      "application/vnd.jupyter.widget-view+json": {
       "model_id": "75a5224f7d914fc4ba048a666875dae1",
       "version_major": 2,
       "version_minor": 0
      },
      "text/plain": [
       "Epoch 210/500 [Train]:   0%|          | 0/28 [00:00<?, ?it/s]"
      ]
     },
     "metadata": {},
     "output_type": "display_data"
    },
    {
     "name": "stderr",
     "output_type": "stream",
     "text": [
      "2025-09-13 08:18:06,201 - INFO - Epoch 210/500 | Validation Acc: 0.9062\n"
     ]
    },
    {
     "data": {
      "application/vnd.jupyter.widget-view+json": {
       "model_id": "b47a94a3c82e43419893a68f450f5807",
       "version_major": 2,
       "version_minor": 0
      },
      "text/plain": [
       "Epoch 211/500 [Train]:   0%|          | 0/28 [00:00<?, ?it/s]"
      ]
     },
     "metadata": {},
     "output_type": "display_data"
    },
    {
     "name": "stderr",
     "output_type": "stream",
     "text": [
      "2025-09-13 08:18:10,910 - INFO - Epoch 211/500 | Validation Acc: 0.9167\n"
     ]
    },
    {
     "data": {
      "application/vnd.jupyter.widget-view+json": {
       "model_id": "35cddadfa63b4056bfd258eca4629559",
       "version_major": 2,
       "version_minor": 0
      },
      "text/plain": [
       "Epoch 212/500 [Train]:   0%|          | 0/28 [00:00<?, ?it/s]"
      ]
     },
     "metadata": {},
     "output_type": "display_data"
    },
    {
     "name": "stderr",
     "output_type": "stream",
     "text": [
      "2025-09-13 08:18:15,801 - INFO - Epoch 212/500 | Validation Acc: 0.9115\n"
     ]
    },
    {
     "data": {
      "application/vnd.jupyter.widget-view+json": {
       "model_id": "a1406dd58d714ea394095b9eb28fb0a3",
       "version_major": 2,
       "version_minor": 0
      },
      "text/plain": [
       "Epoch 213/500 [Train]:   0%|          | 0/28 [00:00<?, ?it/s]"
      ]
     },
     "metadata": {},
     "output_type": "display_data"
    },
    {
     "name": "stderr",
     "output_type": "stream",
     "text": [
      "2025-09-13 08:18:20,609 - INFO - Epoch 213/500 | Validation Acc: 0.9062\n"
     ]
    },
    {
     "data": {
      "application/vnd.jupyter.widget-view+json": {
       "model_id": "23fd5aad3b2f4b13be6edfb1cf1fae0e",
       "version_major": 2,
       "version_minor": 0
      },
      "text/plain": [
       "Epoch 214/500 [Train]:   0%|          | 0/28 [00:00<?, ?it/s]"
      ]
     },
     "metadata": {},
     "output_type": "display_data"
    },
    {
     "name": "stderr",
     "output_type": "stream",
     "text": [
      "2025-09-13 08:18:25,400 - INFO - Epoch 214/500 | Validation Acc: 0.8750\n"
     ]
    },
    {
     "data": {
      "application/vnd.jupyter.widget-view+json": {
       "model_id": "2f1db987c00a44749d85bda8b6a61c18",
       "version_major": 2,
       "version_minor": 0
      },
      "text/plain": [
       "Epoch 215/500 [Train]:   0%|          | 0/28 [00:00<?, ?it/s]"
      ]
     },
     "metadata": {},
     "output_type": "display_data"
    },
    {
     "name": "stderr",
     "output_type": "stream",
     "text": [
      "2025-09-13 08:18:30,160 - INFO - Epoch 215/500 | Validation Acc: 0.8906\n"
     ]
    },
    {
     "data": {
      "application/vnd.jupyter.widget-view+json": {
       "model_id": "d0f8210ec3fa4e83b425b7360c5e39d5",
       "version_major": 2,
       "version_minor": 0
      },
      "text/plain": [
       "Epoch 216/500 [Train]:   0%|          | 0/28 [00:00<?, ?it/s]"
      ]
     },
     "metadata": {},
     "output_type": "display_data"
    },
    {
     "name": "stderr",
     "output_type": "stream",
     "text": [
      "2025-09-13 08:18:34,972 - INFO - Epoch 216/500 | Validation Acc: 0.8438\n"
     ]
    },
    {
     "data": {
      "application/vnd.jupyter.widget-view+json": {
       "model_id": "5a0292c2259b44ba9aec7426a868aabb",
       "version_major": 2,
       "version_minor": 0
      },
      "text/plain": [
       "Epoch 217/500 [Train]:   0%|          | 0/28 [00:00<?, ?it/s]"
      ]
     },
     "metadata": {},
     "output_type": "display_data"
    },
    {
     "name": "stderr",
     "output_type": "stream",
     "text": [
      "2025-09-13 08:18:39,674 - INFO - Epoch 217/500 | Validation Acc: 0.9115\n"
     ]
    },
    {
     "data": {
      "application/vnd.jupyter.widget-view+json": {
       "model_id": "c854286c1b9c43a8bdef99ea5b15d866",
       "version_major": 2,
       "version_minor": 0
      },
      "text/plain": [
       "Epoch 218/500 [Train]:   0%|          | 0/28 [00:00<?, ?it/s]"
      ]
     },
     "metadata": {},
     "output_type": "display_data"
    },
    {
     "name": "stderr",
     "output_type": "stream",
     "text": [
      "2025-09-13 08:18:44,513 - INFO - Epoch 218/500 | Validation Acc: 0.8750\n"
     ]
    },
    {
     "data": {
      "application/vnd.jupyter.widget-view+json": {
       "model_id": "2f933754eac64cadb40e420a0fe60210",
       "version_major": 2,
       "version_minor": 0
      },
      "text/plain": [
       "Epoch 219/500 [Train]:   0%|          | 0/28 [00:00<?, ?it/s]"
      ]
     },
     "metadata": {},
     "output_type": "display_data"
    },
    {
     "name": "stderr",
     "output_type": "stream",
     "text": [
      "2025-09-13 08:18:49,205 - INFO - Epoch 219/500 | Validation Acc: 0.8594\n"
     ]
    },
    {
     "data": {
      "application/vnd.jupyter.widget-view+json": {
       "model_id": "545d987bb8084187b20aa64f3b0c830c",
       "version_major": 2,
       "version_minor": 0
      },
      "text/plain": [
       "Epoch 220/500 [Train]:   0%|          | 0/28 [00:00<?, ?it/s]"
      ]
     },
     "metadata": {},
     "output_type": "display_data"
    },
    {
     "name": "stderr",
     "output_type": "stream",
     "text": [
      "2025-09-13 08:18:54,034 - INFO - Epoch 220/500 | Validation Acc: 0.9062\n"
     ]
    },
    {
     "data": {
      "application/vnd.jupyter.widget-view+json": {
       "model_id": "a08fbbf5347f46feb2384f568bcf94a4",
       "version_major": 2,
       "version_minor": 0
      },
      "text/plain": [
       "Epoch 221/500 [Train]:   0%|          | 0/28 [00:00<?, ?it/s]"
      ]
     },
     "metadata": {},
     "output_type": "display_data"
    },
    {
     "name": "stderr",
     "output_type": "stream",
     "text": [
      "2025-09-13 08:18:58,836 - INFO - Epoch 221/500 | Validation Acc: 0.8385\n"
     ]
    },
    {
     "data": {
      "application/vnd.jupyter.widget-view+json": {
       "model_id": "ac98f1177def42ceb52cb98703207a0a",
       "version_major": 2,
       "version_minor": 0
      },
      "text/plain": [
       "Epoch 222/500 [Train]:   0%|          | 0/28 [00:00<?, ?it/s]"
      ]
     },
     "metadata": {},
     "output_type": "display_data"
    },
    {
     "name": "stderr",
     "output_type": "stream",
     "text": [
      "2025-09-13 08:19:03,679 - INFO - Epoch 222/500 | Validation Acc: 0.8646\n"
     ]
    },
    {
     "data": {
      "application/vnd.jupyter.widget-view+json": {
       "model_id": "cecc2f49d34943cc872659586ab0df01",
       "version_major": 2,
       "version_minor": 0
      },
      "text/plain": [
       "Epoch 223/500 [Train]:   0%|          | 0/28 [00:00<?, ?it/s]"
      ]
     },
     "metadata": {},
     "output_type": "display_data"
    },
    {
     "name": "stderr",
     "output_type": "stream",
     "text": [
      "2025-09-13 08:19:08,635 - INFO - Epoch 223/500 | Validation Acc: 0.8854\n"
     ]
    },
    {
     "data": {
      "application/vnd.jupyter.widget-view+json": {
       "model_id": "979be0ec45104371b3293c0888081cde",
       "version_major": 2,
       "version_minor": 0
      },
      "text/plain": [
       "Epoch 224/500 [Train]:   0%|          | 0/28 [00:00<?, ?it/s]"
      ]
     },
     "metadata": {},
     "output_type": "display_data"
    },
    {
     "name": "stderr",
     "output_type": "stream",
     "text": [
      "2025-09-13 08:19:13,558 - INFO - Epoch 224/500 | Validation Acc: 0.9115\n"
     ]
    },
    {
     "data": {
      "application/vnd.jupyter.widget-view+json": {
       "model_id": "c2137ea99ad147a5898c27ded3f01fc4",
       "version_major": 2,
       "version_minor": 0
      },
      "text/plain": [
       "Epoch 225/500 [Train]:   0%|          | 0/28 [00:00<?, ?it/s]"
      ]
     },
     "metadata": {},
     "output_type": "display_data"
    },
    {
     "name": "stderr",
     "output_type": "stream",
     "text": [
      "2025-09-13 08:19:18,539 - INFO - Epoch 225/500 | Validation Acc: 0.9062\n"
     ]
    },
    {
     "data": {
      "application/vnd.jupyter.widget-view+json": {
       "model_id": "2c52bec110a1455088e521313b587774",
       "version_major": 2,
       "version_minor": 0
      },
      "text/plain": [
       "Epoch 226/500 [Train]:   0%|          | 0/28 [00:00<?, ?it/s]"
      ]
     },
     "metadata": {},
     "output_type": "display_data"
    },
    {
     "name": "stderr",
     "output_type": "stream",
     "text": [
      "2025-09-13 08:19:23,377 - INFO - Epoch 226/500 | Validation Acc: 0.9115\n"
     ]
    },
    {
     "data": {
      "application/vnd.jupyter.widget-view+json": {
       "model_id": "00b6d28158a34e558d86ceadd17ef926",
       "version_major": 2,
       "version_minor": 0
      },
      "text/plain": [
       "Epoch 227/500 [Train]:   0%|          | 0/28 [00:00<?, ?it/s]"
      ]
     },
     "metadata": {},
     "output_type": "display_data"
    },
    {
     "name": "stderr",
     "output_type": "stream",
     "text": [
      "2025-09-13 08:19:28,149 - INFO - Epoch 227/500 | Validation Acc: 0.8854\n"
     ]
    },
    {
     "data": {
      "application/vnd.jupyter.widget-view+json": {
       "model_id": "835c67252c7f4f5eb421ada84bebac02",
       "version_major": 2,
       "version_minor": 0
      },
      "text/plain": [
       "Epoch 228/500 [Train]:   0%|          | 0/28 [00:00<?, ?it/s]"
      ]
     },
     "metadata": {},
     "output_type": "display_data"
    },
    {
     "name": "stderr",
     "output_type": "stream",
     "text": [
      "2025-09-13 08:19:32,906 - INFO - Epoch 228/500 | Validation Acc: 0.8802\n"
     ]
    },
    {
     "data": {
      "application/vnd.jupyter.widget-view+json": {
       "model_id": "ecf61a167e5d45bbbe590b7972326e39",
       "version_major": 2,
       "version_minor": 0
      },
      "text/plain": [
       "Epoch 229/500 [Train]:   0%|          | 0/28 [00:00<?, ?it/s]"
      ]
     },
     "metadata": {},
     "output_type": "display_data"
    },
    {
     "name": "stderr",
     "output_type": "stream",
     "text": [
      "2025-09-13 08:19:37,659 - INFO - Epoch 229/500 | Validation Acc: 0.8385\n"
     ]
    },
    {
     "data": {
      "application/vnd.jupyter.widget-view+json": {
       "model_id": "4696d545ba954097a19c9d622ec089f5",
       "version_major": 2,
       "version_minor": 0
      },
      "text/plain": [
       "Epoch 230/500 [Train]:   0%|          | 0/28 [00:00<?, ?it/s]"
      ]
     },
     "metadata": {},
     "output_type": "display_data"
    },
    {
     "name": "stderr",
     "output_type": "stream",
     "text": [
      "2025-09-13 08:19:42,410 - INFO - Epoch 230/500 | Validation Acc: 0.9115\n"
     ]
    },
    {
     "data": {
      "application/vnd.jupyter.widget-view+json": {
       "model_id": "63af5f33707e467faf38d0fb2cc24afd",
       "version_major": 2,
       "version_minor": 0
      },
      "text/plain": [
       "Epoch 231/500 [Train]:   0%|          | 0/28 [00:00<?, ?it/s]"
      ]
     },
     "metadata": {},
     "output_type": "display_data"
    },
    {
     "name": "stderr",
     "output_type": "stream",
     "text": [
      "2025-09-13 08:19:47,209 - INFO - Epoch 231/500 | Validation Acc: 0.9115\n"
     ]
    },
    {
     "data": {
      "application/vnd.jupyter.widget-view+json": {
       "model_id": "bd4178e7d66e42f290610aee480e5fea",
       "version_major": 2,
       "version_minor": 0
      },
      "text/plain": [
       "Epoch 232/500 [Train]:   0%|          | 0/28 [00:00<?, ?it/s]"
      ]
     },
     "metadata": {},
     "output_type": "display_data"
    },
    {
     "name": "stderr",
     "output_type": "stream",
     "text": [
      "2025-09-13 08:19:52,033 - INFO - Epoch 232/500 | Validation Acc: 0.8958\n"
     ]
    },
    {
     "data": {
      "application/vnd.jupyter.widget-view+json": {
       "model_id": "4e87aaefb020466fb207940ab37f38c6",
       "version_major": 2,
       "version_minor": 0
      },
      "text/plain": [
       "Epoch 233/500 [Train]:   0%|          | 0/28 [00:00<?, ?it/s]"
      ]
     },
     "metadata": {},
     "output_type": "display_data"
    },
    {
     "name": "stderr",
     "output_type": "stream",
     "text": [
      "2025-09-13 08:19:56,794 - INFO - Epoch 233/500 | Validation Acc: 0.8906\n"
     ]
    },
    {
     "data": {
      "application/vnd.jupyter.widget-view+json": {
       "model_id": "fa237dd7c63b459e8d01bf28b37e9554",
       "version_major": 2,
       "version_minor": 0
      },
      "text/plain": [
       "Epoch 234/500 [Train]:   0%|          | 0/28 [00:00<?, ?it/s]"
      ]
     },
     "metadata": {},
     "output_type": "display_data"
    },
    {
     "name": "stderr",
     "output_type": "stream",
     "text": [
      "2025-09-13 08:20:01,634 - INFO - Epoch 234/500 | Validation Acc: 0.8854\n"
     ]
    },
    {
     "data": {
      "application/vnd.jupyter.widget-view+json": {
       "model_id": "5b1987e6687340a3804c9e154c9e73be",
       "version_major": 2,
       "version_minor": 0
      },
      "text/plain": [
       "Epoch 235/500 [Train]:   0%|          | 0/28 [00:00<?, ?it/s]"
      ]
     },
     "metadata": {},
     "output_type": "display_data"
    },
    {
     "name": "stderr",
     "output_type": "stream",
     "text": [
      "2025-09-13 08:20:06,475 - INFO - Epoch 235/500 | Validation Acc: 0.8177\n"
     ]
    },
    {
     "data": {
      "application/vnd.jupyter.widget-view+json": {
       "model_id": "90271c9dc92f4c73b2fa433bfc6cc5a1",
       "version_major": 2,
       "version_minor": 0
      },
      "text/plain": [
       "Epoch 236/500 [Train]:   0%|          | 0/28 [00:00<?, ?it/s]"
      ]
     },
     "metadata": {},
     "output_type": "display_data"
    },
    {
     "name": "stderr",
     "output_type": "stream",
     "text": [
      "2025-09-13 08:20:11,315 - INFO - Epoch 236/500 | Validation Acc: 0.8438\n"
     ]
    },
    {
     "data": {
      "application/vnd.jupyter.widget-view+json": {
       "model_id": "353a4634d681402d9ac374c6c1a02486",
       "version_major": 2,
       "version_minor": 0
      },
      "text/plain": [
       "Epoch 237/500 [Train]:   0%|          | 0/28 [00:00<?, ?it/s]"
      ]
     },
     "metadata": {},
     "output_type": "display_data"
    },
    {
     "name": "stderr",
     "output_type": "stream",
     "text": [
      "2025-09-13 08:20:16,140 - INFO - Epoch 237/500 | Validation Acc: 0.8854\n"
     ]
    },
    {
     "data": {
      "application/vnd.jupyter.widget-view+json": {
       "model_id": "bedebdf09c29473197d725c9060e522f",
       "version_major": 2,
       "version_minor": 0
      },
      "text/plain": [
       "Epoch 238/500 [Train]:   0%|          | 0/28 [00:00<?, ?it/s]"
      ]
     },
     "metadata": {},
     "output_type": "display_data"
    },
    {
     "name": "stderr",
     "output_type": "stream",
     "text": [
      "2025-09-13 08:20:20,934 - INFO - Epoch 238/500 | Validation Acc: 0.8385\n"
     ]
    },
    {
     "data": {
      "application/vnd.jupyter.widget-view+json": {
       "model_id": "23013b6f4f184c0eb83193225a554c38",
       "version_major": 2,
       "version_minor": 0
      },
      "text/plain": [
       "Epoch 239/500 [Train]:   0%|          | 0/28 [00:00<?, ?it/s]"
      ]
     },
     "metadata": {},
     "output_type": "display_data"
    },
    {
     "name": "stderr",
     "output_type": "stream",
     "text": [
      "2025-09-13 08:20:25,701 - INFO - Epoch 239/500 | Validation Acc: 0.8438\n"
     ]
    },
    {
     "data": {
      "application/vnd.jupyter.widget-view+json": {
       "model_id": "96aced9bc0df49fa94f7326bd135e1e4",
       "version_major": 2,
       "version_minor": 0
      },
      "text/plain": [
       "Epoch 240/500 [Train]:   0%|          | 0/28 [00:00<?, ?it/s]"
      ]
     },
     "metadata": {},
     "output_type": "display_data"
    },
    {
     "name": "stderr",
     "output_type": "stream",
     "text": [
      "2025-09-13 08:20:30,509 - INFO - Epoch 240/500 | Validation Acc: 0.8854\n"
     ]
    },
    {
     "data": {
      "application/vnd.jupyter.widget-view+json": {
       "model_id": "1c4a3bd4dd7a460799f4cf446f1ff0da",
       "version_major": 2,
       "version_minor": 0
      },
      "text/plain": [
       "Epoch 241/500 [Train]:   0%|          | 0/28 [00:00<?, ?it/s]"
      ]
     },
     "metadata": {},
     "output_type": "display_data"
    },
    {
     "name": "stderr",
     "output_type": "stream",
     "text": [
      "2025-09-13 08:20:35,356 - INFO - Epoch 241/500 | Validation Acc: 0.8594\n"
     ]
    },
    {
     "data": {
      "application/vnd.jupyter.widget-view+json": {
       "model_id": "bac8776ae7ca4b9ba1f45e1bf076791f",
       "version_major": 2,
       "version_minor": 0
      },
      "text/plain": [
       "Epoch 242/500 [Train]:   0%|          | 0/28 [00:00<?, ?it/s]"
      ]
     },
     "metadata": {},
     "output_type": "display_data"
    },
    {
     "name": "stderr",
     "output_type": "stream",
     "text": [
      "2025-09-13 08:20:40,198 - INFO - Epoch 242/500 | Validation Acc: 0.9115\n"
     ]
    },
    {
     "data": {
      "application/vnd.jupyter.widget-view+json": {
       "model_id": "9f302a9ebf13482c8378df0c3d4052f2",
       "version_major": 2,
       "version_minor": 0
      },
      "text/plain": [
       "Epoch 243/500 [Train]:   0%|          | 0/28 [00:00<?, ?it/s]"
      ]
     },
     "metadata": {},
     "output_type": "display_data"
    },
    {
     "name": "stderr",
     "output_type": "stream",
     "text": [
      "2025-09-13 08:20:45,134 - INFO - Epoch 243/500 | Validation Acc: 0.8854\n"
     ]
    },
    {
     "data": {
      "application/vnd.jupyter.widget-view+json": {
       "model_id": "164650f97bc84168a2192a7d13bc6c0b",
       "version_major": 2,
       "version_minor": 0
      },
      "text/plain": [
       "Epoch 244/500 [Train]:   0%|          | 0/28 [00:00<?, ?it/s]"
      ]
     },
     "metadata": {},
     "output_type": "display_data"
    },
    {
     "name": "stderr",
     "output_type": "stream",
     "text": [
      "2025-09-13 08:20:49,940 - INFO - Epoch 244/500 | Validation Acc: 0.8854\n"
     ]
    },
    {
     "data": {
      "application/vnd.jupyter.widget-view+json": {
       "model_id": "05eb42658d6048fea615c2ac4cdbbc86",
       "version_major": 2,
       "version_minor": 0
      },
      "text/plain": [
       "Epoch 245/500 [Train]:   0%|          | 0/28 [00:00<?, ?it/s]"
      ]
     },
     "metadata": {},
     "output_type": "display_data"
    },
    {
     "name": "stderr",
     "output_type": "stream",
     "text": [
      "2025-09-13 08:20:54,721 - INFO - Epoch 245/500 | Validation Acc: 0.8802\n"
     ]
    },
    {
     "data": {
      "application/vnd.jupyter.widget-view+json": {
       "model_id": "e2b94b231b72473f9db0923b7ce09146",
       "version_major": 2,
       "version_minor": 0
      },
      "text/plain": [
       "Epoch 246/500 [Train]:   0%|          | 0/28 [00:00<?, ?it/s]"
      ]
     },
     "metadata": {},
     "output_type": "display_data"
    },
    {
     "name": "stderr",
     "output_type": "stream",
     "text": [
      "2025-09-13 08:20:59,572 - INFO - Epoch 246/500 | Validation Acc: 0.8750\n"
     ]
    },
    {
     "data": {
      "application/vnd.jupyter.widget-view+json": {
       "model_id": "62e3429090bf40e4bb3900ca2379850f",
       "version_major": 2,
       "version_minor": 0
      },
      "text/plain": [
       "Epoch 247/500 [Train]:   0%|          | 0/28 [00:00<?, ?it/s]"
      ]
     },
     "metadata": {},
     "output_type": "display_data"
    },
    {
     "name": "stderr",
     "output_type": "stream",
     "text": [
      "2025-09-13 08:21:04,368 - INFO - Epoch 247/500 | Validation Acc: 0.8906\n"
     ]
    },
    {
     "data": {
      "application/vnd.jupyter.widget-view+json": {
       "model_id": "6b13337ee3bc47e2b4dd4573b405bacd",
       "version_major": 2,
       "version_minor": 0
      },
      "text/plain": [
       "Epoch 248/500 [Train]:   0%|          | 0/28 [00:00<?, ?it/s]"
      ]
     },
     "metadata": {},
     "output_type": "display_data"
    },
    {
     "name": "stderr",
     "output_type": "stream",
     "text": [
      "2025-09-13 08:21:09,203 - INFO - Epoch 248/500 | Validation Acc: 0.8958\n"
     ]
    },
    {
     "data": {
      "application/vnd.jupyter.widget-view+json": {
       "model_id": "9b56d61d8ef8487da58b801029bc5c5b",
       "version_major": 2,
       "version_minor": 0
      },
      "text/plain": [
       "Epoch 249/500 [Train]:   0%|          | 0/28 [00:00<?, ?it/s]"
      ]
     },
     "metadata": {},
     "output_type": "display_data"
    },
    {
     "name": "stderr",
     "output_type": "stream",
     "text": [
      "2025-09-13 08:21:14,233 - INFO - Epoch 249/500 | Validation Acc: 0.9167\n"
     ]
    },
    {
     "data": {
      "application/vnd.jupyter.widget-view+json": {
       "model_id": "3c293ea669404a3faf5555da87a13620",
       "version_major": 2,
       "version_minor": 0
      },
      "text/plain": [
       "Epoch 250/500 [Train]:   0%|          | 0/28 [00:00<?, ?it/s]"
      ]
     },
     "metadata": {},
     "output_type": "display_data"
    },
    {
     "name": "stderr",
     "output_type": "stream",
     "text": [
      "2025-09-13 08:21:19,088 - INFO - Epoch 250/500 | Validation Acc: 0.7969\n"
     ]
    },
    {
     "data": {
      "application/vnd.jupyter.widget-view+json": {
       "model_id": "38fbbee7a8d94ae4be7a2acd874c05f9",
       "version_major": 2,
       "version_minor": 0
      },
      "text/plain": [
       "Epoch 251/500 [Train]:   0%|          | 0/28 [00:00<?, ?it/s]"
      ]
     },
     "metadata": {},
     "output_type": "display_data"
    },
    {
     "name": "stderr",
     "output_type": "stream",
     "text": [
      "2025-09-13 08:21:24,201 - INFO - Epoch 251/500 | Validation Acc: 0.8229\n"
     ]
    },
    {
     "data": {
      "application/vnd.jupyter.widget-view+json": {
       "model_id": "5d3910609f9a4702afe85009b1642e10",
       "version_major": 2,
       "version_minor": 0
      },
      "text/plain": [
       "Epoch 252/500 [Train]:   0%|          | 0/28 [00:00<?, ?it/s]"
      ]
     },
     "metadata": {},
     "output_type": "display_data"
    },
    {
     "name": "stderr",
     "output_type": "stream",
     "text": [
      "2025-09-13 08:21:29,232 - INFO - Epoch 252/500 | Validation Acc: 0.8646\n"
     ]
    },
    {
     "data": {
      "application/vnd.jupyter.widget-view+json": {
       "model_id": "4122f5da5eee4233b22e13bc50dde760",
       "version_major": 2,
       "version_minor": 0
      },
      "text/plain": [
       "Epoch 253/500 [Train]:   0%|          | 0/28 [00:00<?, ?it/s]"
      ]
     },
     "metadata": {},
     "output_type": "display_data"
    },
    {
     "name": "stderr",
     "output_type": "stream",
     "text": [
      "2025-09-13 08:21:34,266 - INFO - Epoch 253/500 | Validation Acc: 0.7708\n"
     ]
    },
    {
     "data": {
      "application/vnd.jupyter.widget-view+json": {
       "model_id": "36768ce65ab64072be70a493b0e8475c",
       "version_major": 2,
       "version_minor": 0
      },
      "text/plain": [
       "Epoch 254/500 [Train]:   0%|          | 0/28 [00:00<?, ?it/s]"
      ]
     },
     "metadata": {},
     "output_type": "display_data"
    },
    {
     "name": "stderr",
     "output_type": "stream",
     "text": [
      "2025-09-13 08:21:39,417 - INFO - Epoch 254/500 | Validation Acc: 0.8281\n"
     ]
    },
    {
     "data": {
      "application/vnd.jupyter.widget-view+json": {
       "model_id": "409e83e968fd4f3db5677223e9ca59bd",
       "version_major": 2,
       "version_minor": 0
      },
      "text/plain": [
       "Epoch 255/500 [Train]:   0%|          | 0/28 [00:00<?, ?it/s]"
      ]
     },
     "metadata": {},
     "output_type": "display_data"
    },
    {
     "name": "stderr",
     "output_type": "stream",
     "text": [
      "2025-09-13 08:21:44,265 - INFO - Epoch 255/500 | Validation Acc: 0.7917\n"
     ]
    },
    {
     "data": {
      "application/vnd.jupyter.widget-view+json": {
       "model_id": "3aeb3dcc49064901865bff346549540f",
       "version_major": 2,
       "version_minor": 0
      },
      "text/plain": [
       "Epoch 256/500 [Train]:   0%|          | 0/28 [00:00<?, ?it/s]"
      ]
     },
     "metadata": {},
     "output_type": "display_data"
    },
    {
     "name": "stderr",
     "output_type": "stream",
     "text": [
      "2025-09-13 08:21:49,229 - INFO - Epoch 256/500 | Validation Acc: 0.8490\n"
     ]
    },
    {
     "data": {
      "application/vnd.jupyter.widget-view+json": {
       "model_id": "7ac61c6b3620451181628c373a6477c2",
       "version_major": 2,
       "version_minor": 0
      },
      "text/plain": [
       "Epoch 257/500 [Train]:   0%|          | 0/28 [00:00<?, ?it/s]"
      ]
     },
     "metadata": {},
     "output_type": "display_data"
    },
    {
     "name": "stderr",
     "output_type": "stream",
     "text": [
      "2025-09-13 08:21:54,164 - INFO - Epoch 257/500 | Validation Acc: 0.8698\n"
     ]
    },
    {
     "data": {
      "application/vnd.jupyter.widget-view+json": {
       "model_id": "8234541b29df4626bda4ac30a29de845",
       "version_major": 2,
       "version_minor": 0
      },
      "text/plain": [
       "Epoch 258/500 [Train]:   0%|          | 0/28 [00:00<?, ?it/s]"
      ]
     },
     "metadata": {},
     "output_type": "display_data"
    },
    {
     "name": "stderr",
     "output_type": "stream",
     "text": [
      "2025-09-13 08:21:59,286 - INFO - Epoch 258/500 | Validation Acc: 0.9010\n"
     ]
    },
    {
     "data": {
      "application/vnd.jupyter.widget-view+json": {
       "model_id": "06d0df37574145a08cbb4e8d17f0f96a",
       "version_major": 2,
       "version_minor": 0
      },
      "text/plain": [
       "Epoch 259/500 [Train]:   0%|          | 0/28 [00:00<?, ?it/s]"
      ]
     },
     "metadata": {},
     "output_type": "display_data"
    },
    {
     "name": "stderr",
     "output_type": "stream",
     "text": [
      "2025-09-13 08:22:04,238 - INFO - Epoch 259/500 | Validation Acc: 0.8854\n"
     ]
    },
    {
     "data": {
      "application/vnd.jupyter.widget-view+json": {
       "model_id": "0889a30191bc46e493aac825ca201285",
       "version_major": 2,
       "version_minor": 0
      },
      "text/plain": [
       "Epoch 260/500 [Train]:   0%|          | 0/28 [00:00<?, ?it/s]"
      ]
     },
     "metadata": {},
     "output_type": "display_data"
    },
    {
     "name": "stderr",
     "output_type": "stream",
     "text": [
      "2025-09-13 08:22:09,039 - INFO - Epoch 260/500 | Validation Acc: 0.9271\n"
     ]
    },
    {
     "data": {
      "application/vnd.jupyter.widget-view+json": {
       "model_id": "4a3fc0c6c2564bd9b228cd63741adabb",
       "version_major": 2,
       "version_minor": 0
      },
      "text/plain": [
       "Epoch 261/500 [Train]:   0%|          | 0/28 [00:00<?, ?it/s]"
      ]
     },
     "metadata": {},
     "output_type": "display_data"
    },
    {
     "name": "stderr",
     "output_type": "stream",
     "text": [
      "2025-09-13 08:22:13,864 - INFO - Epoch 261/500 | Validation Acc: 0.8854\n"
     ]
    },
    {
     "data": {
      "application/vnd.jupyter.widget-view+json": {
       "model_id": "1cecafa870d94825b0c2895168c8d229",
       "version_major": 2,
       "version_minor": 0
      },
      "text/plain": [
       "Epoch 262/500 [Train]:   0%|          | 0/28 [00:00<?, ?it/s]"
      ]
     },
     "metadata": {},
     "output_type": "display_data"
    },
    {
     "name": "stderr",
     "output_type": "stream",
     "text": [
      "2025-09-13 08:22:18,744 - INFO - Epoch 262/500 | Validation Acc: 0.8958\n"
     ]
    },
    {
     "data": {
      "application/vnd.jupyter.widget-view+json": {
       "model_id": "f52ef1e559e741989c4d022536757851",
       "version_major": 2,
       "version_minor": 0
      },
      "text/plain": [
       "Epoch 263/500 [Train]:   0%|          | 0/28 [00:00<?, ?it/s]"
      ]
     },
     "metadata": {},
     "output_type": "display_data"
    },
    {
     "name": "stderr",
     "output_type": "stream",
     "text": [
      "2025-09-13 08:22:23,690 - INFO - Epoch 263/500 | Validation Acc: 0.9062\n"
     ]
    },
    {
     "data": {
      "application/vnd.jupyter.widget-view+json": {
       "model_id": "a17c07b593254fa298007690b347d072",
       "version_major": 2,
       "version_minor": 0
      },
      "text/plain": [
       "Epoch 264/500 [Train]:   0%|          | 0/28 [00:00<?, ?it/s]"
      ]
     },
     "metadata": {},
     "output_type": "display_data"
    },
    {
     "name": "stderr",
     "output_type": "stream",
     "text": [
      "2025-09-13 08:22:28,695 - INFO - Epoch 264/500 | Validation Acc: 0.9323\n"
     ]
    },
    {
     "data": {
      "application/vnd.jupyter.widget-view+json": {
       "model_id": "23a9a96ae2234cdfa7a5fcef6be9cc9c",
       "version_major": 2,
       "version_minor": 0
      },
      "text/plain": [
       "Epoch 265/500 [Train]:   0%|          | 0/28 [00:00<?, ?it/s]"
      ]
     },
     "metadata": {},
     "output_type": "display_data"
    },
    {
     "name": "stderr",
     "output_type": "stream",
     "text": [
      "2025-09-13 08:22:33,805 - INFO - Epoch 265/500 | Validation Acc: 0.9323\n"
     ]
    },
    {
     "data": {
      "application/vnd.jupyter.widget-view+json": {
       "model_id": "2ed4d7bf27c2446c8009c1cf5dbfc9e0",
       "version_major": 2,
       "version_minor": 0
      },
      "text/plain": [
       "Epoch 266/500 [Train]:   0%|          | 0/28 [00:00<?, ?it/s]"
      ]
     },
     "metadata": {},
     "output_type": "display_data"
    },
    {
     "name": "stderr",
     "output_type": "stream",
     "text": [
      "2025-09-13 08:22:38,883 - INFO - Epoch 266/500 | Validation Acc: 0.9271\n"
     ]
    },
    {
     "data": {
      "application/vnd.jupyter.widget-view+json": {
       "model_id": "248dfcef61044cec91a8e95ecc89115c",
       "version_major": 2,
       "version_minor": 0
      },
      "text/plain": [
       "Epoch 267/500 [Train]:   0%|          | 0/28 [00:00<?, ?it/s]"
      ]
     },
     "metadata": {},
     "output_type": "display_data"
    },
    {
     "name": "stderr",
     "output_type": "stream",
     "text": [
      "2025-09-13 08:22:43,680 - INFO - Epoch 267/500 | Validation Acc: 0.9010\n"
     ]
    },
    {
     "data": {
      "application/vnd.jupyter.widget-view+json": {
       "model_id": "4cb76496638b457b9822332306995703",
       "version_major": 2,
       "version_minor": 0
      },
      "text/plain": [
       "Epoch 268/500 [Train]:   0%|          | 0/28 [00:00<?, ?it/s]"
      ]
     },
     "metadata": {},
     "output_type": "display_data"
    },
    {
     "name": "stderr",
     "output_type": "stream",
     "text": [
      "2025-09-13 08:22:48,355 - INFO - Epoch 268/500 | Validation Acc: 0.9271\n"
     ]
    },
    {
     "data": {
      "application/vnd.jupyter.widget-view+json": {
       "model_id": "450f8c56cbc9418192aa9f8601da5b2c",
       "version_major": 2,
       "version_minor": 0
      },
      "text/plain": [
       "Epoch 269/500 [Train]:   0%|          | 0/28 [00:00<?, ?it/s]"
      ]
     },
     "metadata": {},
     "output_type": "display_data"
    },
    {
     "name": "stderr",
     "output_type": "stream",
     "text": [
      "2025-09-13 08:22:53,024 - INFO - Epoch 269/500 | Validation Acc: 0.9219\n"
     ]
    },
    {
     "data": {
      "application/vnd.jupyter.widget-view+json": {
       "model_id": "5ff7b33e0ff247dc8e3cecd55398af8d",
       "version_major": 2,
       "version_minor": 0
      },
      "text/plain": [
       "Epoch 270/500 [Train]:   0%|          | 0/28 [00:00<?, ?it/s]"
      ]
     },
     "metadata": {},
     "output_type": "display_data"
    },
    {
     "name": "stderr",
     "output_type": "stream",
     "text": [
      "2025-09-13 08:22:57,868 - INFO - Epoch 270/500 | Validation Acc: 0.9062\n"
     ]
    },
    {
     "data": {
      "application/vnd.jupyter.widget-view+json": {
       "model_id": "0aa6e92a1a354c308a26dfa85863ee30",
       "version_major": 2,
       "version_minor": 0
      },
      "text/plain": [
       "Epoch 271/500 [Train]:   0%|          | 0/28 [00:00<?, ?it/s]"
      ]
     },
     "metadata": {},
     "output_type": "display_data"
    },
    {
     "name": "stderr",
     "output_type": "stream",
     "text": [
      "2025-09-13 08:23:02,785 - INFO - Epoch 271/500 | Validation Acc: 0.9271\n"
     ]
    },
    {
     "data": {
      "application/vnd.jupyter.widget-view+json": {
       "model_id": "7ee3b3a2f2b24c54ad977968fcd1576d",
       "version_major": 2,
       "version_minor": 0
      },
      "text/plain": [
       "Epoch 272/500 [Train]:   0%|          | 0/28 [00:00<?, ?it/s]"
      ]
     },
     "metadata": {},
     "output_type": "display_data"
    },
    {
     "name": "stderr",
     "output_type": "stream",
     "text": [
      "2025-09-13 08:23:07,751 - INFO - Epoch 272/500 | Validation Acc: 0.9167\n"
     ]
    },
    {
     "data": {
      "application/vnd.jupyter.widget-view+json": {
       "model_id": "d2e6a2333e374cd883c6f875d926fa3b",
       "version_major": 2,
       "version_minor": 0
      },
      "text/plain": [
       "Epoch 273/500 [Train]:   0%|          | 0/28 [00:00<?, ?it/s]"
      ]
     },
     "metadata": {},
     "output_type": "display_data"
    },
    {
     "name": "stderr",
     "output_type": "stream",
     "text": [
      "2025-09-13 08:23:12,764 - INFO - Epoch 273/500 | Validation Acc: 0.9219\n"
     ]
    },
    {
     "data": {
      "application/vnd.jupyter.widget-view+json": {
       "model_id": "bedfdc174eac493f93ab35ec9af78072",
       "version_major": 2,
       "version_minor": 0
      },
      "text/plain": [
       "Epoch 274/500 [Train]:   0%|          | 0/28 [00:00<?, ?it/s]"
      ]
     },
     "metadata": {},
     "output_type": "display_data"
    },
    {
     "name": "stderr",
     "output_type": "stream",
     "text": [
      "2025-09-13 08:23:17,921 - INFO - Epoch 274/500 | Validation Acc: 0.9375\n"
     ]
    },
    {
     "data": {
      "application/vnd.jupyter.widget-view+json": {
       "model_id": "0a2a1741e8ef4bbfa4bc6ec86ed0c65e",
       "version_major": 2,
       "version_minor": 0
      },
      "text/plain": [
       "Epoch 275/500 [Train]:   0%|          | 0/28 [00:00<?, ?it/s]"
      ]
     },
     "metadata": {},
     "output_type": "display_data"
    },
    {
     "name": "stderr",
     "output_type": "stream",
     "text": [
      "2025-09-13 08:23:22,950 - INFO - Epoch 275/500 | Validation Acc: 0.9167\n"
     ]
    },
    {
     "data": {
      "application/vnd.jupyter.widget-view+json": {
       "model_id": "b13ddbd24ca24cd48aa192ca9268f0c6",
       "version_major": 2,
       "version_minor": 0
      },
      "text/plain": [
       "Epoch 276/500 [Train]:   0%|          | 0/28 [00:00<?, ?it/s]"
      ]
     },
     "metadata": {},
     "output_type": "display_data"
    },
    {
     "name": "stderr",
     "output_type": "stream",
     "text": [
      "2025-09-13 08:23:27,803 - INFO - Epoch 276/500 | Validation Acc: 0.9271\n"
     ]
    },
    {
     "data": {
      "application/vnd.jupyter.widget-view+json": {
       "model_id": "e5f3bc8ab20640d8a600a3955e387d88",
       "version_major": 2,
       "version_minor": 0
      },
      "text/plain": [
       "Epoch 277/500 [Train]:   0%|          | 0/28 [00:00<?, ?it/s]"
      ]
     },
     "metadata": {},
     "output_type": "display_data"
    },
    {
     "name": "stderr",
     "output_type": "stream",
     "text": [
      "2025-09-13 08:23:32,746 - INFO - Epoch 277/500 | Validation Acc: 0.8698\n"
     ]
    },
    {
     "data": {
      "application/vnd.jupyter.widget-view+json": {
       "model_id": "d93c468151394f4cb94f2f6223c6b680",
       "version_major": 2,
       "version_minor": 0
      },
      "text/plain": [
       "Epoch 278/500 [Train]:   0%|          | 0/28 [00:00<?, ?it/s]"
      ]
     },
     "metadata": {},
     "output_type": "display_data"
    },
    {
     "name": "stderr",
     "output_type": "stream",
     "text": [
      "2025-09-13 08:23:37,726 - INFO - Epoch 278/500 | Validation Acc: 0.8854\n"
     ]
    },
    {
     "data": {
      "application/vnd.jupyter.widget-view+json": {
       "model_id": "e156c4eb3dd94c579b5a7e23d1341d7b",
       "version_major": 2,
       "version_minor": 0
      },
      "text/plain": [
       "Epoch 279/500 [Train]:   0%|          | 0/28 [00:00<?, ?it/s]"
      ]
     },
     "metadata": {},
     "output_type": "display_data"
    },
    {
     "name": "stderr",
     "output_type": "stream",
     "text": [
      "2025-09-13 08:23:42,646 - INFO - Epoch 279/500 | Validation Acc: 0.9219\n"
     ]
    },
    {
     "data": {
      "application/vnd.jupyter.widget-view+json": {
       "model_id": "c1b62c93d9294560a2b180d5eed51fe8",
       "version_major": 2,
       "version_minor": 0
      },
      "text/plain": [
       "Epoch 280/500 [Train]:   0%|          | 0/28 [00:00<?, ?it/s]"
      ]
     },
     "metadata": {},
     "output_type": "display_data"
    },
    {
     "name": "stderr",
     "output_type": "stream",
     "text": [
      "2025-09-13 08:23:47,615 - INFO - Epoch 280/500 | Validation Acc: 0.9271\n"
     ]
    },
    {
     "data": {
      "application/vnd.jupyter.widget-view+json": {
       "model_id": "907e533ec99a4583af8a8c32755e9568",
       "version_major": 2,
       "version_minor": 0
      },
      "text/plain": [
       "Epoch 281/500 [Train]:   0%|          | 0/28 [00:00<?, ?it/s]"
      ]
     },
     "metadata": {},
     "output_type": "display_data"
    },
    {
     "name": "stderr",
     "output_type": "stream",
     "text": [
      "2025-09-13 08:23:52,449 - INFO - Epoch 281/500 | Validation Acc: 0.8646\n"
     ]
    },
    {
     "data": {
      "application/vnd.jupyter.widget-view+json": {
       "model_id": "30c1bb4811504d998d41b09a207839ed",
       "version_major": 2,
       "version_minor": 0
      },
      "text/plain": [
       "Epoch 282/500 [Train]:   0%|          | 0/28 [00:00<?, ?it/s]"
      ]
     },
     "metadata": {},
     "output_type": "display_data"
    },
    {
     "name": "stderr",
     "output_type": "stream",
     "text": [
      "2025-09-13 08:23:57,383 - INFO - Epoch 282/500 | Validation Acc: 0.8958\n"
     ]
    },
    {
     "data": {
      "application/vnd.jupyter.widget-view+json": {
       "model_id": "268e72e7926d431e92b6a54a05dd2683",
       "version_major": 2,
       "version_minor": 0
      },
      "text/plain": [
       "Epoch 283/500 [Train]:   0%|          | 0/28 [00:00<?, ?it/s]"
      ]
     },
     "metadata": {},
     "output_type": "display_data"
    },
    {
     "name": "stderr",
     "output_type": "stream",
     "text": [
      "2025-09-13 08:24:02,251 - INFO - Epoch 283/500 | Validation Acc: 0.9271\n"
     ]
    },
    {
     "data": {
      "application/vnd.jupyter.widget-view+json": {
       "model_id": "211b6f7e48dd4bc0aabfa4e74280a686",
       "version_major": 2,
       "version_minor": 0
      },
      "text/plain": [
       "Epoch 284/500 [Train]:   0%|          | 0/28 [00:00<?, ?it/s]"
      ]
     },
     "metadata": {},
     "output_type": "display_data"
    },
    {
     "name": "stderr",
     "output_type": "stream",
     "text": [
      "2025-09-13 08:24:07,101 - INFO - Epoch 284/500 | Validation Acc: 0.9062\n"
     ]
    },
    {
     "data": {
      "application/vnd.jupyter.widget-view+json": {
       "model_id": "6490964a52114deabba61667f21b5dc8",
       "version_major": 2,
       "version_minor": 0
      },
      "text/plain": [
       "Epoch 285/500 [Train]:   0%|          | 0/28 [00:00<?, ?it/s]"
      ]
     },
     "metadata": {},
     "output_type": "display_data"
    },
    {
     "name": "stderr",
     "output_type": "stream",
     "text": [
      "2025-09-13 08:24:11,939 - INFO - Epoch 285/500 | Validation Acc: 0.9167\n"
     ]
    },
    {
     "data": {
      "application/vnd.jupyter.widget-view+json": {
       "model_id": "5a3342c0ff7b484e88c4bb815e44f977",
       "version_major": 2,
       "version_minor": 0
      },
      "text/plain": [
       "Epoch 286/500 [Train]:   0%|          | 0/28 [00:00<?, ?it/s]"
      ]
     },
     "metadata": {},
     "output_type": "display_data"
    },
    {
     "name": "stderr",
     "output_type": "stream",
     "text": [
      "2025-09-13 08:24:16,767 - INFO - Epoch 286/500 | Validation Acc: 0.8333\n"
     ]
    },
    {
     "data": {
      "application/vnd.jupyter.widget-view+json": {
       "model_id": "4b368da7492c4468b9641557c5fdaba7",
       "version_major": 2,
       "version_minor": 0
      },
      "text/plain": [
       "Epoch 287/500 [Train]:   0%|          | 0/28 [00:00<?, ?it/s]"
      ]
     },
     "metadata": {},
     "output_type": "display_data"
    },
    {
     "name": "stderr",
     "output_type": "stream",
     "text": [
      "2025-09-13 08:24:21,739 - INFO - Epoch 287/500 | Validation Acc: 0.8646\n"
     ]
    },
    {
     "data": {
      "application/vnd.jupyter.widget-view+json": {
       "model_id": "541ef85d23684bf4a1c257594d36daf6",
       "version_major": 2,
       "version_minor": 0
      },
      "text/plain": [
       "Epoch 288/500 [Train]:   0%|          | 0/28 [00:00<?, ?it/s]"
      ]
     },
     "metadata": {},
     "output_type": "display_data"
    },
    {
     "name": "stderr",
     "output_type": "stream",
     "text": [
      "2025-09-13 08:24:26,660 - INFO - Epoch 288/500 | Validation Acc: 0.8750\n"
     ]
    },
    {
     "data": {
      "application/vnd.jupyter.widget-view+json": {
       "model_id": "614e18ddc5654ca981e5b71a9c0047b7",
       "version_major": 2,
       "version_minor": 0
      },
      "text/plain": [
       "Epoch 289/500 [Train]:   0%|          | 0/28 [00:00<?, ?it/s]"
      ]
     },
     "metadata": {},
     "output_type": "display_data"
    },
    {
     "name": "stderr",
     "output_type": "stream",
     "text": [
      "2025-09-13 08:24:31,349 - INFO - Epoch 289/500 | Validation Acc: 0.8906\n"
     ]
    },
    {
     "data": {
      "application/vnd.jupyter.widget-view+json": {
       "model_id": "29d813fd1b344c76b0b3c82b4169a604",
       "version_major": 2,
       "version_minor": 0
      },
      "text/plain": [
       "Epoch 290/500 [Train]:   0%|          | 0/28 [00:00<?, ?it/s]"
      ]
     },
     "metadata": {},
     "output_type": "display_data"
    },
    {
     "name": "stderr",
     "output_type": "stream",
     "text": [
      "2025-09-13 08:24:35,978 - INFO - Epoch 290/500 | Validation Acc: 0.8854\n"
     ]
    },
    {
     "data": {
      "application/vnd.jupyter.widget-view+json": {
       "model_id": "53a70de4a08c4a6cadd533562079576f",
       "version_major": 2,
       "version_minor": 0
      },
      "text/plain": [
       "Epoch 291/500 [Train]:   0%|          | 0/28 [00:00<?, ?it/s]"
      ]
     },
     "metadata": {},
     "output_type": "display_data"
    },
    {
     "name": "stderr",
     "output_type": "stream",
     "text": [
      "2025-09-13 08:24:40,728 - INFO - Epoch 291/500 | Validation Acc: 0.8594\n"
     ]
    },
    {
     "data": {
      "application/vnd.jupyter.widget-view+json": {
       "model_id": "8513a80d7da14921b228677987367b89",
       "version_major": 2,
       "version_minor": 0
      },
      "text/plain": [
       "Epoch 292/500 [Train]:   0%|          | 0/28 [00:00<?, ?it/s]"
      ]
     },
     "metadata": {},
     "output_type": "display_data"
    },
    {
     "name": "stderr",
     "output_type": "stream",
     "text": [
      "2025-09-13 08:24:45,621 - INFO - Epoch 292/500 | Validation Acc: 0.9010\n"
     ]
    },
    {
     "data": {
      "application/vnd.jupyter.widget-view+json": {
       "model_id": "cd85d75635a545478d80f360b7b2a757",
       "version_major": 2,
       "version_minor": 0
      },
      "text/plain": [
       "Epoch 293/500 [Train]:   0%|          | 0/28 [00:00<?, ?it/s]"
      ]
     },
     "metadata": {},
     "output_type": "display_data"
    },
    {
     "name": "stderr",
     "output_type": "stream",
     "text": [
      "2025-09-13 08:24:50,476 - INFO - Epoch 293/500 | Validation Acc: 0.9115\n"
     ]
    },
    {
     "data": {
      "application/vnd.jupyter.widget-view+json": {
       "model_id": "a1347ac4a6e64647965d8fe07504a5e6",
       "version_major": 2,
       "version_minor": 0
      },
      "text/plain": [
       "Epoch 294/500 [Train]:   0%|          | 0/28 [00:00<?, ?it/s]"
      ]
     },
     "metadata": {},
     "output_type": "display_data"
    },
    {
     "name": "stderr",
     "output_type": "stream",
     "text": [
      "2025-09-13 08:24:55,290 - INFO - Epoch 294/500 | Validation Acc: 0.8958\n"
     ]
    },
    {
     "data": {
      "application/vnd.jupyter.widget-view+json": {
       "model_id": "06bb76715c88487f8d53f96bcb297158",
       "version_major": 2,
       "version_minor": 0
      },
      "text/plain": [
       "Epoch 295/500 [Train]:   0%|          | 0/28 [00:00<?, ?it/s]"
      ]
     },
     "metadata": {},
     "output_type": "display_data"
    },
    {
     "name": "stderr",
     "output_type": "stream",
     "text": [
      "2025-09-13 08:25:00,252 - INFO - Epoch 295/500 | Validation Acc: 0.9115\n"
     ]
    },
    {
     "data": {
      "application/vnd.jupyter.widget-view+json": {
       "model_id": "d4d874c00c224d35a3213b173af753fb",
       "version_major": 2,
       "version_minor": 0
      },
      "text/plain": [
       "Epoch 296/500 [Train]:   0%|          | 0/28 [00:00<?, ?it/s]"
      ]
     },
     "metadata": {},
     "output_type": "display_data"
    },
    {
     "name": "stderr",
     "output_type": "stream",
     "text": [
      "2025-09-13 08:25:05,194 - INFO - Epoch 296/500 | Validation Acc: 0.8906\n"
     ]
    },
    {
     "data": {
      "application/vnd.jupyter.widget-view+json": {
       "model_id": "e9119ea7173148ab9768e40e3af6f045",
       "version_major": 2,
       "version_minor": 0
      },
      "text/plain": [
       "Epoch 297/500 [Train]:   0%|          | 0/28 [00:00<?, ?it/s]"
      ]
     },
     "metadata": {},
     "output_type": "display_data"
    },
    {
     "name": "stderr",
     "output_type": "stream",
     "text": [
      "2025-09-13 08:25:10,090 - INFO - Epoch 297/500 | Validation Acc: 0.8333\n"
     ]
    },
    {
     "data": {
      "application/vnd.jupyter.widget-view+json": {
       "model_id": "d3db8e95df3e441386501482664ad623",
       "version_major": 2,
       "version_minor": 0
      },
      "text/plain": [
       "Epoch 298/500 [Train]:   0%|          | 0/28 [00:00<?, ?it/s]"
      ]
     },
     "metadata": {},
     "output_type": "display_data"
    },
    {
     "name": "stderr",
     "output_type": "stream",
     "text": [
      "2025-09-13 08:25:14,974 - INFO - Epoch 298/500 | Validation Acc: 0.8958\n"
     ]
    },
    {
     "data": {
      "application/vnd.jupyter.widget-view+json": {
       "model_id": "485fce8b26ea4394b831067daf65b30b",
       "version_major": 2,
       "version_minor": 0
      },
      "text/plain": [
       "Epoch 299/500 [Train]:   0%|          | 0/28 [00:00<?, ?it/s]"
      ]
     },
     "metadata": {},
     "output_type": "display_data"
    },
    {
     "name": "stderr",
     "output_type": "stream",
     "text": [
      "2025-09-13 08:25:19,772 - INFO - Epoch 299/500 | Validation Acc: 0.8854\n"
     ]
    },
    {
     "data": {
      "application/vnd.jupyter.widget-view+json": {
       "model_id": "a22ee5cd8deb45bc9999e336351c9517",
       "version_major": 2,
       "version_minor": 0
      },
      "text/plain": [
       "Epoch 300/500 [Train]:   0%|          | 0/28 [00:00<?, ?it/s]"
      ]
     },
     "metadata": {},
     "output_type": "display_data"
    },
    {
     "name": "stderr",
     "output_type": "stream",
     "text": [
      "2025-09-13 08:25:24,713 - INFO - Epoch 300/500 | Validation Acc: 0.8021\n"
     ]
    },
    {
     "data": {
      "application/vnd.jupyter.widget-view+json": {
       "model_id": "18193e52f2bb44aca40e71d03ef89a22",
       "version_major": 2,
       "version_minor": 0
      },
      "text/plain": [
       "Epoch 301/500 [Train]:   0%|          | 0/28 [00:00<?, ?it/s]"
      ]
     },
     "metadata": {},
     "output_type": "display_data"
    },
    {
     "name": "stderr",
     "output_type": "stream",
     "text": [
      "2025-09-13 08:25:29,580 - INFO - Epoch 301/500 | Validation Acc: 0.8073\n"
     ]
    },
    {
     "data": {
      "application/vnd.jupyter.widget-view+json": {
       "model_id": "de0006d394314ca091626a3317a05be2",
       "version_major": 2,
       "version_minor": 0
      },
      "text/plain": [
       "Epoch 302/500 [Train]:   0%|          | 0/28 [00:00<?, ?it/s]"
      ]
     },
     "metadata": {},
     "output_type": "display_data"
    },
    {
     "name": "stderr",
     "output_type": "stream",
     "text": [
      "2025-09-13 08:25:34,505 - INFO - Epoch 302/500 | Validation Acc: 0.8646\n"
     ]
    },
    {
     "data": {
      "application/vnd.jupyter.widget-view+json": {
       "model_id": "aa735540f899469bae6d72418a50f862",
       "version_major": 2,
       "version_minor": 0
      },
      "text/plain": [
       "Epoch 303/500 [Train]:   0%|          | 0/28 [00:00<?, ?it/s]"
      ]
     },
     "metadata": {},
     "output_type": "display_data"
    },
    {
     "name": "stderr",
     "output_type": "stream",
     "text": [
      "2025-09-13 08:25:39,402 - INFO - Epoch 303/500 | Validation Acc: 0.8854\n"
     ]
    },
    {
     "data": {
      "application/vnd.jupyter.widget-view+json": {
       "model_id": "6d9c87a93f9e400cbd13c6ce08190206",
       "version_major": 2,
       "version_minor": 0
      },
      "text/plain": [
       "Epoch 304/500 [Train]:   0%|          | 0/28 [00:00<?, ?it/s]"
      ]
     },
     "metadata": {},
     "output_type": "display_data"
    },
    {
     "name": "stderr",
     "output_type": "stream",
     "text": [
      "2025-09-13 08:25:44,368 - INFO - Epoch 304/500 | Validation Acc: 0.9062\n"
     ]
    },
    {
     "data": {
      "application/vnd.jupyter.widget-view+json": {
       "model_id": "a07c217de64b4e11ba9ab46f3cd87aed",
       "version_major": 2,
       "version_minor": 0
      },
      "text/plain": [
       "Epoch 305/500 [Train]:   0%|          | 0/28 [00:00<?, ?it/s]"
      ]
     },
     "metadata": {},
     "output_type": "display_data"
    },
    {
     "name": "stderr",
     "output_type": "stream",
     "text": [
      "2025-09-13 08:25:49,237 - INFO - Epoch 305/500 | Validation Acc: 0.8385\n"
     ]
    },
    {
     "data": {
      "application/vnd.jupyter.widget-view+json": {
       "model_id": "a918f7af499246b1b39b90c288ad618f",
       "version_major": 2,
       "version_minor": 0
      },
      "text/plain": [
       "Epoch 306/500 [Train]:   0%|          | 0/28 [00:00<?, ?it/s]"
      ]
     },
     "metadata": {},
     "output_type": "display_data"
    },
    {
     "name": "stderr",
     "output_type": "stream",
     "text": [
      "2025-09-13 08:25:54,123 - INFO - Epoch 306/500 | Validation Acc: 0.8906\n"
     ]
    },
    {
     "data": {
      "application/vnd.jupyter.widget-view+json": {
       "model_id": "fe2ef0d584e34c59b89bccf045aa1dc3",
       "version_major": 2,
       "version_minor": 0
      },
      "text/plain": [
       "Epoch 307/500 [Train]:   0%|          | 0/28 [00:00<?, ?it/s]"
      ]
     },
     "metadata": {},
     "output_type": "display_data"
    },
    {
     "name": "stderr",
     "output_type": "stream",
     "text": [
      "2025-09-13 08:25:58,960 - INFO - Epoch 307/500 | Validation Acc: 0.8854\n"
     ]
    },
    {
     "data": {
      "application/vnd.jupyter.widget-view+json": {
       "model_id": "92ea1d441fb640dea45c1e0b360abb5d",
       "version_major": 2,
       "version_minor": 0
      },
      "text/plain": [
       "Epoch 308/500 [Train]:   0%|          | 0/28 [00:00<?, ?it/s]"
      ]
     },
     "metadata": {},
     "output_type": "display_data"
    },
    {
     "name": "stderr",
     "output_type": "stream",
     "text": [
      "2025-09-13 08:26:03,961 - INFO - Epoch 308/500 | Validation Acc: 0.9062\n"
     ]
    },
    {
     "data": {
      "application/vnd.jupyter.widget-view+json": {
       "model_id": "d518278909f44053a7bd219bb2db2953",
       "version_major": 2,
       "version_minor": 0
      },
      "text/plain": [
       "Epoch 309/500 [Train]:   0%|          | 0/28 [00:00<?, ?it/s]"
      ]
     },
     "metadata": {},
     "output_type": "display_data"
    },
    {
     "name": "stderr",
     "output_type": "stream",
     "text": [
      "2025-09-13 08:26:08,915 - INFO - Epoch 309/500 | Validation Acc: 0.9062\n"
     ]
    },
    {
     "data": {
      "application/vnd.jupyter.widget-view+json": {
       "model_id": "a92006adbf1d4b92a680bb5a15e76763",
       "version_major": 2,
       "version_minor": 0
      },
      "text/plain": [
       "Epoch 310/500 [Train]:   0%|          | 0/28 [00:00<?, ?it/s]"
      ]
     },
     "metadata": {},
     "output_type": "display_data"
    },
    {
     "name": "stderr",
     "output_type": "stream",
     "text": [
      "2025-09-13 08:26:13,899 - INFO - Epoch 310/500 | Validation Acc: 0.9115\n"
     ]
    },
    {
     "data": {
      "application/vnd.jupyter.widget-view+json": {
       "model_id": "9511c5556799443493873383d34c74a5",
       "version_major": 2,
       "version_minor": 0
      },
      "text/plain": [
       "Epoch 311/500 [Train]:   0%|          | 0/28 [00:00<?, ?it/s]"
      ]
     },
     "metadata": {},
     "output_type": "display_data"
    },
    {
     "name": "stderr",
     "output_type": "stream",
     "text": [
      "2025-09-13 08:26:18,779 - INFO - Epoch 311/500 | Validation Acc: 0.8958\n"
     ]
    },
    {
     "data": {
      "application/vnd.jupyter.widget-view+json": {
       "model_id": "7c8452c816584e20b8b9232f53c82e1a",
       "version_major": 2,
       "version_minor": 0
      },
      "text/plain": [
       "Epoch 312/500 [Train]:   0%|          | 0/28 [00:00<?, ?it/s]"
      ]
     },
     "metadata": {},
     "output_type": "display_data"
    },
    {
     "name": "stderr",
     "output_type": "stream",
     "text": [
      "2025-09-13 08:26:23,659 - INFO - Epoch 312/500 | Validation Acc: 0.9062\n"
     ]
    },
    {
     "data": {
      "application/vnd.jupyter.widget-view+json": {
       "model_id": "1ff6134f4a4f4521adb2af0b27d73819",
       "version_major": 2,
       "version_minor": 0
      },
      "text/plain": [
       "Epoch 313/500 [Train]:   0%|          | 0/28 [00:00<?, ?it/s]"
      ]
     },
     "metadata": {},
     "output_type": "display_data"
    },
    {
     "name": "stderr",
     "output_type": "stream",
     "text": [
      "2025-09-13 08:26:28,529 - INFO - Epoch 313/500 | Validation Acc: 0.9062\n"
     ]
    },
    {
     "data": {
      "application/vnd.jupyter.widget-view+json": {
       "model_id": "1730704ac1d04ab98c1ca19c446c9e76",
       "version_major": 2,
       "version_minor": 0
      },
      "text/plain": [
       "Epoch 314/500 [Train]:   0%|          | 0/28 [00:00<?, ?it/s]"
      ]
     },
     "metadata": {},
     "output_type": "display_data"
    },
    {
     "name": "stderr",
     "output_type": "stream",
     "text": [
      "2025-09-13 08:26:33,537 - INFO - Epoch 314/500 | Validation Acc: 0.9219\n"
     ]
    },
    {
     "data": {
      "application/vnd.jupyter.widget-view+json": {
       "model_id": "67598206c11d49a7a9fe6e4ccd399392",
       "version_major": 2,
       "version_minor": 0
      },
      "text/plain": [
       "Epoch 315/500 [Train]:   0%|          | 0/28 [00:00<?, ?it/s]"
      ]
     },
     "metadata": {},
     "output_type": "display_data"
    },
    {
     "name": "stderr",
     "output_type": "stream",
     "text": [
      "2025-09-13 08:26:38,460 - INFO - Epoch 315/500 | Validation Acc: 0.9167\n"
     ]
    },
    {
     "data": {
      "application/vnd.jupyter.widget-view+json": {
       "model_id": "9ad3db7d0c6b4ef88cb6e7901aa808c1",
       "version_major": 2,
       "version_minor": 0
      },
      "text/plain": [
       "Epoch 316/500 [Train]:   0%|          | 0/28 [00:00<?, ?it/s]"
      ]
     },
     "metadata": {},
     "output_type": "display_data"
    },
    {
     "name": "stderr",
     "output_type": "stream",
     "text": [
      "2025-09-13 08:26:43,416 - INFO - Epoch 316/500 | Validation Acc: 0.9167\n"
     ]
    },
    {
     "data": {
      "application/vnd.jupyter.widget-view+json": {
       "model_id": "7564889353254c5ba9bbf7c5b8446b7d",
       "version_major": 2,
       "version_minor": 0
      },
      "text/plain": [
       "Epoch 317/500 [Train]:   0%|          | 0/28 [00:00<?, ?it/s]"
      ]
     },
     "metadata": {},
     "output_type": "display_data"
    },
    {
     "name": "stderr",
     "output_type": "stream",
     "text": [
      "2025-09-13 08:26:48,352 - INFO - Epoch 317/500 | Validation Acc: 0.9062\n"
     ]
    },
    {
     "data": {
      "application/vnd.jupyter.widget-view+json": {
       "model_id": "a3a990641e9e473ca46da0be35cd50ce",
       "version_major": 2,
       "version_minor": 0
      },
      "text/plain": [
       "Epoch 318/500 [Train]:   0%|          | 0/28 [00:00<?, ?it/s]"
      ]
     },
     "metadata": {},
     "output_type": "display_data"
    },
    {
     "name": "stderr",
     "output_type": "stream",
     "text": [
      "2025-09-13 08:26:53,256 - INFO - Epoch 318/500 | Validation Acc: 0.9167\n"
     ]
    },
    {
     "data": {
      "application/vnd.jupyter.widget-view+json": {
       "model_id": "8ea1177e97aa401397564695881ff6e8",
       "version_major": 2,
       "version_minor": 0
      },
      "text/plain": [
       "Epoch 319/500 [Train]:   0%|          | 0/28 [00:00<?, ?it/s]"
      ]
     },
     "metadata": {},
     "output_type": "display_data"
    },
    {
     "name": "stderr",
     "output_type": "stream",
     "text": [
      "2025-09-13 08:26:58,459 - INFO - Epoch 319/500 | Validation Acc: 0.9062\n"
     ]
    },
    {
     "data": {
      "application/vnd.jupyter.widget-view+json": {
       "model_id": "ea9c089084e84b5cb8fd4e0c21f57923",
       "version_major": 2,
       "version_minor": 0
      },
      "text/plain": [
       "Epoch 320/500 [Train]:   0%|          | 0/28 [00:00<?, ?it/s]"
      ]
     },
     "metadata": {},
     "output_type": "display_data"
    },
    {
     "name": "stderr",
     "output_type": "stream",
     "text": [
      "2025-09-13 08:27:03,526 - INFO - Epoch 320/500 | Validation Acc: 0.9062\n"
     ]
    },
    {
     "data": {
      "application/vnd.jupyter.widget-view+json": {
       "model_id": "5b2d1596345f46efa76624848ec8b53a",
       "version_major": 2,
       "version_minor": 0
      },
      "text/plain": [
       "Epoch 321/500 [Train]:   0%|          | 0/28 [00:00<?, ?it/s]"
      ]
     },
     "metadata": {},
     "output_type": "display_data"
    },
    {
     "name": "stderr",
     "output_type": "stream",
     "text": [
      "2025-09-13 08:27:08,540 - INFO - Epoch 321/500 | Validation Acc: 0.9010\n"
     ]
    },
    {
     "data": {
      "application/vnd.jupyter.widget-view+json": {
       "model_id": "e6e75d82d7004fd1bb513ec57693c32c",
       "version_major": 2,
       "version_minor": 0
      },
      "text/plain": [
       "Epoch 322/500 [Train]:   0%|          | 0/28 [00:00<?, ?it/s]"
      ]
     },
     "metadata": {},
     "output_type": "display_data"
    },
    {
     "name": "stderr",
     "output_type": "stream",
     "text": [
      "2025-09-13 08:27:13,652 - INFO - Epoch 322/500 | Validation Acc: 0.8958\n"
     ]
    },
    {
     "data": {
      "application/vnd.jupyter.widget-view+json": {
       "model_id": "d1f7865360fd4457b228a6670f4847b9",
       "version_major": 2,
       "version_minor": 0
      },
      "text/plain": [
       "Epoch 323/500 [Train]:   0%|          | 0/28 [00:00<?, ?it/s]"
      ]
     },
     "metadata": {},
     "output_type": "display_data"
    },
    {
     "name": "stderr",
     "output_type": "stream",
     "text": [
      "2025-09-13 08:27:18,629 - INFO - Epoch 323/500 | Validation Acc: 0.9167\n"
     ]
    },
    {
     "data": {
      "application/vnd.jupyter.widget-view+json": {
       "model_id": "7cb460ee4b214c0dac02dc5bfc2e6d94",
       "version_major": 2,
       "version_minor": 0
      },
      "text/plain": [
       "Epoch 324/500 [Train]:   0%|          | 0/28 [00:00<?, ?it/s]"
      ]
     },
     "metadata": {},
     "output_type": "display_data"
    },
    {
     "name": "stderr",
     "output_type": "stream",
     "text": [
      "2025-09-13 08:27:23,625 - INFO - Epoch 324/500 | Validation Acc: 0.9062\n"
     ]
    },
    {
     "data": {
      "application/vnd.jupyter.widget-view+json": {
       "model_id": "d75ebcde862a41168650e9536f1fd12c",
       "version_major": 2,
       "version_minor": 0
      },
      "text/plain": [
       "Epoch 325/500 [Train]:   0%|          | 0/28 [00:00<?, ?it/s]"
      ]
     },
     "metadata": {},
     "output_type": "display_data"
    },
    {
     "name": "stderr",
     "output_type": "stream",
     "text": [
      "2025-09-13 08:27:28,527 - INFO - Epoch 325/500 | Validation Acc: 0.9010\n"
     ]
    },
    {
     "data": {
      "application/vnd.jupyter.widget-view+json": {
       "model_id": "77a875a651204c36b0dd875b9d777160",
       "version_major": 2,
       "version_minor": 0
      },
      "text/plain": [
       "Epoch 326/500 [Train]:   0%|          | 0/28 [00:00<?, ?it/s]"
      ]
     },
     "metadata": {},
     "output_type": "display_data"
    },
    {
     "name": "stderr",
     "output_type": "stream",
     "text": [
      "2025-09-13 08:27:33,449 - INFO - Epoch 326/500 | Validation Acc: 0.9010\n"
     ]
    },
    {
     "data": {
      "application/vnd.jupyter.widget-view+json": {
       "model_id": "51726c1d8b314455b7af68045eb80c2c",
       "version_major": 2,
       "version_minor": 0
      },
      "text/plain": [
       "Epoch 327/500 [Train]:   0%|          | 0/28 [00:00<?, ?it/s]"
      ]
     },
     "metadata": {},
     "output_type": "display_data"
    },
    {
     "name": "stderr",
     "output_type": "stream",
     "text": [
      "2025-09-13 08:27:38,519 - INFO - Epoch 327/500 | Validation Acc: 0.9062\n"
     ]
    },
    {
     "data": {
      "application/vnd.jupyter.widget-view+json": {
       "model_id": "95a01672d7544428901d00ae96cfdadd",
       "version_major": 2,
       "version_minor": 0
      },
      "text/plain": [
       "Epoch 328/500 [Train]:   0%|          | 0/28 [00:00<?, ?it/s]"
      ]
     },
     "metadata": {},
     "output_type": "display_data"
    },
    {
     "name": "stderr",
     "output_type": "stream",
     "text": [
      "2025-09-13 08:27:43,422 - INFO - Epoch 328/500 | Validation Acc: 0.9010\n"
     ]
    },
    {
     "data": {
      "application/vnd.jupyter.widget-view+json": {
       "model_id": "f49b389aa1864849b32c64e80f71e652",
       "version_major": 2,
       "version_minor": 0
      },
      "text/plain": [
       "Epoch 329/500 [Train]:   0%|          | 0/28 [00:00<?, ?it/s]"
      ]
     },
     "metadata": {},
     "output_type": "display_data"
    },
    {
     "name": "stderr",
     "output_type": "stream",
     "text": [
      "2025-09-13 08:27:48,365 - INFO - Epoch 329/500 | Validation Acc: 0.9062\n"
     ]
    },
    {
     "data": {
      "application/vnd.jupyter.widget-view+json": {
       "model_id": "526939d362104d44a24029f97736b75c",
       "version_major": 2,
       "version_minor": 0
      },
      "text/plain": [
       "Epoch 330/500 [Train]:   0%|          | 0/28 [00:00<?, ?it/s]"
      ]
     },
     "metadata": {},
     "output_type": "display_data"
    },
    {
     "name": "stderr",
     "output_type": "stream",
     "text": [
      "2025-09-13 08:27:53,291 - INFO - Epoch 330/500 | Validation Acc: 0.9010\n"
     ]
    },
    {
     "data": {
      "application/vnd.jupyter.widget-view+json": {
       "model_id": "7127ffde7d9047268ddbec634c41065d",
       "version_major": 2,
       "version_minor": 0
      },
      "text/plain": [
       "Epoch 331/500 [Train]:   0%|          | 0/28 [00:00<?, ?it/s]"
      ]
     },
     "metadata": {},
     "output_type": "display_data"
    },
    {
     "name": "stderr",
     "output_type": "stream",
     "text": [
      "2025-09-13 08:27:58,261 - INFO - Epoch 331/500 | Validation Acc: 0.8698\n"
     ]
    },
    {
     "data": {
      "application/vnd.jupyter.widget-view+json": {
       "model_id": "61f4136ca572468b939f3c259f2af85f",
       "version_major": 2,
       "version_minor": 0
      },
      "text/plain": [
       "Epoch 332/500 [Train]:   0%|          | 0/28 [00:00<?, ?it/s]"
      ]
     },
     "metadata": {},
     "output_type": "display_data"
    },
    {
     "name": "stderr",
     "output_type": "stream",
     "text": [
      "2025-09-13 08:28:03,237 - INFO - Epoch 332/500 | Validation Acc: 0.8229\n"
     ]
    },
    {
     "data": {
      "application/vnd.jupyter.widget-view+json": {
       "model_id": "94296509b0594c8aaceb1d60623680ff",
       "version_major": 2,
       "version_minor": 0
      },
      "text/plain": [
       "Epoch 333/500 [Train]:   0%|          | 0/28 [00:00<?, ?it/s]"
      ]
     },
     "metadata": {},
     "output_type": "display_data"
    },
    {
     "name": "stderr",
     "output_type": "stream",
     "text": [
      "2025-09-13 08:28:08,083 - INFO - Epoch 333/500 | Validation Acc: 0.8750\n"
     ]
    },
    {
     "data": {
      "application/vnd.jupyter.widget-view+json": {
       "model_id": "fae2f5541c55475789e2ccc676386b09",
       "version_major": 2,
       "version_minor": 0
      },
      "text/plain": [
       "Epoch 334/500 [Train]:   0%|          | 0/28 [00:00<?, ?it/s]"
      ]
     },
     "metadata": {},
     "output_type": "display_data"
    },
    {
     "name": "stderr",
     "output_type": "stream",
     "text": [
      "2025-09-13 08:28:12,907 - INFO - Epoch 334/500 | Validation Acc: 0.8229\n"
     ]
    },
    {
     "data": {
      "application/vnd.jupyter.widget-view+json": {
       "model_id": "d25a10cba0e543f1b35164f8f924a277",
       "version_major": 2,
       "version_minor": 0
      },
      "text/plain": [
       "Epoch 335/500 [Train]:   0%|          | 0/28 [00:00<?, ?it/s]"
      ]
     },
     "metadata": {},
     "output_type": "display_data"
    },
    {
     "name": "stderr",
     "output_type": "stream",
     "text": [
      "2025-09-13 08:28:18,020 - INFO - Epoch 335/500 | Validation Acc: 0.8490\n"
     ]
    },
    {
     "data": {
      "application/vnd.jupyter.widget-view+json": {
       "model_id": "7839615dcfbf4868a03c680324f264b0",
       "version_major": 2,
       "version_minor": 0
      },
      "text/plain": [
       "Epoch 336/500 [Train]:   0%|          | 0/28 [00:00<?, ?it/s]"
      ]
     },
     "metadata": {},
     "output_type": "display_data"
    },
    {
     "name": "stderr",
     "output_type": "stream",
     "text": [
      "2025-09-13 08:28:22,965 - INFO - Epoch 336/500 | Validation Acc: 0.8490\n"
     ]
    },
    {
     "data": {
      "application/vnd.jupyter.widget-view+json": {
       "model_id": "b91fe575e0624210a9b1d78e0ec1a023",
       "version_major": 2,
       "version_minor": 0
      },
      "text/plain": [
       "Epoch 337/500 [Train]:   0%|          | 0/28 [00:00<?, ?it/s]"
      ]
     },
     "metadata": {},
     "output_type": "display_data"
    },
    {
     "name": "stderr",
     "output_type": "stream",
     "text": [
      "2025-09-13 08:28:27,884 - INFO - Epoch 337/500 | Validation Acc: 0.8594\n"
     ]
    },
    {
     "data": {
      "application/vnd.jupyter.widget-view+json": {
       "model_id": "85a4ca728a514c56b463e91c9df716c0",
       "version_major": 2,
       "version_minor": 0
      },
      "text/plain": [
       "Epoch 338/500 [Train]:   0%|          | 0/28 [00:00<?, ?it/s]"
      ]
     },
     "metadata": {},
     "output_type": "display_data"
    },
    {
     "name": "stderr",
     "output_type": "stream",
     "text": [
      "2025-09-13 08:28:32,806 - INFO - Epoch 338/500 | Validation Acc: 0.8385\n"
     ]
    },
    {
     "data": {
      "application/vnd.jupyter.widget-view+json": {
       "model_id": "68ade91632df4b058b507bb1b705f8fd",
       "version_major": 2,
       "version_minor": 0
      },
      "text/plain": [
       "Epoch 339/500 [Train]:   0%|          | 0/28 [00:00<?, ?it/s]"
      ]
     },
     "metadata": {},
     "output_type": "display_data"
    },
    {
     "name": "stderr",
     "output_type": "stream",
     "text": [
      "2025-09-13 08:28:37,816 - INFO - Epoch 339/500 | Validation Acc: 0.7865\n"
     ]
    },
    {
     "data": {
      "application/vnd.jupyter.widget-view+json": {
       "model_id": "075318da7e56425e97b789ba313e4142",
       "version_major": 2,
       "version_minor": 0
      },
      "text/plain": [
       "Epoch 340/500 [Train]:   0%|          | 0/28 [00:00<?, ?it/s]"
      ]
     },
     "metadata": {},
     "output_type": "display_data"
    },
    {
     "name": "stderr",
     "output_type": "stream",
     "text": [
      "2025-09-13 08:28:42,904 - INFO - Epoch 340/500 | Validation Acc: 0.7552\n"
     ]
    },
    {
     "data": {
      "application/vnd.jupyter.widget-view+json": {
       "model_id": "b714b692be7847998ccea2f9cb59aeb9",
       "version_major": 2,
       "version_minor": 0
      },
      "text/plain": [
       "Epoch 341/500 [Train]:   0%|          | 0/28 [00:00<?, ?it/s]"
      ]
     },
     "metadata": {},
     "output_type": "display_data"
    },
    {
     "name": "stderr",
     "output_type": "stream",
     "text": [
      "2025-09-13 08:28:47,954 - INFO - Epoch 341/500 | Validation Acc: 0.8177\n"
     ]
    },
    {
     "data": {
      "application/vnd.jupyter.widget-view+json": {
       "model_id": "6e87ca6de1c94af2bae91acb341a0080",
       "version_major": 2,
       "version_minor": 0
      },
      "text/plain": [
       "Epoch 342/500 [Train]:   0%|          | 0/28 [00:00<?, ?it/s]"
      ]
     },
     "metadata": {},
     "output_type": "display_data"
    },
    {
     "name": "stderr",
     "output_type": "stream",
     "text": [
      "2025-09-13 08:28:53,018 - INFO - Epoch 342/500 | Validation Acc: 0.8698\n"
     ]
    },
    {
     "data": {
      "application/vnd.jupyter.widget-view+json": {
       "model_id": "66eac1e2a629467198912b2771880701",
       "version_major": 2,
       "version_minor": 0
      },
      "text/plain": [
       "Epoch 343/500 [Train]:   0%|          | 0/28 [00:00<?, ?it/s]"
      ]
     },
     "metadata": {},
     "output_type": "display_data"
    },
    {
     "name": "stderr",
     "output_type": "stream",
     "text": [
      "2025-09-13 08:28:57,975 - INFO - Epoch 343/500 | Validation Acc: 0.8802\n"
     ]
    },
    {
     "data": {
      "application/vnd.jupyter.widget-view+json": {
       "model_id": "f72e389e40f944769b9d6038d2eec502",
       "version_major": 2,
       "version_minor": 0
      },
      "text/plain": [
       "Epoch 344/500 [Train]:   0%|          | 0/28 [00:00<?, ?it/s]"
      ]
     },
     "metadata": {},
     "output_type": "display_data"
    },
    {
     "name": "stderr",
     "output_type": "stream",
     "text": [
      "2025-09-13 08:29:03,075 - INFO - Epoch 344/500 | Validation Acc: 0.8438\n"
     ]
    },
    {
     "data": {
      "application/vnd.jupyter.widget-view+json": {
       "model_id": "2a5ca62d5e274e01b02f8d640598a169",
       "version_major": 2,
       "version_minor": 0
      },
      "text/plain": [
       "Epoch 345/500 [Train]:   0%|          | 0/28 [00:00<?, ?it/s]"
      ]
     },
     "metadata": {},
     "output_type": "display_data"
    },
    {
     "name": "stderr",
     "output_type": "stream",
     "text": [
      "2025-09-13 08:29:07,995 - INFO - Epoch 345/500 | Validation Acc: 0.9062\n"
     ]
    },
    {
     "data": {
      "application/vnd.jupyter.widget-view+json": {
       "model_id": "208ac096d0af403898fa9b449b95ec1d",
       "version_major": 2,
       "version_minor": 0
      },
      "text/plain": [
       "Epoch 346/500 [Train]:   0%|          | 0/28 [00:00<?, ?it/s]"
      ]
     },
     "metadata": {},
     "output_type": "display_data"
    },
    {
     "name": "stderr",
     "output_type": "stream",
     "text": [
      "2025-09-13 08:29:12,925 - INFO - Epoch 346/500 | Validation Acc: 0.9062\n"
     ]
    },
    {
     "data": {
      "application/vnd.jupyter.widget-view+json": {
       "model_id": "bc247b3eb81341329a5002521961355b",
       "version_major": 2,
       "version_minor": 0
      },
      "text/plain": [
       "Epoch 347/500 [Train]:   0%|          | 0/28 [00:00<?, ?it/s]"
      ]
     },
     "metadata": {},
     "output_type": "display_data"
    },
    {
     "name": "stderr",
     "output_type": "stream",
     "text": [
      "2025-09-13 08:29:18,195 - INFO - Epoch 347/500 | Validation Acc: 0.8802\n"
     ]
    },
    {
     "data": {
      "application/vnd.jupyter.widget-view+json": {
       "model_id": "0e614a69b69644c2b672f4fe38fd55d6",
       "version_major": 2,
       "version_minor": 0
      },
      "text/plain": [
       "Epoch 348/500 [Train]:   0%|          | 0/28 [00:00<?, ?it/s]"
      ]
     },
     "metadata": {},
     "output_type": "display_data"
    },
    {
     "name": "stderr",
     "output_type": "stream",
     "text": [
      "2025-09-13 08:29:23,502 - INFO - Epoch 348/500 | Validation Acc: 0.8958\n"
     ]
    },
    {
     "data": {
      "application/vnd.jupyter.widget-view+json": {
       "model_id": "ae969e445cda4f5fbc17a6ecdbc50f11",
       "version_major": 2,
       "version_minor": 0
      },
      "text/plain": [
       "Epoch 349/500 [Train]:   0%|          | 0/28 [00:00<?, ?it/s]"
      ]
     },
     "metadata": {},
     "output_type": "display_data"
    },
    {
     "name": "stderr",
     "output_type": "stream",
     "text": [
      "2025-09-13 08:29:28,397 - INFO - Epoch 349/500 | Validation Acc: 0.8906\n"
     ]
    },
    {
     "data": {
      "application/vnd.jupyter.widget-view+json": {
       "model_id": "078f9bd40b424168aaa500d41f166595",
       "version_major": 2,
       "version_minor": 0
      },
      "text/plain": [
       "Epoch 350/500 [Train]:   0%|          | 0/28 [00:00<?, ?it/s]"
      ]
     },
     "metadata": {},
     "output_type": "display_data"
    },
    {
     "name": "stderr",
     "output_type": "stream",
     "text": [
      "2025-09-13 08:29:33,349 - INFO - Epoch 350/500 | Validation Acc: 0.8906\n"
     ]
    },
    {
     "data": {
      "application/vnd.jupyter.widget-view+json": {
       "model_id": "df79b619177345f6ba17d3e13270d801",
       "version_major": 2,
       "version_minor": 0
      },
      "text/plain": [
       "Epoch 351/500 [Train]:   0%|          | 0/28 [00:00<?, ?it/s]"
      ]
     },
     "metadata": {},
     "output_type": "display_data"
    },
    {
     "name": "stderr",
     "output_type": "stream",
     "text": [
      "2025-09-13 08:29:38,354 - INFO - Epoch 351/500 | Validation Acc: 0.8698\n"
     ]
    },
    {
     "data": {
      "application/vnd.jupyter.widget-view+json": {
       "model_id": "7db41854152e46498d37b50e34020e1a",
       "version_major": 2,
       "version_minor": 0
      },
      "text/plain": [
       "Epoch 352/500 [Train]:   0%|          | 0/28 [00:00<?, ?it/s]"
      ]
     },
     "metadata": {},
     "output_type": "display_data"
    },
    {
     "name": "stderr",
     "output_type": "stream",
     "text": [
      "2025-09-13 08:29:43,270 - INFO - Epoch 352/500 | Validation Acc: 0.9115\n"
     ]
    },
    {
     "data": {
      "application/vnd.jupyter.widget-view+json": {
       "model_id": "5963a61ff2104776896292a40c4852c7",
       "version_major": 2,
       "version_minor": 0
      },
      "text/plain": [
       "Epoch 353/500 [Train]:   0%|          | 0/28 [00:00<?, ?it/s]"
      ]
     },
     "metadata": {},
     "output_type": "display_data"
    },
    {
     "name": "stderr",
     "output_type": "stream",
     "text": [
      "2025-09-13 08:29:48,232 - INFO - Epoch 353/500 | Validation Acc: 0.8958\n"
     ]
    },
    {
     "data": {
      "application/vnd.jupyter.widget-view+json": {
       "model_id": "03201ec242334e8aaea5bea774f57977",
       "version_major": 2,
       "version_minor": 0
      },
      "text/plain": [
       "Epoch 354/500 [Train]:   0%|          | 0/28 [00:00<?, ?it/s]"
      ]
     },
     "metadata": {},
     "output_type": "display_data"
    },
    {
     "name": "stderr",
     "output_type": "stream",
     "text": [
      "2025-09-13 08:29:53,192 - INFO - Epoch 354/500 | Validation Acc: 0.9010\n"
     ]
    },
    {
     "data": {
      "application/vnd.jupyter.widget-view+json": {
       "model_id": "0e7c7878504f48b5bd703a9baeed639f",
       "version_major": 2,
       "version_minor": 0
      },
      "text/plain": [
       "Epoch 355/500 [Train]:   0%|          | 0/28 [00:00<?, ?it/s]"
      ]
     },
     "metadata": {},
     "output_type": "display_data"
    },
    {
     "name": "stderr",
     "output_type": "stream",
     "text": [
      "2025-09-13 08:29:58,084 - INFO - Epoch 355/500 | Validation Acc: 0.8906\n"
     ]
    },
    {
     "data": {
      "application/vnd.jupyter.widget-view+json": {
       "model_id": "db23b930b05743c4aedb98ff8ec57341",
       "version_major": 2,
       "version_minor": 0
      },
      "text/plain": [
       "Epoch 356/500 [Train]:   0%|          | 0/28 [00:00<?, ?it/s]"
      ]
     },
     "metadata": {},
     "output_type": "display_data"
    },
    {
     "name": "stderr",
     "output_type": "stream",
     "text": [
      "2025-09-13 08:30:02,971 - INFO - Epoch 356/500 | Validation Acc: 0.8906\n"
     ]
    },
    {
     "data": {
      "application/vnd.jupyter.widget-view+json": {
       "model_id": "6a3baaf3ec2142cfbc6078bea78b89d4",
       "version_major": 2,
       "version_minor": 0
      },
      "text/plain": [
       "Epoch 357/500 [Train]:   0%|          | 0/28 [00:00<?, ?it/s]"
      ]
     },
     "metadata": {},
     "output_type": "display_data"
    },
    {
     "name": "stderr",
     "output_type": "stream",
     "text": [
      "2025-09-13 08:30:07,873 - INFO - Epoch 357/500 | Validation Acc: 0.9062\n"
     ]
    },
    {
     "data": {
      "application/vnd.jupyter.widget-view+json": {
       "model_id": "1d3c43af053b4dc190ce642436ed9e76",
       "version_major": 2,
       "version_minor": 0
      },
      "text/plain": [
       "Epoch 358/500 [Train]:   0%|          | 0/28 [00:00<?, ?it/s]"
      ]
     },
     "metadata": {},
     "output_type": "display_data"
    },
    {
     "name": "stderr",
     "output_type": "stream",
     "text": [
      "2025-09-13 08:30:12,865 - INFO - Epoch 358/500 | Validation Acc: 0.9010\n"
     ]
    },
    {
     "data": {
      "application/vnd.jupyter.widget-view+json": {
       "model_id": "2447df4a03304ae7902b5ec0e649e0e0",
       "version_major": 2,
       "version_minor": 0
      },
      "text/plain": [
       "Epoch 359/500 [Train]:   0%|          | 0/28 [00:00<?, ?it/s]"
      ]
     },
     "metadata": {},
     "output_type": "display_data"
    },
    {
     "name": "stderr",
     "output_type": "stream",
     "text": [
      "2025-09-13 08:30:17,817 - INFO - Epoch 359/500 | Validation Acc: 0.9062\n"
     ]
    },
    {
     "data": {
      "application/vnd.jupyter.widget-view+json": {
       "model_id": "f90e0f0d30114a0b9a06ec6bde6bb762",
       "version_major": 2,
       "version_minor": 0
      },
      "text/plain": [
       "Epoch 360/500 [Train]:   0%|          | 0/28 [00:00<?, ?it/s]"
      ]
     },
     "metadata": {},
     "output_type": "display_data"
    },
    {
     "name": "stderr",
     "output_type": "stream",
     "text": [
      "2025-09-13 08:30:22,702 - INFO - Epoch 360/500 | Validation Acc: 0.9115\n"
     ]
    },
    {
     "data": {
      "application/vnd.jupyter.widget-view+json": {
       "model_id": "dd4ba9fe9b6d4126b3a681526da0c468",
       "version_major": 2,
       "version_minor": 0
      },
      "text/plain": [
       "Epoch 361/500 [Train]:   0%|          | 0/28 [00:00<?, ?it/s]"
      ]
     },
     "metadata": {},
     "output_type": "display_data"
    },
    {
     "name": "stderr",
     "output_type": "stream",
     "text": [
      "2025-09-13 08:30:27,581 - INFO - Epoch 361/500 | Validation Acc: 0.9115\n"
     ]
    },
    {
     "data": {
      "application/vnd.jupyter.widget-view+json": {
       "model_id": "626bf42ba08148f78e9c0c12193f2cf4",
       "version_major": 2,
       "version_minor": 0
      },
      "text/plain": [
       "Epoch 362/500 [Train]:   0%|          | 0/28 [00:00<?, ?it/s]"
      ]
     },
     "metadata": {},
     "output_type": "display_data"
    },
    {
     "name": "stderr",
     "output_type": "stream",
     "text": [
      "2025-09-13 08:30:32,543 - INFO - Epoch 362/500 | Validation Acc: 0.9219\n"
     ]
    },
    {
     "data": {
      "application/vnd.jupyter.widget-view+json": {
       "model_id": "e566897b40e64c88a456ccc71776f262",
       "version_major": 2,
       "version_minor": 0
      },
      "text/plain": [
       "Epoch 363/500 [Train]:   0%|          | 0/28 [00:00<?, ?it/s]"
      ]
     },
     "metadata": {},
     "output_type": "display_data"
    },
    {
     "name": "stderr",
     "output_type": "stream",
     "text": [
      "2025-09-13 08:30:37,428 - INFO - Epoch 363/500 | Validation Acc: 0.9167\n"
     ]
    },
    {
     "data": {
      "application/vnd.jupyter.widget-view+json": {
       "model_id": "5d1dbb968d6e4372ab2b6b958d1b88b4",
       "version_major": 2,
       "version_minor": 0
      },
      "text/plain": [
       "Epoch 364/500 [Train]:   0%|          | 0/28 [00:00<?, ?it/s]"
      ]
     },
     "metadata": {},
     "output_type": "display_data"
    },
    {
     "name": "stderr",
     "output_type": "stream",
     "text": [
      "2025-09-13 08:30:42,328 - INFO - Epoch 364/500 | Validation Acc: 0.9167\n"
     ]
    },
    {
     "data": {
      "application/vnd.jupyter.widget-view+json": {
       "model_id": "172410b3af12407aad89c61b978ddde7",
       "version_major": 2,
       "version_minor": 0
      },
      "text/plain": [
       "Epoch 365/500 [Train]:   0%|          | 0/28 [00:00<?, ?it/s]"
      ]
     },
     "metadata": {},
     "output_type": "display_data"
    },
    {
     "name": "stderr",
     "output_type": "stream",
     "text": [
      "2025-09-13 08:30:47,387 - INFO - Epoch 365/500 | Validation Acc: 0.9062\n"
     ]
    },
    {
     "data": {
      "application/vnd.jupyter.widget-view+json": {
       "model_id": "bac80501913147a596ef87a3eb2a9ea8",
       "version_major": 2,
       "version_minor": 0
      },
      "text/plain": [
       "Epoch 366/500 [Train]:   0%|          | 0/28 [00:00<?, ?it/s]"
      ]
     },
     "metadata": {},
     "output_type": "display_data"
    },
    {
     "name": "stderr",
     "output_type": "stream",
     "text": [
      "2025-09-13 08:30:52,540 - INFO - Epoch 366/500 | Validation Acc: 0.8750\n"
     ]
    },
    {
     "data": {
      "application/vnd.jupyter.widget-view+json": {
       "model_id": "b8269f630d0d4f9aacc90a4ecd304358",
       "version_major": 2,
       "version_minor": 0
      },
      "text/plain": [
       "Epoch 367/500 [Train]:   0%|          | 0/28 [00:00<?, ?it/s]"
      ]
     },
     "metadata": {},
     "output_type": "display_data"
    },
    {
     "name": "stderr",
     "output_type": "stream",
     "text": [
      "2025-09-13 08:30:57,598 - INFO - Epoch 367/500 | Validation Acc: 0.8906\n"
     ]
    },
    {
     "data": {
      "application/vnd.jupyter.widget-view+json": {
       "model_id": "fd4d33b648c04921992d3df06df10e92",
       "version_major": 2,
       "version_minor": 0
      },
      "text/plain": [
       "Epoch 368/500 [Train]:   0%|          | 0/28 [00:00<?, ?it/s]"
      ]
     },
     "metadata": {},
     "output_type": "display_data"
    },
    {
     "name": "stderr",
     "output_type": "stream",
     "text": [
      "2025-09-13 08:31:02,454 - INFO - Epoch 368/500 | Validation Acc: 0.8333\n"
     ]
    },
    {
     "data": {
      "application/vnd.jupyter.widget-view+json": {
       "model_id": "50b63114f00c4ee99f82a06fc8f444b0",
       "version_major": 2,
       "version_minor": 0
      },
      "text/plain": [
       "Epoch 369/500 [Train]:   0%|          | 0/28 [00:00<?, ?it/s]"
      ]
     },
     "metadata": {},
     "output_type": "display_data"
    },
    {
     "name": "stderr",
     "output_type": "stream",
     "text": [
      "2025-09-13 08:31:07,345 - INFO - Epoch 369/500 | Validation Acc: 0.9062\n"
     ]
    },
    {
     "data": {
      "application/vnd.jupyter.widget-view+json": {
       "model_id": "d51691f19f204768800ecc0baad90fde",
       "version_major": 2,
       "version_minor": 0
      },
      "text/plain": [
       "Epoch 370/500 [Train]:   0%|          | 0/28 [00:00<?, ?it/s]"
      ]
     },
     "metadata": {},
     "output_type": "display_data"
    },
    {
     "name": "stderr",
     "output_type": "stream",
     "text": [
      "2025-09-13 08:31:12,270 - INFO - Epoch 370/500 | Validation Acc: 0.9062\n"
     ]
    },
    {
     "data": {
      "application/vnd.jupyter.widget-view+json": {
       "model_id": "525d1959fc30466b86abaf89d1499696",
       "version_major": 2,
       "version_minor": 0
      },
      "text/plain": [
       "Epoch 371/500 [Train]:   0%|          | 0/28 [00:00<?, ?it/s]"
      ]
     },
     "metadata": {},
     "output_type": "display_data"
    },
    {
     "name": "stderr",
     "output_type": "stream",
     "text": [
      "2025-09-13 08:31:17,165 - INFO - Epoch 371/500 | Validation Acc: 0.8542\n"
     ]
    },
    {
     "data": {
      "application/vnd.jupyter.widget-view+json": {
       "model_id": "6bce1a322a124c0797724c5e84de97c3",
       "version_major": 2,
       "version_minor": 0
      },
      "text/plain": [
       "Epoch 372/500 [Train]:   0%|          | 0/28 [00:00<?, ?it/s]"
      ]
     },
     "metadata": {},
     "output_type": "display_data"
    },
    {
     "name": "stderr",
     "output_type": "stream",
     "text": [
      "2025-09-13 08:31:22,112 - INFO - Epoch 372/500 | Validation Acc: 0.8229\n"
     ]
    },
    {
     "data": {
      "application/vnd.jupyter.widget-view+json": {
       "model_id": "1da5e1dccd0e4a79bd48759ae96dabc7",
       "version_major": 2,
       "version_minor": 0
      },
      "text/plain": [
       "Epoch 373/500 [Train]:   0%|          | 0/28 [00:00<?, ?it/s]"
      ]
     },
     "metadata": {},
     "output_type": "display_data"
    },
    {
     "name": "stderr",
     "output_type": "stream",
     "text": [
      "2025-09-13 08:31:27,031 - INFO - Epoch 373/500 | Validation Acc: 0.8385\n"
     ]
    },
    {
     "data": {
      "application/vnd.jupyter.widget-view+json": {
       "model_id": "b1a4d53b4a8446cd9e1567a7ddbc7c29",
       "version_major": 2,
       "version_minor": 0
      },
      "text/plain": [
       "Epoch 374/500 [Train]:   0%|          | 0/28 [00:00<?, ?it/s]"
      ]
     },
     "metadata": {},
     "output_type": "display_data"
    },
    {
     "name": "stderr",
     "output_type": "stream",
     "text": [
      "2025-09-13 08:31:32,032 - INFO - Epoch 374/500 | Validation Acc: 0.9010\n"
     ]
    },
    {
     "data": {
      "application/vnd.jupyter.widget-view+json": {
       "model_id": "25672f6a0e9f4e33be0a7f8698476b83",
       "version_major": 2,
       "version_minor": 0
      },
      "text/plain": [
       "Epoch 375/500 [Train]:   0%|          | 0/28 [00:00<?, ?it/s]"
      ]
     },
     "metadata": {},
     "output_type": "display_data"
    },
    {
     "name": "stderr",
     "output_type": "stream",
     "text": [
      "2025-09-13 08:31:36,991 - INFO - Epoch 375/500 | Validation Acc: 0.9010\n"
     ]
    },
    {
     "data": {
      "application/vnd.jupyter.widget-view+json": {
       "model_id": "46c6aaf1835f406e941f7b0edfffc008",
       "version_major": 2,
       "version_minor": 0
      },
      "text/plain": [
       "Epoch 376/500 [Train]:   0%|          | 0/28 [00:00<?, ?it/s]"
      ]
     },
     "metadata": {},
     "output_type": "display_data"
    },
    {
     "name": "stderr",
     "output_type": "stream",
     "text": [
      "2025-09-13 08:31:41,876 - INFO - Epoch 376/500 | Validation Acc: 0.9219\n"
     ]
    },
    {
     "data": {
      "application/vnd.jupyter.widget-view+json": {
       "model_id": "3941bd26f5994743a4a4b01b7f2f5bc3",
       "version_major": 2,
       "version_minor": 0
      },
      "text/plain": [
       "Epoch 377/500 [Train]:   0%|          | 0/28 [00:00<?, ?it/s]"
      ]
     },
     "metadata": {},
     "output_type": "display_data"
    },
    {
     "name": "stderr",
     "output_type": "stream",
     "text": [
      "2025-09-13 08:31:46,799 - INFO - Epoch 377/500 | Validation Acc: 0.9219\n"
     ]
    },
    {
     "data": {
      "application/vnd.jupyter.widget-view+json": {
       "model_id": "3f731f374ff04605a688fe1ea6f37f3d",
       "version_major": 2,
       "version_minor": 0
      },
      "text/plain": [
       "Epoch 378/500 [Train]:   0%|          | 0/28 [00:00<?, ?it/s]"
      ]
     },
     "metadata": {},
     "output_type": "display_data"
    },
    {
     "name": "stderr",
     "output_type": "stream",
     "text": [
      "2025-09-13 08:31:51,949 - INFO - Epoch 378/500 | Validation Acc: 0.9115\n"
     ]
    },
    {
     "data": {
      "application/vnd.jupyter.widget-view+json": {
       "model_id": "d0fd5c01888241588f1d0cf2102b2f84",
       "version_major": 2,
       "version_minor": 0
      },
      "text/plain": [
       "Epoch 379/500 [Train]:   0%|          | 0/28 [00:00<?, ?it/s]"
      ]
     },
     "metadata": {},
     "output_type": "display_data"
    },
    {
     "name": "stderr",
     "output_type": "stream",
     "text": [
      "2025-09-13 08:31:57,102 - INFO - Epoch 379/500 | Validation Acc: 0.8802\n"
     ]
    },
    {
     "data": {
      "application/vnd.jupyter.widget-view+json": {
       "model_id": "655d5a9ac88a4682b1e6398f92f5bebb",
       "version_major": 2,
       "version_minor": 0
      },
      "text/plain": [
       "Epoch 380/500 [Train]:   0%|          | 0/28 [00:00<?, ?it/s]"
      ]
     },
     "metadata": {},
     "output_type": "display_data"
    },
    {
     "name": "stderr",
     "output_type": "stream",
     "text": [
      "2025-09-13 08:32:01,950 - INFO - Epoch 380/500 | Validation Acc: 0.8698\n"
     ]
    },
    {
     "data": {
      "application/vnd.jupyter.widget-view+json": {
       "model_id": "7bc8b7fdeafb4c39aa521b31ed5eb7cf",
       "version_major": 2,
       "version_minor": 0
      },
      "text/plain": [
       "Epoch 381/500 [Train]:   0%|          | 0/28 [00:00<?, ?it/s]"
      ]
     },
     "metadata": {},
     "output_type": "display_data"
    },
    {
     "name": "stderr",
     "output_type": "stream",
     "text": [
      "2025-09-13 08:32:06,835 - INFO - Epoch 381/500 | Validation Acc: 0.8281\n"
     ]
    },
    {
     "data": {
      "application/vnd.jupyter.widget-view+json": {
       "model_id": "3c57065632c84d2da0b70cfe73843742",
       "version_major": 2,
       "version_minor": 0
      },
      "text/plain": [
       "Epoch 382/500 [Train]:   0%|          | 0/28 [00:00<?, ?it/s]"
      ]
     },
     "metadata": {},
     "output_type": "display_data"
    },
    {
     "name": "stderr",
     "output_type": "stream",
     "text": [
      "2025-09-13 08:32:11,715 - INFO - Epoch 382/500 | Validation Acc: 0.8698\n"
     ]
    },
    {
     "data": {
      "application/vnd.jupyter.widget-view+json": {
       "model_id": "f4a46a51cc22419981db7daf2685a52a",
       "version_major": 2,
       "version_minor": 0
      },
      "text/plain": [
       "Epoch 383/500 [Train]:   0%|          | 0/28 [00:00<?, ?it/s]"
      ]
     },
     "metadata": {},
     "output_type": "display_data"
    },
    {
     "name": "stderr",
     "output_type": "stream",
     "text": [
      "2025-09-13 08:32:16,619 - INFO - Epoch 383/500 | Validation Acc: 0.9010\n"
     ]
    },
    {
     "data": {
      "application/vnd.jupyter.widget-view+json": {
       "model_id": "50254b50c8284c4bb96422530b8c4357",
       "version_major": 2,
       "version_minor": 0
      },
      "text/plain": [
       "Epoch 384/500 [Train]:   0%|          | 0/28 [00:00<?, ?it/s]"
      ]
     },
     "metadata": {},
     "output_type": "display_data"
    },
    {
     "name": "stderr",
     "output_type": "stream",
     "text": [
      "2025-09-13 08:32:21,549 - INFO - Epoch 384/500 | Validation Acc: 0.9219\n"
     ]
    },
    {
     "data": {
      "application/vnd.jupyter.widget-view+json": {
       "model_id": "70c72db5241748839918faba2c112f65",
       "version_major": 2,
       "version_minor": 0
      },
      "text/plain": [
       "Epoch 385/500 [Train]:   0%|          | 0/28 [00:00<?, ?it/s]"
      ]
     },
     "metadata": {},
     "output_type": "display_data"
    },
    {
     "name": "stderr",
     "output_type": "stream",
     "text": [
      "2025-09-13 08:32:26,499 - INFO - Epoch 385/500 | Validation Acc: 0.9219\n"
     ]
    },
    {
     "data": {
      "application/vnd.jupyter.widget-view+json": {
       "model_id": "5a551def545047c1ad105da317c671d5",
       "version_major": 2,
       "version_minor": 0
      },
      "text/plain": [
       "Epoch 386/500 [Train]:   0%|          | 0/28 [00:00<?, ?it/s]"
      ]
     },
     "metadata": {},
     "output_type": "display_data"
    },
    {
     "name": "stderr",
     "output_type": "stream",
     "text": [
      "2025-09-13 08:32:31,412 - INFO - Epoch 386/500 | Validation Acc: 0.9115\n"
     ]
    },
    {
     "data": {
      "application/vnd.jupyter.widget-view+json": {
       "model_id": "915a9f6e2966474c98780b5a63c4e54f",
       "version_major": 2,
       "version_minor": 0
      },
      "text/plain": [
       "Epoch 387/500 [Train]:   0%|          | 0/28 [00:00<?, ?it/s]"
      ]
     },
     "metadata": {},
     "output_type": "display_data"
    },
    {
     "name": "stderr",
     "output_type": "stream",
     "text": [
      "2025-09-13 08:32:36,238 - INFO - Epoch 387/500 | Validation Acc: 0.8958\n"
     ]
    },
    {
     "data": {
      "application/vnd.jupyter.widget-view+json": {
       "model_id": "45dc4b90bd9b4c1a87cabd925bdfd0ca",
       "version_major": 2,
       "version_minor": 0
      },
      "text/plain": [
       "Epoch 388/500 [Train]:   0%|          | 0/28 [00:00<?, ?it/s]"
      ]
     },
     "metadata": {},
     "output_type": "display_data"
    },
    {
     "name": "stderr",
     "output_type": "stream",
     "text": [
      "2025-09-13 08:32:41,132 - INFO - Epoch 388/500 | Validation Acc: 0.8802\n"
     ]
    },
    {
     "data": {
      "application/vnd.jupyter.widget-view+json": {
       "model_id": "40d26805fb4444dd814dc054e73de599",
       "version_major": 2,
       "version_minor": 0
      },
      "text/plain": [
       "Epoch 389/500 [Train]:   0%|          | 0/28 [00:00<?, ?it/s]"
      ]
     },
     "metadata": {},
     "output_type": "display_data"
    },
    {
     "name": "stderr",
     "output_type": "stream",
     "text": [
      "2025-09-13 08:32:46,037 - INFO - Epoch 389/500 | Validation Acc: 0.8542\n"
     ]
    },
    {
     "data": {
      "application/vnd.jupyter.widget-view+json": {
       "model_id": "94264492a7a44f7898aadbda96f0f6f1",
       "version_major": 2,
       "version_minor": 0
      },
      "text/plain": [
       "Epoch 390/500 [Train]:   0%|          | 0/28 [00:00<?, ?it/s]"
      ]
     },
     "metadata": {},
     "output_type": "display_data"
    },
    {
     "name": "stderr",
     "output_type": "stream",
     "text": [
      "2025-09-13 08:32:50,900 - INFO - Epoch 390/500 | Validation Acc: 0.8802\n"
     ]
    },
    {
     "data": {
      "application/vnd.jupyter.widget-view+json": {
       "model_id": "ff9a82a0bb8f4d3c94f5fa42775bf805",
       "version_major": 2,
       "version_minor": 0
      },
      "text/plain": [
       "Epoch 391/500 [Train]:   0%|          | 0/28 [00:00<?, ?it/s]"
      ]
     },
     "metadata": {},
     "output_type": "display_data"
    },
    {
     "name": "stderr",
     "output_type": "stream",
     "text": [
      "2025-09-13 08:32:55,721 - INFO - Epoch 391/500 | Validation Acc: 0.8802\n"
     ]
    },
    {
     "data": {
      "application/vnd.jupyter.widget-view+json": {
       "model_id": "3e1fce0cdb214683848c20165d2cf148",
       "version_major": 2,
       "version_minor": 0
      },
      "text/plain": [
       "Epoch 392/500 [Train]:   0%|          | 0/28 [00:00<?, ?it/s]"
      ]
     },
     "metadata": {},
     "output_type": "display_data"
    },
    {
     "name": "stderr",
     "output_type": "stream",
     "text": [
      "2025-09-13 08:33:00,458 - INFO - Epoch 392/500 | Validation Acc: 0.8854\n"
     ]
    },
    {
     "data": {
      "application/vnd.jupyter.widget-view+json": {
       "model_id": "350650d3985b4253b92afab1017b289d",
       "version_major": 2,
       "version_minor": 0
      },
      "text/plain": [
       "Epoch 393/500 [Train]:   0%|          | 0/28 [00:00<?, ?it/s]"
      ]
     },
     "metadata": {},
     "output_type": "display_data"
    },
    {
     "name": "stderr",
     "output_type": "stream",
     "text": [
      "2025-09-13 08:33:05,315 - INFO - Epoch 393/500 | Validation Acc: 0.9115\n"
     ]
    },
    {
     "data": {
      "application/vnd.jupyter.widget-view+json": {
       "model_id": "496896801cd947a1ab0b38c0b7e6d0e0",
       "version_major": 2,
       "version_minor": 0
      },
      "text/plain": [
       "Epoch 394/500 [Train]:   0%|          | 0/28 [00:00<?, ?it/s]"
      ]
     },
     "metadata": {},
     "output_type": "display_data"
    },
    {
     "name": "stderr",
     "output_type": "stream",
     "text": [
      "2025-09-13 08:33:10,257 - INFO - Epoch 394/500 | Validation Acc: 0.9010\n"
     ]
    },
    {
     "data": {
      "application/vnd.jupyter.widget-view+json": {
       "model_id": "1eb5634ee2dc4f24a8203a2e28994289",
       "version_major": 2,
       "version_minor": 0
      },
      "text/plain": [
       "Epoch 395/500 [Train]:   0%|          | 0/28 [00:00<?, ?it/s]"
      ]
     },
     "metadata": {},
     "output_type": "display_data"
    },
    {
     "name": "stderr",
     "output_type": "stream",
     "text": [
      "2025-09-13 08:33:15,148 - INFO - Epoch 395/500 | Validation Acc: 0.8958\n"
     ]
    },
    {
     "data": {
      "application/vnd.jupyter.widget-view+json": {
       "model_id": "0a1b5745f62a451fb9cf9952a78e0ed2",
       "version_major": 2,
       "version_minor": 0
      },
      "text/plain": [
       "Epoch 396/500 [Train]:   0%|          | 0/28 [00:00<?, ?it/s]"
      ]
     },
     "metadata": {},
     "output_type": "display_data"
    },
    {
     "name": "stderr",
     "output_type": "stream",
     "text": [
      "2025-09-13 08:33:20,167 - INFO - Epoch 396/500 | Validation Acc: 0.8802\n"
     ]
    },
    {
     "data": {
      "application/vnd.jupyter.widget-view+json": {
       "model_id": "20e36e2a90e14c39907014f216cb27d5",
       "version_major": 2,
       "version_minor": 0
      },
      "text/plain": [
       "Epoch 397/500 [Train]:   0%|          | 0/28 [00:00<?, ?it/s]"
      ]
     },
     "metadata": {},
     "output_type": "display_data"
    },
    {
     "name": "stderr",
     "output_type": "stream",
     "text": [
      "2025-09-13 08:33:25,160 - INFO - Epoch 397/500 | Validation Acc: 0.8906\n"
     ]
    },
    {
     "data": {
      "application/vnd.jupyter.widget-view+json": {
       "model_id": "b6e4d5ed5d994cc996eddee9660c6e46",
       "version_major": 2,
       "version_minor": 0
      },
      "text/plain": [
       "Epoch 398/500 [Train]:   0%|          | 0/28 [00:00<?, ?it/s]"
      ]
     },
     "metadata": {},
     "output_type": "display_data"
    },
    {
     "name": "stderr",
     "output_type": "stream",
     "text": [
      "2025-09-13 08:33:30,048 - INFO - Epoch 398/500 | Validation Acc: 0.8802\n"
     ]
    },
    {
     "data": {
      "application/vnd.jupyter.widget-view+json": {
       "model_id": "71763dcaa2924461b6cd08e9994d5111",
       "version_major": 2,
       "version_minor": 0
      },
      "text/plain": [
       "Epoch 399/500 [Train]:   0%|          | 0/28 [00:00<?, ?it/s]"
      ]
     },
     "metadata": {},
     "output_type": "display_data"
    },
    {
     "name": "stderr",
     "output_type": "stream",
     "text": [
      "2025-09-13 08:33:34,925 - INFO - Epoch 399/500 | Validation Acc: 0.8958\n"
     ]
    },
    {
     "data": {
      "application/vnd.jupyter.widget-view+json": {
       "model_id": "266bc21e477e453086884b2a1fd04f59",
       "version_major": 2,
       "version_minor": 0
      },
      "text/plain": [
       "Epoch 400/500 [Train]:   0%|          | 0/28 [00:00<?, ?it/s]"
      ]
     },
     "metadata": {},
     "output_type": "display_data"
    },
    {
     "name": "stderr",
     "output_type": "stream",
     "text": [
      "2025-09-13 08:33:39,863 - INFO - Epoch 400/500 | Validation Acc: 0.8906\n"
     ]
    },
    {
     "data": {
      "application/vnd.jupyter.widget-view+json": {
       "model_id": "3e1a92d2b7d446068b8d0ef6c8e3ed98",
       "version_major": 2,
       "version_minor": 0
      },
      "text/plain": [
       "Epoch 401/500 [Train]:   0%|          | 0/28 [00:00<?, ?it/s]"
      ]
     },
     "metadata": {},
     "output_type": "display_data"
    },
    {
     "name": "stderr",
     "output_type": "stream",
     "text": [
      "2025-09-13 08:33:44,959 - INFO - Epoch 401/500 | Validation Acc: 0.9010\n"
     ]
    },
    {
     "data": {
      "application/vnd.jupyter.widget-view+json": {
       "model_id": "dc6b7d6630394e58830604498cd72507",
       "version_major": 2,
       "version_minor": 0
      },
      "text/plain": [
       "Epoch 402/500 [Train]:   0%|          | 0/28 [00:00<?, ?it/s]"
      ]
     },
     "metadata": {},
     "output_type": "display_data"
    },
    {
     "name": "stderr",
     "output_type": "stream",
     "text": [
      "2025-09-13 08:33:50,093 - INFO - Epoch 402/500 | Validation Acc: 0.9010\n"
     ]
    },
    {
     "data": {
      "application/vnd.jupyter.widget-view+json": {
       "model_id": "a25b7eae7ca6468cb4bd7a2b10ecf7bf",
       "version_major": 2,
       "version_minor": 0
      },
      "text/plain": [
       "Epoch 403/500 [Train]:   0%|          | 0/28 [00:00<?, ?it/s]"
      ]
     },
     "metadata": {},
     "output_type": "display_data"
    },
    {
     "name": "stderr",
     "output_type": "stream",
     "text": [
      "2025-09-13 08:33:54,976 - INFO - Epoch 403/500 | Validation Acc: 0.9010\n"
     ]
    },
    {
     "data": {
      "application/vnd.jupyter.widget-view+json": {
       "model_id": "da880d58953f4cafb0637735598df3ce",
       "version_major": 2,
       "version_minor": 0
      },
      "text/plain": [
       "Epoch 404/500 [Train]:   0%|          | 0/28 [00:00<?, ?it/s]"
      ]
     },
     "metadata": {},
     "output_type": "display_data"
    },
    {
     "name": "stderr",
     "output_type": "stream",
     "text": [
      "2025-09-13 08:33:59,894 - INFO - Epoch 404/500 | Validation Acc: 0.9010\n"
     ]
    },
    {
     "data": {
      "application/vnd.jupyter.widget-view+json": {
       "model_id": "8fabe96dd27245f0960fd10fd74643b2",
       "version_major": 2,
       "version_minor": 0
      },
      "text/plain": [
       "Epoch 405/500 [Train]:   0%|          | 0/28 [00:00<?, ?it/s]"
      ]
     },
     "metadata": {},
     "output_type": "display_data"
    },
    {
     "name": "stderr",
     "output_type": "stream",
     "text": [
      "2025-09-13 08:34:04,853 - INFO - Epoch 405/500 | Validation Acc: 0.8958\n"
     ]
    },
    {
     "data": {
      "application/vnd.jupyter.widget-view+json": {
       "model_id": "983dbbd68515462f9725d060948e6fdb",
       "version_major": 2,
       "version_minor": 0
      },
      "text/plain": [
       "Epoch 406/500 [Train]:   0%|          | 0/28 [00:00<?, ?it/s]"
      ]
     },
     "metadata": {},
     "output_type": "display_data"
    },
    {
     "name": "stderr",
     "output_type": "stream",
     "text": [
      "2025-09-13 08:34:09,818 - INFO - Epoch 406/500 | Validation Acc: 0.9115\n"
     ]
    },
    {
     "data": {
      "application/vnd.jupyter.widget-view+json": {
       "model_id": "e31665846f924c09af8284e9be6d7074",
       "version_major": 2,
       "version_minor": 0
      },
      "text/plain": [
       "Epoch 407/500 [Train]:   0%|          | 0/28 [00:00<?, ?it/s]"
      ]
     },
     "metadata": {},
     "output_type": "display_data"
    },
    {
     "name": "stderr",
     "output_type": "stream",
     "text": [
      "2025-09-13 08:34:14,856 - INFO - Epoch 407/500 | Validation Acc: 0.9062\n"
     ]
    },
    {
     "data": {
      "application/vnd.jupyter.widget-view+json": {
       "model_id": "ec2e3b01f48041c9814868f73d65abc6",
       "version_major": 2,
       "version_minor": 0
      },
      "text/plain": [
       "Epoch 408/500 [Train]:   0%|          | 0/28 [00:00<?, ?it/s]"
      ]
     },
     "metadata": {},
     "output_type": "display_data"
    },
    {
     "name": "stderr",
     "output_type": "stream",
     "text": [
      "2025-09-13 08:34:19,862 - INFO - Epoch 408/500 | Validation Acc: 0.9010\n"
     ]
    },
    {
     "data": {
      "application/vnd.jupyter.widget-view+json": {
       "model_id": "97a4c06f232f446cb2574ce42a82d3fc",
       "version_major": 2,
       "version_minor": 0
      },
      "text/plain": [
       "Epoch 409/500 [Train]:   0%|          | 0/28 [00:00<?, ?it/s]"
      ]
     },
     "metadata": {},
     "output_type": "display_data"
    },
    {
     "name": "stderr",
     "output_type": "stream",
     "text": [
      "2025-09-13 08:34:24,781 - INFO - Epoch 409/500 | Validation Acc: 0.9062\n"
     ]
    },
    {
     "data": {
      "application/vnd.jupyter.widget-view+json": {
       "model_id": "f7bdcd89391e4a36804bdcaf97f5d504",
       "version_major": 2,
       "version_minor": 0
      },
      "text/plain": [
       "Epoch 410/500 [Train]:   0%|          | 0/28 [00:00<?, ?it/s]"
      ]
     },
     "metadata": {},
     "output_type": "display_data"
    },
    {
     "name": "stderr",
     "output_type": "stream",
     "text": [
      "2025-09-13 08:34:29,758 - INFO - Epoch 410/500 | Validation Acc: 0.9219\n"
     ]
    },
    {
     "data": {
      "application/vnd.jupyter.widget-view+json": {
       "model_id": "cc14ac39ff87446b9b7046fa079d19c7",
       "version_major": 2,
       "version_minor": 0
      },
      "text/plain": [
       "Epoch 411/500 [Train]:   0%|          | 0/28 [00:00<?, ?it/s]"
      ]
     },
     "metadata": {},
     "output_type": "display_data"
    },
    {
     "name": "stderr",
     "output_type": "stream",
     "text": [
      "2025-09-13 08:34:34,711 - INFO - Epoch 411/500 | Validation Acc: 0.9062\n"
     ]
    },
    {
     "data": {
      "application/vnd.jupyter.widget-view+json": {
       "model_id": "e7ec307ebbca4851a4da382e44955ed8",
       "version_major": 2,
       "version_minor": 0
      },
      "text/plain": [
       "Epoch 412/500 [Train]:   0%|          | 0/28 [00:00<?, ?it/s]"
      ]
     },
     "metadata": {},
     "output_type": "display_data"
    },
    {
     "name": "stderr",
     "output_type": "stream",
     "text": [
      "2025-09-13 08:34:39,613 - INFO - Epoch 412/500 | Validation Acc: 0.8958\n"
     ]
    },
    {
     "data": {
      "application/vnd.jupyter.widget-view+json": {
       "model_id": "0813d5635b5841eaade7b5ab3d0a76b1",
       "version_major": 2,
       "version_minor": 0
      },
      "text/plain": [
       "Epoch 413/500 [Train]:   0%|          | 0/28 [00:00<?, ?it/s]"
      ]
     },
     "metadata": {},
     "output_type": "display_data"
    },
    {
     "name": "stderr",
     "output_type": "stream",
     "text": [
      "2025-09-13 08:34:44,577 - INFO - Epoch 413/500 | Validation Acc: 0.8958\n"
     ]
    },
    {
     "data": {
      "application/vnd.jupyter.widget-view+json": {
       "model_id": "6d32c528b8df48c3b78c9e16f6a3e455",
       "version_major": 2,
       "version_minor": 0
      },
      "text/plain": [
       "Epoch 414/500 [Train]:   0%|          | 0/28 [00:00<?, ?it/s]"
      ]
     },
     "metadata": {},
     "output_type": "display_data"
    },
    {
     "name": "stderr",
     "output_type": "stream",
     "text": [
      "2025-09-13 08:34:49,537 - INFO - Epoch 414/500 | Validation Acc: 0.8802\n"
     ]
    },
    {
     "data": {
      "application/vnd.jupyter.widget-view+json": {
       "model_id": "f360e993cd5d423883bb4921026c0db8",
       "version_major": 2,
       "version_minor": 0
      },
      "text/plain": [
       "Epoch 415/500 [Train]:   0%|          | 0/28 [00:00<?, ?it/s]"
      ]
     },
     "metadata": {},
     "output_type": "display_data"
    },
    {
     "name": "stderr",
     "output_type": "stream",
     "text": [
      "2025-09-13 08:34:54,438 - INFO - Epoch 415/500 | Validation Acc: 0.8594\n"
     ]
    },
    {
     "data": {
      "application/vnd.jupyter.widget-view+json": {
       "model_id": "022d51076ea2475f8e91bc4f9c6817aa",
       "version_major": 2,
       "version_minor": 0
      },
      "text/plain": [
       "Epoch 416/500 [Train]:   0%|          | 0/28 [00:00<?, ?it/s]"
      ]
     },
     "metadata": {},
     "output_type": "display_data"
    },
    {
     "name": "stderr",
     "output_type": "stream",
     "text": [
      "2025-09-13 08:34:59,315 - INFO - Epoch 416/500 | Validation Acc: 0.8490\n"
     ]
    },
    {
     "data": {
      "application/vnd.jupyter.widget-view+json": {
       "model_id": "a98db07497d1443f972700a16b44cc5b",
       "version_major": 2,
       "version_minor": 0
      },
      "text/plain": [
       "Epoch 417/500 [Train]:   0%|          | 0/28 [00:00<?, ?it/s]"
      ]
     },
     "metadata": {},
     "output_type": "display_data"
    },
    {
     "name": "stderr",
     "output_type": "stream",
     "text": [
      "2025-09-13 08:35:04,143 - INFO - Epoch 417/500 | Validation Acc: 0.8802\n"
     ]
    },
    {
     "data": {
      "application/vnd.jupyter.widget-view+json": {
       "model_id": "7f12d29f4619471ba00ce33c655c41be",
       "version_major": 2,
       "version_minor": 0
      },
      "text/plain": [
       "Epoch 418/500 [Train]:   0%|          | 0/28 [00:00<?, ?it/s]"
      ]
     },
     "metadata": {},
     "output_type": "display_data"
    },
    {
     "name": "stderr",
     "output_type": "stream",
     "text": [
      "2025-09-13 08:35:09,125 - INFO - Epoch 418/500 | Validation Acc: 0.8854\n"
     ]
    },
    {
     "data": {
      "application/vnd.jupyter.widget-view+json": {
       "model_id": "0cd97ad03f1f466788385a5d4f1767a5",
       "version_major": 2,
       "version_minor": 0
      },
      "text/plain": [
       "Epoch 419/500 [Train]:   0%|          | 0/28 [00:00<?, ?it/s]"
      ]
     },
     "metadata": {},
     "output_type": "display_data"
    },
    {
     "name": "stderr",
     "output_type": "stream",
     "text": [
      "2025-09-13 08:35:13,995 - INFO - Epoch 419/500 | Validation Acc: 0.8490\n"
     ]
    },
    {
     "data": {
      "application/vnd.jupyter.widget-view+json": {
       "model_id": "80429f389efa4dcba72b0eea0c80296f",
       "version_major": 2,
       "version_minor": 0
      },
      "text/plain": [
       "Epoch 420/500 [Train]:   0%|          | 0/28 [00:00<?, ?it/s]"
      ]
     },
     "metadata": {},
     "output_type": "display_data"
    },
    {
     "name": "stderr",
     "output_type": "stream",
     "text": [
      "2025-09-13 08:35:18,850 - INFO - Epoch 420/500 | Validation Acc: 0.9010\n"
     ]
    },
    {
     "data": {
      "application/vnd.jupyter.widget-view+json": {
       "model_id": "7064e0b2f4b645548e0a528dc996ee39",
       "version_major": 2,
       "version_minor": 0
      },
      "text/plain": [
       "Epoch 421/500 [Train]:   0%|          | 0/28 [00:00<?, ?it/s]"
      ]
     },
     "metadata": {},
     "output_type": "display_data"
    },
    {
     "name": "stderr",
     "output_type": "stream",
     "text": [
      "2025-09-13 08:35:23,849 - INFO - Epoch 421/500 | Validation Acc: 0.8438\n"
     ]
    },
    {
     "data": {
      "application/vnd.jupyter.widget-view+json": {
       "model_id": "1279a83c83614b658b3ee589ecc571ee",
       "version_major": 2,
       "version_minor": 0
      },
      "text/plain": [
       "Epoch 422/500 [Train]:   0%|          | 0/28 [00:00<?, ?it/s]"
      ]
     },
     "metadata": {},
     "output_type": "display_data"
    },
    {
     "name": "stderr",
     "output_type": "stream",
     "text": [
      "2025-09-13 08:35:28,778 - INFO - Epoch 422/500 | Validation Acc: 0.8750\n"
     ]
    },
    {
     "data": {
      "application/vnd.jupyter.widget-view+json": {
       "model_id": "22d90cd90ddb4d9a8b8187cdd07e67f4",
       "version_major": 2,
       "version_minor": 0
      },
      "text/plain": [
       "Epoch 423/500 [Train]:   0%|          | 0/28 [00:00<?, ?it/s]"
      ]
     },
     "metadata": {},
     "output_type": "display_data"
    },
    {
     "name": "stderr",
     "output_type": "stream",
     "text": [
      "2025-09-13 08:35:33,691 - INFO - Epoch 423/500 | Validation Acc: 0.9010\n"
     ]
    },
    {
     "data": {
      "application/vnd.jupyter.widget-view+json": {
       "model_id": "b05070c98d3c430b9a48827836997acd",
       "version_major": 2,
       "version_minor": 0
      },
      "text/plain": [
       "Epoch 424/500 [Train]:   0%|          | 0/28 [00:00<?, ?it/s]"
      ]
     },
     "metadata": {},
     "output_type": "display_data"
    },
    {
     "name": "stderr",
     "output_type": "stream",
     "text": [
      "2025-09-13 08:35:38,660 - INFO - Epoch 424/500 | Validation Acc: 0.9219\n"
     ]
    },
    {
     "data": {
      "application/vnd.jupyter.widget-view+json": {
       "model_id": "3a7c5b4190fa455fa887c3696be5e3eb",
       "version_major": 2,
       "version_minor": 0
      },
      "text/plain": [
       "Epoch 425/500 [Train]:   0%|          | 0/28 [00:00<?, ?it/s]"
      ]
     },
     "metadata": {},
     "output_type": "display_data"
    },
    {
     "name": "stderr",
     "output_type": "stream",
     "text": [
      "2025-09-13 08:35:43,687 - INFO - Epoch 425/500 | Validation Acc: 0.9115\n"
     ]
    },
    {
     "data": {
      "application/vnd.jupyter.widget-view+json": {
       "model_id": "33a0e32882534b44b7d9fe68d14c5546",
       "version_major": 2,
       "version_minor": 0
      },
      "text/plain": [
       "Epoch 426/500 [Train]:   0%|          | 0/28 [00:00<?, ?it/s]"
      ]
     },
     "metadata": {},
     "output_type": "display_data"
    },
    {
     "name": "stderr",
     "output_type": "stream",
     "text": [
      "2025-09-13 08:35:48,774 - INFO - Epoch 426/500 | Validation Acc: 0.8698\n"
     ]
    },
    {
     "data": {
      "application/vnd.jupyter.widget-view+json": {
       "model_id": "acc4e7744a6d4711902d79b309b28a2c",
       "version_major": 2,
       "version_minor": 0
      },
      "text/plain": [
       "Epoch 427/500 [Train]:   0%|          | 0/28 [00:00<?, ?it/s]"
      ]
     },
     "metadata": {},
     "output_type": "display_data"
    },
    {
     "name": "stderr",
     "output_type": "stream",
     "text": [
      "2025-09-13 08:35:53,817 - INFO - Epoch 427/500 | Validation Acc: 0.8750\n"
     ]
    },
    {
     "data": {
      "application/vnd.jupyter.widget-view+json": {
       "model_id": "ce4e3192705a4ad8ac8d75ea8fb343aa",
       "version_major": 2,
       "version_minor": 0
      },
      "text/plain": [
       "Epoch 428/500 [Train]:   0%|          | 0/28 [00:00<?, ?it/s]"
      ]
     },
     "metadata": {},
     "output_type": "display_data"
    },
    {
     "name": "stderr",
     "output_type": "stream",
     "text": [
      "2025-09-13 08:35:58,692 - INFO - Epoch 428/500 | Validation Acc: 0.9062\n"
     ]
    },
    {
     "data": {
      "application/vnd.jupyter.widget-view+json": {
       "model_id": "2b090372bbc2458baced459ec80cea68",
       "version_major": 2,
       "version_minor": 0
      },
      "text/plain": [
       "Epoch 429/500 [Train]:   0%|          | 0/28 [00:00<?, ?it/s]"
      ]
     },
     "metadata": {},
     "output_type": "display_data"
    },
    {
     "name": "stderr",
     "output_type": "stream",
     "text": [
      "2025-09-13 08:36:03,774 - INFO - Epoch 429/500 | Validation Acc: 0.9219\n"
     ]
    },
    {
     "data": {
      "application/vnd.jupyter.widget-view+json": {
       "model_id": "3adde8c9401d4974913322cb1fa7f889",
       "version_major": 2,
       "version_minor": 0
      },
      "text/plain": [
       "Epoch 430/500 [Train]:   0%|          | 0/28 [00:00<?, ?it/s]"
      ]
     },
     "metadata": {},
     "output_type": "display_data"
    },
    {
     "name": "stderr",
     "output_type": "stream",
     "text": [
      "2025-09-13 08:36:08,728 - INFO - Epoch 430/500 | Validation Acc: 0.9219\n"
     ]
    },
    {
     "data": {
      "application/vnd.jupyter.widget-view+json": {
       "model_id": "b89df8cc972546078a53382ae7190728",
       "version_major": 2,
       "version_minor": 0
      },
      "text/plain": [
       "Epoch 431/500 [Train]:   0%|          | 0/28 [00:00<?, ?it/s]"
      ]
     },
     "metadata": {},
     "output_type": "display_data"
    },
    {
     "name": "stderr",
     "output_type": "stream",
     "text": [
      "2025-09-13 08:36:13,762 - INFO - Epoch 431/500 | Validation Acc: 0.9323\n"
     ]
    },
    {
     "data": {
      "application/vnd.jupyter.widget-view+json": {
       "model_id": "3861ca2036f347ad879039eb9534abef",
       "version_major": 2,
       "version_minor": 0
      },
      "text/plain": [
       "Epoch 432/500 [Train]:   0%|          | 0/28 [00:00<?, ?it/s]"
      ]
     },
     "metadata": {},
     "output_type": "display_data"
    },
    {
     "name": "stderr",
     "output_type": "stream",
     "text": [
      "2025-09-13 08:36:18,770 - INFO - Epoch 432/500 | Validation Acc: 0.9010\n"
     ]
    },
    {
     "data": {
      "application/vnd.jupyter.widget-view+json": {
       "model_id": "b085dc7fdd904eddad808df49ae2e34e",
       "version_major": 2,
       "version_minor": 0
      },
      "text/plain": [
       "Epoch 433/500 [Train]:   0%|          | 0/28 [00:00<?, ?it/s]"
      ]
     },
     "metadata": {},
     "output_type": "display_data"
    },
    {
     "name": "stderr",
     "output_type": "stream",
     "text": [
      "2025-09-13 08:36:23,723 - INFO - Epoch 433/500 | Validation Acc: 0.9062\n"
     ]
    },
    {
     "data": {
      "application/vnd.jupyter.widget-view+json": {
       "model_id": "3aa47b8f449d4099af3af1360ccf795b",
       "version_major": 2,
       "version_minor": 0
      },
      "text/plain": [
       "Epoch 434/500 [Train]:   0%|          | 0/28 [00:00<?, ?it/s]"
      ]
     },
     "metadata": {},
     "output_type": "display_data"
    },
    {
     "name": "stderr",
     "output_type": "stream",
     "text": [
      "2025-09-13 08:36:28,650 - INFO - Epoch 434/500 | Validation Acc: 0.8802\n"
     ]
    },
    {
     "data": {
      "application/vnd.jupyter.widget-view+json": {
       "model_id": "eb4ce978d2024612aa2630ac60164a5e",
       "version_major": 2,
       "version_minor": 0
      },
      "text/plain": [
       "Epoch 435/500 [Train]:   0%|          | 0/28 [00:00<?, ?it/s]"
      ]
     },
     "metadata": {},
     "output_type": "display_data"
    },
    {
     "name": "stderr",
     "output_type": "stream",
     "text": [
      "2025-09-13 08:36:33,779 - INFO - Epoch 435/500 | Validation Acc: 0.8646\n"
     ]
    },
    {
     "data": {
      "application/vnd.jupyter.widget-view+json": {
       "model_id": "4eb20c8a744b4a23af3f37582b6d5cd9",
       "version_major": 2,
       "version_minor": 0
      },
      "text/plain": [
       "Epoch 436/500 [Train]:   0%|          | 0/28 [00:00<?, ?it/s]"
      ]
     },
     "metadata": {},
     "output_type": "display_data"
    },
    {
     "name": "stderr",
     "output_type": "stream",
     "text": [
      "2025-09-13 08:36:38,693 - INFO - Epoch 436/500 | Validation Acc: 0.8854\n"
     ]
    },
    {
     "data": {
      "application/vnd.jupyter.widget-view+json": {
       "model_id": "003c95af68f1435bad17fbb5b4865ff6",
       "version_major": 2,
       "version_minor": 0
      },
      "text/plain": [
       "Epoch 437/500 [Train]:   0%|          | 0/28 [00:00<?, ?it/s]"
      ]
     },
     "metadata": {},
     "output_type": "display_data"
    },
    {
     "name": "stderr",
     "output_type": "stream",
     "text": [
      "2025-09-13 08:36:43,657 - INFO - Epoch 437/500 | Validation Acc: 0.8958\n"
     ]
    },
    {
     "data": {
      "application/vnd.jupyter.widget-view+json": {
       "model_id": "0800b4db50f746a9b896b13d65821d44",
       "version_major": 2,
       "version_minor": 0
      },
      "text/plain": [
       "Epoch 438/500 [Train]:   0%|          | 0/28 [00:00<?, ?it/s]"
      ]
     },
     "metadata": {},
     "output_type": "display_data"
    },
    {
     "name": "stderr",
     "output_type": "stream",
     "text": [
      "2025-09-13 08:36:48,621 - INFO - Epoch 438/500 | Validation Acc: 0.8958\n"
     ]
    },
    {
     "data": {
      "application/vnd.jupyter.widget-view+json": {
       "model_id": "5e6725c6d388406bb42ee285e3a5edb0",
       "version_major": 2,
       "version_minor": 0
      },
      "text/plain": [
       "Epoch 439/500 [Train]:   0%|          | 0/28 [00:00<?, ?it/s]"
      ]
     },
     "metadata": {},
     "output_type": "display_data"
    },
    {
     "name": "stderr",
     "output_type": "stream",
     "text": [
      "2025-09-13 08:36:53,567 - INFO - Epoch 439/500 | Validation Acc: 0.9271\n"
     ]
    },
    {
     "data": {
      "application/vnd.jupyter.widget-view+json": {
       "model_id": "44e88735b7824c0aa871b28b1e625e09",
       "version_major": 2,
       "version_minor": 0
      },
      "text/plain": [
       "Epoch 440/500 [Train]:   0%|          | 0/28 [00:00<?, ?it/s]"
      ]
     },
     "metadata": {},
     "output_type": "display_data"
    },
    {
     "name": "stderr",
     "output_type": "stream",
     "text": [
      "2025-09-13 08:36:58,525 - INFO - Epoch 440/500 | Validation Acc: 0.9062\n"
     ]
    },
    {
     "data": {
      "application/vnd.jupyter.widget-view+json": {
       "model_id": "749130504d0740aabddef52e6099b16c",
       "version_major": 2,
       "version_minor": 0
      },
      "text/plain": [
       "Epoch 441/500 [Train]:   0%|          | 0/28 [00:00<?, ?it/s]"
      ]
     },
     "metadata": {},
     "output_type": "display_data"
    },
    {
     "name": "stderr",
     "output_type": "stream",
     "text": [
      "2025-09-13 08:37:03,587 - INFO - Epoch 441/500 | Validation Acc: 0.8646\n"
     ]
    },
    {
     "data": {
      "application/vnd.jupyter.widget-view+json": {
       "model_id": "aee031707ac04652bc7abf7d8a9885a2",
       "version_major": 2,
       "version_minor": 0
      },
      "text/plain": [
       "Epoch 442/500 [Train]:   0%|          | 0/28 [00:00<?, ?it/s]"
      ]
     },
     "metadata": {},
     "output_type": "display_data"
    },
    {
     "name": "stderr",
     "output_type": "stream",
     "text": [
      "2025-09-13 08:37:08,469 - INFO - Epoch 442/500 | Validation Acc: 0.8750\n"
     ]
    },
    {
     "data": {
      "application/vnd.jupyter.widget-view+json": {
       "model_id": "4e24a7e776324be9842e26f6292f160d",
       "version_major": 2,
       "version_minor": 0
      },
      "text/plain": [
       "Epoch 443/500 [Train]:   0%|          | 0/28 [00:00<?, ?it/s]"
      ]
     },
     "metadata": {},
     "output_type": "display_data"
    },
    {
     "name": "stderr",
     "output_type": "stream",
     "text": [
      "2025-09-13 08:37:13,466 - INFO - Epoch 443/500 | Validation Acc: 0.9010\n"
     ]
    },
    {
     "data": {
      "application/vnd.jupyter.widget-view+json": {
       "model_id": "0523dd8bd8ec4feeb8bc537059bad9e7",
       "version_major": 2,
       "version_minor": 0
      },
      "text/plain": [
       "Epoch 444/500 [Train]:   0%|          | 0/28 [00:00<?, ?it/s]"
      ]
     },
     "metadata": {},
     "output_type": "display_data"
    },
    {
     "name": "stderr",
     "output_type": "stream",
     "text": [
      "2025-09-13 08:37:18,352 - INFO - Epoch 444/500 | Validation Acc: 0.9062\n"
     ]
    },
    {
     "data": {
      "application/vnd.jupyter.widget-view+json": {
       "model_id": "e7ad8c01707d49768368f89e7e6e5f31",
       "version_major": 2,
       "version_minor": 0
      },
      "text/plain": [
       "Epoch 445/500 [Train]:   0%|          | 0/28 [00:00<?, ?it/s]"
      ]
     },
     "metadata": {},
     "output_type": "display_data"
    },
    {
     "name": "stderr",
     "output_type": "stream",
     "text": [
      "2025-09-13 08:37:23,284 - INFO - Epoch 445/500 | Validation Acc: 0.8958\n"
     ]
    },
    {
     "data": {
      "application/vnd.jupyter.widget-view+json": {
       "model_id": "7c7e1b578866430686113564440aa669",
       "version_major": 2,
       "version_minor": 0
      },
      "text/plain": [
       "Epoch 446/500 [Train]:   0%|          | 0/28 [00:00<?, ?it/s]"
      ]
     },
     "metadata": {},
     "output_type": "display_data"
    },
    {
     "name": "stderr",
     "output_type": "stream",
     "text": [
      "2025-09-13 08:37:28,600 - INFO - Epoch 446/500 | Validation Acc: 0.9167\n"
     ]
    },
    {
     "data": {
      "application/vnd.jupyter.widget-view+json": {
       "model_id": "f88184ddaae34bcea026dcaa56dc39ff",
       "version_major": 2,
       "version_minor": 0
      },
      "text/plain": [
       "Epoch 447/500 [Train]:   0%|          | 0/28 [00:00<?, ?it/s]"
      ]
     },
     "metadata": {},
     "output_type": "display_data"
    },
    {
     "name": "stderr",
     "output_type": "stream",
     "text": [
      "2025-09-13 08:37:33,524 - INFO - Epoch 447/500 | Validation Acc: 0.8906\n"
     ]
    },
    {
     "data": {
      "application/vnd.jupyter.widget-view+json": {
       "model_id": "40e1bf8820084ba7a810bff0d84b3807",
       "version_major": 2,
       "version_minor": 0
      },
      "text/plain": [
       "Epoch 448/500 [Train]:   0%|          | 0/28 [00:00<?, ?it/s]"
      ]
     },
     "metadata": {},
     "output_type": "display_data"
    },
    {
     "name": "stderr",
     "output_type": "stream",
     "text": [
      "2025-09-13 08:37:38,495 - INFO - Epoch 448/500 | Validation Acc: 0.9062\n"
     ]
    },
    {
     "data": {
      "application/vnd.jupyter.widget-view+json": {
       "model_id": "3bf1630bc4d94f74a69d7ccbbb83f50f",
       "version_major": 2,
       "version_minor": 0
      },
      "text/plain": [
       "Epoch 449/500 [Train]:   0%|          | 0/28 [00:00<?, ?it/s]"
      ]
     },
     "metadata": {},
     "output_type": "display_data"
    },
    {
     "name": "stderr",
     "output_type": "stream",
     "text": [
      "2025-09-13 08:37:43,557 - INFO - Epoch 449/500 | Validation Acc: 0.9115\n"
     ]
    },
    {
     "data": {
      "application/vnd.jupyter.widget-view+json": {
       "model_id": "c1db43c64dfc43e8bafb0e6704cced29",
       "version_major": 2,
       "version_minor": 0
      },
      "text/plain": [
       "Epoch 450/500 [Train]:   0%|          | 0/28 [00:00<?, ?it/s]"
      ]
     },
     "metadata": {},
     "output_type": "display_data"
    },
    {
     "name": "stderr",
     "output_type": "stream",
     "text": [
      "2025-09-13 08:37:48,394 - INFO - Epoch 450/500 | Validation Acc: 0.9115\n"
     ]
    },
    {
     "data": {
      "application/vnd.jupyter.widget-view+json": {
       "model_id": "5d2924a0fa0e46f1ba055720daadb747",
       "version_major": 2,
       "version_minor": 0
      },
      "text/plain": [
       "Epoch 451/500 [Train]:   0%|          | 0/28 [00:00<?, ?it/s]"
      ]
     },
     "metadata": {},
     "output_type": "display_data"
    },
    {
     "name": "stderr",
     "output_type": "stream",
     "text": [
      "2025-09-13 08:37:53,284 - INFO - Epoch 451/500 | Validation Acc: 0.9115\n"
     ]
    },
    {
     "data": {
      "application/vnd.jupyter.widget-view+json": {
       "model_id": "45eb7ec0e2f942dd87298b4217253933",
       "version_major": 2,
       "version_minor": 0
      },
      "text/plain": [
       "Epoch 452/500 [Train]:   0%|          | 0/28 [00:00<?, ?it/s]"
      ]
     },
     "metadata": {},
     "output_type": "display_data"
    },
    {
     "name": "stderr",
     "output_type": "stream",
     "text": [
      "2025-09-13 08:37:58,183 - INFO - Epoch 452/500 | Validation Acc: 0.9271\n"
     ]
    },
    {
     "data": {
      "application/vnd.jupyter.widget-view+json": {
       "model_id": "c474dc5cc84c48a2a64f79114f1b6670",
       "version_major": 2,
       "version_minor": 0
      },
      "text/plain": [
       "Epoch 453/500 [Train]:   0%|          | 0/28 [00:00<?, ?it/s]"
      ]
     },
     "metadata": {},
     "output_type": "display_data"
    },
    {
     "name": "stderr",
     "output_type": "stream",
     "text": [
      "2025-09-13 08:38:03,082 - INFO - Epoch 453/500 | Validation Acc: 0.9062\n"
     ]
    },
    {
     "data": {
      "application/vnd.jupyter.widget-view+json": {
       "model_id": "6938759cc0a24064aa851c4c2dde48ea",
       "version_major": 2,
       "version_minor": 0
      },
      "text/plain": [
       "Epoch 454/500 [Train]:   0%|          | 0/28 [00:00<?, ?it/s]"
      ]
     },
     "metadata": {},
     "output_type": "display_data"
    },
    {
     "name": "stderr",
     "output_type": "stream",
     "text": [
      "2025-09-13 08:38:08,000 - INFO - Epoch 454/500 | Validation Acc: 0.8958\n"
     ]
    },
    {
     "data": {
      "application/vnd.jupyter.widget-view+json": {
       "model_id": "c4d0a441c6fd4e58a1913ffd55919721",
       "version_major": 2,
       "version_minor": 0
      },
      "text/plain": [
       "Epoch 455/500 [Train]:   0%|          | 0/28 [00:00<?, ?it/s]"
      ]
     },
     "metadata": {},
     "output_type": "display_data"
    },
    {
     "name": "stderr",
     "output_type": "stream",
     "text": [
      "2025-09-13 08:38:13,036 - INFO - Epoch 455/500 | Validation Acc: 0.9167\n"
     ]
    },
    {
     "data": {
      "application/vnd.jupyter.widget-view+json": {
       "model_id": "46627f16b7924020a6822fd703b956b2",
       "version_major": 2,
       "version_minor": 0
      },
      "text/plain": [
       "Epoch 456/500 [Train]:   0%|          | 0/28 [00:00<?, ?it/s]"
      ]
     },
     "metadata": {},
     "output_type": "display_data"
    },
    {
     "name": "stderr",
     "output_type": "stream",
     "text": [
      "2025-09-13 08:38:17,928 - INFO - Epoch 456/500 | Validation Acc: 0.9271\n"
     ]
    },
    {
     "data": {
      "application/vnd.jupyter.widget-view+json": {
       "model_id": "2cfc453caa4e423c82c11458b3dd3941",
       "version_major": 2,
       "version_minor": 0
      },
      "text/plain": [
       "Epoch 457/500 [Train]:   0%|          | 0/28 [00:00<?, ?it/s]"
      ]
     },
     "metadata": {},
     "output_type": "display_data"
    },
    {
     "name": "stderr",
     "output_type": "stream",
     "text": [
      "2025-09-13 08:38:22,658 - INFO - Epoch 457/500 | Validation Acc: 0.9167\n"
     ]
    },
    {
     "data": {
      "application/vnd.jupyter.widget-view+json": {
       "model_id": "e8351279af454fcbb03495852b5b96b0",
       "version_major": 2,
       "version_minor": 0
      },
      "text/plain": [
       "Epoch 458/500 [Train]:   0%|          | 0/28 [00:00<?, ?it/s]"
      ]
     },
     "metadata": {},
     "output_type": "display_data"
    },
    {
     "name": "stderr",
     "output_type": "stream",
     "text": [
      "2025-09-13 08:38:27,327 - INFO - Epoch 458/500 | Validation Acc: 0.9219\n"
     ]
    },
    {
     "data": {
      "application/vnd.jupyter.widget-view+json": {
       "model_id": "467be2b42e6e4dc388e737d1b981d77c",
       "version_major": 2,
       "version_minor": 0
      },
      "text/plain": [
       "Epoch 459/500 [Train]:   0%|          | 0/28 [00:00<?, ?it/s]"
      ]
     },
     "metadata": {},
     "output_type": "display_data"
    },
    {
     "name": "stderr",
     "output_type": "stream",
     "text": [
      "2025-09-13 08:38:32,009 - INFO - Epoch 459/500 | Validation Acc: 0.9115\n"
     ]
    },
    {
     "data": {
      "application/vnd.jupyter.widget-view+json": {
       "model_id": "22ca20a75435438b84687f362133bb67",
       "version_major": 2,
       "version_minor": 0
      },
      "text/plain": [
       "Epoch 460/500 [Train]:   0%|          | 0/28 [00:00<?, ?it/s]"
      ]
     },
     "metadata": {},
     "output_type": "display_data"
    },
    {
     "name": "stderr",
     "output_type": "stream",
     "text": [
      "2025-09-13 08:38:36,676 - INFO - Epoch 460/500 | Validation Acc: 0.9167\n"
     ]
    },
    {
     "data": {
      "application/vnd.jupyter.widget-view+json": {
       "model_id": "a8cd46788bee470d826d1142910c95f5",
       "version_major": 2,
       "version_minor": 0
      },
      "text/plain": [
       "Epoch 461/500 [Train]:   0%|          | 0/28 [00:00<?, ?it/s]"
      ]
     },
     "metadata": {},
     "output_type": "display_data"
    },
    {
     "name": "stderr",
     "output_type": "stream",
     "text": [
      "2025-09-13 08:38:41,327 - INFO - Epoch 461/500 | Validation Acc: 0.9219\n"
     ]
    },
    {
     "data": {
      "application/vnd.jupyter.widget-view+json": {
       "model_id": "19d34623f4374c77824d443a4743c48a",
       "version_major": 2,
       "version_minor": 0
      },
      "text/plain": [
       "Epoch 462/500 [Train]:   0%|          | 0/28 [00:00<?, ?it/s]"
      ]
     },
     "metadata": {},
     "output_type": "display_data"
    },
    {
     "name": "stderr",
     "output_type": "stream",
     "text": [
      "2025-09-13 08:38:46,036 - INFO - Epoch 462/500 | Validation Acc: 0.9167\n"
     ]
    },
    {
     "data": {
      "application/vnd.jupyter.widget-view+json": {
       "model_id": "e6a3b704ab88463587f4c6b367397e52",
       "version_major": 2,
       "version_minor": 0
      },
      "text/plain": [
       "Epoch 463/500 [Train]:   0%|          | 0/28 [00:00<?, ?it/s]"
      ]
     },
     "metadata": {},
     "output_type": "display_data"
    },
    {
     "name": "stderr",
     "output_type": "stream",
     "text": [
      "2025-09-13 08:38:50,725 - INFO - Epoch 463/500 | Validation Acc: 0.9062\n"
     ]
    },
    {
     "data": {
      "application/vnd.jupyter.widget-view+json": {
       "model_id": "20ad2b5a7d1b4f6f8636d0a0917cd227",
       "version_major": 2,
       "version_minor": 0
      },
      "text/plain": [
       "Epoch 464/500 [Train]:   0%|          | 0/28 [00:00<?, ?it/s]"
      ]
     },
     "metadata": {},
     "output_type": "display_data"
    },
    {
     "name": "stderr",
     "output_type": "stream",
     "text": [
      "2025-09-13 08:38:55,383 - INFO - Epoch 464/500 | Validation Acc: 0.9167\n"
     ]
    },
    {
     "data": {
      "application/vnd.jupyter.widget-view+json": {
       "model_id": "5e41edd1cbdc4bbdb0831877cf341e49",
       "version_major": 2,
       "version_minor": 0
      },
      "text/plain": [
       "Epoch 465/500 [Train]:   0%|          | 0/28 [00:00<?, ?it/s]"
      ]
     },
     "metadata": {},
     "output_type": "display_data"
    },
    {
     "name": "stderr",
     "output_type": "stream",
     "text": [
      "2025-09-13 08:39:00,079 - INFO - Epoch 465/500 | Validation Acc: 0.9219\n"
     ]
    },
    {
     "data": {
      "application/vnd.jupyter.widget-view+json": {
       "model_id": "6a4c246affed4ba387e8042d587c9b73",
       "version_major": 2,
       "version_minor": 0
      },
      "text/plain": [
       "Epoch 466/500 [Train]:   0%|          | 0/28 [00:00<?, ?it/s]"
      ]
     },
     "metadata": {},
     "output_type": "display_data"
    },
    {
     "name": "stderr",
     "output_type": "stream",
     "text": [
      "2025-09-13 08:39:04,773 - INFO - Epoch 466/500 | Validation Acc: 0.9219\n"
     ]
    },
    {
     "data": {
      "application/vnd.jupyter.widget-view+json": {
       "model_id": "64fd76586c6843a5b7d122292376225c",
       "version_major": 2,
       "version_minor": 0
      },
      "text/plain": [
       "Epoch 467/500 [Train]:   0%|          | 0/28 [00:00<?, ?it/s]"
      ]
     },
     "metadata": {},
     "output_type": "display_data"
    },
    {
     "name": "stderr",
     "output_type": "stream",
     "text": [
      "2025-09-13 08:39:09,406 - INFO - Epoch 467/500 | Validation Acc: 0.9271\n"
     ]
    },
    {
     "data": {
      "application/vnd.jupyter.widget-view+json": {
       "model_id": "c77d4553bf4f4ab980081c9dd9939219",
       "version_major": 2,
       "version_minor": 0
      },
      "text/plain": [
       "Epoch 468/500 [Train]:   0%|          | 0/28 [00:00<?, ?it/s]"
      ]
     },
     "metadata": {},
     "output_type": "display_data"
    },
    {
     "name": "stderr",
     "output_type": "stream",
     "text": [
      "2025-09-13 08:39:14,056 - INFO - Epoch 468/500 | Validation Acc: 0.9010\n"
     ]
    },
    {
     "data": {
      "application/vnd.jupyter.widget-view+json": {
       "model_id": "06ee8532902a4d62bd1619b0241b09a2",
       "version_major": 2,
       "version_minor": 0
      },
      "text/plain": [
       "Epoch 469/500 [Train]:   0%|          | 0/28 [00:00<?, ?it/s]"
      ]
     },
     "metadata": {},
     "output_type": "display_data"
    },
    {
     "name": "stderr",
     "output_type": "stream",
     "text": [
      "2025-09-13 08:39:18,922 - INFO - Epoch 469/500 | Validation Acc: 0.8594\n"
     ]
    },
    {
     "data": {
      "application/vnd.jupyter.widget-view+json": {
       "model_id": "da954c2766794a2b84b3341838f9fbf0",
       "version_major": 2,
       "version_minor": 0
      },
      "text/plain": [
       "Epoch 470/500 [Train]:   0%|          | 0/28 [00:00<?, ?it/s]"
      ]
     },
     "metadata": {},
     "output_type": "display_data"
    },
    {
     "name": "stderr",
     "output_type": "stream",
     "text": [
      "2025-09-13 08:39:23,624 - INFO - Epoch 470/500 | Validation Acc: 0.8906\n"
     ]
    },
    {
     "data": {
      "application/vnd.jupyter.widget-view+json": {
       "model_id": "0c2465fac2e34ecb9eb15b5961f0d412",
       "version_major": 2,
       "version_minor": 0
      },
      "text/plain": [
       "Epoch 471/500 [Train]:   0%|          | 0/28 [00:00<?, ?it/s]"
      ]
     },
     "metadata": {},
     "output_type": "display_data"
    },
    {
     "name": "stderr",
     "output_type": "stream",
     "text": [
      "2025-09-13 08:39:28,231 - INFO - Epoch 471/500 | Validation Acc: 0.8646\n"
     ]
    },
    {
     "data": {
      "application/vnd.jupyter.widget-view+json": {
       "model_id": "69513e124e874a8d83f8bedb3b433685",
       "version_major": 2,
       "version_minor": 0
      },
      "text/plain": [
       "Epoch 472/500 [Train]:   0%|          | 0/28 [00:00<?, ?it/s]"
      ]
     },
     "metadata": {},
     "output_type": "display_data"
    },
    {
     "name": "stderr",
     "output_type": "stream",
     "text": [
      "2025-09-13 08:39:32,963 - INFO - Epoch 472/500 | Validation Acc: 0.8958\n"
     ]
    },
    {
     "data": {
      "application/vnd.jupyter.widget-view+json": {
       "model_id": "cb990d8f4ec047ee9245e5f34a7de122",
       "version_major": 2,
       "version_minor": 0
      },
      "text/plain": [
       "Epoch 473/500 [Train]:   0%|          | 0/28 [00:00<?, ?it/s]"
      ]
     },
     "metadata": {},
     "output_type": "display_data"
    },
    {
     "name": "stderr",
     "output_type": "stream",
     "text": [
      "2025-09-13 08:39:37,778 - INFO - Epoch 473/500 | Validation Acc: 0.9323\n"
     ]
    },
    {
     "data": {
      "application/vnd.jupyter.widget-view+json": {
       "model_id": "2d7f12b0878f4c19b731032177b927c2",
       "version_major": 2,
       "version_minor": 0
      },
      "text/plain": [
       "Epoch 474/500 [Train]:   0%|          | 0/28 [00:00<?, ?it/s]"
      ]
     },
     "metadata": {},
     "output_type": "display_data"
    },
    {
     "name": "stderr",
     "output_type": "stream",
     "text": [
      "2025-09-13 08:39:42,437 - INFO - Epoch 474/500 | Validation Acc: 0.9427\n",
      "2025-09-13 08:39:42,536 - INFO - New best baseline model saved with acc: 0.9427\n"
     ]
    },
    {
     "data": {
      "application/vnd.jupyter.widget-view+json": {
       "model_id": "cf8f3d11510045edb89d27f14ea18984",
       "version_major": 2,
       "version_minor": 0
      },
      "text/plain": [
       "Epoch 475/500 [Train]:   0%|          | 0/28 [00:00<?, ?it/s]"
      ]
     },
     "metadata": {},
     "output_type": "display_data"
    },
    {
     "name": "stderr",
     "output_type": "stream",
     "text": [
      "2025-09-13 08:39:47,182 - INFO - Epoch 475/500 | Validation Acc: 0.9427\n"
     ]
    },
    {
     "data": {
      "application/vnd.jupyter.widget-view+json": {
       "model_id": "1778efc4a1f246e2984006158b349802",
       "version_major": 2,
       "version_minor": 0
      },
      "text/plain": [
       "Epoch 476/500 [Train]:   0%|          | 0/28 [00:00<?, ?it/s]"
      ]
     },
     "metadata": {},
     "output_type": "display_data"
    },
    {
     "name": "stderr",
     "output_type": "stream",
     "text": [
      "2025-09-13 08:39:51,816 - INFO - Epoch 476/500 | Validation Acc: 0.9115\n"
     ]
    },
    {
     "data": {
      "application/vnd.jupyter.widget-view+json": {
       "model_id": "f692b93b442645f1a286012e8704e151",
       "version_major": 2,
       "version_minor": 0
      },
      "text/plain": [
       "Epoch 477/500 [Train]:   0%|          | 0/28 [00:00<?, ?it/s]"
      ]
     },
     "metadata": {},
     "output_type": "display_data"
    },
    {
     "name": "stderr",
     "output_type": "stream",
     "text": [
      "2025-09-13 08:39:56,494 - INFO - Epoch 477/500 | Validation Acc: 0.9062\n"
     ]
    },
    {
     "data": {
      "application/vnd.jupyter.widget-view+json": {
       "model_id": "fba3f0f4031d49f4ac9b1e24ef0fe0fe",
       "version_major": 2,
       "version_minor": 0
      },
      "text/plain": [
       "Epoch 478/500 [Train]:   0%|          | 0/28 [00:00<?, ?it/s]"
      ]
     },
     "metadata": {},
     "output_type": "display_data"
    },
    {
     "name": "stderr",
     "output_type": "stream",
     "text": [
      "2025-09-13 08:40:01,107 - INFO - Epoch 478/500 | Validation Acc: 0.9219\n"
     ]
    },
    {
     "data": {
      "application/vnd.jupyter.widget-view+json": {
       "model_id": "207ed93c4ea34596ac61f6816653c28a",
       "version_major": 2,
       "version_minor": 0
      },
      "text/plain": [
       "Epoch 479/500 [Train]:   0%|          | 0/28 [00:00<?, ?it/s]"
      ]
     },
     "metadata": {},
     "output_type": "display_data"
    },
    {
     "name": "stderr",
     "output_type": "stream",
     "text": [
      "2025-09-13 08:40:05,702 - INFO - Epoch 479/500 | Validation Acc: 0.8958\n"
     ]
    },
    {
     "data": {
      "application/vnd.jupyter.widget-view+json": {
       "model_id": "5671b28c3f824195bed769696bcd3ac6",
       "version_major": 2,
       "version_minor": 0
      },
      "text/plain": [
       "Epoch 480/500 [Train]:   0%|          | 0/28 [00:00<?, ?it/s]"
      ]
     },
     "metadata": {},
     "output_type": "display_data"
    },
    {
     "name": "stderr",
     "output_type": "stream",
     "text": [
      "2025-09-13 08:40:10,402 - INFO - Epoch 480/500 | Validation Acc: 0.9167\n"
     ]
    },
    {
     "data": {
      "application/vnd.jupyter.widget-view+json": {
       "model_id": "0b99b105b018412c9c4c96ab4ce2fe2f",
       "version_major": 2,
       "version_minor": 0
      },
      "text/plain": [
       "Epoch 481/500 [Train]:   0%|          | 0/28 [00:00<?, ?it/s]"
      ]
     },
     "metadata": {},
     "output_type": "display_data"
    },
    {
     "name": "stderr",
     "output_type": "stream",
     "text": [
      "2025-09-13 08:40:15,153 - INFO - Epoch 481/500 | Validation Acc: 0.9219\n"
     ]
    },
    {
     "data": {
      "application/vnd.jupyter.widget-view+json": {
       "model_id": "5f8938b3ab1f40d59e57de80a54a7b25",
       "version_major": 2,
       "version_minor": 0
      },
      "text/plain": [
       "Epoch 482/500 [Train]:   0%|          | 0/28 [00:00<?, ?it/s]"
      ]
     },
     "metadata": {},
     "output_type": "display_data"
    },
    {
     "name": "stderr",
     "output_type": "stream",
     "text": [
      "2025-09-13 08:40:19,737 - INFO - Epoch 482/500 | Validation Acc: 0.9062\n"
     ]
    },
    {
     "data": {
      "application/vnd.jupyter.widget-view+json": {
       "model_id": "cdb467f9de7b425bba5e555936856678",
       "version_major": 2,
       "version_minor": 0
      },
      "text/plain": [
       "Epoch 483/500 [Train]:   0%|          | 0/28 [00:00<?, ?it/s]"
      ]
     },
     "metadata": {},
     "output_type": "display_data"
    },
    {
     "name": "stderr",
     "output_type": "stream",
     "text": [
      "2025-09-13 08:40:24,603 - INFO - Epoch 483/500 | Validation Acc: 0.9271\n"
     ]
    },
    {
     "data": {
      "application/vnd.jupyter.widget-view+json": {
       "model_id": "97b84663973145a0ba02c8cda68e2a13",
       "version_major": 2,
       "version_minor": 0
      },
      "text/plain": [
       "Epoch 484/500 [Train]:   0%|          | 0/28 [00:00<?, ?it/s]"
      ]
     },
     "metadata": {},
     "output_type": "display_data"
    },
    {
     "name": "stderr",
     "output_type": "stream",
     "text": [
      "2025-09-13 08:40:29,644 - INFO - Epoch 484/500 | Validation Acc: 0.9167\n"
     ]
    },
    {
     "data": {
      "application/vnd.jupyter.widget-view+json": {
       "model_id": "4e5a0ef1fe834aab8e4267288dfb6ce3",
       "version_major": 2,
       "version_minor": 0
      },
      "text/plain": [
       "Epoch 485/500 [Train]:   0%|          | 0/28 [00:00<?, ?it/s]"
      ]
     },
     "metadata": {},
     "output_type": "display_data"
    },
    {
     "name": "stderr",
     "output_type": "stream",
     "text": [
      "2025-09-13 08:40:35,344 - INFO - Epoch 485/500 | Validation Acc: 0.9062\n"
     ]
    },
    {
     "data": {
      "application/vnd.jupyter.widget-view+json": {
       "model_id": "abada8153e8141b494a1ee5c9a704919",
       "version_major": 2,
       "version_minor": 0
      },
      "text/plain": [
       "Epoch 486/500 [Train]:   0%|          | 0/28 [00:00<?, ?it/s]"
      ]
     },
     "metadata": {},
     "output_type": "display_data"
    },
    {
     "name": "stderr",
     "output_type": "stream",
     "text": [
      "2025-09-13 08:40:40,354 - INFO - Epoch 486/500 | Validation Acc: 0.8750\n"
     ]
    },
    {
     "data": {
      "application/vnd.jupyter.widget-view+json": {
       "model_id": "cbb7005232bc4f2f9e86a4f287ba009f",
       "version_major": 2,
       "version_minor": 0
      },
      "text/plain": [
       "Epoch 487/500 [Train]:   0%|          | 0/28 [00:00<?, ?it/s]"
      ]
     },
     "metadata": {},
     "output_type": "display_data"
    },
    {
     "name": "stderr",
     "output_type": "stream",
     "text": [
      "2025-09-13 08:40:45,122 - INFO - Epoch 487/500 | Validation Acc: 0.7969\n"
     ]
    },
    {
     "data": {
      "application/vnd.jupyter.widget-view+json": {
       "model_id": "cb858ecebbd94ed899231dec5b936f06",
       "version_major": 2,
       "version_minor": 0
      },
      "text/plain": [
       "Epoch 488/500 [Train]:   0%|          | 0/28 [00:00<?, ?it/s]"
      ]
     },
     "metadata": {},
     "output_type": "display_data"
    },
    {
     "name": "stderr",
     "output_type": "stream",
     "text": [
      "2025-09-13 08:40:49,943 - INFO - Epoch 488/500 | Validation Acc: 0.8073\n"
     ]
    },
    {
     "data": {
      "application/vnd.jupyter.widget-view+json": {
       "model_id": "80d671635f88403482dc889e55ef01cd",
       "version_major": 2,
       "version_minor": 0
      },
      "text/plain": [
       "Epoch 489/500 [Train]:   0%|          | 0/28 [00:00<?, ?it/s]"
      ]
     },
     "metadata": {},
     "output_type": "display_data"
    },
    {
     "name": "stderr",
     "output_type": "stream",
     "text": [
      "2025-09-13 08:40:54,769 - INFO - Epoch 489/500 | Validation Acc: 0.7083\n"
     ]
    },
    {
     "data": {
      "application/vnd.jupyter.widget-view+json": {
       "model_id": "a9dc8db6aacf40cf9d053038bc80d889",
       "version_major": 2,
       "version_minor": 0
      },
      "text/plain": [
       "Epoch 490/500 [Train]:   0%|          | 0/28 [00:00<?, ?it/s]"
      ]
     },
     "metadata": {},
     "output_type": "display_data"
    },
    {
     "name": "stderr",
     "output_type": "stream",
     "text": [
      "2025-09-13 08:40:59,620 - INFO - Epoch 490/500 | Validation Acc: 0.8802\n"
     ]
    },
    {
     "data": {
      "application/vnd.jupyter.widget-view+json": {
       "model_id": "dd467faba9c242b88e48766b645c5a57",
       "version_major": 2,
       "version_minor": 0
      },
      "text/plain": [
       "Epoch 491/500 [Train]:   0%|          | 0/28 [00:00<?, ?it/s]"
      ]
     },
     "metadata": {},
     "output_type": "display_data"
    },
    {
     "name": "stderr",
     "output_type": "stream",
     "text": [
      "2025-09-13 08:41:04,528 - INFO - Epoch 491/500 | Validation Acc: 0.9115\n"
     ]
    },
    {
     "data": {
      "application/vnd.jupyter.widget-view+json": {
       "model_id": "6931f781f8654909baf896386872834f",
       "version_major": 2,
       "version_minor": 0
      },
      "text/plain": [
       "Epoch 492/500 [Train]:   0%|          | 0/28 [00:00<?, ?it/s]"
      ]
     },
     "metadata": {},
     "output_type": "display_data"
    },
    {
     "name": "stderr",
     "output_type": "stream",
     "text": [
      "2025-09-13 08:41:09,498 - INFO - Epoch 492/500 | Validation Acc: 0.8854\n"
     ]
    },
    {
     "data": {
      "application/vnd.jupyter.widget-view+json": {
       "model_id": "e18996309db14cc597263e4e4ccec685",
       "version_major": 2,
       "version_minor": 0
      },
      "text/plain": [
       "Epoch 493/500 [Train]:   0%|          | 0/28 [00:00<?, ?it/s]"
      ]
     },
     "metadata": {},
     "output_type": "display_data"
    },
    {
     "name": "stderr",
     "output_type": "stream",
     "text": [
      "2025-09-13 08:41:14,418 - INFO - Epoch 493/500 | Validation Acc: 0.8542\n"
     ]
    },
    {
     "data": {
      "application/vnd.jupyter.widget-view+json": {
       "model_id": "8fdf83ad60c1460db54b97b27e93519c",
       "version_major": 2,
       "version_minor": 0
      },
      "text/plain": [
       "Epoch 494/500 [Train]:   0%|          | 0/28 [00:00<?, ?it/s]"
      ]
     },
     "metadata": {},
     "output_type": "display_data"
    },
    {
     "name": "stderr",
     "output_type": "stream",
     "text": [
      "2025-09-13 08:41:19,382 - INFO - Epoch 494/500 | Validation Acc: 0.8802\n"
     ]
    },
    {
     "data": {
      "application/vnd.jupyter.widget-view+json": {
       "model_id": "6ec5eda27e2c4a189c7f813c8d2ad6f4",
       "version_major": 2,
       "version_minor": 0
      },
      "text/plain": [
       "Epoch 495/500 [Train]:   0%|          | 0/28 [00:00<?, ?it/s]"
      ]
     },
     "metadata": {},
     "output_type": "display_data"
    },
    {
     "name": "stderr",
     "output_type": "stream",
     "text": [
      "2025-09-13 08:41:24,248 - INFO - Epoch 495/500 | Validation Acc: 0.8854\n"
     ]
    },
    {
     "data": {
      "application/vnd.jupyter.widget-view+json": {
       "model_id": "8f11f05ac8f34d88bd41ffc3e529d64a",
       "version_major": 2,
       "version_minor": 0
      },
      "text/plain": [
       "Epoch 496/500 [Train]:   0%|          | 0/28 [00:00<?, ?it/s]"
      ]
     },
     "metadata": {},
     "output_type": "display_data"
    },
    {
     "name": "stderr",
     "output_type": "stream",
     "text": [
      "2025-09-13 08:41:29,225 - INFO - Epoch 496/500 | Validation Acc: 0.9167\n"
     ]
    },
    {
     "data": {
      "application/vnd.jupyter.widget-view+json": {
       "model_id": "c5656cc3687f40acbdc466d85621866b",
       "version_major": 2,
       "version_minor": 0
      },
      "text/plain": [
       "Epoch 497/500 [Train]:   0%|          | 0/28 [00:00<?, ?it/s]"
      ]
     },
     "metadata": {},
     "output_type": "display_data"
    },
    {
     "name": "stderr",
     "output_type": "stream",
     "text": [
      "2025-09-13 08:41:34,277 - INFO - Epoch 497/500 | Validation Acc: 0.8958\n"
     ]
    },
    {
     "data": {
      "application/vnd.jupyter.widget-view+json": {
       "model_id": "d44d196440f94040b1d3e5089f370d27",
       "version_major": 2,
       "version_minor": 0
      },
      "text/plain": [
       "Epoch 498/500 [Train]:   0%|          | 0/28 [00:00<?, ?it/s]"
      ]
     },
     "metadata": {},
     "output_type": "display_data"
    },
    {
     "name": "stderr",
     "output_type": "stream",
     "text": [
      "2025-09-13 08:41:39,396 - INFO - Epoch 498/500 | Validation Acc: 0.9062\n"
     ]
    },
    {
     "data": {
      "application/vnd.jupyter.widget-view+json": {
       "model_id": "7c0811bb76374d63849f4ab7769c88e6",
       "version_major": 2,
       "version_minor": 0
      },
      "text/plain": [
       "Epoch 499/500 [Train]:   0%|          | 0/28 [00:00<?, ?it/s]"
      ]
     },
     "metadata": {},
     "output_type": "display_data"
    },
    {
     "name": "stderr",
     "output_type": "stream",
     "text": [
      "2025-09-13 08:41:44,205 - INFO - Epoch 499/500 | Validation Acc: 0.8594\n"
     ]
    },
    {
     "data": {
      "application/vnd.jupyter.widget-view+json": {
       "model_id": "d913eef2da554be0a4ed7fa856475636",
       "version_major": 2,
       "version_minor": 0
      },
      "text/plain": [
       "Epoch 500/500 [Train]:   0%|          | 0/28 [00:00<?, ?it/s]"
      ]
     },
     "metadata": {},
     "output_type": "display_data"
    },
    {
     "name": "stderr",
     "output_type": "stream",
     "text": [
      "2025-09-13 08:41:49,237 - INFO - Epoch 500/500 | Validation Acc: 0.9062\n",
      "2025-09-13 08:41:49,238 - INFO - \n",
      "Loading best baseline model for final evaluation.\n",
      "2025-09-13 08:41:49,279 - INFO - --- Evaluating Model on Test Set ---\n",
      "2025-09-13 08:41:49,713 - INFO - Classification Report:\n",
      "              precision    recall  f1-score   support\n",
      "\n",
      "         ALL       1.00      0.98      0.99        48\n",
      "         AML       0.87      0.96      0.91        48\n",
      "         CLL       0.87      0.94      0.90        48\n",
      "         CML       0.95      0.79      0.86        48\n",
      "\n",
      "    accuracy                           0.92       192\n",
      "   macro avg       0.92      0.92      0.92       192\n",
      "weighted avg       0.92      0.92      0.92       192\n",
      "\n"
     ]
    },
    {
     "data": {
      "image/png": "[encoded data removed]",
      "text/plain": [
       "<Figure size 800x600 with 2 Axes>"
      ]
     },
     "metadata": {},
     "output_type": "display_data"
    },
    {
     "name": "stderr",
     "output_type": "stream",
     "text": [
      "2025-09-13 08:41:49,781 - INFO - \n",
      "=== MULTI-TASK MODEL PIPELINE ===\n",
      "2025-09-13 08:41:49,968 - INFO - --- Starting Multi-Task Model Training ---\n"
     ]
    },
    {
     "data": {
      "application/vnd.jupyter.widget-view+json": {
       "model_id": "3b8649de1cb54370aa85bce480c65d7d",
       "version_major": 2,
       "version_minor": 0
      },
      "text/plain": [
       "Epoch 1/500 [Train]:   0%|          | 0/28 [00:00<?, ?it/s]"
      ]
     },
     "metadata": {},
     "output_type": "display_data"
    },
    {
     "name": "stderr",
     "output_type": "stream",
     "text": [
      "2025-09-13 08:41:54,892 - INFO - Epoch 1/500 | Validation Type Acc: 0.5781\n",
      "2025-09-13 08:41:54,988 - INFO - New best multi-task model saved with acc: 0.5781\n"
     ]
    },
    {
     "data": {
      "application/vnd.jupyter.widget-view+json": {
       "model_id": "db0a1b592bcb4adcb01f30306b902ad0",
       "version_major": 2,
       "version_minor": 0
      },
      "text/plain": [
       "Epoch 2/500 [Train]:   0%|          | 0/28 [00:00<?, ?it/s]"
      ]
     },
     "metadata": {},
     "output_type": "display_data"
    },
    {
     "name": "stderr",
     "output_type": "stream",
     "text": [
      "2025-09-13 08:41:59,995 - INFO - Epoch 2/500 | Validation Type Acc: 0.5573\n"
     ]
    },
    {
     "data": {
      "application/vnd.jupyter.widget-view+json": {
       "model_id": "b9931c36fb3d468ab4bb27e9ab0bf486",
       "version_major": 2,
       "version_minor": 0
      },
      "text/plain": [
       "Epoch 3/500 [Train]:   0%|          | 0/28 [00:00<?, ?it/s]"
      ]
     },
     "metadata": {},
     "output_type": "display_data"
    },
    {
     "name": "stderr",
     "output_type": "stream",
     "text": [
      "2025-09-13 08:42:05,103 - INFO - Epoch 3/500 | Validation Type Acc: 0.6667\n",
      "2025-09-13 08:42:05,171 - INFO - New best multi-task model saved with acc: 0.6667\n"
     ]
    },
    {
     "data": {
      "application/vnd.jupyter.widget-view+json": {
       "model_id": "1747d9f365ac4a1a900c2d7ff0235eaa",
       "version_major": 2,
       "version_minor": 0
      },
      "text/plain": [
       "Epoch 4/500 [Train]:   0%|          | 0/28 [00:00<?, ?it/s]"
      ]
     },
     "metadata": {},
     "output_type": "display_data"
    },
    {
     "name": "stderr",
     "output_type": "stream",
     "text": [
      "2025-09-13 08:42:09,952 - INFO - Epoch 4/500 | Validation Type Acc: 0.6719\n",
      "2025-09-13 08:42:10,024 - INFO - New best multi-task model saved with acc: 0.6719\n"
     ]
    },
    {
     "data": {
      "application/vnd.jupyter.widget-view+json": {
       "model_id": "8ad2b09fe20741bbba2d94127508990c",
       "version_major": 2,
       "version_minor": 0
      },
      "text/plain": [
       "Epoch 5/500 [Train]:   0%|          | 0/28 [00:00<?, ?it/s]"
      ]
     },
     "metadata": {},
     "output_type": "display_data"
    },
    {
     "name": "stderr",
     "output_type": "stream",
     "text": [
      "2025-09-13 08:42:14,992 - INFO - Epoch 5/500 | Validation Type Acc: 0.7188\n",
      "2025-09-13 08:42:15,066 - INFO - New best multi-task model saved with acc: 0.7188\n"
     ]
    },
    {
     "data": {
      "application/vnd.jupyter.widget-view+json": {
       "model_id": "2268136c38f847609c527cbc211c8343",
       "version_major": 2,
       "version_minor": 0
      },
      "text/plain": [
       "Epoch 6/500 [Train]:   0%|          | 0/28 [00:00<?, ?it/s]"
      ]
     },
     "metadata": {},
     "output_type": "display_data"
    },
    {
     "name": "stderr",
     "output_type": "stream",
     "text": [
      "2025-09-13 08:42:19,985 - INFO - Epoch 6/500 | Validation Type Acc: 0.6562\n"
     ]
    },
    {
     "data": {
      "application/vnd.jupyter.widget-view+json": {
       "model_id": "7e6a4c8569194e569cd1312854d0e204",
       "version_major": 2,
       "version_minor": 0
      },
      "text/plain": [
       "Epoch 7/500 [Train]:   0%|          | 0/28 [00:00<?, ?it/s]"
      ]
     },
     "metadata": {},
     "output_type": "display_data"
    },
    {
     "name": "stderr",
     "output_type": "stream",
     "text": [
      "2025-09-13 08:42:24,799 - INFO - Epoch 7/500 | Validation Type Acc: 0.6094\n"
     ]
    },
    {
     "data": {
      "application/vnd.jupyter.widget-view+json": {
       "model_id": "40bb77c91de1494680f70bd821194ec5",
       "version_major": 2,
       "version_minor": 0
      },
      "text/plain": [
       "Epoch 8/500 [Train]:   0%|          | 0/28 [00:00<?, ?it/s]"
      ]
     },
     "metadata": {},
     "output_type": "display_data"
    },
    {
     "name": "stderr",
     "output_type": "stream",
     "text": [
      "2025-09-13 08:42:29,814 - INFO - Epoch 8/500 | Validation Type Acc: 0.7396\n",
      "2025-09-13 08:42:29,884 - INFO - New best multi-task model saved with acc: 0.7396\n"
     ]
    },
    {
     "data": {
      "application/vnd.jupyter.widget-view+json": {
       "model_id": "3c732894fe6e40fb8c8356ed8d2bc209",
       "version_major": 2,
       "version_minor": 0
      },
      "text/plain": [
       "Epoch 9/500 [Train]:   0%|          | 0/28 [00:00<?, ?it/s]"
      ]
     },
     "metadata": {},
     "output_type": "display_data"
    },
    {
     "name": "stderr",
     "output_type": "stream",
     "text": [
      "2025-09-13 08:42:35,127 - INFO - Epoch 9/500 | Validation Type Acc: 0.7344\n"
     ]
    },
    {
     "data": {
      "application/vnd.jupyter.widget-view+json": {
       "model_id": "b0b44a98c50546118f1ea671eff7bea8",
       "version_major": 2,
       "version_minor": 0
      },
      "text/plain": [
       "Epoch 10/500 [Train]:   0%|          | 0/28 [00:00<?, ?it/s]"
      ]
     },
     "metadata": {},
     "output_type": "display_data"
    },
    {
     "name": "stderr",
     "output_type": "stream",
     "text": [
      "2025-09-13 08:42:39,922 - INFO - Epoch 10/500 | Validation Type Acc: 0.7083\n"
     ]
    },
    {
     "data": {
      "application/vnd.jupyter.widget-view+json": {
       "model_id": "b43b169387564a3bacefc86430f4e7cf",
       "version_major": 2,
       "version_minor": 0
      },
      "text/plain": [
       "Epoch 11/500 [Train]:   0%|          | 0/28 [00:00<?, ?it/s]"
      ]
     },
     "metadata": {},
     "output_type": "display_data"
    },
    {
     "name": "stderr",
     "output_type": "stream",
     "text": [
      "2025-09-13 08:42:45,097 - INFO - Epoch 11/500 | Validation Type Acc: 0.6927\n"
     ]
    },
    {
     "data": {
      "application/vnd.jupyter.widget-view+json": {
       "model_id": "98e6a8e7080b42adb02e691faadbf1a4",
       "version_major": 2,
       "version_minor": 0
      },
      "text/plain": [
       "Epoch 12/500 [Train]:   0%|          | 0/28 [00:00<?, ?it/s]"
      ]
     },
     "metadata": {},
     "output_type": "display_data"
    },
    {
     "name": "stderr",
     "output_type": "stream",
     "text": [
      "2025-09-13 08:42:50,032 - INFO - Epoch 12/500 | Validation Type Acc: 0.7135\n"
     ]
    },
    {
     "data": {
      "application/vnd.jupyter.widget-view+json": {
       "model_id": "4c3fee7c009d4c529dca02a3b7e929bf",
       "version_major": 2,
       "version_minor": 0
      },
      "text/plain": [
       "Epoch 13/500 [Train]:   0%|          | 0/28 [00:00<?, ?it/s]"
      ]
     },
     "metadata": {},
     "output_type": "display_data"
    },
    {
     "name": "stderr",
     "output_type": "stream",
     "text": [
      "2025-09-13 08:42:54,868 - INFO - Epoch 13/500 | Validation Type Acc: 0.7083\n"
     ]
    },
    {
     "data": {
      "application/vnd.jupyter.widget-view+json": {
       "model_id": "0fa1c4cf25044f57aace78699994545e",
       "version_major": 2,
       "version_minor": 0
      },
      "text/plain": [
       "Epoch 14/500 [Train]:   0%|          | 0/28 [00:00<?, ?it/s]"
      ]
     },
     "metadata": {},
     "output_type": "display_data"
    },
    {
     "name": "stderr",
     "output_type": "stream",
     "text": [
      "2025-09-13 08:42:59,888 - INFO - Epoch 14/500 | Validation Type Acc: 0.7656\n",
      "2025-09-13 08:42:59,959 - INFO - New best multi-task model saved with acc: 0.7656\n"
     ]
    },
    {
     "data": {
      "application/vnd.jupyter.widget-view+json": {
       "model_id": "c5d0841d23ad43819a758536b9ac8637",
       "version_major": 2,
       "version_minor": 0
      },
      "text/plain": [
       "Epoch 15/500 [Train]:   0%|          | 0/28 [00:00<?, ?it/s]"
      ]
     },
     "metadata": {},
     "output_type": "display_data"
    },
    {
     "name": "stderr",
     "output_type": "stream",
     "text": [
      "2025-09-13 08:43:04,689 - INFO - Epoch 15/500 | Validation Type Acc: 0.7656\n"
     ]
    },
    {
     "data": {
      "application/vnd.jupyter.widget-view+json": {
       "model_id": "82ee799c2094429db855c47eb484aac3",
       "version_major": 2,
       "version_minor": 0
      },
      "text/plain": [
       "Epoch 16/500 [Train]:   0%|          | 0/28 [00:00<?, ?it/s]"
      ]
     },
     "metadata": {},
     "output_type": "display_data"
    },
    {
     "name": "stderr",
     "output_type": "stream",
     "text": [
      "2025-09-13 08:43:09,591 - INFO - Epoch 16/500 | Validation Type Acc: 0.8073\n",
      "2025-09-13 08:43:09,663 - INFO - New best multi-task model saved with acc: 0.8073\n"
     ]
    },
    {
     "data": {
      "application/vnd.jupyter.widget-view+json": {
       "model_id": "783addafa84c44428e0d401eea730846",
       "version_major": 2,
       "version_minor": 0
      },
      "text/plain": [
       "Epoch 17/500 [Train]:   0%|          | 0/28 [00:00<?, ?it/s]"
      ]
     },
     "metadata": {},
     "output_type": "display_data"
    },
    {
     "name": "stderr",
     "output_type": "stream",
     "text": [
      "2025-09-13 08:43:14,748 - INFO - Epoch 17/500 | Validation Type Acc: 0.7135\n"
     ]
    },
    {
     "data": {
      "application/vnd.jupyter.widget-view+json": {
       "model_id": "3c1d698011c141bba8b675fc2bb777d7",
       "version_major": 2,
       "version_minor": 0
      },
      "text/plain": [
       "Epoch 18/500 [Train]:   0%|          | 0/28 [00:00<?, ?it/s]"
      ]
     },
     "metadata": {},
     "output_type": "display_data"
    },
    {
     "name": "stderr",
     "output_type": "stream",
     "text": [
      "2025-09-13 08:43:19,677 - INFO - Epoch 18/500 | Validation Type Acc: 0.7865\n"
     ]
    },
    {
     "data": {
      "application/vnd.jupyter.widget-view+json": {
       "model_id": "83938ff124b84178b1a2e3edeaf5f492",
       "version_major": 2,
       "version_minor": 0
      },
      "text/plain": [
       "Epoch 19/500 [Train]:   0%|          | 0/28 [00:00<?, ?it/s]"
      ]
     },
     "metadata": {},
     "output_type": "display_data"
    },
    {
     "name": "stderr",
     "output_type": "stream",
     "text": [
      "2025-09-13 08:43:24,755 - INFO - Epoch 19/500 | Validation Type Acc: 0.8177\n",
      "2025-09-13 08:43:24,826 - INFO - New best multi-task model saved with acc: 0.8177\n"
     ]
    },
    {
     "data": {
      "application/vnd.jupyter.widget-view+json": {
       "model_id": "642de9556f1c4dfd81a43b097c1092c1",
       "version_major": 2,
       "version_minor": 0
      },
      "text/plain": [
       "Epoch 20/500 [Train]:   0%|          | 0/28 [00:00<?, ?it/s]"
      ]
     },
     "metadata": {},
     "output_type": "display_data"
    },
    {
     "name": "stderr",
     "output_type": "stream",
     "text": [
      "2025-09-13 08:43:29,838 - INFO - Epoch 20/500 | Validation Type Acc: 0.7656\n"
     ]
    },
    {
     "data": {
      "application/vnd.jupyter.widget-view+json": {
       "model_id": "3450ab899756490cb03f88420b436b66",
       "version_major": 2,
       "version_minor": 0
      },
      "text/plain": [
       "Epoch 21/500 [Train]:   0%|          | 0/28 [00:00<?, ?it/s]"
      ]
     },
     "metadata": {},
     "output_type": "display_data"
    },
    {
     "name": "stderr",
     "output_type": "stream",
     "text": [
      "2025-09-13 08:43:34,774 - INFO - Epoch 21/500 | Validation Type Acc: 0.7865\n"
     ]
    },
    {
     "data": {
      "application/vnd.jupyter.widget-view+json": {
       "model_id": "a7a1841118354096b7c032d7bf1bf056",
       "version_major": 2,
       "version_minor": 0
      },
      "text/plain": [
       "Epoch 22/500 [Train]:   0%|          | 0/28 [00:00<?, ?it/s]"
      ]
     },
     "metadata": {},
     "output_type": "display_data"
    },
    {
     "name": "stderr",
     "output_type": "stream",
     "text": [
      "2025-09-13 08:43:39,885 - INFO - Epoch 22/500 | Validation Type Acc: 0.7865\n"
     ]
    },
    {
     "data": {
      "application/vnd.jupyter.widget-view+json": {
       "model_id": "f16398c5f0ff47eaa76c487a958fb015",
       "version_major": 2,
       "version_minor": 0
      },
      "text/plain": [
       "Epoch 23/500 [Train]:   0%|          | 0/28 [00:00<?, ?it/s]"
      ]
     },
     "metadata": {},
     "output_type": "display_data"
    },
    {
     "name": "stderr",
     "output_type": "stream",
     "text": [
      "2025-09-13 08:43:45,082 - INFO - Epoch 23/500 | Validation Type Acc: 0.7760\n"
     ]
    },
    {
     "data": {
      "application/vnd.jupyter.widget-view+json": {
       "model_id": "3703c6bfcc6446b1a65dd1684f0fe730",
       "version_major": 2,
       "version_minor": 0
      },
      "text/plain": [
       "Epoch 24/500 [Train]:   0%|          | 0/28 [00:00<?, ?it/s]"
      ]
     },
     "metadata": {},
     "output_type": "display_data"
    },
    {
     "name": "stderr",
     "output_type": "stream",
     "text": [
      "2025-09-13 08:43:50,071 - INFO - Epoch 24/500 | Validation Type Acc: 0.8229\n",
      "2025-09-13 08:43:50,151 - INFO - New best multi-task model saved with acc: 0.8229\n"
     ]
    },
    {
     "data": {
      "application/vnd.jupyter.widget-view+json": {
       "model_id": "51f4f71f9dcb4702befad4e6dcdf1155",
       "version_major": 2,
       "version_minor": 0
      },
      "text/plain": [
       "Epoch 25/500 [Train]:   0%|          | 0/28 [00:00<?, ?it/s]"
      ]
     },
     "metadata": {},
     "output_type": "display_data"
    },
    {
     "name": "stderr",
     "output_type": "stream",
     "text": [
      "2025-09-13 08:43:55,211 - INFO - Epoch 25/500 | Validation Type Acc: 0.8281\n",
      "2025-09-13 08:43:55,281 - INFO - New best multi-task model saved with acc: 0.8281\n"
     ]
    },
    {
     "data": {
      "application/vnd.jupyter.widget-view+json": {
       "model_id": "b7cc65acf9bc47c692e49e80874b04c0",
       "version_major": 2,
       "version_minor": 0
      },
      "text/plain": [
       "Epoch 26/500 [Train]:   0%|          | 0/28 [00:00<?, ?it/s]"
      ]
     },
     "metadata": {},
     "output_type": "display_data"
    },
    {
     "name": "stderr",
     "output_type": "stream",
     "text": [
      "2025-09-13 08:44:00,168 - INFO - Epoch 26/500 | Validation Type Acc: 0.7812\n"
     ]
    },
    {
     "data": {
      "application/vnd.jupyter.widget-view+json": {
       "model_id": "c0122122c0eb4c1d9674f7403d5403b1",
       "version_major": 2,
       "version_minor": 0
      },
      "text/plain": [
       "Epoch 27/500 [Train]:   0%|          | 0/28 [00:00<?, ?it/s]"
      ]
     },
     "metadata": {},
     "output_type": "display_data"
    },
    {
     "name": "stderr",
     "output_type": "stream",
     "text": [
      "2025-09-13 08:44:05,350 - INFO - Epoch 27/500 | Validation Type Acc: 0.7812\n"
     ]
    },
    {
     "data": {
      "application/vnd.jupyter.widget-view+json": {
       "model_id": "16c4c0c2eb2b478b80a1963e882aa05a",
       "version_major": 2,
       "version_minor": 0
      },
      "text/plain": [
       "Epoch 28/500 [Train]:   0%|          | 0/28 [00:00<?, ?it/s]"
      ]
     },
     "metadata": {},
     "output_type": "display_data"
    },
    {
     "name": "stderr",
     "output_type": "stream",
     "text": [
      "2025-09-13 08:44:10,268 - INFO - Epoch 28/500 | Validation Type Acc: 0.8125\n"
     ]
    },
    {
     "data": {
      "application/vnd.jupyter.widget-view+json": {
       "model_id": "f7cf5d8596ff4f2c923041d2e120f8f6",
       "version_major": 2,
       "version_minor": 0
      },
      "text/plain": [
       "Epoch 29/500 [Train]:   0%|          | 0/28 [00:00<?, ?it/s]"
      ]
     },
     "metadata": {},
     "output_type": "display_data"
    },
    {
     "name": "stderr",
     "output_type": "stream",
     "text": [
      "2025-09-13 08:44:15,297 - INFO - Epoch 29/500 | Validation Type Acc: 0.8177\n"
     ]
    },
    {
     "data": {
      "application/vnd.jupyter.widget-view+json": {
       "model_id": "d6e9bc6c082a444d94870011d0690364",
       "version_major": 2,
       "version_minor": 0
      },
      "text/plain": [
       "Epoch 30/500 [Train]:   0%|          | 0/28 [00:00<?, ?it/s]"
      ]
     },
     "metadata": {},
     "output_type": "display_data"
    },
    {
     "name": "stderr",
     "output_type": "stream",
     "text": [
      "2025-09-13 08:44:20,630 - INFO - Epoch 30/500 | Validation Type Acc: 0.7344\n"
     ]
    },
    {
     "data": {
      "application/vnd.jupyter.widget-view+json": {
       "model_id": "615a88463650491aa684a3a87a6ab22d",
       "version_major": 2,
       "version_minor": 0
      },
      "text/plain": [
       "Epoch 31/500 [Train]:   0%|          | 0/28 [00:00<?, ?it/s]"
      ]
     },
     "metadata": {},
     "output_type": "display_data"
    },
    {
     "name": "stderr",
     "output_type": "stream",
     "text": [
      "2025-09-13 08:44:25,878 - INFO - Epoch 31/500 | Validation Type Acc: 0.8073\n"
     ]
    },
    {
     "data": {
      "application/vnd.jupyter.widget-view+json": {
       "model_id": "f66c14ecef0b441e9e159a105af6ba1c",
       "version_major": 2,
       "version_minor": 0
      },
      "text/plain": [
       "Epoch 32/500 [Train]:   0%|          | 0/28 [00:00<?, ?it/s]"
      ]
     },
     "metadata": {},
     "output_type": "display_data"
    },
    {
     "name": "stderr",
     "output_type": "stream",
     "text": [
      "2025-09-13 08:44:31,516 - INFO - Epoch 32/500 | Validation Type Acc: 0.7656\n"
     ]
    },
    {
     "data": {
      "application/vnd.jupyter.widget-view+json": {
       "model_id": "45cd109951d4485da8503f06f9c392be",
       "version_major": 2,
       "version_minor": 0
      },
      "text/plain": [
       "Epoch 33/500 [Train]:   0%|          | 0/28 [00:00<?, ?it/s]"
      ]
     },
     "metadata": {},
     "output_type": "display_data"
    },
    {
     "name": "stderr",
     "output_type": "stream",
     "text": [
      "2025-09-13 08:44:37,066 - INFO - Epoch 33/500 | Validation Type Acc: 0.8698\n",
      "2025-09-13 08:44:37,220 - INFO - New best multi-task model saved with acc: 0.8698\n"
     ]
    },
    {
     "data": {
      "application/vnd.jupyter.widget-view+json": {
       "model_id": "05a47044ac534108b5c447d7fa80c135",
       "version_major": 2,
       "version_minor": 0
      },
      "text/plain": [
       "Epoch 34/500 [Train]:   0%|          | 0/28 [00:00<?, ?it/s]"
      ]
     },
     "metadata": {},
     "output_type": "display_data"
    },
    {
     "name": "stderr",
     "output_type": "stream",
     "text": [
      "2025-09-13 08:44:42,399 - INFO - Epoch 34/500 | Validation Type Acc: 0.7656\n"
     ]
    },
    {
     "data": {
      "application/vnd.jupyter.widget-view+json": {
       "model_id": "b16a35d8784849469c15aa70f0576b5f",
       "version_major": 2,
       "version_minor": 0
      },
      "text/plain": [
       "Epoch 35/500 [Train]:   0%|          | 0/28 [00:00<?, ?it/s]"
      ]
     },
     "metadata": {},
     "output_type": "display_data"
    },
    {
     "name": "stderr",
     "output_type": "stream",
     "text": [
      "2025-09-13 08:44:47,922 - INFO - Epoch 35/500 | Validation Type Acc: 0.8438\n"
     ]
    },
    {
     "data": {
      "application/vnd.jupyter.widget-view+json": {
       "model_id": "c15d581bc2cb4a7d80e4114032c6811d",
       "version_major": 2,
       "version_minor": 0
      },
      "text/plain": [
       "Epoch 36/500 [Train]:   0%|          | 0/28 [00:00<?, ?it/s]"
      ]
     },
     "metadata": {},
     "output_type": "display_data"
    },
    {
     "name": "stderr",
     "output_type": "stream",
     "text": [
      "2025-09-13 08:44:53,059 - INFO - Epoch 36/500 | Validation Type Acc: 0.8229\n"
     ]
    },
    {
     "data": {
      "application/vnd.jupyter.widget-view+json": {
       "model_id": "61578382f99b4a848d576a52b9272034",
       "version_major": 2,
       "version_minor": 0
      },
      "text/plain": [
       "Epoch 37/500 [Train]:   0%|          | 0/28 [00:00<?, ?it/s]"
      ]
     },
     "metadata": {},
     "output_type": "display_data"
    },
    {
     "name": "stderr",
     "output_type": "stream",
     "text": [
      "2025-09-13 08:44:58,183 - INFO - Epoch 37/500 | Validation Type Acc: 0.8854\n",
      "2025-09-13 08:44:58,268 - INFO - New best multi-task model saved with acc: 0.8854\n"
     ]
    },
    {
     "data": {
      "application/vnd.jupyter.widget-view+json": {
       "model_id": "543e2011035b47c0a7c1e8128c59205a",
       "version_major": 2,
       "version_minor": 0
      },
      "text/plain": [
       "Epoch 38/500 [Train]:   0%|          | 0/28 [00:00<?, ?it/s]"
      ]
     },
     "metadata": {},
     "output_type": "display_data"
    },
    {
     "name": "stderr",
     "output_type": "stream",
     "text": [
      "2025-09-13 08:45:03,296 - INFO - Epoch 38/500 | Validation Type Acc: 0.8125\n"
     ]
    },
    {
     "data": {
      "application/vnd.jupyter.widget-view+json": {
       "model_id": "9b2ec9b0497f4e6e99c93690b59072bb",
       "version_major": 2,
       "version_minor": 0
      },
      "text/plain": [
       "Epoch 39/500 [Train]:   0%|          | 0/28 [00:00<?, ?it/s]"
      ]
     },
     "metadata": {},
     "output_type": "display_data"
    },
    {
     "name": "stderr",
     "output_type": "stream",
     "text": [
      "2025-09-13 08:45:08,576 - INFO - Epoch 39/500 | Validation Type Acc: 0.8750\n"
     ]
    },
    {
     "data": {
      "application/vnd.jupyter.widget-view+json": {
       "model_id": "09cc873f1ad94726bfaa8cf73e81031a",
       "version_major": 2,
       "version_minor": 0
      },
      "text/plain": [
       "Epoch 40/500 [Train]:   0%|          | 0/28 [00:00<?, ?it/s]"
      ]
     },
     "metadata": {},
     "output_type": "display_data"
    },
    {
     "name": "stderr",
     "output_type": "stream",
     "text": [
      "2025-09-13 08:45:13,828 - INFO - Epoch 40/500 | Validation Type Acc: 0.8438\n"
     ]
    },
    {
     "data": {
      "application/vnd.jupyter.widget-view+json": {
       "model_id": "53f8e8c349ad4b6f91cf7200dd956234",
       "version_major": 2,
       "version_minor": 0
      },
      "text/plain": [
       "Epoch 41/500 [Train]:   0%|          | 0/28 [00:00<?, ?it/s]"
      ]
     },
     "metadata": {},
     "output_type": "display_data"
    },
    {
     "name": "stderr",
     "output_type": "stream",
     "text": [
      "2025-09-13 08:45:19,038 - INFO - Epoch 41/500 | Validation Type Acc: 0.8438\n"
     ]
    },
    {
     "data": {
      "application/vnd.jupyter.widget-view+json": {
       "model_id": "b8315abbb04d446e9441c47338462fd9",
       "version_major": 2,
       "version_minor": 0
      },
      "text/plain": [
       "Epoch 42/500 [Train]:   0%|          | 0/28 [00:00<?, ?it/s]"
      ]
     },
     "metadata": {},
     "output_type": "display_data"
    },
    {
     "name": "stderr",
     "output_type": "stream",
     "text": [
      "2025-09-13 08:45:24,246 - INFO - Epoch 42/500 | Validation Type Acc: 0.9010\n",
      "2025-09-13 08:45:24,320 - INFO - New best multi-task model saved with acc: 0.9010\n"
     ]
    },
    {
     "data": {
      "application/vnd.jupyter.widget-view+json": {
       "model_id": "da631a743cae4d09aa302020013e61bd",
       "version_major": 2,
       "version_minor": 0
      },
      "text/plain": [
       "Epoch 43/500 [Train]:   0%|          | 0/28 [00:00<?, ?it/s]"
      ]
     },
     "metadata": {},
     "output_type": "display_data"
    },
    {
     "name": "stderr",
     "output_type": "stream",
     "text": [
      "2025-09-13 08:45:29,277 - INFO - Epoch 43/500 | Validation Type Acc: 0.8490\n"
     ]
    },
    {
     "data": {
      "application/vnd.jupyter.widget-view+json": {
       "model_id": "6306ad808e9348d5adca520a158d3be2",
       "version_major": 2,
       "version_minor": 0
      },
      "text/plain": [
       "Epoch 44/500 [Train]:   0%|          | 0/28 [00:00<?, ?it/s]"
      ]
     },
     "metadata": {},
     "output_type": "display_data"
    },
    {
     "name": "stderr",
     "output_type": "stream",
     "text": [
      "2025-09-13 08:45:34,672 - INFO - Epoch 44/500 | Validation Type Acc: 0.8385\n"
     ]
    },
    {
     "data": {
      "application/vnd.jupyter.widget-view+json": {
       "model_id": "fc8c808026d74ce8a380c863c3cddb33",
       "version_major": 2,
       "version_minor": 0
      },
      "text/plain": [
       "Epoch 45/500 [Train]:   0%|          | 0/28 [00:00<?, ?it/s]"
      ]
     },
     "metadata": {},
     "output_type": "display_data"
    },
    {
     "name": "stderr",
     "output_type": "stream",
     "text": [
      "2025-09-13 08:45:39,921 - INFO - Epoch 45/500 | Validation Type Acc: 0.8125\n"
     ]
    },
    {
     "data": {
      "application/vnd.jupyter.widget-view+json": {
       "model_id": "7adcddc5bfcd49339620f6016198b856",
       "version_major": 2,
       "version_minor": 0
      },
      "text/plain": [
       "Epoch 46/500 [Train]:   0%|          | 0/28 [00:00<?, ?it/s]"
      ]
     },
     "metadata": {},
     "output_type": "display_data"
    },
    {
     "name": "stderr",
     "output_type": "stream",
     "text": [
      "2025-09-13 08:45:44,845 - INFO - Epoch 46/500 | Validation Type Acc: 0.8594\n"
     ]
    },
    {
     "data": {
      "application/vnd.jupyter.widget-view+json": {
       "model_id": "445b0e4a7ac6435397e529a6bdae2f0f",
       "version_major": 2,
       "version_minor": 0
      },
      "text/plain": [
       "Epoch 47/500 [Train]:   0%|          | 0/28 [00:00<?, ?it/s]"
      ]
     },
     "metadata": {},
     "output_type": "display_data"
    },
    {
     "name": "stderr",
     "output_type": "stream",
     "text": [
      "2025-09-13 08:45:50,435 - INFO - Epoch 47/500 | Validation Type Acc: 0.8698\n"
     ]
    },
    {
     "data": {
      "application/vnd.jupyter.widget-view+json": {
       "model_id": "bb4a12c775744505875d59b6f2eb30e7",
       "version_major": 2,
       "version_minor": 0
      },
      "text/plain": [
       "Epoch 48/500 [Train]:   0%|          | 0/28 [00:00<?, ?it/s]"
      ]
     },
     "metadata": {},
     "output_type": "display_data"
    },
    {
     "name": "stderr",
     "output_type": "stream",
     "text": [
      "2025-09-13 08:45:55,634 - INFO - Epoch 48/500 | Validation Type Acc: 0.8073\n"
     ]
    },
    {
     "data": {
      "application/vnd.jupyter.widget-view+json": {
       "model_id": "12047bafd01349c482b4ce0f77120da2",
       "version_major": 2,
       "version_minor": 0
      },
      "text/plain": [
       "Epoch 49/500 [Train]:   0%|          | 0/28 [00:00<?, ?it/s]"
      ]
     },
     "metadata": {},
     "output_type": "display_data"
    },
    {
     "name": "stderr",
     "output_type": "stream",
     "text": [
      "2025-09-13 08:46:00,699 - INFO - Epoch 49/500 | Validation Type Acc: 0.8333\n"
     ]
    },
    {
     "data": {
      "application/vnd.jupyter.widget-view+json": {
       "model_id": "c87c842848bd4e8dbd21a2944c4133cf",
       "version_major": 2,
       "version_minor": 0
      },
      "text/plain": [
       "Epoch 50/500 [Train]:   0%|          | 0/28 [00:00<?, ?it/s]"
      ]
     },
     "metadata": {},
     "output_type": "display_data"
    },
    {
     "name": "stderr",
     "output_type": "stream",
     "text": [
      "2025-09-13 08:46:06,120 - INFO - Epoch 50/500 | Validation Type Acc: 0.8333\n"
     ]
    },
    {
     "data": {
      "application/vnd.jupyter.widget-view+json": {
       "model_id": "20185a82c88c40d89adb3ed265afc44d",
       "version_major": 2,
       "version_minor": 0
      },
      "text/plain": [
       "Epoch 51/500 [Train]:   0%|          | 0/28 [00:00<?, ?it/s]"
      ]
     },
     "metadata": {},
     "output_type": "display_data"
    },
    {
     "name": "stderr",
     "output_type": "stream",
     "text": [
      "2025-09-13 08:46:11,114 - INFO - Epoch 51/500 | Validation Type Acc: 0.8542\n"
     ]
    },
    {
     "data": {
      "application/vnd.jupyter.widget-view+json": {
       "model_id": "5a85a22f83444be89f924ece45ade415",
       "version_major": 2,
       "version_minor": 0
      },
      "text/plain": [
       "Epoch 52/500 [Train]:   0%|          | 0/28 [00:00<?, ?it/s]"
      ]
     },
     "metadata": {},
     "output_type": "display_data"
    },
    {
     "name": "stderr",
     "output_type": "stream",
     "text": [
      "2025-09-13 08:46:16,188 - INFO - Epoch 52/500 | Validation Type Acc: 0.8802\n"
     ]
    },
    {
     "data": {
      "application/vnd.jupyter.widget-view+json": {
       "model_id": "727135117408496fae819a56b93e1383",
       "version_major": 2,
       "version_minor": 0
      },
      "text/plain": [
       "Epoch 53/500 [Train]:   0%|          | 0/28 [00:00<?, ?it/s]"
      ]
     },
     "metadata": {},
     "output_type": "display_data"
    },
    {
     "name": "stderr",
     "output_type": "stream",
     "text": [
      "2025-09-13 08:46:21,124 - INFO - Epoch 53/500 | Validation Type Acc: 0.8177\n"
     ]
    },
    {
     "data": {
      "application/vnd.jupyter.widget-view+json": {
       "model_id": "feb578ccb8be4d16a3bf190b494b1eab",
       "version_major": 2,
       "version_minor": 0
      },
      "text/plain": [
       "Epoch 54/500 [Train]:   0%|          | 0/28 [00:00<?, ?it/s]"
      ]
     },
     "metadata": {},
     "output_type": "display_data"
    },
    {
     "name": "stderr",
     "output_type": "stream",
     "text": [
      "2025-09-13 08:46:26,295 - INFO - Epoch 54/500 | Validation Type Acc: 0.8438\n"
     ]
    },
    {
     "data": {
      "application/vnd.jupyter.widget-view+json": {
       "model_id": "a66e9914ed2f472ba338258dec6a0f73",
       "version_major": 2,
       "version_minor": 0
      },
      "text/plain": [
       "Epoch 55/500 [Train]:   0%|          | 0/28 [00:00<?, ?it/s]"
      ]
     },
     "metadata": {},
     "output_type": "display_data"
    },
    {
     "name": "stderr",
     "output_type": "stream",
     "text": [
      "2025-09-13 08:46:31,441 - INFO - Epoch 55/500 | Validation Type Acc: 0.7500\n"
     ]
    },
    {
     "data": {
      "application/vnd.jupyter.widget-view+json": {
       "model_id": "d11b3d0098f9499cad203e29ae4e8c31",
       "version_major": 2,
       "version_minor": 0
      },
      "text/plain": [
       "Epoch 56/500 [Train]:   0%|          | 0/28 [00:00<?, ?it/s]"
      ]
     },
     "metadata": {},
     "output_type": "display_data"
    },
    {
     "name": "stderr",
     "output_type": "stream",
     "text": [
      "2025-09-13 08:46:36,578 - INFO - Epoch 56/500 | Validation Type Acc: 0.8438\n"
     ]
    },
    {
     "data": {
      "application/vnd.jupyter.widget-view+json": {
       "model_id": "6dda945ef1284042a37c8ed97cab62e6",
       "version_major": 2,
       "version_minor": 0
      },
      "text/plain": [
       "Epoch 57/500 [Train]:   0%|          | 0/28 [00:00<?, ?it/s]"
      ]
     },
     "metadata": {},
     "output_type": "display_data"
    },
    {
     "name": "stderr",
     "output_type": "stream",
     "text": [
      "2025-09-13 08:46:41,925 - INFO - Epoch 57/500 | Validation Type Acc: 0.8073\n"
     ]
    },
    {
     "data": {
      "application/vnd.jupyter.widget-view+json": {
       "model_id": "508754c59ec641388db939d48093bcfa",
       "version_major": 2,
       "version_minor": 0
      },
      "text/plain": [
       "Epoch 58/500 [Train]:   0%|          | 0/28 [00:00<?, ?it/s]"
      ]
     },
     "metadata": {},
     "output_type": "display_data"
    },
    {
     "name": "stderr",
     "output_type": "stream",
     "text": [
      "2025-09-13 08:46:47,119 - INFO - Epoch 58/500 | Validation Type Acc: 0.7240\n"
     ]
    },
    {
     "data": {
      "application/vnd.jupyter.widget-view+json": {
       "model_id": "79653cd99e1f4e8c9a63464cf88b413b",
       "version_major": 2,
       "version_minor": 0
      },
      "text/plain": [
       "Epoch 59/500 [Train]:   0%|          | 0/28 [00:00<?, ?it/s]"
      ]
     },
     "metadata": {},
     "output_type": "display_data"
    },
    {
     "name": "stderr",
     "output_type": "stream",
     "text": [
      "2025-09-13 08:46:52,231 - INFO - Epoch 59/500 | Validation Type Acc: 0.8385\n"
     ]
    },
    {
     "data": {
      "application/vnd.jupyter.widget-view+json": {
       "model_id": "9fea7755089646c9abbc11581f7e4fa6",
       "version_major": 2,
       "version_minor": 0
      },
      "text/plain": [
       "Epoch 60/500 [Train]:   0%|          | 0/28 [00:00<?, ?it/s]"
      ]
     },
     "metadata": {},
     "output_type": "display_data"
    },
    {
     "name": "stderr",
     "output_type": "stream",
     "text": [
      "2025-09-13 08:46:57,218 - INFO - Epoch 60/500 | Validation Type Acc: 0.8594\n"
     ]
    },
    {
     "data": {
      "application/vnd.jupyter.widget-view+json": {
       "model_id": "a5224127a1a84d6590822ec839f1f7db",
       "version_major": 2,
       "version_minor": 0
      },
      "text/plain": [
       "Epoch 61/500 [Train]:   0%|          | 0/28 [00:00<?, ?it/s]"
      ]
     },
     "metadata": {},
     "output_type": "display_data"
    },
    {
     "name": "stderr",
     "output_type": "stream",
     "text": [
      "2025-09-13 08:47:02,194 - INFO - Epoch 61/500 | Validation Type Acc: 0.8385\n"
     ]
    },
    {
     "data": {
      "application/vnd.jupyter.widget-view+json": {
       "model_id": "5462fce0454b4deaacb5c13a2c0df2b5",
       "version_major": 2,
       "version_minor": 0
      },
      "text/plain": [
       "Epoch 62/500 [Train]:   0%|          | 0/28 [00:00<?, ?it/s]"
      ]
     },
     "metadata": {},
     "output_type": "display_data"
    },
    {
     "name": "stderr",
     "output_type": "stream",
     "text": [
      "2025-09-13 08:47:07,793 - INFO - Epoch 62/500 | Validation Type Acc: 0.8594\n"
     ]
    },
    {
     "data": {
      "application/vnd.jupyter.widget-view+json": {
       "model_id": "25a312d6ffcf434aa0a8ca2f64ef1881",
       "version_major": 2,
       "version_minor": 0
      },
      "text/plain": [
       "Epoch 63/500 [Train]:   0%|          | 0/28 [00:00<?, ?it/s]"
      ]
     },
     "metadata": {},
     "output_type": "display_data"
    },
    {
     "name": "stderr",
     "output_type": "stream",
     "text": [
      "2025-09-13 08:47:13,294 - INFO - Epoch 63/500 | Validation Type Acc: 0.8594\n"
     ]
    },
    {
     "data": {
      "application/vnd.jupyter.widget-view+json": {
       "model_id": "ca3cf1d5436346c99d6e103841d54afa",
       "version_major": 2,
       "version_minor": 0
      },
      "text/plain": [
       "Epoch 64/500 [Train]:   0%|          | 0/28 [00:00<?, ?it/s]"
      ]
     },
     "metadata": {},
     "output_type": "display_data"
    },
    {
     "name": "stderr",
     "output_type": "stream",
     "text": [
      "2025-09-13 08:47:18,765 - INFO - Epoch 64/500 | Validation Type Acc: 0.8333\n"
     ]
    },
    {
     "data": {
      "application/vnd.jupyter.widget-view+json": {
       "model_id": "521f5fcde49944aaa678691e4b41740a",
       "version_major": 2,
       "version_minor": 0
      },
      "text/plain": [
       "Epoch 65/500 [Train]:   0%|          | 0/28 [00:00<?, ?it/s]"
      ]
     },
     "metadata": {},
     "output_type": "display_data"
    },
    {
     "name": "stderr",
     "output_type": "stream",
     "text": [
      "2025-09-13 08:47:24,093 - INFO - Epoch 65/500 | Validation Type Acc: 0.8750\n"
     ]
    },
    {
     "data": {
      "application/vnd.jupyter.widget-view+json": {
       "model_id": "acb02d0227944a0eaf5fbfeb96c71aa4",
       "version_major": 2,
       "version_minor": 0
      },
      "text/plain": [
       "Epoch 66/500 [Train]:   0%|          | 0/28 [00:00<?, ?it/s]"
      ]
     },
     "metadata": {},
     "output_type": "display_data"
    },
    {
     "name": "stderr",
     "output_type": "stream",
     "text": [
      "2025-09-13 08:47:29,184 - INFO - Epoch 66/500 | Validation Type Acc: 0.8177\n"
     ]
    },
    {
     "data": {
      "application/vnd.jupyter.widget-view+json": {
       "model_id": "b17994118b1b4247a7fa4ac5b44eb66d",
       "version_major": 2,
       "version_minor": 0
      },
      "text/plain": [
       "Epoch 67/500 [Train]:   0%|          | 0/28 [00:00<?, ?it/s]"
      ]
     },
     "metadata": {},
     "output_type": "display_data"
    },
    {
     "name": "stderr",
     "output_type": "stream",
     "text": [
      "2025-09-13 08:47:34,307 - INFO - Epoch 67/500 | Validation Type Acc: 0.8646\n"
     ]
    },
    {
     "data": {
      "application/vnd.jupyter.widget-view+json": {
       "model_id": "9d3f73fb88a1495d8c5fa931f955c743",
       "version_major": 2,
       "version_minor": 0
      },
      "text/plain": [
       "Epoch 68/500 [Train]:   0%|          | 0/28 [00:00<?, ?it/s]"
      ]
     },
     "metadata": {},
     "output_type": "display_data"
    },
    {
     "name": "stderr",
     "output_type": "stream",
     "text": [
      "2025-09-13 08:47:39,669 - INFO - Epoch 68/500 | Validation Type Acc: 0.9062\n",
      "2025-09-13 08:47:39,742 - INFO - New best multi-task model saved with acc: 0.9062\n"
     ]
    },
    {
     "data": {
      "application/vnd.jupyter.widget-view+json": {
       "model_id": "6ab35419c1934d98848822e3400278d6",
       "version_major": 2,
       "version_minor": 0
      },
      "text/plain": [
       "Epoch 69/500 [Train]:   0%|          | 0/28 [00:00<?, ?it/s]"
      ]
     },
     "metadata": {},
     "output_type": "display_data"
    },
    {
     "name": "stderr",
     "output_type": "stream",
     "text": [
      "2025-09-13 08:47:44,805 - INFO - Epoch 69/500 | Validation Type Acc: 0.8802\n"
     ]
    },
    {
     "data": {
      "application/vnd.jupyter.widget-view+json": {
       "model_id": "56aa63d6a54740ddb66ef0ad6aae39ea",
       "version_major": 2,
       "version_minor": 0
      },
      "text/plain": [
       "Epoch 70/500 [Train]:   0%|          | 0/28 [00:00<?, ?it/s]"
      ]
     },
     "metadata": {},
     "output_type": "display_data"
    },
    {
     "name": "stderr",
     "output_type": "stream",
     "text": [
      "2025-09-13 08:47:49,950 - INFO - Epoch 70/500 | Validation Type Acc: 0.8698\n"
     ]
    },
    {
     "data": {
      "application/vnd.jupyter.widget-view+json": {
       "model_id": "41800e50cf4f4bf7bf1b8c67064957d0",
       "version_major": 2,
       "version_minor": 0
      },
      "text/plain": [
       "Epoch 71/500 [Train]:   0%|          | 0/28 [00:00<?, ?it/s]"
      ]
     },
     "metadata": {},
     "output_type": "display_data"
    },
    {
     "name": "stderr",
     "output_type": "stream",
     "text": [
      "2025-09-13 08:47:55,183 - INFO - Epoch 71/500 | Validation Type Acc: 0.9323\n",
      "2025-09-13 08:47:55,251 - INFO - New best multi-task model saved with acc: 0.9323\n"
     ]
    },
    {
     "data": {
      "application/vnd.jupyter.widget-view+json": {
       "model_id": "407d8ccc800241dfb07c5b257e937213",
       "version_major": 2,
       "version_minor": 0
      },
      "text/plain": [
       "Epoch 72/500 [Train]:   0%|          | 0/28 [00:00<?, ?it/s]"
      ]
     },
     "metadata": {},
     "output_type": "display_data"
    },
    {
     "name": "stderr",
     "output_type": "stream",
     "text": [
      "2025-09-13 08:48:00,255 - INFO - Epoch 72/500 | Validation Type Acc: 0.8542\n"
     ]
    },
    {
     "data": {
      "application/vnd.jupyter.widget-view+json": {
       "model_id": "28b6d577a0664567b75568f98952aa7c",
       "version_major": 2,
       "version_minor": 0
      },
      "text/plain": [
       "Epoch 73/500 [Train]:   0%|          | 0/28 [00:00<?, ?it/s]"
      ]
     },
     "metadata": {},
     "output_type": "display_data"
    },
    {
     "name": "stderr",
     "output_type": "stream",
     "text": [
      "2025-09-13 08:48:05,453 - INFO - Epoch 73/500 | Validation Type Acc: 0.8646\n"
     ]
    },
    {
     "data": {
      "application/vnd.jupyter.widget-view+json": {
       "model_id": "5e3f31c183324717afadda3e1922a54f",
       "version_major": 2,
       "version_minor": 0
      },
      "text/plain": [
       "Epoch 74/500 [Train]:   0%|          | 0/28 [00:00<?, ?it/s]"
      ]
     },
     "metadata": {},
     "output_type": "display_data"
    },
    {
     "name": "stderr",
     "output_type": "stream",
     "text": [
      "2025-09-13 08:48:10,536 - INFO - Epoch 74/500 | Validation Type Acc: 0.8958\n"
     ]
    },
    {
     "data": {
      "application/vnd.jupyter.widget-view+json": {
       "model_id": "93d8af091f4b480ab592af9c4babb005",
       "version_major": 2,
       "version_minor": 0
      },
      "text/plain": [
       "Epoch 75/500 [Train]:   0%|          | 0/28 [00:00<?, ?it/s]"
      ]
     },
     "metadata": {},
     "output_type": "display_data"
    },
    {
     "name": "stderr",
     "output_type": "stream",
     "text": [
      "2025-09-13 08:48:15,628 - INFO - Epoch 75/500 | Validation Type Acc: 0.9271\n"
     ]
    },
    {
     "data": {
      "application/vnd.jupyter.widget-view+json": {
       "model_id": "60dd1d13a7704930a230a7d98bcd1a6d",
       "version_major": 2,
       "version_minor": 0
      },
      "text/plain": [
       "Epoch 76/500 [Train]:   0%|          | 0/28 [00:00<?, ?it/s]"
      ]
     },
     "metadata": {},
     "output_type": "display_data"
    },
    {
     "name": "stderr",
     "output_type": "stream",
     "text": [
      "2025-09-13 08:48:20,766 - INFO - Epoch 76/500 | Validation Type Acc: 0.9115\n"
     ]
    },
    {
     "data": {
      "application/vnd.jupyter.widget-view+json": {
       "model_id": "8ee3c99bdf8141b099316368fbb90c0f",
       "version_major": 2,
       "version_minor": 0
      },
      "text/plain": [
       "Epoch 77/500 [Train]:   0%|          | 0/28 [00:00<?, ?it/s]"
      ]
     },
     "metadata": {},
     "output_type": "display_data"
    },
    {
     "name": "stderr",
     "output_type": "stream",
     "text": [
      "2025-09-13 08:48:25,927 - INFO - Epoch 77/500 | Validation Type Acc: 0.9010\n"
     ]
    },
    {
     "data": {
      "application/vnd.jupyter.widget-view+json": {
       "model_id": "b1568046b23d45679f0f86f8289fa04f",
       "version_major": 2,
       "version_minor": 0
      },
      "text/plain": [
       "Epoch 78/500 [Train]:   0%|          | 0/28 [00:00<?, ?it/s]"
      ]
     },
     "metadata": {},
     "output_type": "display_data"
    },
    {
     "name": "stderr",
     "output_type": "stream",
     "text": [
      "2025-09-13 08:48:30,969 - INFO - Epoch 78/500 | Validation Type Acc: 0.8802\n"
     ]
    },
    {
     "data": {
      "application/vnd.jupyter.widget-view+json": {
       "model_id": "5b648839cdc2489fbd717abe64a29b70",
       "version_major": 2,
       "version_minor": 0
      },
      "text/plain": [
       "Epoch 79/500 [Train]:   0%|          | 0/28 [00:00<?, ?it/s]"
      ]
     },
     "metadata": {},
     "output_type": "display_data"
    },
    {
     "name": "stderr",
     "output_type": "stream",
     "text": [
      "2025-09-13 08:48:36,380 - INFO - Epoch 79/500 | Validation Type Acc: 0.8229\n"
     ]
    },
    {
     "data": {
      "application/vnd.jupyter.widget-view+json": {
       "model_id": "a7f267681db64314b2fe1aa5a174a258",
       "version_major": 2,
       "version_minor": 0
      },
      "text/plain": [
       "Epoch 80/500 [Train]:   0%|          | 0/28 [00:00<?, ?it/s]"
      ]
     },
     "metadata": {},
     "output_type": "display_data"
    },
    {
     "name": "stderr",
     "output_type": "stream",
     "text": [
      "2025-09-13 08:48:41,658 - INFO - Epoch 80/500 | Validation Type Acc: 0.9010\n"
     ]
    },
    {
     "data": {
      "application/vnd.jupyter.widget-view+json": {
       "model_id": "d908c56dc3d74f8ba7488756ac131da7",
       "version_major": 2,
       "version_minor": 0
      },
      "text/plain": [
       "Epoch 81/500 [Train]:   0%|          | 0/28 [00:00<?, ?it/s]"
      ]
     },
     "metadata": {},
     "output_type": "display_data"
    },
    {
     "name": "stderr",
     "output_type": "stream",
     "text": [
      "2025-09-13 08:48:46,717 - INFO - Epoch 81/500 | Validation Type Acc: 0.8906\n"
     ]
    },
    {
     "data": {
      "application/vnd.jupyter.widget-view+json": {
       "model_id": "c8bece47f7ec4280b5d1141cc4fee8c9",
       "version_major": 2,
       "version_minor": 0
      },
      "text/plain": [
       "Epoch 82/500 [Train]:   0%|          | 0/28 [00:00<?, ?it/s]"
      ]
     },
     "metadata": {},
     "output_type": "display_data"
    },
    {
     "name": "stderr",
     "output_type": "stream",
     "text": [
      "2025-09-13 08:48:51,734 - INFO - Epoch 82/500 | Validation Type Acc: 0.8177\n"
     ]
    },
    {
     "data": {
      "application/vnd.jupyter.widget-view+json": {
       "model_id": "0ecc406165724ff1906059cab05e3b0a",
       "version_major": 2,
       "version_minor": 0
      },
      "text/plain": [
       "Epoch 83/500 [Train]:   0%|          | 0/28 [00:00<?, ?it/s]"
      ]
     },
     "metadata": {},
     "output_type": "display_data"
    },
    {
     "name": "stderr",
     "output_type": "stream",
     "text": [
      "2025-09-13 08:48:57,091 - INFO - Epoch 83/500 | Validation Type Acc: 0.8542\n"
     ]
    },
    {
     "data": {
      "application/vnd.jupyter.widget-view+json": {
       "model_id": "499043f04b8b4e78a3fb9fe3edf0b873",
       "version_major": 2,
       "version_minor": 0
      },
      "text/plain": [
       "Epoch 84/500 [Train]:   0%|          | 0/28 [00:00<?, ?it/s]"
      ]
     },
     "metadata": {},
     "output_type": "display_data"
    },
    {
     "name": "stderr",
     "output_type": "stream",
     "text": [
      "2025-09-13 08:49:02,178 - INFO - Epoch 84/500 | Validation Type Acc: 0.9115\n"
     ]
    },
    {
     "data": {
      "application/vnd.jupyter.widget-view+json": {
       "model_id": "d6eacdeb51584892971d1e2266797061",
       "version_major": 2,
       "version_minor": 0
      },
      "text/plain": [
       "Epoch 85/500 [Train]:   0%|          | 0/28 [00:00<?, ?it/s]"
      ]
     },
     "metadata": {},
     "output_type": "display_data"
    },
    {
     "name": "stderr",
     "output_type": "stream",
     "text": [
      "2025-09-13 08:49:07,411 - INFO - Epoch 85/500 | Validation Type Acc: 0.9010\n"
     ]
    },
    {
     "data": {
      "application/vnd.jupyter.widget-view+json": {
       "model_id": "1aa5838b717d46aaae8237b7e3da45d1",
       "version_major": 2,
       "version_minor": 0
      },
      "text/plain": [
       "Epoch 86/500 [Train]:   0%|          | 0/28 [00:00<?, ?it/s]"
      ]
     },
     "metadata": {},
     "output_type": "display_data"
    },
    {
     "name": "stderr",
     "output_type": "stream",
     "text": [
      "2025-09-13 08:49:12,326 - INFO - Epoch 86/500 | Validation Type Acc: 0.8958\n"
     ]
    },
    {
     "data": {
      "application/vnd.jupyter.widget-view+json": {
       "model_id": "a07c3561207d46bda7a005d2b9803f95",
       "version_major": 2,
       "version_minor": 0
      },
      "text/plain": [
       "Epoch 87/500 [Train]:   0%|          | 0/28 [00:00<?, ?it/s]"
      ]
     },
     "metadata": {},
     "output_type": "display_data"
    },
    {
     "name": "stderr",
     "output_type": "stream",
     "text": [
      "2025-09-13 08:49:17,345 - INFO - Epoch 87/500 | Validation Type Acc: 0.8490\n"
     ]
    },
    {
     "data": {
      "application/vnd.jupyter.widget-view+json": {
       "model_id": "9def7e7abd314b6a88afa9cf500721b5",
       "version_major": 2,
       "version_minor": 0
      },
      "text/plain": [
       "Epoch 88/500 [Train]:   0%|          | 0/28 [00:00<?, ?it/s]"
      ]
     },
     "metadata": {},
     "output_type": "display_data"
    },
    {
     "name": "stderr",
     "output_type": "stream",
     "text": [
      "2025-09-13 08:49:22,492 - INFO - Epoch 88/500 | Validation Type Acc: 0.8854\n"
     ]
    },
    {
     "data": {
      "application/vnd.jupyter.widget-view+json": {
       "model_id": "49bc7beaa0a642e4bb165ff997db980e",
       "version_major": 2,
       "version_minor": 0
      },
      "text/plain": [
       "Epoch 89/500 [Train]:   0%|          | 0/28 [00:00<?, ?it/s]"
      ]
     },
     "metadata": {},
     "output_type": "display_data"
    },
    {
     "name": "stderr",
     "output_type": "stream",
     "text": [
      "2025-09-13 08:49:27,539 - INFO - Epoch 89/500 | Validation Type Acc: 0.8802\n"
     ]
    },
    {
     "data": {
      "application/vnd.jupyter.widget-view+json": {
       "model_id": "02c101e348824d8c8ce83cd3e88918e3",
       "version_major": 2,
       "version_minor": 0
      },
      "text/plain": [
       "Epoch 90/500 [Train]:   0%|          | 0/28 [00:00<?, ?it/s]"
      ]
     },
     "metadata": {},
     "output_type": "display_data"
    },
    {
     "name": "stderr",
     "output_type": "stream",
     "text": [
      "2025-09-13 08:49:32,681 - INFO - Epoch 90/500 | Validation Type Acc: 0.8906\n"
     ]
    },
    {
     "data": {
      "application/vnd.jupyter.widget-view+json": {
       "model_id": "5b01b797780b4d9faa092dcc00215445",
       "version_major": 2,
       "version_minor": 0
      },
      "text/plain": [
       "Epoch 91/500 [Train]:   0%|          | 0/28 [00:00<?, ?it/s]"
      ]
     },
     "metadata": {},
     "output_type": "display_data"
    },
    {
     "name": "stderr",
     "output_type": "stream",
     "text": [
      "2025-09-13 08:49:37,686 - INFO - Epoch 91/500 | Validation Type Acc: 0.8385\n"
     ]
    },
    {
     "data": {
      "application/vnd.jupyter.widget-view+json": {
       "model_id": "6b8795afff8845d997389fa2e9186ae4",
       "version_major": 2,
       "version_minor": 0
      },
      "text/plain": [
       "Epoch 92/500 [Train]:   0%|          | 0/28 [00:00<?, ?it/s]"
      ]
     },
     "metadata": {},
     "output_type": "display_data"
    },
    {
     "name": "stderr",
     "output_type": "stream",
     "text": [
      "2025-09-13 08:49:42,716 - INFO - Epoch 92/500 | Validation Type Acc: 0.8854\n"
     ]
    },
    {
     "data": {
      "application/vnd.jupyter.widget-view+json": {
       "model_id": "d9d97b9d8bea413a8262b7129c758121",
       "version_major": 2,
       "version_minor": 0
      },
      "text/plain": [
       "Epoch 93/500 [Train]:   0%|          | 0/28 [00:00<?, ?it/s]"
      ]
     },
     "metadata": {},
     "output_type": "display_data"
    },
    {
     "name": "stderr",
     "output_type": "stream",
     "text": [
      "2025-09-13 08:49:47,937 - INFO - Epoch 93/500 | Validation Type Acc: 0.8802\n"
     ]
    },
    {
     "data": {
      "application/vnd.jupyter.widget-view+json": {
       "model_id": "f8ef3f023e424f27a19d5f0a2d24cd35",
       "version_major": 2,
       "version_minor": 0
      },
      "text/plain": [
       "Epoch 94/500 [Train]:   0%|          | 0/28 [00:00<?, ?it/s]"
      ]
     },
     "metadata": {},
     "output_type": "display_data"
    },
    {
     "name": "stderr",
     "output_type": "stream",
     "text": [
      "2025-09-13 08:49:53,472 - INFO - Epoch 94/500 | Validation Type Acc: 0.8385\n"
     ]
    },
    {
     "data": {
      "application/vnd.jupyter.widget-view+json": {
       "model_id": "6a85cce7b2cf4303aef1b57740337cac",
       "version_major": 2,
       "version_minor": 0
      },
      "text/plain": [
       "Epoch 95/500 [Train]:   0%|          | 0/28 [00:00<?, ?it/s]"
      ]
     },
     "metadata": {},
     "output_type": "display_data"
    },
    {
     "name": "stderr",
     "output_type": "stream",
     "text": [
      "2025-09-13 08:49:58,528 - INFO - Epoch 95/500 | Validation Type Acc: 0.8906\n"
     ]
    },
    {
     "data": {
      "application/vnd.jupyter.widget-view+json": {
       "model_id": "62b741a57b244c4685b013cb35165621",
       "version_major": 2,
       "version_minor": 0
      },
      "text/plain": [
       "Epoch 96/500 [Train]:   0%|          | 0/28 [00:00<?, ?it/s]"
      ]
     },
     "metadata": {},
     "output_type": "display_data"
    },
    {
     "name": "stderr",
     "output_type": "stream",
     "text": [
      "2025-09-13 08:50:03,731 - INFO - Epoch 96/500 | Validation Type Acc: 0.8281\n"
     ]
    },
    {
     "data": {
      "application/vnd.jupyter.widget-view+json": {
       "model_id": "de944dae3fe34810b211f9708cdaab04",
       "version_major": 2,
       "version_minor": 0
      },
      "text/plain": [
       "Epoch 97/500 [Train]:   0%|          | 0/28 [00:00<?, ?it/s]"
      ]
     },
     "metadata": {},
     "output_type": "display_data"
    },
    {
     "name": "stderr",
     "output_type": "stream",
     "text": [
      "2025-09-13 08:50:09,150 - INFO - Epoch 97/500 | Validation Type Acc: 0.8646\n"
     ]
    },
    {
     "data": {
      "application/vnd.jupyter.widget-view+json": {
       "model_id": "f08cba3fe28240919ea2797f52f4dbdf",
       "version_major": 2,
       "version_minor": 0
      },
      "text/plain": [
       "Epoch 98/500 [Train]:   0%|          | 0/28 [00:00<?, ?it/s]"
      ]
     },
     "metadata": {},
     "output_type": "display_data"
    },
    {
     "name": "stderr",
     "output_type": "stream",
     "text": [
      "2025-09-13 08:50:14,259 - INFO - Epoch 98/500 | Validation Type Acc: 0.8646\n"
     ]
    },
    {
     "data": {
      "application/vnd.jupyter.widget-view+json": {
       "model_id": "9b97ec7f88524010b496d9f14733c0c7",
       "version_major": 2,
       "version_minor": 0
      },
      "text/plain": [
       "Epoch 99/500 [Train]:   0%|          | 0/28 [00:00<?, ?it/s]"
      ]
     },
     "metadata": {},
     "output_type": "display_data"
    },
    {
     "name": "stderr",
     "output_type": "stream",
     "text": [
      "2025-09-13 08:50:19,295 - INFO - Epoch 99/500 | Validation Type Acc: 0.8594\n"
     ]
    },
    {
     "data": {
      "application/vnd.jupyter.widget-view+json": {
       "model_id": "88af43bbd72c47abab830f1afb7a5595",
       "version_major": 2,
       "version_minor": 0
      },
      "text/plain": [
       "Epoch 100/500 [Train]:   0%|          | 0/28 [00:00<?, ?it/s]"
      ]
     },
     "metadata": {},
     "output_type": "display_data"
    },
    {
     "name": "stderr",
     "output_type": "stream",
     "text": [
      "2025-09-13 08:50:24,342 - INFO - Epoch 100/500 | Validation Type Acc: 0.8698\n"
     ]
    },
    {
     "data": {
      "application/vnd.jupyter.widget-view+json": {
       "model_id": "45720e7ee4b543ad819b0d5e5ff3a171",
       "version_major": 2,
       "version_minor": 0
      },
      "text/plain": [
       "Epoch 101/500 [Train]:   0%|          | 0/28 [00:00<?, ?it/s]"
      ]
     },
     "metadata": {},
     "output_type": "display_data"
    },
    {
     "name": "stderr",
     "output_type": "stream",
     "text": [
      "2025-09-13 08:50:29,365 - INFO - Epoch 101/500 | Validation Type Acc: 0.8958\n"
     ]
    },
    {
     "data": {
      "application/vnd.jupyter.widget-view+json": {
       "model_id": "69e03afb52d347a2b01edaef4bfaa6e0",
       "version_major": 2,
       "version_minor": 0
      },
      "text/plain": [
       "Epoch 102/500 [Train]:   0%|          | 0/28 [00:00<?, ?it/s]"
      ]
     },
     "metadata": {},
     "output_type": "display_data"
    },
    {
     "name": "stderr",
     "output_type": "stream",
     "text": [
      "2025-09-13 08:50:34,618 - INFO - Epoch 102/500 | Validation Type Acc: 0.8802\n"
     ]
    },
    {
     "data": {
      "application/vnd.jupyter.widget-view+json": {
       "model_id": "a4aba4f15ee341688c99e31baef354ef",
       "version_major": 2,
       "version_minor": 0
      },
      "text/plain": [
       "Epoch 103/500 [Train]:   0%|          | 0/28 [00:00<?, ?it/s]"
      ]
     },
     "metadata": {},
     "output_type": "display_data"
    },
    {
     "name": "stderr",
     "output_type": "stream",
     "text": [
      "2025-09-13 08:50:39,516 - INFO - Epoch 103/500 | Validation Type Acc: 0.8854\n"
     ]
    },
    {
     "data": {
      "application/vnd.jupyter.widget-view+json": {
       "model_id": "df5862dee2414806aa8d240841bd2223",
       "version_major": 2,
       "version_minor": 0
      },
      "text/plain": [
       "Epoch 104/500 [Train]:   0%|          | 0/28 [00:00<?, ?it/s]"
      ]
     },
     "metadata": {},
     "output_type": "display_data"
    },
    {
     "name": "stderr",
     "output_type": "stream",
     "text": [
      "2025-09-13 08:50:44,376 - INFO - Epoch 104/500 | Validation Type Acc: 0.9115\n"
     ]
    },
    {
     "data": {
      "application/vnd.jupyter.widget-view+json": {
       "model_id": "da256c696a604ef386a642143ca80b84",
       "version_major": 2,
       "version_minor": 0
      },
      "text/plain": [
       "Epoch 105/500 [Train]:   0%|          | 0/28 [00:00<?, ?it/s]"
      ]
     },
     "metadata": {},
     "output_type": "display_data"
    },
    {
     "name": "stderr",
     "output_type": "stream",
     "text": [
      "2025-09-13 08:50:49,566 - INFO - Epoch 105/500 | Validation Type Acc: 0.8854\n"
     ]
    },
    {
     "data": {
      "application/vnd.jupyter.widget-view+json": {
       "model_id": "d71a7e9367f94e709fd5ecc4c414746c",
       "version_major": 2,
       "version_minor": 0
      },
      "text/plain": [
       "Epoch 106/500 [Train]:   0%|          | 0/28 [00:00<?, ?it/s]"
      ]
     },
     "metadata": {},
     "output_type": "display_data"
    },
    {
     "name": "stderr",
     "output_type": "stream",
     "text": [
      "2025-09-13 08:50:54,546 - INFO - Epoch 106/500 | Validation Type Acc: 0.9062\n"
     ]
    },
    {
     "data": {
      "application/vnd.jupyter.widget-view+json": {
       "model_id": "4c8ab8e41c974232b48f58b1327f552f",
       "version_major": 2,
       "version_minor": 0
      },
      "text/plain": [
       "Epoch 107/500 [Train]:   0%|          | 0/28 [00:00<?, ?it/s]"
      ]
     },
     "metadata": {},
     "output_type": "display_data"
    },
    {
     "name": "stderr",
     "output_type": "stream",
     "text": [
      "2025-09-13 08:50:59,544 - INFO - Epoch 107/500 | Validation Type Acc: 0.8750\n"
     ]
    },
    {
     "data": {
      "application/vnd.jupyter.widget-view+json": {
       "model_id": "8f1b6acb03ec4a7f8b7c14025ad059c9",
       "version_major": 2,
       "version_minor": 0
      },
      "text/plain": [
       "Epoch 108/500 [Train]:   0%|          | 0/28 [00:00<?, ?it/s]"
      ]
     },
     "metadata": {},
     "output_type": "display_data"
    },
    {
     "name": "stderr",
     "output_type": "stream",
     "text": [
      "2025-09-13 08:51:04,603 - INFO - Epoch 108/500 | Validation Type Acc: 0.7917\n"
     ]
    },
    {
     "data": {
      "application/vnd.jupyter.widget-view+json": {
       "model_id": "ba73904b552d4e308af2aba18202b1a1",
       "version_major": 2,
       "version_minor": 0
      },
      "text/plain": [
       "Epoch 109/500 [Train]:   0%|          | 0/28 [00:00<?, ?it/s]"
      ]
     },
     "metadata": {},
     "output_type": "display_data"
    },
    {
     "name": "stderr",
     "output_type": "stream",
     "text": [
      "2025-09-13 08:51:09,532 - INFO - Epoch 109/500 | Validation Type Acc: 0.8958\n"
     ]
    },
    {
     "data": {
      "application/vnd.jupyter.widget-view+json": {
       "model_id": "7b2eb0e0d3064b66b37d44f37a5d5c84",
       "version_major": 2,
       "version_minor": 0
      },
      "text/plain": [
       "Epoch 110/500 [Train]:   0%|          | 0/28 [00:00<?, ?it/s]"
      ]
     },
     "metadata": {},
     "output_type": "display_data"
    },
    {
     "name": "stderr",
     "output_type": "stream",
     "text": [
      "2025-09-13 08:51:14,595 - INFO - Epoch 110/500 | Validation Type Acc: 0.8542\n"
     ]
    },
    {
     "data": {
      "application/vnd.jupyter.widget-view+json": {
       "model_id": "994607c74635485eac1c535a5965f4aa",
       "version_major": 2,
       "version_minor": 0
      },
      "text/plain": [
       "Epoch 111/500 [Train]:   0%|          | 0/28 [00:00<?, ?it/s]"
      ]
     },
     "metadata": {},
     "output_type": "display_data"
    },
    {
     "name": "stderr",
     "output_type": "stream",
     "text": [
      "2025-09-13 08:51:19,524 - INFO - Epoch 111/500 | Validation Type Acc: 0.8750\n"
     ]
    },
    {
     "data": {
      "application/vnd.jupyter.widget-view+json": {
       "model_id": "324a6750e6244123968316a5b104c1a9",
       "version_major": 2,
       "version_minor": 0
      },
      "text/plain": [
       "Epoch 112/500 [Train]:   0%|          | 0/28 [00:00<?, ?it/s]"
      ]
     },
     "metadata": {},
     "output_type": "display_data"
    },
    {
     "name": "stderr",
     "output_type": "stream",
     "text": [
      "2025-09-13 08:51:24,310 - INFO - Epoch 112/500 | Validation Type Acc: 0.8958\n"
     ]
    },
    {
     "data": {
      "application/vnd.jupyter.widget-view+json": {
       "model_id": "a5d5de4b3a4a488cb42510abb1c5c5e7",
       "version_major": 2,
       "version_minor": 0
      },
      "text/plain": [
       "Epoch 113/500 [Train]:   0%|          | 0/28 [00:00<?, ?it/s]"
      ]
     },
     "metadata": {},
     "output_type": "display_data"
    },
    {
     "name": "stderr",
     "output_type": "stream",
     "text": [
      "2025-09-13 08:51:29,324 - INFO - Epoch 113/500 | Validation Type Acc: 0.8333\n"
     ]
    },
    {
     "data": {
      "application/vnd.jupyter.widget-view+json": {
       "model_id": "61065d9566564e99bfff9e73e998b6ab",
       "version_major": 2,
       "version_minor": 0
      },
      "text/plain": [
       "Epoch 114/500 [Train]:   0%|          | 0/28 [00:00<?, ?it/s]"
      ]
     },
     "metadata": {},
     "output_type": "display_data"
    },
    {
     "name": "stderr",
     "output_type": "stream",
     "text": [
      "2025-09-13 08:51:34,232 - INFO - Epoch 114/500 | Validation Type Acc: 0.8646\n"
     ]
    },
    {
     "data": {
      "application/vnd.jupyter.widget-view+json": {
       "model_id": "5641602a7b374ed1a50d35c360802794",
       "version_major": 2,
       "version_minor": 0
      },
      "text/plain": [
       "Epoch 115/500 [Train]:   0%|          | 0/28 [00:00<?, ?it/s]"
      ]
     },
     "metadata": {},
     "output_type": "display_data"
    },
    {
     "name": "stderr",
     "output_type": "stream",
     "text": [
      "2025-09-13 08:51:39,055 - INFO - Epoch 115/500 | Validation Type Acc: 0.8958\n"
     ]
    },
    {
     "data": {
      "application/vnd.jupyter.widget-view+json": {
       "model_id": "5bf73c2409b444fa8400d25d3c50882d",
       "version_major": 2,
       "version_minor": 0
      },
      "text/plain": [
       "Epoch 116/500 [Train]:   0%|          | 0/28 [00:00<?, ?it/s]"
      ]
     },
     "metadata": {},
     "output_type": "display_data"
    },
    {
     "name": "stderr",
     "output_type": "stream",
     "text": [
      "2025-09-13 08:51:43,979 - INFO - Epoch 116/500 | Validation Type Acc: 0.9115\n"
     ]
    },
    {
     "data": {
      "application/vnd.jupyter.widget-view+json": {
       "model_id": "9f480f5ac23c40eb8093ae1a555ace04",
       "version_major": 2,
       "version_minor": 0
      },
      "text/plain": [
       "Epoch 117/500 [Train]:   0%|          | 0/28 [00:00<?, ?it/s]"
      ]
     },
     "metadata": {},
     "output_type": "display_data"
    },
    {
     "name": "stderr",
     "output_type": "stream",
     "text": [
      "2025-09-13 08:51:48,784 - INFO - Epoch 117/500 | Validation Type Acc: 0.9167\n"
     ]
    },
    {
     "data": {
      "application/vnd.jupyter.widget-view+json": {
       "model_id": "e5a66f8c8181482180f57f6eeea7538a",
       "version_major": 2,
       "version_minor": 0
      },
      "text/plain": [
       "Epoch 118/500 [Train]:   0%|          | 0/28 [00:00<?, ?it/s]"
      ]
     },
     "metadata": {},
     "output_type": "display_data"
    },
    {
     "name": "stderr",
     "output_type": "stream",
     "text": [
      "2025-09-13 08:51:53,628 - INFO - Epoch 118/500 | Validation Type Acc: 0.7969\n"
     ]
    },
    {
     "data": {
      "application/vnd.jupyter.widget-view+json": {
       "model_id": "6c28a5d12a764ed7b7040ef651cdae0a",
       "version_major": 2,
       "version_minor": 0
      },
      "text/plain": [
       "Epoch 119/500 [Train]:   0%|          | 0/28 [00:00<?, ?it/s]"
      ]
     },
     "metadata": {},
     "output_type": "display_data"
    },
    {
     "name": "stderr",
     "output_type": "stream",
     "text": [
      "2025-09-13 08:51:58,580 - INFO - Epoch 119/500 | Validation Type Acc: 0.8542\n"
     ]
    },
    {
     "data": {
      "application/vnd.jupyter.widget-view+json": {
       "model_id": "8c996890e5414dc083122d34200f4e39",
       "version_major": 2,
       "version_minor": 0
      },
      "text/plain": [
       "Epoch 120/500 [Train]:   0%|          | 0/28 [00:00<?, ?it/s]"
      ]
     },
     "metadata": {},
     "output_type": "display_data"
    },
    {
     "name": "stderr",
     "output_type": "stream",
     "text": [
      "2025-09-13 08:52:03,437 - INFO - Epoch 120/500 | Validation Type Acc: 0.9062\n"
     ]
    },
    {
     "data": {
      "application/vnd.jupyter.widget-view+json": {
       "model_id": "61665140b5c64ad395190b13083aaef5",
       "version_major": 2,
       "version_minor": 0
      },
      "text/plain": [
       "Epoch 121/500 [Train]:   0%|          | 0/28 [00:00<?, ?it/s]"
      ]
     },
     "metadata": {},
     "output_type": "display_data"
    },
    {
     "name": "stderr",
     "output_type": "stream",
     "text": [
      "2025-09-13 08:52:08,335 - INFO - Epoch 121/500 | Validation Type Acc: 0.8698\n"
     ]
    },
    {
     "data": {
      "application/vnd.jupyter.widget-view+json": {
       "model_id": "ff5f6444e9c64839b429ecfd61744f9a",
       "version_major": 2,
       "version_minor": 0
      },
      "text/plain": [
       "Epoch 122/500 [Train]:   0%|          | 0/28 [00:00<?, ?it/s]"
      ]
     },
     "metadata": {},
     "output_type": "display_data"
    },
    {
     "name": "stderr",
     "output_type": "stream",
     "text": [
      "2025-09-13 08:52:13,202 - INFO - Epoch 122/500 | Validation Type Acc: 0.8906\n"
     ]
    },
    {
     "data": {
      "application/vnd.jupyter.widget-view+json": {
       "model_id": "94afa737455643b19493048635cd98c4",
       "version_major": 2,
       "version_minor": 0
      },
      "text/plain": [
       "Epoch 123/500 [Train]:   0%|          | 0/28 [00:00<?, ?it/s]"
      ]
     },
     "metadata": {},
     "output_type": "display_data"
    },
    {
     "name": "stderr",
     "output_type": "stream",
     "text": [
      "2025-09-13 08:52:18,051 - INFO - Epoch 123/500 | Validation Type Acc: 0.8646\n"
     ]
    },
    {
     "data": {
      "application/vnd.jupyter.widget-view+json": {
       "model_id": "93a539b53aeb4d659cdd6ed8b47d7b86",
       "version_major": 2,
       "version_minor": 0
      },
      "text/plain": [
       "Epoch 124/500 [Train]:   0%|          | 0/28 [00:00<?, ?it/s]"
      ]
     },
     "metadata": {},
     "output_type": "display_data"
    },
    {
     "name": "stderr",
     "output_type": "stream",
     "text": [
      "2025-09-13 08:52:22,924 - INFO - Epoch 124/500 | Validation Type Acc: 0.8542\n"
     ]
    },
    {
     "data": {
      "application/vnd.jupyter.widget-view+json": {
       "model_id": "ab69e12048c24ac0b7ee4afb00221a93",
       "version_major": 2,
       "version_minor": 0
      },
      "text/plain": [
       "Epoch 125/500 [Train]:   0%|          | 0/28 [00:00<?, ?it/s]"
      ]
     },
     "metadata": {},
     "output_type": "display_data"
    },
    {
     "name": "stderr",
     "output_type": "stream",
     "text": [
      "2025-09-13 08:52:27,692 - INFO - Epoch 125/500 | Validation Type Acc: 0.8229\n"
     ]
    },
    {
     "data": {
      "application/vnd.jupyter.widget-view+json": {
       "model_id": "06eff30f2231406abb99948abc797200",
       "version_major": 2,
       "version_minor": 0
      },
      "text/plain": [
       "Epoch 126/500 [Train]:   0%|          | 0/28 [00:00<?, ?it/s]"
      ]
     },
     "metadata": {},
     "output_type": "display_data"
    },
    {
     "name": "stderr",
     "output_type": "stream",
     "text": [
      "2025-09-13 08:52:32,583 - INFO - Epoch 126/500 | Validation Type Acc: 0.8698\n"
     ]
    },
    {
     "data": {
      "application/vnd.jupyter.widget-view+json": {
       "model_id": "47815cd7fff74f90875278b692cf06b1",
       "version_major": 2,
       "version_minor": 0
      },
      "text/plain": [
       "Epoch 127/500 [Train]:   0%|          | 0/28 [00:00<?, ?it/s]"
      ]
     },
     "metadata": {},
     "output_type": "display_data"
    },
    {
     "name": "stderr",
     "output_type": "stream",
     "text": [
      "2025-09-13 08:52:37,355 - INFO - Epoch 127/500 | Validation Type Acc: 0.8854\n"
     ]
    },
    {
     "data": {
      "application/vnd.jupyter.widget-view+json": {
       "model_id": "75f57a06f1c14efdaa09796c73ac8f5a",
       "version_major": 2,
       "version_minor": 0
      },
      "text/plain": [
       "Epoch 128/500 [Train]:   0%|          | 0/28 [00:00<?, ?it/s]"
      ]
     },
     "metadata": {},
     "output_type": "display_data"
    },
    {
     "name": "stderr",
     "output_type": "stream",
     "text": [
      "2025-09-13 08:52:42,045 - INFO - Epoch 128/500 | Validation Type Acc: 0.8906\n"
     ]
    },
    {
     "data": {
      "application/vnd.jupyter.widget-view+json": {
       "model_id": "a35d04ef58cd4d2aaadeb70e9b442279",
       "version_major": 2,
       "version_minor": 0
      },
      "text/plain": [
       "Epoch 129/500 [Train]:   0%|          | 0/28 [00:00<?, ?it/s]"
      ]
     },
     "metadata": {},
     "output_type": "display_data"
    },
    {
     "name": "stderr",
     "output_type": "stream",
     "text": [
      "2025-09-13 08:52:46,849 - INFO - Epoch 129/500 | Validation Type Acc: 0.9062\n"
     ]
    },
    {
     "data": {
      "application/vnd.jupyter.widget-view+json": {
       "model_id": "5547298de81a495582471e5cce2e43c3",
       "version_major": 2,
       "version_minor": 0
      },
      "text/plain": [
       "Epoch 130/500 [Train]:   0%|          | 0/28 [00:00<?, ?it/s]"
      ]
     },
     "metadata": {},
     "output_type": "display_data"
    },
    {
     "name": "stderr",
     "output_type": "stream",
     "text": [
      "2025-09-13 08:52:51,659 - INFO - Epoch 130/500 | Validation Type Acc: 0.9062\n"
     ]
    },
    {
     "data": {
      "application/vnd.jupyter.widget-view+json": {
       "model_id": "81beb41e2a3a4f3abb5182cd0611534c",
       "version_major": 2,
       "version_minor": 0
      },
      "text/plain": [
       "Epoch 131/500 [Train]:   0%|          | 0/28 [00:00<?, ?it/s]"
      ]
     },
     "metadata": {},
     "output_type": "display_data"
    },
    {
     "name": "stderr",
     "output_type": "stream",
     "text": [
      "2025-09-13 08:52:56,590 - INFO - Epoch 131/500 | Validation Type Acc: 0.8646\n"
     ]
    },
    {
     "data": {
      "application/vnd.jupyter.widget-view+json": {
       "model_id": "f643c71d170a44be952999db11f8bb4a",
       "version_major": 2,
       "version_minor": 0
      },
      "text/plain": [
       "Epoch 132/500 [Train]:   0%|          | 0/28 [00:00<?, ?it/s]"
      ]
     },
     "metadata": {},
     "output_type": "display_data"
    },
    {
     "name": "stderr",
     "output_type": "stream",
     "text": [
      "2025-09-13 08:53:01,466 - INFO - Epoch 132/500 | Validation Type Acc: 0.8854\n"
     ]
    },
    {
     "data": {
      "application/vnd.jupyter.widget-view+json": {
       "model_id": "9a2c8d9405934ddb856f83d9b2513667",
       "version_major": 2,
       "version_minor": 0
      },
      "text/plain": [
       "Epoch 133/500 [Train]:   0%|          | 0/28 [00:00<?, ?it/s]"
      ]
     },
     "metadata": {},
     "output_type": "display_data"
    },
    {
     "name": "stderr",
     "output_type": "stream",
     "text": [
      "2025-09-13 08:53:06,427 - INFO - Epoch 133/500 | Validation Type Acc: 0.8542\n"
     ]
    },
    {
     "data": {
      "application/vnd.jupyter.widget-view+json": {
       "model_id": "4669a026e1fa4b6d865d0ec7c1f37677",
       "version_major": 2,
       "version_minor": 0
      },
      "text/plain": [
       "Epoch 134/500 [Train]:   0%|          | 0/28 [00:00<?, ?it/s]"
      ]
     },
     "metadata": {},
     "output_type": "display_data"
    },
    {
     "name": "stderr",
     "output_type": "stream",
     "text": [
      "2025-09-13 08:53:11,352 - INFO - Epoch 134/500 | Validation Type Acc: 0.7604\n"
     ]
    },
    {
     "data": {
      "application/vnd.jupyter.widget-view+json": {
       "model_id": "118031f055d94d4aa4f9d9e4c691c323",
       "version_major": 2,
       "version_minor": 0
      },
      "text/plain": [
       "Epoch 135/500 [Train]:   0%|          | 0/28 [00:00<?, ?it/s]"
      ]
     },
     "metadata": {},
     "output_type": "display_data"
    },
    {
     "name": "stderr",
     "output_type": "stream",
     "text": [
      "2025-09-13 08:53:16,503 - INFO - Epoch 135/500 | Validation Type Acc: 0.7760\n"
     ]
    },
    {
     "data": {
      "application/vnd.jupyter.widget-view+json": {
       "model_id": "3c1df73d85c8489fa9306b896eeb8a0c",
       "version_major": 2,
       "version_minor": 0
      },
      "text/plain": [
       "Epoch 136/500 [Train]:   0%|          | 0/28 [00:00<?, ?it/s]"
      ]
     },
     "metadata": {},
     "output_type": "display_data"
    },
    {
     "name": "stderr",
     "output_type": "stream",
     "text": [
      "2025-09-13 08:53:21,400 - INFO - Epoch 136/500 | Validation Type Acc: 0.8646\n"
     ]
    },
    {
     "data": {
      "application/vnd.jupyter.widget-view+json": {
       "model_id": "f187b96eccd542fc8cd5a3c1ca9501c1",
       "version_major": 2,
       "version_minor": 0
      },
      "text/plain": [
       "Epoch 137/500 [Train]:   0%|          | 0/28 [00:00<?, ?it/s]"
      ]
     },
     "metadata": {},
     "output_type": "display_data"
    },
    {
     "name": "stderr",
     "output_type": "stream",
     "text": [
      "2025-09-13 08:53:26,346 - INFO - Epoch 137/500 | Validation Type Acc: 0.9062\n"
     ]
    },
    {
     "data": {
      "application/vnd.jupyter.widget-view+json": {
       "model_id": "edc5ba2eb00045f69ffe54fc2318080e",
       "version_major": 2,
       "version_minor": 0
      },
      "text/plain": [
       "Epoch 138/500 [Train]:   0%|          | 0/28 [00:00<?, ?it/s]"
      ]
     },
     "metadata": {},
     "output_type": "display_data"
    },
    {
     "name": "stderr",
     "output_type": "stream",
     "text": [
      "2025-09-13 08:53:31,169 - INFO - Epoch 138/500 | Validation Type Acc: 0.8750\n"
     ]
    },
    {
     "data": {
      "application/vnd.jupyter.widget-view+json": {
       "model_id": "ee6c5bab30c04ae78db57d7b91bf28b9",
       "version_major": 2,
       "version_minor": 0
      },
      "text/plain": [
       "Epoch 139/500 [Train]:   0%|          | 0/28 [00:00<?, ?it/s]"
      ]
     },
     "metadata": {},
     "output_type": "display_data"
    },
    {
     "name": "stderr",
     "output_type": "stream",
     "text": [
      "2025-09-13 08:53:36,187 - INFO - Epoch 139/500 | Validation Type Acc: 0.8698\n"
     ]
    },
    {
     "data": {
      "application/vnd.jupyter.widget-view+json": {
       "model_id": "1fcaec44c2944ed999fa6d90a92f881d",
       "version_major": 2,
       "version_minor": 0
      },
      "text/plain": [
       "Epoch 140/500 [Train]:   0%|          | 0/28 [00:00<?, ?it/s]"
      ]
     },
     "metadata": {},
     "output_type": "display_data"
    },
    {
     "name": "stderr",
     "output_type": "stream",
     "text": [
      "2025-09-13 08:53:41,005 - INFO - Epoch 140/500 | Validation Type Acc: 0.8542\n"
     ]
    },
    {
     "data": {
      "application/vnd.jupyter.widget-view+json": {
       "model_id": "f8c1c3c9cbaa4b0b915fed68001a2f45",
       "version_major": 2,
       "version_minor": 0
      },
      "text/plain": [
       "Epoch 141/500 [Train]:   0%|          | 0/28 [00:00<?, ?it/s]"
      ]
     },
     "metadata": {},
     "output_type": "display_data"
    },
    {
     "name": "stderr",
     "output_type": "stream",
     "text": [
      "2025-09-13 08:53:45,833 - INFO - Epoch 141/500 | Validation Type Acc: 0.8958\n"
     ]
    },
    {
     "data": {
      "application/vnd.jupyter.widget-view+json": {
       "model_id": "1c9da0db640348eaa48e9c2cb65f1766",
       "version_major": 2,
       "version_minor": 0
      },
      "text/plain": [
       "Epoch 142/500 [Train]:   0%|          | 0/28 [00:00<?, ?it/s]"
      ]
     },
     "metadata": {},
     "output_type": "display_data"
    },
    {
     "name": "stderr",
     "output_type": "stream",
     "text": [
      "2025-09-13 08:53:50,578 - INFO - Epoch 142/500 | Validation Type Acc: 0.8854\n"
     ]
    },
    {
     "data": {
      "application/vnd.jupyter.widget-view+json": {
       "model_id": "8eadc30f58fb4792a9f96ac0a085645e",
       "version_major": 2,
       "version_minor": 0
      },
      "text/plain": [
       "Epoch 143/500 [Train]:   0%|          | 0/28 [00:00<?, ?it/s]"
      ]
     },
     "metadata": {},
     "output_type": "display_data"
    },
    {
     "name": "stderr",
     "output_type": "stream",
     "text": [
      "2025-09-13 08:53:55,411 - INFO - Epoch 143/500 | Validation Type Acc: 0.9167\n"
     ]
    },
    {
     "data": {
      "application/vnd.jupyter.widget-view+json": {
       "model_id": "6f21721f049a4e0183bd72d48a157f1d",
       "version_major": 2,
       "version_minor": 0
      },
      "text/plain": [
       "Epoch 144/500 [Train]:   0%|          | 0/28 [00:00<?, ?it/s]"
      ]
     },
     "metadata": {},
     "output_type": "display_data"
    },
    {
     "name": "stderr",
     "output_type": "stream",
     "text": [
      "2025-09-13 08:54:00,201 - INFO - Epoch 144/500 | Validation Type Acc: 0.8906\n"
     ]
    },
    {
     "data": {
      "application/vnd.jupyter.widget-view+json": {
       "model_id": "7bf1352ba2324ab38205b4a8d9cfd45c",
       "version_major": 2,
       "version_minor": 0
      },
      "text/plain": [
       "Epoch 145/500 [Train]:   0%|          | 0/28 [00:00<?, ?it/s]"
      ]
     },
     "metadata": {},
     "output_type": "display_data"
    },
    {
     "name": "stderr",
     "output_type": "stream",
     "text": [
      "2025-09-13 08:54:05,008 - INFO - Epoch 145/500 | Validation Type Acc: 0.8906\n"
     ]
    },
    {
     "data": {
      "application/vnd.jupyter.widget-view+json": {
       "model_id": "56fc91086fcd4c6b86b5b6356645fdd5",
       "version_major": 2,
       "version_minor": 0
      },
      "text/plain": [
       "Epoch 146/500 [Train]:   0%|          | 0/28 [00:00<?, ?it/s]"
      ]
     },
     "metadata": {},
     "output_type": "display_data"
    },
    {
     "name": "stderr",
     "output_type": "stream",
     "text": [
      "2025-09-13 08:54:09,816 - INFO - Epoch 146/500 | Validation Type Acc: 0.9010\n"
     ]
    },
    {
     "data": {
      "application/vnd.jupyter.widget-view+json": {
       "model_id": "8620978b43e54f65812a7c3a2e69a7d9",
       "version_major": 2,
       "version_minor": 0
      },
      "text/plain": [
       "Epoch 147/500 [Train]:   0%|          | 0/28 [00:00<?, ?it/s]"
      ]
     },
     "metadata": {},
     "output_type": "display_data"
    },
    {
     "name": "stderr",
     "output_type": "stream",
     "text": [
      "2025-09-13 08:54:14,732 - INFO - Epoch 147/500 | Validation Type Acc: 0.8333\n"
     ]
    },
    {
     "data": {
      "application/vnd.jupyter.widget-view+json": {
       "model_id": "fc7ce55c133f40b895cacc5607159d4c",
       "version_major": 2,
       "version_minor": 0
      },
      "text/plain": [
       "Epoch 148/500 [Train]:   0%|          | 0/28 [00:00<?, ?it/s]"
      ]
     },
     "metadata": {},
     "output_type": "display_data"
    },
    {
     "name": "stderr",
     "output_type": "stream",
     "text": [
      "2025-09-13 08:54:19,511 - INFO - Epoch 148/500 | Validation Type Acc: 0.8542\n"
     ]
    },
    {
     "data": {
      "application/vnd.jupyter.widget-view+json": {
       "model_id": "be9434ce50e54eda9ded486aa70644c5",
       "version_major": 2,
       "version_minor": 0
      },
      "text/plain": [
       "Epoch 149/500 [Train]:   0%|          | 0/28 [00:00<?, ?it/s]"
      ]
     },
     "metadata": {},
     "output_type": "display_data"
    },
    {
     "name": "stderr",
     "output_type": "stream",
     "text": [
      "2025-09-13 08:54:24,330 - INFO - Epoch 149/500 | Validation Type Acc: 0.8750\n"
     ]
    },
    {
     "data": {
      "application/vnd.jupyter.widget-view+json": {
       "model_id": "b43e21bb4c2e4506abb4e1688ecb0af5",
       "version_major": 2,
       "version_minor": 0
      },
      "text/plain": [
       "Epoch 150/500 [Train]:   0%|          | 0/28 [00:00<?, ?it/s]"
      ]
     },
     "metadata": {},
     "output_type": "display_data"
    },
    {
     "name": "stderr",
     "output_type": "stream",
     "text": [
      "2025-09-13 08:54:29,050 - INFO - Epoch 150/500 | Validation Type Acc: 0.8594\n"
     ]
    },
    {
     "data": {
      "application/vnd.jupyter.widget-view+json": {
       "model_id": "51e64607a49544918263e651df000f60",
       "version_major": 2,
       "version_minor": 0
      },
      "text/plain": [
       "Epoch 151/500 [Train]:   0%|          | 0/28 [00:00<?, ?it/s]"
      ]
     },
     "metadata": {},
     "output_type": "display_data"
    },
    {
     "name": "stderr",
     "output_type": "stream",
     "text": [
      "2025-09-13 08:54:33,850 - INFO - Epoch 151/500 | Validation Type Acc: 0.9010\n"
     ]
    },
    {
     "data": {
      "application/vnd.jupyter.widget-view+json": {
       "model_id": "fbd6d98fd42546798598eb9765bd377e",
       "version_major": 2,
       "version_minor": 0
      },
      "text/plain": [
       "Epoch 152/500 [Train]:   0%|          | 0/28 [00:00<?, ?it/s]"
      ]
     },
     "metadata": {},
     "output_type": "display_data"
    },
    {
     "name": "stderr",
     "output_type": "stream",
     "text": [
      "2025-09-13 08:54:38,670 - INFO - Epoch 152/500 | Validation Type Acc: 0.8802\n"
     ]
    },
    {
     "data": {
      "application/vnd.jupyter.widget-view+json": {
       "model_id": "b54a1824ae394fc2a354aa53c016ecea",
       "version_major": 2,
       "version_minor": 0
      },
      "text/plain": [
       "Epoch 153/500 [Train]:   0%|          | 0/28 [00:00<?, ?it/s]"
      ]
     },
     "metadata": {},
     "output_type": "display_data"
    },
    {
     "name": "stderr",
     "output_type": "stream",
     "text": [
      "2025-09-13 08:54:43,585 - INFO - Epoch 153/500 | Validation Type Acc: 0.8854\n"
     ]
    },
    {
     "data": {
      "application/vnd.jupyter.widget-view+json": {
       "model_id": "13dd884402d1422bae36b6ebc43f9bf5",
       "version_major": 2,
       "version_minor": 0
      },
      "text/plain": [
       "Epoch 154/500 [Train]:   0%|          | 0/28 [00:00<?, ?it/s]"
      ]
     },
     "metadata": {},
     "output_type": "display_data"
    },
    {
     "name": "stderr",
     "output_type": "stream",
     "text": [
      "2025-09-13 08:54:48,399 - INFO - Epoch 154/500 | Validation Type Acc: 0.9010\n"
     ]
    },
    {
     "data": {
      "application/vnd.jupyter.widget-view+json": {
       "model_id": "26ae4c21375d407dbefcd9a7277325f8",
       "version_major": 2,
       "version_minor": 0
      },
      "text/plain": [
       "Epoch 155/500 [Train]:   0%|          | 0/28 [00:00<?, ?it/s]"
      ]
     },
     "metadata": {},
     "output_type": "display_data"
    },
    {
     "name": "stderr",
     "output_type": "stream",
     "text": [
      "2025-09-13 08:54:53,172 - INFO - Epoch 155/500 | Validation Type Acc: 0.8646\n"
     ]
    },
    {
     "data": {
      "application/vnd.jupyter.widget-view+json": {
       "model_id": "f9f3123a340549f48ea62759ee0c6754",
       "version_major": 2,
       "version_minor": 0
      },
      "text/plain": [
       "Epoch 156/500 [Train]:   0%|          | 0/28 [00:00<?, ?it/s]"
      ]
     },
     "metadata": {},
     "output_type": "display_data"
    },
    {
     "name": "stderr",
     "output_type": "stream",
     "text": [
      "2025-09-13 08:54:58,105 - INFO - Epoch 156/500 | Validation Type Acc: 0.8542\n"
     ]
    },
    {
     "data": {
      "application/vnd.jupyter.widget-view+json": {
       "model_id": "e0ebcb14a93f48dcb31eeb06081c875c",
       "version_major": 2,
       "version_minor": 0
      },
      "text/plain": [
       "Epoch 157/500 [Train]:   0%|          | 0/28 [00:00<?, ?it/s]"
      ]
     },
     "metadata": {},
     "output_type": "display_data"
    },
    {
     "name": "stderr",
     "output_type": "stream",
     "text": [
      "2025-09-13 08:55:02,929 - INFO - Epoch 157/500 | Validation Type Acc: 0.9010\n"
     ]
    },
    {
     "data": {
      "application/vnd.jupyter.widget-view+json": {
       "model_id": "184d9273ec8d4a9b92c677e9d695fc88",
       "version_major": 2,
       "version_minor": 0
      },
      "text/plain": [
       "Epoch 158/500 [Train]:   0%|          | 0/28 [00:00<?, ?it/s]"
      ]
     },
     "metadata": {},
     "output_type": "display_data"
    },
    {
     "name": "stderr",
     "output_type": "stream",
     "text": [
      "2025-09-13 08:55:07,817 - INFO - Epoch 158/500 | Validation Type Acc: 0.8958\n"
     ]
    },
    {
     "data": {
      "application/vnd.jupyter.widget-view+json": {
       "model_id": "b02850fb77604af9bcd20dbe845cbd7b",
       "version_major": 2,
       "version_minor": 0
      },
      "text/plain": [
       "Epoch 159/500 [Train]:   0%|          | 0/28 [00:00<?, ?it/s]"
      ]
     },
     "metadata": {},
     "output_type": "display_data"
    },
    {
     "name": "stderr",
     "output_type": "stream",
     "text": [
      "2025-09-13 08:55:12,641 - INFO - Epoch 159/500 | Validation Type Acc: 0.8490\n"
     ]
    },
    {
     "data": {
      "application/vnd.jupyter.widget-view+json": {
       "model_id": "008b383362c741f3bfec0742eb0ce503",
       "version_major": 2,
       "version_minor": 0
      },
      "text/plain": [
       "Epoch 160/500 [Train]:   0%|          | 0/28 [00:00<?, ?it/s]"
      ]
     },
     "metadata": {},
     "output_type": "display_data"
    },
    {
     "name": "stderr",
     "output_type": "stream",
     "text": [
      "2025-09-13 08:55:17,432 - INFO - Epoch 160/500 | Validation Type Acc: 0.8750\n"
     ]
    },
    {
     "data": {
      "application/vnd.jupyter.widget-view+json": {
       "model_id": "03f475d0297342ea8e820692ea67b7cc",
       "version_major": 2,
       "version_minor": 0
      },
      "text/plain": [
       "Epoch 161/500 [Train]:   0%|          | 0/28 [00:00<?, ?it/s]"
      ]
     },
     "metadata": {},
     "output_type": "display_data"
    },
    {
     "name": "stderr",
     "output_type": "stream",
     "text": [
      "2025-09-13 08:55:22,256 - INFO - Epoch 161/500 | Validation Type Acc: 0.8646\n"
     ]
    },
    {
     "data": {
      "application/vnd.jupyter.widget-view+json": {
       "model_id": "e4b7d0346033479aa18c79b514a5b4a1",
       "version_major": 2,
       "version_minor": 0
      },
      "text/plain": [
       "Epoch 162/500 [Train]:   0%|          | 0/28 [00:00<?, ?it/s]"
      ]
     },
     "metadata": {},
     "output_type": "display_data"
    },
    {
     "name": "stderr",
     "output_type": "stream",
     "text": [
      "2025-09-13 08:55:27,013 - INFO - Epoch 162/500 | Validation Type Acc: 0.8646\n"
     ]
    },
    {
     "data": {
      "application/vnd.jupyter.widget-view+json": {
       "model_id": "8bc897ad1ba64324a8793b88ab592e66",
       "version_major": 2,
       "version_minor": 0
      },
      "text/plain": [
       "Epoch 163/500 [Train]:   0%|          | 0/28 [00:00<?, ?it/s]"
      ]
     },
     "metadata": {},
     "output_type": "display_data"
    },
    {
     "name": "stderr",
     "output_type": "stream",
     "text": [
      "2025-09-13 08:55:31,822 - INFO - Epoch 163/500 | Validation Type Acc: 0.8490\n"
     ]
    },
    {
     "data": {
      "application/vnd.jupyter.widget-view+json": {
       "model_id": "c1a292ab1cd24d609ac6f84dca23674e",
       "version_major": 2,
       "version_minor": 0
      },
      "text/plain": [
       "Epoch 164/500 [Train]:   0%|          | 0/28 [00:00<?, ?it/s]"
      ]
     },
     "metadata": {},
     "output_type": "display_data"
    },
    {
     "name": "stderr",
     "output_type": "stream",
     "text": [
      "2025-09-13 08:55:36,666 - INFO - Epoch 164/500 | Validation Type Acc: 0.8802\n"
     ]
    },
    {
     "data": {
      "application/vnd.jupyter.widget-view+json": {
       "model_id": "0eeb029cbf344f6983dd5ff9accb40d6",
       "version_major": 2,
       "version_minor": 0
      },
      "text/plain": [
       "Epoch 165/500 [Train]:   0%|          | 0/28 [00:00<?, ?it/s]"
      ]
     },
     "metadata": {},
     "output_type": "display_data"
    },
    {
     "name": "stderr",
     "output_type": "stream",
     "text": [
      "2025-09-13 08:55:41,490 - INFO - Epoch 165/500 | Validation Type Acc: 0.8750\n"
     ]
    },
    {
     "data": {
      "application/vnd.jupyter.widget-view+json": {
       "model_id": "25a3b6a41c414fdfadc479d1a058c4dc",
       "version_major": 2,
       "version_minor": 0
      },
      "text/plain": [
       "Epoch 166/500 [Train]:   0%|          | 0/28 [00:00<?, ?it/s]"
      ]
     },
     "metadata": {},
     "output_type": "display_data"
    },
    {
     "name": "stderr",
     "output_type": "stream",
     "text": [
      "2025-09-13 08:55:46,363 - INFO - Epoch 166/500 | Validation Type Acc: 0.8854\n"
     ]
    },
    {
     "data": {
      "application/vnd.jupyter.widget-view+json": {
       "model_id": "97aee68b5a6e4e44a82a51d7a2cfc265",
       "version_major": 2,
       "version_minor": 0
      },
      "text/plain": [
       "Epoch 167/500 [Train]:   0%|          | 0/28 [00:00<?, ?it/s]"
      ]
     },
     "metadata": {},
     "output_type": "display_data"
    },
    {
     "name": "stderr",
     "output_type": "stream",
     "text": [
      "2025-09-13 08:55:51,251 - INFO - Epoch 167/500 | Validation Type Acc: 0.8958\n"
     ]
    },
    {
     "data": {
      "application/vnd.jupyter.widget-view+json": {
       "model_id": "655e18736dd6416384aff7fbc92569c3",
       "version_major": 2,
       "version_minor": 0
      },
      "text/plain": [
       "Epoch 168/500 [Train]:   0%|          | 0/28 [00:00<?, ?it/s]"
      ]
     },
     "metadata": {},
     "output_type": "display_data"
    },
    {
     "name": "stderr",
     "output_type": "stream",
     "text": [
      "2025-09-13 08:55:56,084 - INFO - Epoch 168/500 | Validation Type Acc: 0.8385\n"
     ]
    },
    {
     "data": {
      "application/vnd.jupyter.widget-view+json": {
       "model_id": "9836c5aeb34a455eb7a8ff5e65c91be5",
       "version_major": 2,
       "version_minor": 0
      },
      "text/plain": [
       "Epoch 169/500 [Train]:   0%|          | 0/28 [00:00<?, ?it/s]"
      ]
     },
     "metadata": {},
     "output_type": "display_data"
    },
    {
     "name": "stderr",
     "output_type": "stream",
     "text": [
      "2025-09-13 08:56:00,905 - INFO - Epoch 169/500 | Validation Type Acc: 0.9010\n"
     ]
    },
    {
     "data": {
      "application/vnd.jupyter.widget-view+json": {
       "model_id": "77cee37b573e49499fd195b6f65d29bb",
       "version_major": 2,
       "version_minor": 0
      },
      "text/plain": [
       "Epoch 170/500 [Train]:   0%|          | 0/28 [00:00<?, ?it/s]"
      ]
     },
     "metadata": {},
     "output_type": "display_data"
    },
    {
     "name": "stderr",
     "output_type": "stream",
     "text": [
      "2025-09-13 08:56:05,876 - INFO - Epoch 170/500 | Validation Type Acc: 0.9062\n"
     ]
    },
    {
     "data": {
      "application/vnd.jupyter.widget-view+json": {
       "model_id": "3bb3411c1d7b46fab8f7e85c2c98978d",
       "version_major": 2,
       "version_minor": 0
      },
      "text/plain": [
       "Epoch 171/500 [Train]:   0%|          | 0/28 [00:00<?, ?it/s]"
      ]
     },
     "metadata": {},
     "output_type": "display_data"
    },
    {
     "name": "stderr",
     "output_type": "stream",
     "text": [
      "2025-09-13 08:56:10,733 - INFO - Epoch 171/500 | Validation Type Acc: 0.8750\n"
     ]
    },
    {
     "data": {
      "application/vnd.jupyter.widget-view+json": {
       "model_id": "4b9d38f4bfe04edeaa1bde7078bcdbe5",
       "version_major": 2,
       "version_minor": 0
      },
      "text/plain": [
       "Epoch 172/500 [Train]:   0%|          | 0/28 [00:00<?, ?it/s]"
      ]
     },
     "metadata": {},
     "output_type": "display_data"
    },
    {
     "name": "stderr",
     "output_type": "stream",
     "text": [
      "2025-09-13 08:56:15,569 - INFO - Epoch 172/500 | Validation Type Acc: 0.8646\n"
     ]
    },
    {
     "data": {
      "application/vnd.jupyter.widget-view+json": {
       "model_id": "8a6e77ca05d1434284b236d0a5fd42f9",
       "version_major": 2,
       "version_minor": 0
      },
      "text/plain": [
       "Epoch 173/500 [Train]:   0%|          | 0/28 [00:00<?, ?it/s]"
      ]
     },
     "metadata": {},
     "output_type": "display_data"
    },
    {
     "name": "stderr",
     "output_type": "stream",
     "text": [
      "2025-09-13 08:56:20,469 - INFO - Epoch 173/500 | Validation Type Acc: 0.8698\n"
     ]
    },
    {
     "data": {
      "application/vnd.jupyter.widget-view+json": {
       "model_id": "885dc2c2e4de4e0a9d51282b1e19b80c",
       "version_major": 2,
       "version_minor": 0
      },
      "text/plain": [
       "Epoch 174/500 [Train]:   0%|          | 0/28 [00:00<?, ?it/s]"
      ]
     },
     "metadata": {},
     "output_type": "display_data"
    },
    {
     "name": "stderr",
     "output_type": "stream",
     "text": [
      "2025-09-13 08:56:25,453 - INFO - Epoch 174/500 | Validation Type Acc: 0.8177\n"
     ]
    },
    {
     "data": {
      "application/vnd.jupyter.widget-view+json": {
       "model_id": "5dcdae5543fb43fd93935cbe263d9e97",
       "version_major": 2,
       "version_minor": 0
      },
      "text/plain": [
       "Epoch 175/500 [Train]:   0%|          | 0/28 [00:00<?, ?it/s]"
      ]
     },
     "metadata": {},
     "output_type": "display_data"
    },
    {
     "name": "stderr",
     "output_type": "stream",
     "text": [
      "2025-09-13 08:56:30,601 - INFO - Epoch 175/500 | Validation Type Acc: 0.8281\n"
     ]
    },
    {
     "data": {
      "application/vnd.jupyter.widget-view+json": {
       "model_id": "e2ed6d3dbfaf413ba77eaa47bb6d4909",
       "version_major": 2,
       "version_minor": 0
      },
      "text/plain": [
       "Epoch 176/500 [Train]:   0%|          | 0/28 [00:00<?, ?it/s]"
      ]
     },
     "metadata": {},
     "output_type": "display_data"
    },
    {
     "name": "stderr",
     "output_type": "stream",
     "text": [
      "2025-09-13 08:56:35,566 - INFO - Epoch 176/500 | Validation Type Acc: 0.8333\n"
     ]
    },
    {
     "data": {
      "application/vnd.jupyter.widget-view+json": {
       "model_id": "b3a8f4381c8d400d926f7d8c75c1cf81",
       "version_major": 2,
       "version_minor": 0
      },
      "text/plain": [
       "Epoch 177/500 [Train]:   0%|          | 0/28 [00:00<?, ?it/s]"
      ]
     },
     "metadata": {},
     "output_type": "display_data"
    },
    {
     "name": "stderr",
     "output_type": "stream",
     "text": [
      "2025-09-13 08:56:40,487 - INFO - Epoch 177/500 | Validation Type Acc: 0.7969\n"
     ]
    },
    {
     "data": {
      "application/vnd.jupyter.widget-view+json": {
       "model_id": "e04ea3586a0b4865bbc30a1bdf6ea40a",
       "version_major": 2,
       "version_minor": 0
      },
      "text/plain": [
       "Epoch 178/500 [Train]:   0%|          | 0/28 [00:00<?, ?it/s]"
      ]
     },
     "metadata": {},
     "output_type": "display_data"
    },
    {
     "name": "stderr",
     "output_type": "stream",
     "text": [
      "2025-09-13 08:56:45,393 - INFO - Epoch 178/500 | Validation Type Acc: 0.8594\n"
     ]
    },
    {
     "data": {
      "application/vnd.jupyter.widget-view+json": {
       "model_id": "fe6dcb5ee73e4ddc89a67d82666979b3",
       "version_major": 2,
       "version_minor": 0
      },
      "text/plain": [
       "Epoch 179/500 [Train]:   0%|          | 0/28 [00:00<?, ?it/s]"
      ]
     },
     "metadata": {},
     "output_type": "display_data"
    },
    {
     "name": "stderr",
     "output_type": "stream",
     "text": [
      "2025-09-13 08:56:50,247 - INFO - Epoch 179/500 | Validation Type Acc: 0.8802\n"
     ]
    },
    {
     "data": {
      "application/vnd.jupyter.widget-view+json": {
       "model_id": "d855b6ce217f46d5995c24a1e2f27cb9",
       "version_major": 2,
       "version_minor": 0
      },
      "text/plain": [
       "Epoch 180/500 [Train]:   0%|          | 0/28 [00:00<?, ?it/s]"
      ]
     },
     "metadata": {},
     "output_type": "display_data"
    },
    {
     "name": "stderr",
     "output_type": "stream",
     "text": [
      "2025-09-13 08:56:55,208 - INFO - Epoch 180/500 | Validation Type Acc: 0.8542\n"
     ]
    },
    {
     "data": {
      "application/vnd.jupyter.widget-view+json": {
       "model_id": "0f5ae1fbcca64b6e9b1e5035753a90f9",
       "version_major": 2,
       "version_minor": 0
      },
      "text/plain": [
       "Epoch 181/500 [Train]:   0%|          | 0/28 [00:00<?, ?it/s]"
      ]
     },
     "metadata": {},
     "output_type": "display_data"
    },
    {
     "name": "stderr",
     "output_type": "stream",
     "text": [
      "2025-09-13 08:57:00,541 - INFO - Epoch 181/500 | Validation Type Acc: 0.8698\n"
     ]
    },
    {
     "data": {
      "application/vnd.jupyter.widget-view+json": {
       "model_id": "bafc8e3cce17464cb2ea0797ce9017cb",
       "version_major": 2,
       "version_minor": 0
      },
      "text/plain": [
       "Epoch 182/500 [Train]:   0%|          | 0/28 [00:00<?, ?it/s]"
      ]
     },
     "metadata": {},
     "output_type": "display_data"
    },
    {
     "name": "stderr",
     "output_type": "stream",
     "text": [
      "2025-09-13 08:57:05,909 - INFO - Epoch 182/500 | Validation Type Acc: 0.8906\n"
     ]
    },
    {
     "data": {
      "application/vnd.jupyter.widget-view+json": {
       "model_id": "de55821b63a5459bbf6d4b2e1e4410e3",
       "version_major": 2,
       "version_minor": 0
      },
      "text/plain": [
       "Epoch 183/500 [Train]:   0%|          | 0/28 [00:00<?, ?it/s]"
      ]
     },
     "metadata": {},
     "output_type": "display_data"
    },
    {
     "name": "stderr",
     "output_type": "stream",
     "text": [
      "2025-09-13 08:57:10,780 - INFO - Epoch 183/500 | Validation Type Acc: 0.8958\n"
     ]
    },
    {
     "data": {
      "application/vnd.jupyter.widget-view+json": {
       "model_id": "3522f20bf0f042a78f5131a9d9b54262",
       "version_major": 2,
       "version_minor": 0
      },
      "text/plain": [
       "Epoch 184/500 [Train]:   0%|          | 0/28 [00:00<?, ?it/s]"
      ]
     },
     "metadata": {},
     "output_type": "display_data"
    },
    {
     "name": "stderr",
     "output_type": "stream",
     "text": [
      "2025-09-13 08:57:15,692 - INFO - Epoch 184/500 | Validation Type Acc: 0.8542\n"
     ]
    },
    {
     "data": {
      "application/vnd.jupyter.widget-view+json": {
       "model_id": "55adbbe6390e4dfbb8a4a965226c0014",
       "version_major": 2,
       "version_minor": 0
      },
      "text/plain": [
       "Epoch 185/500 [Train]:   0%|          | 0/28 [00:00<?, ?it/s]"
      ]
     },
     "metadata": {},
     "output_type": "display_data"
    },
    {
     "name": "stderr",
     "output_type": "stream",
     "text": [
      "2025-09-13 08:57:20,621 - INFO - Epoch 185/500 | Validation Type Acc: 0.8958\n"
     ]
    },
    {
     "data": {
      "application/vnd.jupyter.widget-view+json": {
       "model_id": "df1766c6d7d54b9e9a83efd6e0a7dfe0",
       "version_major": 2,
       "version_minor": 0
      },
      "text/plain": [
       "Epoch 186/500 [Train]:   0%|          | 0/28 [00:00<?, ?it/s]"
      ]
     },
     "metadata": {},
     "output_type": "display_data"
    },
    {
     "name": "stderr",
     "output_type": "stream",
     "text": [
      "2025-09-13 08:57:25,540 - INFO - Epoch 186/500 | Validation Type Acc: 0.9062\n"
     ]
    },
    {
     "data": {
      "application/vnd.jupyter.widget-view+json": {
       "model_id": "ec4ccbb9e70846f097470b52d05a18a9",
       "version_major": 2,
       "version_minor": 0
      },
      "text/plain": [
       "Epoch 187/500 [Train]:   0%|          | 0/28 [00:00<?, ?it/s]"
      ]
     },
     "metadata": {},
     "output_type": "display_data"
    },
    {
     "name": "stderr",
     "output_type": "stream",
     "text": [
      "2025-09-13 08:57:30,512 - INFO - Epoch 187/500 | Validation Type Acc: 0.9219\n"
     ]
    },
    {
     "data": {
      "application/vnd.jupyter.widget-view+json": {
       "model_id": "3ddd4dc7196843938cc5d147e10d6905",
       "version_major": 2,
       "version_minor": 0
      },
      "text/plain": [
       "Epoch 188/500 [Train]:   0%|          | 0/28 [00:00<?, ?it/s]"
      ]
     },
     "metadata": {},
     "output_type": "display_data"
    },
    {
     "name": "stderr",
     "output_type": "stream",
     "text": [
      "2025-09-13 08:57:35,504 - INFO - Epoch 188/500 | Validation Type Acc: 0.9219\n"
     ]
    },
    {
     "data": {
      "application/vnd.jupyter.widget-view+json": {
       "model_id": "3c5ad97c4cc4409da8c75d7d2b477f73",
       "version_major": 2,
       "version_minor": 0
      },
      "text/plain": [
       "Epoch 189/500 [Train]:   0%|          | 0/28 [00:00<?, ?it/s]"
      ]
     },
     "metadata": {},
     "output_type": "display_data"
    },
    {
     "name": "stderr",
     "output_type": "stream",
     "text": [
      "2025-09-13 08:57:40,584 - INFO - Epoch 189/500 | Validation Type Acc: 0.9010\n"
     ]
    },
    {
     "data": {
      "application/vnd.jupyter.widget-view+json": {
       "model_id": "5cf6a21c24df42a58dee363e3ac9be84",
       "version_major": 2,
       "version_minor": 0
      },
      "text/plain": [
       "Epoch 190/500 [Train]:   0%|          | 0/28 [00:00<?, ?it/s]"
      ]
     },
     "metadata": {},
     "output_type": "display_data"
    },
    {
     "name": "stderr",
     "output_type": "stream",
     "text": [
      "2025-09-13 08:57:45,402 - INFO - Epoch 190/500 | Validation Type Acc: 0.9115\n"
     ]
    },
    {
     "data": {
      "application/vnd.jupyter.widget-view+json": {
       "model_id": "19c34983e5ac44f1962c07abd842400d",
       "version_major": 2,
       "version_minor": 0
      },
      "text/plain": [
       "Epoch 191/500 [Train]:   0%|          | 0/28 [00:00<?, ?it/s]"
      ]
     },
     "metadata": {},
     "output_type": "display_data"
    },
    {
     "name": "stderr",
     "output_type": "stream",
     "text": [
      "2025-09-13 08:57:50,213 - INFO - Epoch 191/500 | Validation Type Acc: 0.9219\n"
     ]
    },
    {
     "data": {
      "application/vnd.jupyter.widget-view+json": {
       "model_id": "3825575b58254b6b88f0ad59a3320497",
       "version_major": 2,
       "version_minor": 0
      },
      "text/plain": [
       "Epoch 192/500 [Train]:   0%|          | 0/28 [00:00<?, ?it/s]"
      ]
     },
     "metadata": {},
     "output_type": "display_data"
    },
    {
     "name": "stderr",
     "output_type": "stream",
     "text": [
      "2025-09-13 08:57:54,885 - INFO - Epoch 192/500 | Validation Type Acc: 0.9167\n"
     ]
    },
    {
     "data": {
      "application/vnd.jupyter.widget-view+json": {
       "model_id": "6114449465174d99957032957313018e",
       "version_major": 2,
       "version_minor": 0
      },
      "text/plain": [
       "Epoch 193/500 [Train]:   0%|          | 0/28 [00:00<?, ?it/s]"
      ]
     },
     "metadata": {},
     "output_type": "display_data"
    },
    {
     "name": "stderr",
     "output_type": "stream",
     "text": [
      "2025-09-13 08:57:59,518 - INFO - Epoch 193/500 | Validation Type Acc: 0.9010\n"
     ]
    },
    {
     "data": {
      "application/vnd.jupyter.widget-view+json": {
       "model_id": "5c9a3eef40ff4a72bf15d4edb20a16e2",
       "version_major": 2,
       "version_minor": 0
      },
      "text/plain": [
       "Epoch 194/500 [Train]:   0%|          | 0/28 [00:00<?, ?it/s]"
      ]
     },
     "metadata": {},
     "output_type": "display_data"
    },
    {
     "name": "stderr",
     "output_type": "stream",
     "text": [
      "2025-09-13 08:58:04,133 - INFO - Epoch 194/500 | Validation Type Acc: 0.9062\n"
     ]
    },
    {
     "data": {
      "application/vnd.jupyter.widget-view+json": {
       "model_id": "ff572ceaa6184eacaacb9f73c64c1352",
       "version_major": 2,
       "version_minor": 0
      },
      "text/plain": [
       "Epoch 195/500 [Train]:   0%|          | 0/28 [00:00<?, ?it/s]"
      ]
     },
     "metadata": {},
     "output_type": "display_data"
    },
    {
     "name": "stderr",
     "output_type": "stream",
     "text": [
      "2025-09-13 08:58:08,796 - INFO - Epoch 195/500 | Validation Type Acc: 0.9115\n"
     ]
    },
    {
     "data": {
      "application/vnd.jupyter.widget-view+json": {
       "model_id": "a5d8718a1d214d6f85c8fd6f28797b96",
       "version_major": 2,
       "version_minor": 0
      },
      "text/plain": [
       "Epoch 196/500 [Train]:   0%|          | 0/28 [00:00<?, ?it/s]"
      ]
     },
     "metadata": {},
     "output_type": "display_data"
    },
    {
     "name": "stderr",
     "output_type": "stream",
     "text": [
      "2025-09-13 08:58:13,755 - INFO - Epoch 196/500 | Validation Type Acc: 0.9167\n"
     ]
    },
    {
     "data": {
      "application/vnd.jupyter.widget-view+json": {
       "model_id": "3a2cc4784b114377bcf8c6ce53d2d0f7",
       "version_major": 2,
       "version_minor": 0
      },
      "text/plain": [
       "Epoch 197/500 [Train]:   0%|          | 0/28 [00:00<?, ?it/s]"
      ]
     },
     "metadata": {},
     "output_type": "display_data"
    },
    {
     "name": "stderr",
     "output_type": "stream",
     "text": [
      "2025-09-13 08:58:19,199 - INFO - Epoch 197/500 | Validation Type Acc: 0.9062\n"
     ]
    },
    {
     "data": {
      "application/vnd.jupyter.widget-view+json": {
       "model_id": "1cf7090d8b1b4a52a8129dea4e98a930",
       "version_major": 2,
       "version_minor": 0
      },
      "text/plain": [
       "Epoch 198/500 [Train]:   0%|          | 0/28 [00:00<?, ?it/s]"
      ]
     },
     "metadata": {},
     "output_type": "display_data"
    },
    {
     "ename": "KeyboardInterrupt",
     "evalue": "",
     "output_type": "error",
     "traceback": [
      "\u001b[31m---------------------------------------------------------------------------\u001b[39m",
      "\u001b[31mKeyboardInterrupt\u001b[39m                         Traceback (most recent call last)",
      "\u001b[36mCell\u001b[39m\u001b[36m \u001b[39m\u001b[32mIn[14]\u001b[39m\u001b[32m, line 64\u001b[39m\n\u001b[32m     61\u001b[39m mt_criteria = (nn.CrossEntropyLoss(), nn.CrossEntropyLoss())\n\u001b[32m     62\u001b[39m mt_optimizer = optim.AdamW(multitask_model.parameters(), lr=LEARNING_RATE)\n\u001b[32m---> \u001b[39m\u001b[32m64\u001b[39m \u001b[43mtrain_multitask_model\u001b[49m\u001b[43m(\u001b[49m\u001b[43mmultitask_model\u001b[49m\u001b[43m,\u001b[49m\u001b[43m \u001b[49m\u001b[43mmt_criteria\u001b[49m\u001b[43m,\u001b[49m\u001b[43m \u001b[49m\u001b[43mmt_optimizer\u001b[49m\u001b[43m,\u001b[49m\u001b[43m \u001b[49m\u001b[43mmt_train_dl\u001b[49m\u001b[43m,\u001b[49m\u001b[43m \u001b[49m\u001b[43mmt_val_dl\u001b[49m\u001b[43m,\u001b[49m\u001b[43m \u001b[49m\u001b[43mdevice\u001b[49m\u001b[43m,\u001b[49m\u001b[43m \u001b[49m\u001b[43mNUM_EPOCHS\u001b[49m\u001b[43m)\u001b[49m\n\u001b[32m     66\u001b[39m logging.info(\u001b[33m\"\u001b[39m\u001b[38;5;130;01m\\n\u001b[39;00m\u001b[33mPipeline finished successfully.\u001b[39m\u001b[33m\"\u001b[39m)\n",
      "\u001b[36mCell\u001b[39m\u001b[36m \u001b[39m\u001b[32mIn[12]\u001b[39m\u001b[32m, line 10\u001b[39m, in \u001b[36mtrain_multitask_model\u001b[39m\u001b[34m(model, criteria, optimizer, train_loader, val_loader, device, num_epochs)\u001b[39m\n\u001b[32m      8\u001b[39m model.train()\n\u001b[32m      9\u001b[39m loop = tqdm(train_loader, desc=\u001b[33mf\u001b[39m\u001b[33m\"\u001b[39m\u001b[33mEpoch \u001b[39m\u001b[38;5;132;01m{\u001b[39;00mepoch+\u001b[32m1\u001b[39m\u001b[38;5;132;01m}\u001b[39;00m\u001b[33m/\u001b[39m\u001b[38;5;132;01m{\u001b[39;00mnum_epochs\u001b[38;5;132;01m}\u001b[39;00m\u001b[33m [Train]\u001b[39m\u001b[33m\"\u001b[39m, leave=\u001b[38;5;28;01mFalse\u001b[39;00m)\n\u001b[32m---> \u001b[39m\u001b[32m10\u001b[39m \u001b[43m\u001b[49m\u001b[38;5;28;43;01mfor\u001b[39;49;00m\u001b[43m \u001b[49m\u001b[43minputs\u001b[49m\u001b[43m,\u001b[49m\u001b[43m \u001b[49m\u001b[43mtype_labels\u001b[49m\u001b[43m,\u001b[49m\u001b[43m \u001b[49m\u001b[43mgrade_labels\u001b[49m\u001b[43m \u001b[49m\u001b[38;5;129;43;01min\u001b[39;49;00m\u001b[43m \u001b[49m\u001b[43mloop\u001b[49m\u001b[43m:\u001b[49m\n\u001b[32m     11\u001b[39m \u001b[43m    \u001b[49m\u001b[43minputs\u001b[49m\u001b[43m,\u001b[49m\u001b[43m \u001b[49m\u001b[43mtype_labels\u001b[49m\u001b[43m,\u001b[49m\u001b[43m \u001b[49m\u001b[43mgrade_labels\u001b[49m\u001b[43m \u001b[49m\u001b[43m=\u001b[49m\u001b[43m \u001b[49m\u001b[43minputs\u001b[49m\u001b[43m.\u001b[49m\u001b[43mto\u001b[49m\u001b[43m(\u001b[49m\u001b[43mdevice\u001b[49m\u001b[43m)\u001b[49m\u001b[43m,\u001b[49m\u001b[43m \u001b[49m\u001b[43mtype_labels\u001b[49m\u001b[43m.\u001b[49m\u001b[43mto\u001b[49m\u001b[43m(\u001b[49m\u001b[43mdevice\u001b[49m\u001b[43m)\u001b[49m\u001b[43m,\u001b[49m\u001b[43m \u001b[49m\u001b[43mgrade_labels\u001b[49m\u001b[43m.\u001b[49m\u001b[43mto\u001b[49m\u001b[43m(\u001b[49m\u001b[43mdevice\u001b[49m\u001b[43m)\u001b[49m\n\u001b[32m     12\u001b[39m \u001b[43m    \u001b[49m\u001b[43moptimizer\u001b[49m\u001b[43m.\u001b[49m\u001b[43mzero_grad\u001b[49m\u001b[43m(\u001b[49m\u001b[43m)\u001b[49m\n",
      "\u001b[36mFile \u001b[39m\u001b[32m~/Documents/Major_Project/.venv/lib/python3.13/site-packages/tqdm/notebook.py:250\u001b[39m, in \u001b[36mtqdm_notebook.__iter__\u001b[39m\u001b[34m(self)\u001b[39m\n\u001b[32m    248\u001b[39m \u001b[38;5;28;01mtry\u001b[39;00m:\n\u001b[32m    249\u001b[39m     it = \u001b[38;5;28msuper\u001b[39m().\u001b[34m__iter__\u001b[39m()\n\u001b[32m--> \u001b[39m\u001b[32m250\u001b[39m \u001b[43m    \u001b[49m\u001b[38;5;28;43;01mfor\u001b[39;49;00m\u001b[43m \u001b[49m\u001b[43mobj\u001b[49m\u001b[43m \u001b[49m\u001b[38;5;129;43;01min\u001b[39;49;00m\u001b[43m \u001b[49m\u001b[43mit\u001b[49m\u001b[43m:\u001b[49m\n\u001b[32m    251\u001b[39m \u001b[43m        \u001b[49m\u001b[38;5;66;43;03m# return super(tqdm...) will not catch exception\u001b[39;49;00m\n\u001b[32m    252\u001b[39m \u001b[43m        \u001b[49m\u001b[38;5;28;43;01myield\u001b[39;49;00m\u001b[43m \u001b[49m\u001b[43mobj\u001b[49m\n\u001b[32m    253\u001b[39m \u001b[38;5;66;03m# NB: except ... [ as ...] breaks IPython async KeyboardInterrupt\u001b[39;00m\n",
      "\u001b[36mFile \u001b[39m\u001b[32m~/Documents/Major_Project/.venv/lib/python3.13/site-packages/tqdm/std.py:1181\u001b[39m, in \u001b[36mtqdm.__iter__\u001b[39m\u001b[34m(self)\u001b[39m\n\u001b[32m   1178\u001b[39m time = \u001b[38;5;28mself\u001b[39m._time\n\u001b[32m   1180\u001b[39m \u001b[38;5;28;01mtry\u001b[39;00m:\n\u001b[32m-> \u001b[39m\u001b[32m1181\u001b[39m \u001b[43m    \u001b[49m\u001b[38;5;28;43;01mfor\u001b[39;49;00m\u001b[43m \u001b[49m\u001b[43mobj\u001b[49m\u001b[43m \u001b[49m\u001b[38;5;129;43;01min\u001b[39;49;00m\u001b[43m \u001b[49m\u001b[43miterable\u001b[49m\u001b[43m:\u001b[49m\n\u001b[32m   1182\u001b[39m \u001b[43m        \u001b[49m\u001b[38;5;28;43;01myield\u001b[39;49;00m\u001b[43m \u001b[49m\u001b[43mobj\u001b[49m\n\u001b[32m   1183\u001b[39m \u001b[43m        \u001b[49m\u001b[38;5;66;43;03m# Update and possibly print the progressbar.\u001b[39;49;00m\n\u001b[32m   1184\u001b[39m \u001b[43m        \u001b[49m\u001b[38;5;66;43;03m# Note: does not call self.update(1) for speed optimisation.\u001b[39;49;00m\n",
      "\u001b[36mFile \u001b[39m\u001b[32m~/Documents/Major_Project/.venv/lib/python3.13/site-packages/torch/utils/data/dataloader.py:734\u001b[39m, in \u001b[36m_BaseDataLoaderIter.__next__\u001b[39m\u001b[34m(self)\u001b[39m\n\u001b[32m    731\u001b[39m \u001b[38;5;28;01mif\u001b[39;00m \u001b[38;5;28mself\u001b[39m._sampler_iter \u001b[38;5;129;01mis\u001b[39;00m \u001b[38;5;28;01mNone\u001b[39;00m:\n\u001b[32m    732\u001b[39m     \u001b[38;5;66;03m# TODO(https://github.com/pytorch/pytorch/issues/76750)\u001b[39;00m\n\u001b[32m    733\u001b[39m     \u001b[38;5;28mself\u001b[39m._reset()  \u001b[38;5;66;03m# type: ignore[call-arg]\u001b[39;00m\n\u001b[32m--> \u001b[39m\u001b[32m734\u001b[39m data = \u001b[38;5;28;43mself\u001b[39;49m\u001b[43m.\u001b[49m\u001b[43m_next_data\u001b[49m\u001b[43m(\u001b[49m\u001b[43m)\u001b[49m\n\u001b[32m    735\u001b[39m \u001b[38;5;28mself\u001b[39m._num_yielded += \u001b[32m1\u001b[39m\n\u001b[32m    736\u001b[39m \u001b[38;5;28;01mif\u001b[39;00m (\n\u001b[32m    737\u001b[39m     \u001b[38;5;28mself\u001b[39m._dataset_kind == _DatasetKind.Iterable\n\u001b[32m    738\u001b[39m     \u001b[38;5;129;01mand\u001b[39;00m \u001b[38;5;28mself\u001b[39m._IterableDataset_len_called \u001b[38;5;129;01mis\u001b[39;00m \u001b[38;5;129;01mnot\u001b[39;00m \u001b[38;5;28;01mNone\u001b[39;00m\n\u001b[32m    739\u001b[39m     \u001b[38;5;129;01mand\u001b[39;00m \u001b[38;5;28mself\u001b[39m._num_yielded > \u001b[38;5;28mself\u001b[39m._IterableDataset_len_called\n\u001b[32m    740\u001b[39m ):\n",
      "\u001b[36mFile \u001b[39m\u001b[32m~/Documents/Major_Project/.venv/lib/python3.13/site-packages/torch/utils/data/dataloader.py:790\u001b[39m, in \u001b[36m_SingleProcessDataLoaderIter._next_data\u001b[39m\u001b[34m(self)\u001b[39m\n\u001b[32m    788\u001b[39m \u001b[38;5;28;01mdef\u001b[39;00m\u001b[38;5;250m \u001b[39m\u001b[34m_next_data\u001b[39m(\u001b[38;5;28mself\u001b[39m):\n\u001b[32m    789\u001b[39m     index = \u001b[38;5;28mself\u001b[39m._next_index()  \u001b[38;5;66;03m# may raise StopIteration\u001b[39;00m\n\u001b[32m--> \u001b[39m\u001b[32m790\u001b[39m     data = \u001b[38;5;28;43mself\u001b[39;49m\u001b[43m.\u001b[49m\u001b[43m_dataset_fetcher\u001b[49m\u001b[43m.\u001b[49m\u001b[43mfetch\u001b[49m\u001b[43m(\u001b[49m\u001b[43mindex\u001b[49m\u001b[43m)\u001b[49m  \u001b[38;5;66;03m# may raise StopIteration\u001b[39;00m\n\u001b[32m    791\u001b[39m     \u001b[38;5;28;01mif\u001b[39;00m \u001b[38;5;28mself\u001b[39m._pin_memory:\n\u001b[32m    792\u001b[39m         data = _utils.pin_memory.pin_memory(data, \u001b[38;5;28mself\u001b[39m._pin_memory_device)\n",
      "\u001b[36mFile \u001b[39m\u001b[32m~/Documents/Major_Project/.venv/lib/python3.13/site-packages/torch/utils/data/_utils/fetch.py:52\u001b[39m, in \u001b[36m_MapDatasetFetcher.fetch\u001b[39m\u001b[34m(self, possibly_batched_index)\u001b[39m\n\u001b[32m     50\u001b[39m         data = \u001b[38;5;28mself\u001b[39m.dataset.__getitems__(possibly_batched_index)\n\u001b[32m     51\u001b[39m     \u001b[38;5;28;01melse\u001b[39;00m:\n\u001b[32m---> \u001b[39m\u001b[32m52\u001b[39m         data = [\u001b[38;5;28;43mself\u001b[39;49m\u001b[43m.\u001b[49m\u001b[43mdataset\u001b[49m\u001b[43m[\u001b[49m\u001b[43midx\u001b[49m\u001b[43m]\u001b[49m \u001b[38;5;28;01mfor\u001b[39;00m idx \u001b[38;5;129;01min\u001b[39;00m possibly_batched_index]\n\u001b[32m     53\u001b[39m \u001b[38;5;28;01melse\u001b[39;00m:\n\u001b[32m     54\u001b[39m     data = \u001b[38;5;28mself\u001b[39m.dataset[possibly_batched_index]\n",
      "\u001b[36mCell\u001b[39m\u001b[36m \u001b[39m\u001b[32mIn[10]\u001b[39m\u001b[32m, line 25\u001b[39m, in \u001b[36mMultiTaskDataset.__getitem__\u001b[39m\u001b[34m(self, index)\u001b[39m\n\u001b[32m     23\u001b[39m sample = \u001b[38;5;28mself\u001b[39m.loader(path)\n\u001b[32m     24\u001b[39m \u001b[38;5;28;01mif\u001b[39;00m \u001b[38;5;28mself\u001b[39m.transform \u001b[38;5;129;01mis\u001b[39;00m \u001b[38;5;129;01mnot\u001b[39;00m \u001b[38;5;28;01mNone\u001b[39;00m:\n\u001b[32m---> \u001b[39m\u001b[32m25\u001b[39m     sample = \u001b[38;5;28;43mself\u001b[39;49m\u001b[43m.\u001b[49m\u001b[43mtransform\u001b[49m\u001b[43m(\u001b[49m\u001b[43msample\u001b[49m\u001b[43m)\u001b[49m\n\u001b[32m     27\u001b[39m class_name = \u001b[38;5;28mself\u001b[39m.classes[type_label]\n\u001b[32m     28\u001b[39m grade_label = \u001b[38;5;28mself\u001b[39m.grade_map[class_name]\n",
      "\u001b[36mFile \u001b[39m\u001b[32m~/Documents/Major_Project/.venv/lib/python3.13/site-packages/torchvision/transforms/transforms.py:95\u001b[39m, in \u001b[36mCompose.__call__\u001b[39m\u001b[34m(self, img)\u001b[39m\n\u001b[32m     93\u001b[39m \u001b[38;5;28;01mdef\u001b[39;00m\u001b[38;5;250m \u001b[39m\u001b[34m__call__\u001b[39m(\u001b[38;5;28mself\u001b[39m, img):\n\u001b[32m     94\u001b[39m     \u001b[38;5;28;01mfor\u001b[39;00m t \u001b[38;5;129;01min\u001b[39;00m \u001b[38;5;28mself\u001b[39m.transforms:\n\u001b[32m---> \u001b[39m\u001b[32m95\u001b[39m         img = \u001b[43mt\u001b[49m\u001b[43m(\u001b[49m\u001b[43mimg\u001b[49m\u001b[43m)\u001b[49m\n\u001b[32m     96\u001b[39m     \u001b[38;5;28;01mreturn\u001b[39;00m img\n",
      "\u001b[36mFile \u001b[39m\u001b[32m~/Documents/Major_Project/.venv/lib/python3.13/site-packages/torchvision/transforms/transforms.py:137\u001b[39m, in \u001b[36mToTensor.__call__\u001b[39m\u001b[34m(self, pic)\u001b[39m\n\u001b[32m    129\u001b[39m \u001b[38;5;28;01mdef\u001b[39;00m\u001b[38;5;250m \u001b[39m\u001b[34m__call__\u001b[39m(\u001b[38;5;28mself\u001b[39m, pic):\n\u001b[32m    130\u001b[39m \u001b[38;5;250m    \u001b[39m\u001b[33;03m\"\"\"\u001b[39;00m\n\u001b[32m    131\u001b[39m \u001b[33;03m    Args:\u001b[39;00m\n\u001b[32m    132\u001b[39m \u001b[33;03m        pic (PIL Image or numpy.ndarray): Image to be converted to tensor.\u001b[39;00m\n\u001b[32m   (...)\u001b[39m\u001b[32m    135\u001b[39m \u001b[33;03m        Tensor: Converted image.\u001b[39;00m\n\u001b[32m    136\u001b[39m \u001b[33;03m    \"\"\"\u001b[39;00m\n\u001b[32m--> \u001b[39m\u001b[32m137\u001b[39m     \u001b[38;5;28;01mreturn\u001b[39;00m \u001b[43mF\u001b[49m\u001b[43m.\u001b[49m\u001b[43mto_tensor\u001b[49m\u001b[43m(\u001b[49m\u001b[43mpic\u001b[49m\u001b[43m)\u001b[49m\n",
      "\u001b[36mFile \u001b[39m\u001b[32m~/Documents/Major_Project/.venv/lib/python3.13/site-packages/torchvision/transforms/functional.py:176\u001b[39m, in \u001b[36mto_tensor\u001b[39m\u001b[34m(pic)\u001b[39m\n\u001b[32m    174\u001b[39m img = img.permute((\u001b[32m2\u001b[39m, \u001b[32m0\u001b[39m, \u001b[32m1\u001b[39m)).contiguous()\n\u001b[32m    175\u001b[39m \u001b[38;5;28;01mif\u001b[39;00m \u001b[38;5;28misinstance\u001b[39m(img, torch.ByteTensor):\n\u001b[32m--> \u001b[39m\u001b[32m176\u001b[39m     \u001b[38;5;28;01mreturn\u001b[39;00m \u001b[43mimg\u001b[49m\u001b[43m.\u001b[49m\u001b[43mto\u001b[49m\u001b[43m(\u001b[49m\u001b[43mdtype\u001b[49m\u001b[43m=\u001b[49m\u001b[43mdefault_float_dtype\u001b[49m\u001b[43m)\u001b[49m\u001b[43m.\u001b[49m\u001b[43mdiv\u001b[49m\u001b[43m(\u001b[49m\u001b[32;43m255\u001b[39;49m\u001b[43m)\u001b[49m\n\u001b[32m    177\u001b[39m \u001b[38;5;28;01melse\u001b[39;00m:\n\u001b[32m    178\u001b[39m     \u001b[38;5;28;01mreturn\u001b[39;00m img\n",
      "\u001b[31mKeyboardInterrupt\u001b[39m: "
     ]
    }
   ],
   "source": [
    "setup_logging()\n",
    "\n",
    "MODEL_DIR.mkdir(parents=True, exist_ok=True)\n",
    "\n",
    "if not SKIP_DATA_PREP:\n",
    "    data_prep_success = prepare_data()\n",
    "    if not data_prep_success:\n",
    "        raise RuntimeError(\"Data preparation failed. Check logs for details.\")\n",
    "else:\n",
    "    logging.info(\"Skipping data preparation as requested.\")\n",
    "\n",
    "if torch.cuda.is_available():\n",
    "    device = \"cuda\"\n",
    "elif torch.backends.mps.is_available():\n",
    "    device = \"mps\"\n",
    "else:\n",
    "    device = \"cpu\"\n",
    "logging.info(f\"Using device: {device}\")\n",
    "\n",
    "tfm_train = transforms.Compose([\n",
    "    transforms.RandomHorizontalFlip(), transforms.RandomRotation(15),\n",
    "    transforms.ColorJitter(brightness=0.1, contrast=0.1),\n",
    "    transforms.ToTensor(),\n",
    "    transforms.Normalize([0.485, 0.456, 0.406], [0.229, 0.224, 0.225])\n",
    "])\n",
    "tfm_eval = transforms.Compose([\n",
    "    transforms.ToTensor(),\n",
    "    transforms.Normalize([0.485, 0.456, 0.406], [0.229, 0.224, 0.225])\n",
    "])\n",
    "\n",
    "logging.info(\"\\n=== BASELINE MODEL PIPELINE ===\")\n",
    "train_ds = datasets.ImageFolder(str(TRAIN_DIR), tfm_train)\n",
    "val_ds = datasets.ImageFolder(str(VAL_DIR), tfm_eval)\n",
    "test_ds = datasets.ImageFolder(str(TEST_DIR), tfm_eval)\n",
    "\n",
    "train_dl = DataLoader(train_ds, batch_size=BATCH_SIZE, shuffle=True, num_workers=0)\n",
    "val_dl = DataLoader(val_ds, batch_size=BATCH_SIZE, shuffle=False, num_workers=0)\n",
    "test_dl = DataLoader(test_ds, batch_size=BATCH_SIZE, shuffle=False, num_workers=0)\n",
    "\n",
    "baseline_model = models.resnet18(weights=models.ResNet18_Weights.DEFAULT)\n",
    "baseline_model.fc = nn.Linear(baseline_model.fc.in_features, len(CLASSES))\n",
    "\n",
    "criterion = nn.CrossEntropyLoss()\n",
    "optimizer = optim.AdamW(baseline_model.parameters(), lr=LEARNING_RATE)\n",
    "\n",
    "train_baseline_model(baseline_model, criterion, optimizer, train_dl, val_dl, device, NUM_EPOCHS)\n",
    "\n",
    "logging.info(\"\\nLoading best baseline model for final evaluation.\")\n",
    "baseline_model.load_state_dict(torch.load(MODEL_DIR / 'baseline_cls.pt'))\n",
    "evaluate_model(baseline_model, test_dl, device, class_names=CLASSES)\n",
    "\n",
    "logging.info(\"\\n=== MULTI-TASK MODEL PIPELINE ===\")\n",
    "mt_train_ds = MultiTaskDataset(str(TRAIN_DIR), tfm_train)\n",
    "mt_val_ds = MultiTaskDataset(str(VAL_DIR), tfm_eval)\n",
    "\n",
    "mt_train_dl = DataLoader(mt_train_ds, batch_size=BATCH_SIZE, shuffle=True, num_workers=0)\n",
    "mt_val_dl = DataLoader(mt_val_ds, batch_size=BATCH_SIZE, shuffle=False, num_workers=0)\n",
    "\n",
    "multitask_model = MultiTaskModel(n_types=len(CLASSES), n_grades=len(GRADES))\n",
    "\n",
    "mt_criteria = (nn.CrossEntropyLoss(), nn.CrossEntropyLoss())\n",
    "mt_optimizer = optim.AdamW(multitask_model.parameters(), lr=LEARNING_RATE)\n",
    "\n",
    "train_multitask_model(multitask_model, mt_criteria, mt_optimizer, mt_train_dl, mt_val_dl, device, NUM_EPOCHS)\n",
    "\n",
    "logging.info(\"\\nPipeline finished successfully.\")"
   ]
  },
  {
   "cell_type": "markdown",
   "metadata": {},
   "source": [
    "## 4. Making a Prediction on a New Image\n",
    "\n",
    "After training, you can use this section to load your best `multitask_model` and make a prediction on any single image file."
   ]
  },
  {
   "cell_type": "code",
   "execution_count": 11,
   "metadata": {},
   "outputs": [],
   "source": [
    "def predict_leukemia(model_path, image_path, device):\n",
    "    \"\"\"\n",
    "    Loads the trained multi-task model and predicts the class and grade\n",
    "    for a single input image.\n",
    "    \"\"\"\n",
    "    # 1. Initialize the model architecture (the class MultiTaskModel must be defined)\n",
    "    model = MultiTaskModel(n_types=len(CLASSES), n_grades=len(GRADES))\n",
    "    \n",
    "    # 2. Load the saved weights\n",
    "    model.load_state_dict(torch.load(model_path, map_location=torch.device(device)))\n",
    "    model.to(device)\n",
    "    \n",
    "    # 3. Set the model to evaluation mode\n",
    "    model.eval()\n",
    "\n",
    "    # 4. Define the same image transformations as used for validation/testing\n",
    "    transform = transforms.Compose([\n",
    "        transforms.Resize((IMAGE_SIZE, IMAGE_SIZE)),\n",
    "        transforms.ToTensor(),\n",
    "        transforms.Normalize([0.485, 0.456, 0.406], [0.229, 0.224, 0.225])\n",
    "    ])\n",
    "\n",
    "    # 5. Load and preprocess the image\n",
    "    image = Image.open(image_path).convert('RGB')\n",
    "    image_tensor = transform(image).unsqueeze(0)\n",
    "    image_tensor = image_tensor.to(device)\n",
    "\n",
    "    # 6. Make a prediction\n",
    "    with torch.no_grad():\n",
    "        type_logits, grade_logits = model(image_tensor)\n",
    "        type_pred_idx = torch.argmax(type_logits, dim=1).item()\n",
    "        grade_pred_idx = torch.argmax(grade_logits, dim=1).item()\n",
    "\n",
    "    # 7. Map the index back to the class and grade names\n",
    "    predicted_class = CLASSES[type_pred_idx]\n",
    "    predicted_grade = GRADES[grade_pred_idx]\n",
    "    \n",
    "    return (predicted_class, predicted_grade)"
   ]
  },
  {
   "cell_type": "code",
   "execution_count": null,
   "metadata": {},
   "outputs": [
    {
     "data": {
      "image/jpeg": "[encoded data removed]",
      "image/png": "[encoded data removed]",
      "text/plain": [
       "<PIL.Image.Image image mode=RGB size=250x250>"
      ]
     },
     "metadata": {},
     "output_type": "display_data"
    },
    {
     "name": "stdout",
     "output_type": "stream",
     "text": [
      "🚀 Prediction Complete!\n",
      "   - Predicted Class: AML\n",
      "   - Predicted Grade: Accelerated\n"
     ]
    }
   ],
   "source": [
    "# --- SETTINGS FOR PREDICTION ---\n",
    "SAVED_MODEL_PATH = MODEL_DIR / 'multitask_model.pt'\n",
    "\n",
    "# ✅ IMPORTANT: Change this to the path of the image you want to classify!\n",
    "YOUR_IMAGE_PATH = input('Enter the path of image:')#'/Users/adarshainamdar/Documents/Major_Project/Unknown-2.jpeg' \n",
    "\n",
    "# --- RUN PREDICTION ---\n",
    "try:\n",
    "    # Display the image\n",
    "    display(Image.open(YOUR_IMAGE_PATH).resize((250, 250)))\n",
    "    \n",
    "    predicted_class, predicted_grade = predict_leukemia(\n",
    "        model_path=SAVED_MODEL_PATH,\n",
    "        image_path=YOUR_IMAGE_PATH,\n",
    "        device=device # This 'device' variable was defined in the training cell\n",
    "    )\n",
    "\n",
    "    print(\"🚀 Prediction Complete!\")\n",
    "    print(f\"   - Predicted Class: {predicted_class}\")\n",
    "    print(f\"   - Predicted Grade: {predicted_grade}\")\n",
    "\n",
    "except FileNotFoundError:\n",
    "    # print(f\"Error: The image file was not found at '{YOUR_IMAGE_PATH}'\")\n",
    "    print(\"Please make sure the path is correct and re-run the cell.\")\n",
    "except Exception as e:\n",
    "    print(f\"An error occurred: {e}\")"
   ]
  }
 ],
 "metadata": {
  "kernelspec": {
   "display_name": ".venv",
   "language": "python",
   "name": "python3"
  },
  "language_info": {
   "codemirror_mode": {
    "name": "ipython",
    "version": 3
   },
   "file_extension": ".py",
   "mimetype": "text/x-python",
   "name": "python",
   "nbconvert_exporter": "python",
   "pygments_lexer": "ipython3",
   "version": "3.13.5"
  }
 },
 "nbformat": 4,
 "nbformat_minor": 4
}
