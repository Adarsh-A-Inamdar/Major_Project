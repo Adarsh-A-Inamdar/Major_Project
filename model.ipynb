{
 "cells": [
  {
   "cell_type": "markdown",
   "metadata": {},
   "source": [
    "# Leukemia Classification and Grading (Complete Pipeline)\n",
    "\n",
    "This notebook orchestrates the entire pipeline for the Leukemia Classification and Grading project:\n",
    "1.  **Setup**: Imports libraries and configures paths.\n",
    "2.  **Data Preparation**: Preprocesses and splits the data into training, validation, and test sets.\n",
    "3.  **Model Training**: Trains both a baseline and a multi-task model.\n",
    "4.  **Prediction**: Uses the trained multi-task model to classify a new, single image."
   ]
  },
  {
   "cell_type": "markdown",
   "metadata": {},
   "source": [
    "## 1. Setup: Imports and Configuration"
   ]
  },
  {
   "cell_type": "code",
   "execution_count": 1,
   "metadata": {},
   "outputs": [],
   "source": [
    "import os\n",
    "import logging\n",
    "import random\n",
    "import shutil\n",
    "import glob\n",
    "from pathlib import Path\n",
    "\n",
    "import cv2\n",
    "import torch\n",
    "import torch.nn as nn\n",
    "import torch.optim as optim\n",
    "from torch.utils.data import DataLoader\n",
    "from torchvision import datasets, transforms, models\n",
    "from tqdm.notebook import tqdm\n",
    "from sklearn.metrics import classification_report, confusion_matrix\n",
    "import numpy as np\n",
    "import seaborn as sns\n",
    "import matplotlib.pyplot as plt\n",
    "from PIL import Image\n",
    "\n",
    "%matplotlib inline"
   ]
  },
  {
   "cell_type": "markdown",
   "metadata": {},
   "source": [
    "### Configuration"
   ]
  },
  {
   "cell_type": "code",
   "execution_count": 2,
   "metadata": {},
   "outputs": [],
   "source": [
    "PROJECT_ROOT = Path('/Users/adarshainamdar/Documents/Major_Project')\n",
    "DATA_DIR_RAW = PROJECT_ROOT / 'data/raw'\n",
    "\n",
    "OUTPUTS_DIR = PROJECT_ROOT / 'outputs'\n",
    "PROCESSED_DATA_DIR = PROJECT_ROOT / 'data/processed_data'\n",
    "PROCESSED_DIR = PROCESSED_DATA_DIR / 'processed'\n",
    "TRAIN_DIR = PROCESSED_DATA_DIR / 'train'\n",
    "VAL_DIR = PROCESSED_DATA_DIR / 'val'\n",
    "TEST_DIR = PROCESSED_DATA_DIR / 'test'\n",
    "MODEL_DIR = OUTPUTS_DIR / 'models'\n",
    "LOG_DIR = OUTPUTS_DIR / 'logs'\n",
    "\n",
    "IMAGE_SIZE = 224\n",
    "BATCH_SIZE = 32\n",
    "LEARNING_RATE = 0.001\n",
    "CLASSES = ['ALL', 'AML', 'CLL', 'CML']\n",
    "GRADES = ['Chronic', 'Accelerated', 'Blast']"
   ]
  },
  {
   "cell_type": "markdown",
   "metadata": {},
   "source": [
    "### Training Parameters"
   ]
  },
  {
   "cell_type": "code",
   "execution_count": 3,
   "metadata": {},
   "outputs": [],
   "source": [
    "NUM_EPOCHS = 50\n",
    "SKIP_DATA_PREP = False"
   ]
  },
  {
   "cell_type": "markdown",
   "metadata": {},
   "source": [
    "## 2. Helper Functions and Classes"
   ]
  },
  {
   "cell_type": "code",
   "execution_count": 4,
   "metadata": {},
   "outputs": [],
   "source": [
    "def setup_logging():\n",
    "    \"\"\"Configures the logging for the entire script.\"\"\"\n",
    "    LOG_DIR.mkdir(parents=True, exist_ok=True)\n",
    "    LOG_FILE = LOG_DIR / 'training_notebook.log'\n",
    "    \n",
    "    for handler in logging.root.handlers[:]:\n",
    "        logging.root.removeHandler(handler)\n",
    "        \n",
    "    logging.basicConfig(\n",
    "        level=logging.INFO,\n",
    "        format='%(asctime)s - %(levelname)s - %(message)s',\n",
    "        handlers=[\n",
    "            logging.FileHandler(LOG_FILE, mode='w'),\n",
    "            logging.StreamHandler()\n",
    "        ]\n",
    "    )\n",
    "    logging.info(f\"Logging setup complete. Log file: {LOG_FILE.resolve()}\")"
   ]
  },
  {
   "cell_type": "code",
   "execution_count": 5,
   "metadata": {},
   "outputs": [],
   "source": [
    "def prepare_data():\n",
    "    \"\"\"Checks for local data, then preprocesses and splits it.\"\"\"\n",
    "    if not DATA_DIR_RAW.exists():\n",
    "        logging.error(f\"Local data directory not found at '{DATA_DIR_RAW.resolve()}'.\")\n",
    "        return False\n",
    "    else:\n",
    "        logging.info(f\"Found local data at '{DATA_DIR_RAW.resolve()}'.\")\n",
    "\n",
    "    logging.info(\"Starting image preprocessing (resizing to %dx%d)...\", IMAGE_SIZE, IMAGE_SIZE)\n",
    "    PROCESSED_DIR.mkdir(parents=True, exist_ok=True)\n",
    "    image_extensions = ['*.jpg', '*.jpeg', '*.png', '*.bmp', '*.tif', '*.tiff']\n",
    "\n",
    "    for cls in CLASSES:\n",
    "        in_dir = DATA_DIR_RAW / cls\n",
    "        out_dir = PROCESSED_DIR / cls\n",
    "        out_dir.mkdir(parents=True, exist_ok=True)\n",
    "        \n",
    "        image_paths = []\n",
    "        for ext in image_extensions:\n",
    "            image_paths.extend(glob.glob(str(in_dir / '**' / ext), recursive=True))\n",
    "            image_paths.extend(glob.glob(str(in_dir / '**' / ext.upper()), recursive=True))\n",
    "\n",
    "        if not image_paths:\n",
    "            logging.warning(f\"No images found for class '{cls}' in directory '{in_dir}'. Skipping this class.\")\n",
    "            continue\n",
    "\n",
    "        for fp in tqdm(image_paths, desc=f\"Processing {cls}\"):\n",
    "            img = cv2.imread(fp)\n",
    "            if img is not None:\n",
    "                img_resized = cv2.resize(img, (IMAGE_SIZE, IMAGE_SIZE), interpolation=cv2.INTER_AREA)\n",
    "                unique_name = f\"{Path(fp).parent.name}_{Path(fp).name}\"\n",
    "                cv2.imwrite(str(out_dir / unique_name), img_resized)\n",
    "\n",
    "    logging.info(\"Image preprocessing complete.\")\n",
    "\n",
    "    logging.info(\"Splitting data into train, validation, and test sets.\")\n",
    "    random.seed(42)\n",
    "    for cls in CLASSES:\n",
    "        files = list((PROCESSED_DIR / cls).glob('*.*'))\n",
    "        if not files:\n",
    "            continue\n",
    "        random.shuffle(files)\n",
    "        n = len(files)\n",
    "        n_train, n_val = int(0.7 * n), int(0.15 * n)\n",
    "        train_files, val_files, test_files = files[:n_train], files[n_train:n_train + n_val], files[n_train + n_val:]\n",
    "\n",
    "        for d, fileset in [(\"train\", train_files), (\"val\", val_files), (\"test\", test_files)]:\n",
    "            dest_dir = PROCESSED_DATA_DIR / d / cls\n",
    "            dest_dir.mkdir(parents=True, exist_ok=True)\n",
    "            for f in fileset:\n",
    "                shutil.copy2(f, dest_dir / f.name)\n",
    "    logging.info(\"Data splitting complete.\")\n",
    "\n",
    "    total_files_in_train = sum([len(files) for r, d, files in os.walk(str(TRAIN_DIR))])\n",
    "    if total_files_in_train == 0:\n",
    "        logging.error(\"Data preparation step ran, but the training directory is empty.\")\n",
    "        return False\n",
    "    \n",
    "    return True"
   ]
  },
  {
   "cell_type": "code",
   "execution_count": 6,
   "metadata": {},
   "outputs": [],
   "source": [
    "class MultiTaskModel(nn.Module):\n",
    "    \"\"\"A ResNet18 model with two separate heads for classification and grading.\"\"\"\n",
    "    def __init__(self, n_types, n_grades):\n",
    "        super().__init__()\n",
    "        self.backbone = models.resnet18(weights=models.ResNet18_Weights.DEFAULT)\n",
    "        d_model = self.backbone.fc.in_features\n",
    "        self.backbone.fc = nn.Identity()\n",
    "        self.head_type = nn.Linear(d_model, n_types)\n",
    "        self.head_grade = nn.Linear(d_model, n_grades)\n",
    "\n",
    "    def forward(self, x):\n",
    "        features = self.backbone(x)\n",
    "        return self.head_type(features), self.head_grade(features)\n",
    "\n",
    "class MultiTaskDataset(datasets.ImageFolder):\n",
    "    \"\"\"Custom dataset to return type and (simulated) grade labels.\"\"\"\n",
    "    def __init__(self, root, transform=None):\n",
    "        super().__init__(root, transform=transform)\n",
    "        self.grade_map = {cls: i % len(GRADES) for i, cls in enumerate(self.classes)}\n",
    "\n",
    "    def __getitem__(self, index):\n",
    "        path, type_label = self.samples[index]\n",
    "        sample = self.loader(path)\n",
    "        if self.transform is not None:\n",
    "            sample = self.transform(sample)\n",
    "        \n",
    "        class_name = self.classes[type_label]\n",
    "        grade_label = self.grade_map[class_name]\n",
    "        \n",
    "        return sample, type_label, grade_label"
   ]
  },
  {
   "cell_type": "code",
   "execution_count": 7,
   "metadata": {},
   "outputs": [],
   "source": [
    "def train_baseline_model(model, criterion, optimizer, train_loader, val_loader, device, num_epochs):\n",
    "    logging.info(\"--- Starting Baseline Model Training ---\")\n",
    "    model.to(device)\n",
    "    best_val_acc = 0.0\n",
    "\n",
    "    for epoch in range(num_epochs):\n",
    "        model.train()\n",
    "        loop = tqdm(train_loader, desc=f\"Epoch {epoch+1}/{num_epochs} [Train]\", leave=False)\n",
    "        for inputs, labels in loop:\n",
    "            inputs, labels = inputs.to(device), labels.to(device)\n",
    "            optimizer.zero_grad()\n",
    "            outputs = model(inputs)\n",
    "            loss = criterion(outputs, labels)\n",
    "            loss.backward()\n",
    "            optimizer.step()\n",
    "\n",
    "        model.eval()\n",
    "        val_corrects = 0\n",
    "        with torch.no_grad():\n",
    "            for inputs, labels in val_loader:\n",
    "                inputs, labels = inputs.to(device), labels.to(device)\n",
    "                outputs = model(inputs)\n",
    "                _, preds = torch.max(outputs, 1)\n",
    "                val_corrects += torch.sum(preds == labels.data)\n",
    "        \n",
    "        val_acc = val_corrects.item() / len(val_loader.dataset)\n",
    "        logging.info(f\"Epoch {epoch+1}/{num_epochs} | Validation Acc: {val_acc:.4f}\")\n",
    "\n",
    "        if val_acc > best_val_acc:\n",
    "            best_val_acc = val_acc\n",
    "            torch.save(model.state_dict(), MODEL_DIR / 'baseline_cls.pt')\n",
    "            logging.info(f\"New best baseline model saved with acc: {best_val_acc:.4f}\")"
   ]
  },
  {
   "cell_type": "code",
   "execution_count": 8,
   "metadata": {},
   "outputs": [],
   "source": [
    "def train_multitask_model(model, criteria, optimizer, train_loader, val_loader, device, num_epochs):\n",
    "    logging.info(\"--- Starting Multi-Task Model Training ---\")\n",
    "    model.to(device)\n",
    "    best_val_acc = 0.0\n",
    "    type_criterion, grade_criterion = criteria\n",
    "\n",
    "    for epoch in range(num_epochs):\n",
    "        model.train()\n",
    "        loop = tqdm(train_loader, desc=f\"Epoch {epoch+1}/{num_epochs} [Train]\", leave=False)\n",
    "        for inputs, type_labels, grade_labels in loop:\n",
    "            inputs, type_labels, grade_labels = inputs.to(device), type_labels.to(device), grade_labels.to(device)\n",
    "            optimizer.zero_grad()\n",
    "            type_logits, grade_logits = model(inputs)\n",
    "            loss = type_criterion(type_logits, type_labels) + 0.5 * grade_criterion(grade_logits, grade_labels)\n",
    "            loss.backward()\n",
    "            optimizer.step()\n",
    "\n",
    "        model.eval()\n",
    "        type_corrects = 0\n",
    "        with torch.no_grad():\n",
    "            for inputs, type_labels, _ in val_loader:\n",
    "                inputs, type_labels = inputs.to(device), type_labels.to(device)\n",
    "                type_logits, _ = model(inputs)\n",
    "                _, type_preds = torch.max(type_logits, 1)\n",
    "                type_corrects += torch.sum(type_preds == type_labels.data)\n",
    "        \n",
    "        val_type_acc = type_corrects.item() / len(val_loader.dataset)\n",
    "        logging.info(f\"Epoch {epoch+1}/{num_epochs} | Validation Type Acc: {val_type_acc:.4f}\")\n",
    "\n",
    "        if val_type_acc > best_val_acc:\n",
    "            best_val_acc = val_type_acc\n",
    "            torch.save(model.state_dict(), MODEL_DIR / 'multitask_model.pt')\n",
    "            logging.info(f\"New best multi-task model saved with acc: {best_val_acc:.4f}\")"
   ]
  },
  {
   "cell_type": "code",
   "execution_count": 9,
   "metadata": {},
   "outputs": [],
   "source": [
    "def evaluate_model(model, loader, device, class_names):\n",
    "    logging.info(\"--- Evaluating Model on Test Set ---\")\n",
    "    model.to(device)\n",
    "    model.eval()\n",
    "    y_true, y_pred = [], []\n",
    "    with torch.no_grad():\n",
    "        for inputs, labels in loader:\n",
    "            inputs, labels = inputs.to(device), labels.to(device)\n",
    "            outputs = model(inputs)\n",
    "            _, predicted = torch.max(outputs.data, 1)\n",
    "            y_true.extend(labels.cpu().numpy())\n",
    "            y_pred.extend(predicted.cpu().numpy())\n",
    "    \n",
    "    report = classification_report(y_true, y_pred, target_names=class_names)\n",
    "    logging.info(\"Classification Report:\\n%s\", report)\n",
    "    \n",
    "    cm = confusion_matrix(y_true, y_pred)\n",
    "    plt.figure(figsize=(8, 6))\n",
    "    sns.heatmap(cm, annot=True, fmt='d', cmap='Blues', xticklabels=class_names, yticklabels=class_names)\n",
    "    plt.xlabel('Predicted')\n",
    "    plt.ylabel('True')\n",
    "    plt.title('Confusion Matrix')\n",
    "    plt.show()"
   ]
  },
  {
   "cell_type": "markdown",
   "metadata": {},
   "source": [
    "## 3. Main Pipeline Execution\n",
    "\n",
    "This block runs the entire data preparation and training pipeline."
   ]
  },
  {
   "cell_type": "code",
   "execution_count": 10,
   "metadata": {},
   "outputs": [
    {
     "name": "stderr",
     "output_type": "stream",
     "text": [
      "2025-09-11 15:50:13,857 - INFO - Logging setup complete. Log file: /Users/adarshainamdar/Documents/Major_Project/outputs/logs/training_notebook.log\n",
      "2025-09-11 15:50:13,859 - INFO - Found local data at '/Users/adarshainamdar/Documents/Major_Project/data/raw'.\n",
      "2025-09-11 15:50:13,860 - INFO - Starting image preprocessing (resizing to 224x224)...\n"
     ]
    },
    {
     "data": {
      "application/vnd.jupyter.widget-view+json": {
       "model_id": "2064277e57644b369259dd81e42b0c8f",
       "version_major": 2,
       "version_minor": 0
      },
      "text/plain": [
       "Processing ALL:   0%|          | 0/320 [00:00<?, ?it/s]"
      ]
     },
     "metadata": {},
     "output_type": "display_data"
    },
    {
     "data": {
      "application/vnd.jupyter.widget-view+json": {
       "model_id": "9d5838fcc5ad47ab8f6722c981d63319",
       "version_major": 2,
       "version_minor": 0
      },
      "text/plain": [
       "Processing AML:   0%|          | 0/320 [00:00<?, ?it/s]"
      ]
     },
     "metadata": {},
     "output_type": "display_data"
    },
    {
     "data": {
      "application/vnd.jupyter.widget-view+json": {
       "model_id": "4169420490ee4de7ad9b538355bee6c6",
       "version_major": 2,
       "version_minor": 0
      },
      "text/plain": [
       "Processing CLL:   0%|          | 0/320 [00:00<?, ?it/s]"
      ]
     },
     "metadata": {},
     "output_type": "display_data"
    },
    {
     "data": {
      "application/vnd.jupyter.widget-view+json": {
       "model_id": "a184be1826874a2ab533f031851ffd20",
       "version_major": 2,
       "version_minor": 0
      },
      "text/plain": [
       "Processing CML:   0%|          | 0/320 [00:00<?, ?it/s]"
      ]
     },
     "metadata": {},
     "output_type": "display_data"
    },
    {
     "name": "stderr",
     "output_type": "stream",
     "text": [
      "2025-09-11 15:50:15,791 - INFO - Image preprocessing complete.\n",
      "2025-09-11 15:50:15,792 - INFO - Splitting data into train, validation, and test sets.\n",
      "2025-09-11 15:50:16,275 - INFO - Data splitting complete.\n",
      "2025-09-11 15:50:16,292 - INFO - Using device: mps\n",
      "2025-09-11 15:50:16,293 - INFO - \n",
      "=== BASELINE MODEL PIPELINE ===\n",
      "2025-09-11 15:50:16,468 - INFO - --- Starting Baseline Model Training ---\n"
     ]
    },
    {
     "data": {
      "application/vnd.jupyter.widget-view+json": {
       "model_id": "4b74eda97a1b447db3f946133766f47c",
       "version_major": 2,
       "version_minor": 0
      },
      "text/plain": [
       "Epoch 1/50 [Train]:   0%|          | 0/28 [00:00<?, ?it/s]"
      ]
     },
     "metadata": {},
     "output_type": "display_data"
    },
    {
     "name": "stderr",
     "output_type": "stream",
     "text": [
      "2025-09-11 15:50:21,389 - INFO - Epoch 1/50 | Validation Acc: 0.5781\n",
      "2025-09-11 15:50:21,457 - INFO - New best baseline model saved with acc: 0.5781\n"
     ]
    },
    {
     "data": {
      "application/vnd.jupyter.widget-view+json": {
       "model_id": "dc6e6d221d6942fa8999ca2e30b944dc",
       "version_major": 2,
       "version_minor": 0
      },
      "text/plain": [
       "Epoch 2/50 [Train]:   0%|          | 0/28 [00:00<?, ?it/s]"
      ]
     },
     "metadata": {},
     "output_type": "display_data"
    },
    {
     "name": "stderr",
     "output_type": "stream",
     "text": [
      "2025-09-11 15:50:25,887 - INFO - Epoch 2/50 | Validation Acc: 0.6198\n",
      "2025-09-11 15:50:25,960 - INFO - New best baseline model saved with acc: 0.6198\n"
     ]
    },
    {
     "data": {
      "application/vnd.jupyter.widget-view+json": {
       "model_id": "8f282de4a1c347adb49e32b1dd362f51",
       "version_major": 2,
       "version_minor": 0
      },
      "text/plain": [
       "Epoch 3/50 [Train]:   0%|          | 0/28 [00:00<?, ?it/s]"
      ]
     },
     "metadata": {},
     "output_type": "display_data"
    },
    {
     "name": "stderr",
     "output_type": "stream",
     "text": [
      "2025-09-11 15:50:30,471 - INFO - Epoch 3/50 | Validation Acc: 0.6250\n",
      "2025-09-11 15:50:30,544 - INFO - New best baseline model saved with acc: 0.6250\n"
     ]
    },
    {
     "data": {
      "application/vnd.jupyter.widget-view+json": {
       "model_id": "975a2f7da9c445a6bfe923efc25b6599",
       "version_major": 2,
       "version_minor": 0
      },
      "text/plain": [
       "Epoch 4/50 [Train]:   0%|          | 0/28 [00:00<?, ?it/s]"
      ]
     },
     "metadata": {},
     "output_type": "display_data"
    },
    {
     "name": "stderr",
     "output_type": "stream",
     "text": [
      "2025-09-11 15:50:35,027 - INFO - Epoch 4/50 | Validation Acc: 0.5781\n"
     ]
    },
    {
     "data": {
      "application/vnd.jupyter.widget-view+json": {
       "model_id": "c3f7c690abb34c16ab116d1dbde6d387",
       "version_major": 2,
       "version_minor": 0
      },
      "text/plain": [
       "Epoch 5/50 [Train]:   0%|          | 0/28 [00:00<?, ?it/s]"
      ]
     },
     "metadata": {},
     "output_type": "display_data"
    },
    {
     "name": "stderr",
     "output_type": "stream",
     "text": [
      "2025-09-11 15:50:39,498 - INFO - Epoch 5/50 | Validation Acc: 0.6250\n"
     ]
    },
    {
     "data": {
      "application/vnd.jupyter.widget-view+json": {
       "model_id": "a48090a4dca0499bb128a6f0155d4084",
       "version_major": 2,
       "version_minor": 0
      },
      "text/plain": [
       "Epoch 6/50 [Train]:   0%|          | 0/28 [00:00<?, ?it/s]"
      ]
     },
     "metadata": {},
     "output_type": "display_data"
    },
    {
     "name": "stderr",
     "output_type": "stream",
     "text": [
      "2025-09-11 15:50:44,120 - INFO - Epoch 6/50 | Validation Acc: 0.6094\n"
     ]
    },
    {
     "data": {
      "application/vnd.jupyter.widget-view+json": {
       "model_id": "5a6f5f0085e540669a13a7177513c302",
       "version_major": 2,
       "version_minor": 0
      },
      "text/plain": [
       "Epoch 7/50 [Train]:   0%|          | 0/28 [00:00<?, ?it/s]"
      ]
     },
     "metadata": {},
     "output_type": "display_data"
    },
    {
     "name": "stderr",
     "output_type": "stream",
     "text": [
      "2025-09-11 15:50:48,630 - INFO - Epoch 7/50 | Validation Acc: 0.6667\n",
      "2025-09-11 15:50:48,703 - INFO - New best baseline model saved with acc: 0.6667\n"
     ]
    },
    {
     "data": {
      "application/vnd.jupyter.widget-view+json": {
       "model_id": "872a7e91873b4239ab378ec5827812c2",
       "version_major": 2,
       "version_minor": 0
      },
      "text/plain": [
       "Epoch 8/50 [Train]:   0%|          | 0/28 [00:00<?, ?it/s]"
      ]
     },
     "metadata": {},
     "output_type": "display_data"
    },
    {
     "name": "stderr",
     "output_type": "stream",
     "text": [
      "2025-09-11 15:50:53,152 - INFO - Epoch 8/50 | Validation Acc: 0.7604\n",
      "2025-09-11 15:50:53,239 - INFO - New best baseline model saved with acc: 0.7604\n"
     ]
    },
    {
     "data": {
      "application/vnd.jupyter.widget-view+json": {
       "model_id": "5a7860f0b3fe4b6f9e1f07b99ab1b869",
       "version_major": 2,
       "version_minor": 0
      },
      "text/plain": [
       "Epoch 9/50 [Train]:   0%|          | 0/28 [00:00<?, ?it/s]"
      ]
     },
     "metadata": {},
     "output_type": "display_data"
    },
    {
     "name": "stderr",
     "output_type": "stream",
     "text": [
      "2025-09-11 15:50:57,702 - INFO - Epoch 9/50 | Validation Acc: 0.6510\n"
     ]
    },
    {
     "data": {
      "application/vnd.jupyter.widget-view+json": {
       "model_id": "b57e22fb8d484347bf0869be2eb56830",
       "version_major": 2,
       "version_minor": 0
      },
      "text/plain": [
       "Epoch 10/50 [Train]:   0%|          | 0/28 [00:00<?, ?it/s]"
      ]
     },
     "metadata": {},
     "output_type": "display_data"
    },
    {
     "name": "stderr",
     "output_type": "stream",
     "text": [
      "2025-09-11 15:51:02,151 - INFO - Epoch 10/50 | Validation Acc: 0.7396\n"
     ]
    },
    {
     "data": {
      "application/vnd.jupyter.widget-view+json": {
       "model_id": "77501840e7ba49f5aee8e481b1377909",
       "version_major": 2,
       "version_minor": 0
      },
      "text/plain": [
       "Epoch 11/50 [Train]:   0%|          | 0/28 [00:00<?, ?it/s]"
      ]
     },
     "metadata": {},
     "output_type": "display_data"
    },
    {
     "name": "stderr",
     "output_type": "stream",
     "text": [
      "2025-09-11 15:51:06,586 - INFO - Epoch 11/50 | Validation Acc: 0.7760\n",
      "2025-09-11 15:51:06,655 - INFO - New best baseline model saved with acc: 0.7760\n"
     ]
    },
    {
     "data": {
      "application/vnd.jupyter.widget-view+json": {
       "model_id": "b84f449d0c1840bf8f93228854035c00",
       "version_major": 2,
       "version_minor": 0
      },
      "text/plain": [
       "Epoch 12/50 [Train]:   0%|          | 0/28 [00:00<?, ?it/s]"
      ]
     },
     "metadata": {},
     "output_type": "display_data"
    },
    {
     "name": "stderr",
     "output_type": "stream",
     "text": [
      "2025-09-11 15:51:11,180 - INFO - Epoch 12/50 | Validation Acc: 0.7396\n"
     ]
    },
    {
     "data": {
      "application/vnd.jupyter.widget-view+json": {
       "model_id": "d15f4040a528488ea94f9829c6e96b29",
       "version_major": 2,
       "version_minor": 0
      },
      "text/plain": [
       "Epoch 13/50 [Train]:   0%|          | 0/28 [00:00<?, ?it/s]"
      ]
     },
     "metadata": {},
     "output_type": "display_data"
    },
    {
     "name": "stderr",
     "output_type": "stream",
     "text": [
      "2025-09-11 15:51:15,610 - INFO - Epoch 13/50 | Validation Acc: 0.6615\n"
     ]
    },
    {
     "data": {
      "application/vnd.jupyter.widget-view+json": {
       "model_id": "9116885b40e645a4bb0461a75dd85d4d",
       "version_major": 2,
       "version_minor": 0
      },
      "text/plain": [
       "Epoch 14/50 [Train]:   0%|          | 0/28 [00:00<?, ?it/s]"
      ]
     },
     "metadata": {},
     "output_type": "display_data"
    },
    {
     "name": "stderr",
     "output_type": "stream",
     "text": [
      "2025-09-11 15:51:20,056 - INFO - Epoch 14/50 | Validation Acc: 0.7812\n",
      "2025-09-11 15:51:20,132 - INFO - New best baseline model saved with acc: 0.7812\n"
     ]
    },
    {
     "data": {
      "application/vnd.jupyter.widget-view+json": {
       "model_id": "b4b147ea26084de19f397517728b797d",
       "version_major": 2,
       "version_minor": 0
      },
      "text/plain": [
       "Epoch 15/50 [Train]:   0%|          | 0/28 [00:00<?, ?it/s]"
      ]
     },
     "metadata": {},
     "output_type": "display_data"
    },
    {
     "name": "stderr",
     "output_type": "stream",
     "text": [
      "2025-09-11 15:51:24,616 - INFO - Epoch 15/50 | Validation Acc: 0.7656\n"
     ]
    },
    {
     "data": {
      "application/vnd.jupyter.widget-view+json": {
       "model_id": "248576dcbca54801862dd2028d4a1884",
       "version_major": 2,
       "version_minor": 0
      },
      "text/plain": [
       "Epoch 16/50 [Train]:   0%|          | 0/28 [00:00<?, ?it/s]"
      ]
     },
     "metadata": {},
     "output_type": "display_data"
    },
    {
     "name": "stderr",
     "output_type": "stream",
     "text": [
      "2025-09-11 15:51:29,025 - INFO - Epoch 16/50 | Validation Acc: 0.7344\n"
     ]
    },
    {
     "data": {
      "application/vnd.jupyter.widget-view+json": {
       "model_id": "64b527ebf9aa4bffa6c1d31a4095ded5",
       "version_major": 2,
       "version_minor": 0
      },
      "text/plain": [
       "Epoch 17/50 [Train]:   0%|          | 0/28 [00:00<?, ?it/s]"
      ]
     },
     "metadata": {},
     "output_type": "display_data"
    },
    {
     "name": "stderr",
     "output_type": "stream",
     "text": [
      "2025-09-11 15:51:33,419 - INFO - Epoch 17/50 | Validation Acc: 0.6562\n"
     ]
    },
    {
     "data": {
      "application/vnd.jupyter.widget-view+json": {
       "model_id": "06214597e3134c1b8976d8cba9f4ba5f",
       "version_major": 2,
       "version_minor": 0
      },
      "text/plain": [
       "Epoch 18/50 [Train]:   0%|          | 0/28 [00:00<?, ?it/s]"
      ]
     },
     "metadata": {},
     "output_type": "display_data"
    },
    {
     "name": "stderr",
     "output_type": "stream",
     "text": [
      "2025-09-11 15:51:37,830 - INFO - Epoch 18/50 | Validation Acc: 0.6927\n"
     ]
    },
    {
     "data": {
      "application/vnd.jupyter.widget-view+json": {
       "model_id": "0bfb717cfbd9435aa5875a108f9f0e7d",
       "version_major": 2,
       "version_minor": 0
      },
      "text/plain": [
       "Epoch 19/50 [Train]:   0%|          | 0/28 [00:00<?, ?it/s]"
      ]
     },
     "metadata": {},
     "output_type": "display_data"
    },
    {
     "name": "stderr",
     "output_type": "stream",
     "text": [
      "2025-09-11 15:51:42,249 - INFO - Epoch 19/50 | Validation Acc: 0.8281\n",
      "2025-09-11 15:51:42,320 - INFO - New best baseline model saved with acc: 0.8281\n"
     ]
    },
    {
     "data": {
      "application/vnd.jupyter.widget-view+json": {
       "model_id": "3db02e9fa32949afbfce6c2af9626a0a",
       "version_major": 2,
       "version_minor": 0
      },
      "text/plain": [
       "Epoch 20/50 [Train]:   0%|          | 0/28 [00:00<?, ?it/s]"
      ]
     },
     "metadata": {},
     "output_type": "display_data"
    },
    {
     "name": "stderr",
     "output_type": "stream",
     "text": [
      "2025-09-11 15:51:46,744 - INFO - Epoch 20/50 | Validation Acc: 0.7917\n"
     ]
    },
    {
     "data": {
      "application/vnd.jupyter.widget-view+json": {
       "model_id": "377af1f0dd7347f7a7453fd923edb0fa",
       "version_major": 2,
       "version_minor": 0
      },
      "text/plain": [
       "Epoch 21/50 [Train]:   0%|          | 0/28 [00:00<?, ?it/s]"
      ]
     },
     "metadata": {},
     "output_type": "display_data"
    },
    {
     "name": "stderr",
     "output_type": "stream",
     "text": [
      "2025-09-11 15:51:51,161 - INFO - Epoch 21/50 | Validation Acc: 0.6667\n"
     ]
    },
    {
     "data": {
      "application/vnd.jupyter.widget-view+json": {
       "model_id": "e30cf40981284b7ea24a32107094cc8e",
       "version_major": 2,
       "version_minor": 0
      },
      "text/plain": [
       "Epoch 22/50 [Train]:   0%|          | 0/28 [00:00<?, ?it/s]"
      ]
     },
     "metadata": {},
     "output_type": "display_data"
    },
    {
     "name": "stderr",
     "output_type": "stream",
     "text": [
      "2025-09-11 15:51:55,566 - INFO - Epoch 22/50 | Validation Acc: 0.8438\n",
      "2025-09-11 15:51:55,631 - INFO - New best baseline model saved with acc: 0.8438\n"
     ]
    },
    {
     "data": {
      "application/vnd.jupyter.widget-view+json": {
       "model_id": "df9e09d5123942328686770c73023b4f",
       "version_major": 2,
       "version_minor": 0
      },
      "text/plain": [
       "Epoch 23/50 [Train]:   0%|          | 0/28 [00:00<?, ?it/s]"
      ]
     },
     "metadata": {},
     "output_type": "display_data"
    },
    {
     "name": "stderr",
     "output_type": "stream",
     "text": [
      "2025-09-11 15:52:00,024 - INFO - Epoch 23/50 | Validation Acc: 0.8021\n"
     ]
    },
    {
     "data": {
      "application/vnd.jupyter.widget-view+json": {
       "model_id": "64a4f9e4f82541e68a35077b9b576b10",
       "version_major": 2,
       "version_minor": 0
      },
      "text/plain": [
       "Epoch 24/50 [Train]:   0%|          | 0/28 [00:00<?, ?it/s]"
      ]
     },
     "metadata": {},
     "output_type": "display_data"
    },
    {
     "name": "stderr",
     "output_type": "stream",
     "text": [
      "2025-09-11 15:52:04,480 - INFO - Epoch 24/50 | Validation Acc: 0.7812\n"
     ]
    },
    {
     "data": {
      "application/vnd.jupyter.widget-view+json": {
       "model_id": "a0a5084058924c989534dbf27c6d46ed",
       "version_major": 2,
       "version_minor": 0
      },
      "text/plain": [
       "Epoch 25/50 [Train]:   0%|          | 0/28 [00:00<?, ?it/s]"
      ]
     },
     "metadata": {},
     "output_type": "display_data"
    },
    {
     "name": "stderr",
     "output_type": "stream",
     "text": [
      "2025-09-11 15:52:08,883 - INFO - Epoch 25/50 | Validation Acc: 0.7969\n"
     ]
    },
    {
     "data": {
      "application/vnd.jupyter.widget-view+json": {
       "model_id": "d03531496eed47c293eb345ca63ff98b",
       "version_major": 2,
       "version_minor": 0
      },
      "text/plain": [
       "Epoch 26/50 [Train]:   0%|          | 0/28 [00:00<?, ?it/s]"
      ]
     },
     "metadata": {},
     "output_type": "display_data"
    },
    {
     "name": "stderr",
     "output_type": "stream",
     "text": [
      "2025-09-11 15:52:13,396 - INFO - Epoch 26/50 | Validation Acc: 0.7812\n"
     ]
    },
    {
     "data": {
      "application/vnd.jupyter.widget-view+json": {
       "model_id": "dbc6b2184f7f45539e136984166234a4",
       "version_major": 2,
       "version_minor": 0
      },
      "text/plain": [
       "Epoch 27/50 [Train]:   0%|          | 0/28 [00:00<?, ?it/s]"
      ]
     },
     "metadata": {},
     "output_type": "display_data"
    },
    {
     "name": "stderr",
     "output_type": "stream",
     "text": [
      "2025-09-11 15:52:17,810 - INFO - Epoch 27/50 | Validation Acc: 0.8802\n",
      "2025-09-11 15:52:17,876 - INFO - New best baseline model saved with acc: 0.8802\n"
     ]
    },
    {
     "data": {
      "application/vnd.jupyter.widget-view+json": {
       "model_id": "ce7a7a6562a344afb4173f1dbda7d8d3",
       "version_major": 2,
       "version_minor": 0
      },
      "text/plain": [
       "Epoch 28/50 [Train]:   0%|          | 0/28 [00:00<?, ?it/s]"
      ]
     },
     "metadata": {},
     "output_type": "display_data"
    },
    {
     "name": "stderr",
     "output_type": "stream",
     "text": [
      "2025-09-11 15:52:22,284 - INFO - Epoch 28/50 | Validation Acc: 0.7969\n"
     ]
    },
    {
     "data": {
      "application/vnd.jupyter.widget-view+json": {
       "model_id": "942ff44e087a409cadf11f908c476b18",
       "version_major": 2,
       "version_minor": 0
      },
      "text/plain": [
       "Epoch 29/50 [Train]:   0%|          | 0/28 [00:00<?, ?it/s]"
      ]
     },
     "metadata": {},
     "output_type": "display_data"
    },
    {
     "name": "stderr",
     "output_type": "stream",
     "text": [
      "2025-09-11 15:52:26,698 - INFO - Epoch 29/50 | Validation Acc: 0.8698\n"
     ]
    },
    {
     "data": {
      "application/vnd.jupyter.widget-view+json": {
       "model_id": "180862fe19be4fa38b7c075efee58643",
       "version_major": 2,
       "version_minor": 0
      },
      "text/plain": [
       "Epoch 30/50 [Train]:   0%|          | 0/28 [00:00<?, ?it/s]"
      ]
     },
     "metadata": {},
     "output_type": "display_data"
    },
    {
     "name": "stderr",
     "output_type": "stream",
     "text": [
      "2025-09-11 15:52:31,302 - INFO - Epoch 30/50 | Validation Acc: 0.8854\n",
      "2025-09-11 15:52:31,378 - INFO - New best baseline model saved with acc: 0.8854\n"
     ]
    },
    {
     "data": {
      "application/vnd.jupyter.widget-view+json": {
       "model_id": "255a2beb5c344cb2a157369c2020e692",
       "version_major": 2,
       "version_minor": 0
      },
      "text/plain": [
       "Epoch 31/50 [Train]:   0%|          | 0/28 [00:00<?, ?it/s]"
      ]
     },
     "metadata": {},
     "output_type": "display_data"
    },
    {
     "name": "stderr",
     "output_type": "stream",
     "text": [
      "2025-09-11 15:52:35,803 - INFO - Epoch 31/50 | Validation Acc: 0.7708\n"
     ]
    },
    {
     "data": {
      "application/vnd.jupyter.widget-view+json": {
       "model_id": "cab0ac296e154d4382cbc6c60362a5a6",
       "version_major": 2,
       "version_minor": 0
      },
      "text/plain": [
       "Epoch 32/50 [Train]:   0%|          | 0/28 [00:00<?, ?it/s]"
      ]
     },
     "metadata": {},
     "output_type": "display_data"
    },
    {
     "name": "stderr",
     "output_type": "stream",
     "text": [
      "2025-09-11 15:52:40,221 - INFO - Epoch 32/50 | Validation Acc: 0.8333\n"
     ]
    },
    {
     "data": {
      "application/vnd.jupyter.widget-view+json": {
       "model_id": "1c4d7fc7f2a64fbfa5635e1a997b48a5",
       "version_major": 2,
       "version_minor": 0
      },
      "text/plain": [
       "Epoch 33/50 [Train]:   0%|          | 0/28 [00:00<?, ?it/s]"
      ]
     },
     "metadata": {},
     "output_type": "display_data"
    },
    {
     "name": "stderr",
     "output_type": "stream",
     "text": [
      "2025-09-11 15:52:44,636 - INFO - Epoch 33/50 | Validation Acc: 0.8229\n"
     ]
    },
    {
     "data": {
      "application/vnd.jupyter.widget-view+json": {
       "model_id": "085adae09dce493a9cc3131516b4f185",
       "version_major": 2,
       "version_minor": 0
      },
      "text/plain": [
       "Epoch 34/50 [Train]:   0%|          | 0/28 [00:00<?, ?it/s]"
      ]
     },
     "metadata": {},
     "output_type": "display_data"
    },
    {
     "name": "stderr",
     "output_type": "stream",
     "text": [
      "2025-09-11 15:52:49,146 - INFO - Epoch 34/50 | Validation Acc: 0.8698\n"
     ]
    },
    {
     "data": {
      "application/vnd.jupyter.widget-view+json": {
       "model_id": "a62602b666224d998f9e7245b82c5aca",
       "version_major": 2,
       "version_minor": 0
      },
      "text/plain": [
       "Epoch 35/50 [Train]:   0%|          | 0/28 [00:00<?, ?it/s]"
      ]
     },
     "metadata": {},
     "output_type": "display_data"
    },
    {
     "name": "stderr",
     "output_type": "stream",
     "text": [
      "2025-09-11 15:52:53,637 - INFO - Epoch 35/50 | Validation Acc: 0.8906\n",
      "2025-09-11 15:52:53,709 - INFO - New best baseline model saved with acc: 0.8906\n"
     ]
    },
    {
     "data": {
      "application/vnd.jupyter.widget-view+json": {
       "model_id": "ca57da2580ec4dbabfd339d31b382acd",
       "version_major": 2,
       "version_minor": 0
      },
      "text/plain": [
       "Epoch 36/50 [Train]:   0%|          | 0/28 [00:00<?, ?it/s]"
      ]
     },
     "metadata": {},
     "output_type": "display_data"
    },
    {
     "name": "stderr",
     "output_type": "stream",
     "text": [
      "2025-09-11 15:52:58,179 - INFO - Epoch 36/50 | Validation Acc: 0.8438\n"
     ]
    },
    {
     "data": {
      "application/vnd.jupyter.widget-view+json": {
       "model_id": "5d3207fd9450435cb563ea033d2ec0fa",
       "version_major": 2,
       "version_minor": 0
      },
      "text/plain": [
       "Epoch 37/50 [Train]:   0%|          | 0/28 [00:00<?, ?it/s]"
      ]
     },
     "metadata": {},
     "output_type": "display_data"
    },
    {
     "name": "stderr",
     "output_type": "stream",
     "text": [
      "2025-09-11 15:53:02,636 - INFO - Epoch 37/50 | Validation Acc: 0.8490\n"
     ]
    },
    {
     "data": {
      "application/vnd.jupyter.widget-view+json": {
       "model_id": "22815c833d61445c95a8c89e5ff11cae",
       "version_major": 2,
       "version_minor": 0
      },
      "text/plain": [
       "Epoch 38/50 [Train]:   0%|          | 0/28 [00:00<?, ?it/s]"
      ]
     },
     "metadata": {},
     "output_type": "display_data"
    },
    {
     "name": "stderr",
     "output_type": "stream",
     "text": [
      "2025-09-11 15:53:07,117 - INFO - Epoch 38/50 | Validation Acc: 0.8229\n"
     ]
    },
    {
     "data": {
      "application/vnd.jupyter.widget-view+json": {
       "model_id": "aa36dc0e4e5245f5af3fed5d52fcfacd",
       "version_major": 2,
       "version_minor": 0
      },
      "text/plain": [
       "Epoch 39/50 [Train]:   0%|          | 0/28 [00:00<?, ?it/s]"
      ]
     },
     "metadata": {},
     "output_type": "display_data"
    },
    {
     "name": "stderr",
     "output_type": "stream",
     "text": [
      "2025-09-11 15:53:11,552 - INFO - Epoch 39/50 | Validation Acc: 0.8906\n"
     ]
    },
    {
     "data": {
      "application/vnd.jupyter.widget-view+json": {
       "model_id": "227db64251d944f0aaa2725fec7b8f5e",
       "version_major": 2,
       "version_minor": 0
      },
      "text/plain": [
       "Epoch 40/50 [Train]:   0%|          | 0/28 [00:00<?, ?it/s]"
      ]
     },
     "metadata": {},
     "output_type": "display_data"
    },
    {
     "name": "stderr",
     "output_type": "stream",
     "text": [
      "2025-09-11 15:53:15,997 - INFO - Epoch 40/50 | Validation Acc: 0.8490\n"
     ]
    },
    {
     "data": {
      "application/vnd.jupyter.widget-view+json": {
       "model_id": "8a5807c43884417cbcd678aa75d94248",
       "version_major": 2,
       "version_minor": 0
      },
      "text/plain": [
       "Epoch 41/50 [Train]:   0%|          | 0/28 [00:00<?, ?it/s]"
      ]
     },
     "metadata": {},
     "output_type": "display_data"
    },
    {
     "name": "stderr",
     "output_type": "stream",
     "text": [
      "2025-09-11 15:53:20,415 - INFO - Epoch 41/50 | Validation Acc: 0.8385\n"
     ]
    },
    {
     "data": {
      "application/vnd.jupyter.widget-view+json": {
       "model_id": "c28e26d4b3484a079a0737ffef143003",
       "version_major": 2,
       "version_minor": 0
      },
      "text/plain": [
       "Epoch 42/50 [Train]:   0%|          | 0/28 [00:00<?, ?it/s]"
      ]
     },
     "metadata": {},
     "output_type": "display_data"
    },
    {
     "name": "stderr",
     "output_type": "stream",
     "text": [
      "2025-09-11 15:53:24,800 - INFO - Epoch 42/50 | Validation Acc: 0.8594\n"
     ]
    },
    {
     "data": {
      "application/vnd.jupyter.widget-view+json": {
       "model_id": "8e95126e824a44fbb3d49cdfc4a8d117",
       "version_major": 2,
       "version_minor": 0
      },
      "text/plain": [
       "Epoch 43/50 [Train]:   0%|          | 0/28 [00:00<?, ?it/s]"
      ]
     },
     "metadata": {},
     "output_type": "display_data"
    },
    {
     "name": "stderr",
     "output_type": "stream",
     "text": [
      "2025-09-11 15:53:29,189 - INFO - Epoch 43/50 | Validation Acc: 0.8906\n"
     ]
    },
    {
     "data": {
      "application/vnd.jupyter.widget-view+json": {
       "model_id": "722d0357754b4d4792127a57c2d1f6a6",
       "version_major": 2,
       "version_minor": 0
      },
      "text/plain": [
       "Epoch 44/50 [Train]:   0%|          | 0/28 [00:00<?, ?it/s]"
      ]
     },
     "metadata": {},
     "output_type": "display_data"
    },
    {
     "name": "stderr",
     "output_type": "stream",
     "text": [
      "2025-09-11 15:53:33,569 - INFO - Epoch 44/50 | Validation Acc: 0.8698\n"
     ]
    },
    {
     "data": {
      "application/vnd.jupyter.widget-view+json": {
       "model_id": "080e8651b9aa4da9a1cb11f5a0302c04",
       "version_major": 2,
       "version_minor": 0
      },
      "text/plain": [
       "Epoch 45/50 [Train]:   0%|          | 0/28 [00:00<?, ?it/s]"
      ]
     },
     "metadata": {},
     "output_type": "display_data"
    },
    {
     "name": "stderr",
     "output_type": "stream",
     "text": [
      "2025-09-11 15:53:38,073 - INFO - Epoch 45/50 | Validation Acc: 0.8802\n"
     ]
    },
    {
     "data": {
      "application/vnd.jupyter.widget-view+json": {
       "model_id": "8dd0a044f23841a99cec3a321154dc80",
       "version_major": 2,
       "version_minor": 0
      },
      "text/plain": [
       "Epoch 46/50 [Train]:   0%|          | 0/28 [00:00<?, ?it/s]"
      ]
     },
     "metadata": {},
     "output_type": "display_data"
    },
    {
     "name": "stderr",
     "output_type": "stream",
     "text": [
      "2025-09-11 15:53:42,507 - INFO - Epoch 46/50 | Validation Acc: 0.8438\n"
     ]
    },
    {
     "data": {
      "application/vnd.jupyter.widget-view+json": {
       "model_id": "f0e346390a2a44ac8d5ab7dfbf614c95",
       "version_major": 2,
       "version_minor": 0
      },
      "text/plain": [
       "Epoch 47/50 [Train]:   0%|          | 0/28 [00:00<?, ?it/s]"
      ]
     },
     "metadata": {},
     "output_type": "display_data"
    },
    {
     "name": "stderr",
     "output_type": "stream",
     "text": [
      "2025-09-11 15:53:46,913 - INFO - Epoch 47/50 | Validation Acc: 0.8906\n"
     ]
    },
    {
     "data": {
      "application/vnd.jupyter.widget-view+json": {
       "model_id": "0bafd56a38cf4bd78e46fca461fcd150",
       "version_major": 2,
       "version_minor": 0
      },
      "text/plain": [
       "Epoch 48/50 [Train]:   0%|          | 0/28 [00:00<?, ?it/s]"
      ]
     },
     "metadata": {},
     "output_type": "display_data"
    },
    {
     "name": "stderr",
     "output_type": "stream",
     "text": [
      "2025-09-11 15:53:51,335 - INFO - Epoch 48/50 | Validation Acc: 0.8854\n"
     ]
    },
    {
     "data": {
      "application/vnd.jupyter.widget-view+json": {
       "model_id": "9797ae6bfb6c4fdc9f3ecbe6cbb8e736",
       "version_major": 2,
       "version_minor": 0
      },
      "text/plain": [
       "Epoch 49/50 [Train]:   0%|          | 0/28 [00:00<?, ?it/s]"
      ]
     },
     "metadata": {},
     "output_type": "display_data"
    },
    {
     "name": "stderr",
     "output_type": "stream",
     "text": [
      "2025-09-11 15:53:55,765 - INFO - Epoch 49/50 | Validation Acc: 0.7292\n"
     ]
    },
    {
     "data": {
      "application/vnd.jupyter.widget-view+json": {
       "model_id": "eb4c16d7a37948fd9a610df71d63b560",
       "version_major": 2,
       "version_minor": 0
      },
      "text/plain": [
       "Epoch 50/50 [Train]:   0%|          | 0/28 [00:00<?, ?it/s]"
      ]
     },
     "metadata": {},
     "output_type": "display_data"
    },
    {
     "name": "stderr",
     "output_type": "stream",
     "text": [
      "2025-09-11 15:54:00,301 - INFO - Epoch 50/50 | Validation Acc: 0.8542\n",
      "2025-09-11 15:54:00,303 - INFO - \n",
      "Loading best baseline model for final evaluation.\n",
      "2025-09-11 15:54:00,349 - INFO - --- Evaluating Model on Test Set ---\n",
      "2025-09-11 15:54:00,735 - INFO - Classification Report:\n",
      "              precision    recall  f1-score   support\n",
      "\n",
      "         ALL       0.92      1.00      0.96        48\n",
      "         AML       0.88      0.92      0.90        48\n",
      "         CLL       0.79      0.92      0.85        48\n",
      "         CML       0.97      0.69      0.80        48\n",
      "\n",
      "    accuracy                           0.88       192\n",
      "   macro avg       0.89      0.88      0.88       192\n",
      "weighted avg       0.89      0.88      0.88       192\n",
      "\n"
     ]
    },
    {
     "data": {
      "image/png": "[encoded data removed]",
      "text/plain": [
       "<Figure size 800x600 with 2 Axes>"
      ]
     },
     "metadata": {},
     "output_type": "display_data"
    },
    {
     "name": "stderr",
     "output_type": "stream",
     "text": [
      "2025-09-11 15:54:00,801 - INFO - \n",
      "=== MULTI-TASK MODEL PIPELINE ===\n",
      "2025-09-11 15:54:00,978 - INFO - --- Starting Multi-Task Model Training ---\n"
     ]
    },
    {
     "data": {
      "application/vnd.jupyter.widget-view+json": {
       "model_id": "f7913cf50cf843a780a4b88f5e8f317e",
       "version_major": 2,
       "version_minor": 0
      },
      "text/plain": [
       "Epoch 1/50 [Train]:   0%|          | 0/28 [00:00<?, ?it/s]"
      ]
     },
     "metadata": {},
     "output_type": "display_data"
    },
    {
     "name": "stderr",
     "output_type": "stream",
     "text": [
      "2025-09-11 15:54:05,601 - INFO - Epoch 1/50 | Validation Type Acc: 0.3646\n",
      "2025-09-11 15:54:05,692 - INFO - New best multi-task model saved with acc: 0.3646\n"
     ]
    },
    {
     "data": {
      "application/vnd.jupyter.widget-view+json": {
       "model_id": "1e21559342f34be595eb78d39d8c00a9",
       "version_major": 2,
       "version_minor": 0
      },
      "text/plain": [
       "Epoch 2/50 [Train]:   0%|          | 0/28 [00:00<?, ?it/s]"
      ]
     },
     "metadata": {},
     "output_type": "display_data"
    },
    {
     "name": "stderr",
     "output_type": "stream",
     "text": [
      "2025-09-11 15:54:10,184 - INFO - Epoch 2/50 | Validation Type Acc: 0.6250\n",
      "2025-09-11 15:54:10,253 - INFO - New best multi-task model saved with acc: 0.6250\n"
     ]
    },
    {
     "data": {
      "application/vnd.jupyter.widget-view+json": {
       "model_id": "71f5f5d9ec1b4fa8b96c3a0fe8661620",
       "version_major": 2,
       "version_minor": 0
      },
      "text/plain": [
       "Epoch 3/50 [Train]:   0%|          | 0/28 [00:00<?, ?it/s]"
      ]
     },
     "metadata": {},
     "output_type": "display_data"
    },
    {
     "name": "stderr",
     "output_type": "stream",
     "text": [
      "2025-09-11 15:54:14,789 - INFO - Epoch 3/50 | Validation Type Acc: 0.6458\n",
      "2025-09-11 15:54:14,862 - INFO - New best multi-task model saved with acc: 0.6458\n"
     ]
    },
    {
     "data": {
      "application/vnd.jupyter.widget-view+json": {
       "model_id": "45c58fa45bcb4271b54ac70618cd2da6",
       "version_major": 2,
       "version_minor": 0
      },
      "text/plain": [
       "Epoch 4/50 [Train]:   0%|          | 0/28 [00:00<?, ?it/s]"
      ]
     },
     "metadata": {},
     "output_type": "display_data"
    },
    {
     "name": "stderr",
     "output_type": "stream",
     "text": [
      "2025-09-11 15:54:19,365 - INFO - Epoch 4/50 | Validation Type Acc: 0.5729\n"
     ]
    },
    {
     "data": {
      "application/vnd.jupyter.widget-view+json": {
       "model_id": "524d867074e54e7a80c35a9ca754e004",
       "version_major": 2,
       "version_minor": 0
      },
      "text/plain": [
       "Epoch 5/50 [Train]:   0%|          | 0/28 [00:00<?, ?it/s]"
      ]
     },
     "metadata": {},
     "output_type": "display_data"
    },
    {
     "name": "stderr",
     "output_type": "stream",
     "text": [
      "2025-09-11 15:54:23,920 - INFO - Epoch 5/50 | Validation Type Acc: 0.6042\n"
     ]
    },
    {
     "data": {
      "application/vnd.jupyter.widget-view+json": {
       "model_id": "339e30e943b94a3f83ccbe81136aeadc",
       "version_major": 2,
       "version_minor": 0
      },
      "text/plain": [
       "Epoch 6/50 [Train]:   0%|          | 0/28 [00:00<?, ?it/s]"
      ]
     },
     "metadata": {},
     "output_type": "display_data"
    },
    {
     "name": "stderr",
     "output_type": "stream",
     "text": [
      "2025-09-11 15:54:28,442 - INFO - Epoch 6/50 | Validation Type Acc: 0.6927\n",
      "2025-09-11 15:54:28,512 - INFO - New best multi-task model saved with acc: 0.6927\n"
     ]
    },
    {
     "data": {
      "application/vnd.jupyter.widget-view+json": {
       "model_id": "ee1270959ac54c73b4104ad66473b9dd",
       "version_major": 2,
       "version_minor": 0
      },
      "text/plain": [
       "Epoch 7/50 [Train]:   0%|          | 0/28 [00:00<?, ?it/s]"
      ]
     },
     "metadata": {},
     "output_type": "display_data"
    },
    {
     "name": "stderr",
     "output_type": "stream",
     "text": [
      "2025-09-11 15:54:32,945 - INFO - Epoch 7/50 | Validation Type Acc: 0.6146\n"
     ]
    },
    {
     "data": {
      "application/vnd.jupyter.widget-view+json": {
       "model_id": "c4be6b21313f4161b3aece21646cc185",
       "version_major": 2,
       "version_minor": 0
      },
      "text/plain": [
       "Epoch 8/50 [Train]:   0%|          | 0/28 [00:00<?, ?it/s]"
      ]
     },
     "metadata": {},
     "output_type": "display_data"
    },
    {
     "name": "stderr",
     "output_type": "stream",
     "text": [
      "2025-09-11 15:54:37,437 - INFO - Epoch 8/50 | Validation Type Acc: 0.6927\n"
     ]
    },
    {
     "data": {
      "application/vnd.jupyter.widget-view+json": {
       "model_id": "f7058c1e94c345229808e9ecfa3f75dc",
       "version_major": 2,
       "version_minor": 0
      },
      "text/plain": [
       "Epoch 9/50 [Train]:   0%|          | 0/28 [00:00<?, ?it/s]"
      ]
     },
     "metadata": {},
     "output_type": "display_data"
    },
    {
     "name": "stderr",
     "output_type": "stream",
     "text": [
      "2025-09-11 15:54:41,941 - INFO - Epoch 9/50 | Validation Type Acc: 0.7083\n",
      "2025-09-11 15:54:42,039 - INFO - New best multi-task model saved with acc: 0.7083\n"
     ]
    },
    {
     "data": {
      "application/vnd.jupyter.widget-view+json": {
       "model_id": "4f516143309e4464a6214e4170fd2bd6",
       "version_major": 2,
       "version_minor": 0
      },
      "text/plain": [
       "Epoch 10/50 [Train]:   0%|          | 0/28 [00:00<?, ?it/s]"
      ]
     },
     "metadata": {},
     "output_type": "display_data"
    },
    {
     "name": "stderr",
     "output_type": "stream",
     "text": [
      "2025-09-11 15:54:46,517 - INFO - Epoch 10/50 | Validation Type Acc: 0.6823\n"
     ]
    },
    {
     "data": {
      "application/vnd.jupyter.widget-view+json": {
       "model_id": "cf730a4e3fbb45feae93fb269e828590",
       "version_major": 2,
       "version_minor": 0
      },
      "text/plain": [
       "Epoch 11/50 [Train]:   0%|          | 0/28 [00:00<?, ?it/s]"
      ]
     },
     "metadata": {},
     "output_type": "display_data"
    },
    {
     "name": "stderr",
     "output_type": "stream",
     "text": [
      "2025-09-11 15:54:50,960 - INFO - Epoch 11/50 | Validation Type Acc: 0.6823\n"
     ]
    },
    {
     "data": {
      "application/vnd.jupyter.widget-view+json": {
       "model_id": "3cf2d2dcea784acfaad4c461ff7ac946",
       "version_major": 2,
       "version_minor": 0
      },
      "text/plain": [
       "Epoch 12/50 [Train]:   0%|          | 0/28 [00:00<?, ?it/s]"
      ]
     },
     "metadata": {},
     "output_type": "display_data"
    },
    {
     "name": "stderr",
     "output_type": "stream",
     "text": [
      "2025-09-11 15:54:55,399 - INFO - Epoch 12/50 | Validation Type Acc: 0.6146\n"
     ]
    },
    {
     "data": {
      "application/vnd.jupyter.widget-view+json": {
       "model_id": "3d7a0e633daf4c5b85cbb3ff48ce76df",
       "version_major": 2,
       "version_minor": 0
      },
      "text/plain": [
       "Epoch 13/50 [Train]:   0%|          | 0/28 [00:00<?, ?it/s]"
      ]
     },
     "metadata": {},
     "output_type": "display_data"
    },
    {
     "name": "stderr",
     "output_type": "stream",
     "text": [
      "2025-09-11 15:54:59,848 - INFO - Epoch 13/50 | Validation Type Acc: 0.7708\n",
      "2025-09-11 15:54:59,919 - INFO - New best multi-task model saved with acc: 0.7708\n"
     ]
    },
    {
     "data": {
      "application/vnd.jupyter.widget-view+json": {
       "model_id": "5e093c14d6df4001aca07193b1d862c6",
       "version_major": 2,
       "version_minor": 0
      },
      "text/plain": [
       "Epoch 14/50 [Train]:   0%|          | 0/28 [00:00<?, ?it/s]"
      ]
     },
     "metadata": {},
     "output_type": "display_data"
    },
    {
     "name": "stderr",
     "output_type": "stream",
     "text": [
      "2025-09-11 15:55:04,398 - INFO - Epoch 14/50 | Validation Type Acc: 0.7396\n"
     ]
    },
    {
     "data": {
      "application/vnd.jupyter.widget-view+json": {
       "model_id": "a417248d8b2c49f8a25ebc38725e44ab",
       "version_major": 2,
       "version_minor": 0
      },
      "text/plain": [
       "Epoch 15/50 [Train]:   0%|          | 0/28 [00:00<?, ?it/s]"
      ]
     },
     "metadata": {},
     "output_type": "display_data"
    },
    {
     "name": "stderr",
     "output_type": "stream",
     "text": [
      "2025-09-11 15:55:08,869 - INFO - Epoch 15/50 | Validation Type Acc: 0.7188\n"
     ]
    },
    {
     "data": {
      "application/vnd.jupyter.widget-view+json": {
       "model_id": "75511b5d38c94860b7b76267879815d3",
       "version_major": 2,
       "version_minor": 0
      },
      "text/plain": [
       "Epoch 16/50 [Train]:   0%|          | 0/28 [00:00<?, ?it/s]"
      ]
     },
     "metadata": {},
     "output_type": "display_data"
    },
    {
     "name": "stderr",
     "output_type": "stream",
     "text": [
      "2025-09-11 15:55:13,303 - INFO - Epoch 16/50 | Validation Type Acc: 0.6823\n"
     ]
    },
    {
     "data": {
      "application/vnd.jupyter.widget-view+json": {
       "model_id": "006b41908b154a929612988b2338ae76",
       "version_major": 2,
       "version_minor": 0
      },
      "text/plain": [
       "Epoch 17/50 [Train]:   0%|          | 0/28 [00:00<?, ?it/s]"
      ]
     },
     "metadata": {},
     "output_type": "display_data"
    },
    {
     "name": "stderr",
     "output_type": "stream",
     "text": [
      "2025-09-11 15:55:17,739 - INFO - Epoch 17/50 | Validation Type Acc: 0.7812\n",
      "2025-09-11 15:55:17,811 - INFO - New best multi-task model saved with acc: 0.7812\n"
     ]
    },
    {
     "data": {
      "application/vnd.jupyter.widget-view+json": {
       "model_id": "444931562f544a6082e3ee1687c57394",
       "version_major": 2,
       "version_minor": 0
      },
      "text/plain": [
       "Epoch 18/50 [Train]:   0%|          | 0/28 [00:00<?, ?it/s]"
      ]
     },
     "metadata": {},
     "output_type": "display_data"
    },
    {
     "name": "stderr",
     "output_type": "stream",
     "text": [
      "2025-09-11 15:55:22,388 - INFO - Epoch 18/50 | Validation Type Acc: 0.7760\n"
     ]
    },
    {
     "data": {
      "application/vnd.jupyter.widget-view+json": {
       "model_id": "64fc9b1c44b042f09a5397f0cf2506ac",
       "version_major": 2,
       "version_minor": 0
      },
      "text/plain": [
       "Epoch 19/50 [Train]:   0%|          | 0/28 [00:00<?, ?it/s]"
      ]
     },
     "metadata": {},
     "output_type": "display_data"
    },
    {
     "name": "stderr",
     "output_type": "stream",
     "text": [
      "2025-09-11 15:55:26,840 - INFO - Epoch 19/50 | Validation Type Acc: 0.8125\n",
      "2025-09-11 15:55:26,905 - INFO - New best multi-task model saved with acc: 0.8125\n"
     ]
    },
    {
     "data": {
      "application/vnd.jupyter.widget-view+json": {
       "model_id": "49f11d22c06648d0b22faf8fa8ed25c6",
       "version_major": 2,
       "version_minor": 0
      },
      "text/plain": [
       "Epoch 20/50 [Train]:   0%|          | 0/28 [00:00<?, ?it/s]"
      ]
     },
     "metadata": {},
     "output_type": "display_data"
    },
    {
     "name": "stderr",
     "output_type": "stream",
     "text": [
      "2025-09-11 15:55:31,357 - INFO - Epoch 20/50 | Validation Type Acc: 0.7604\n"
     ]
    },
    {
     "data": {
      "application/vnd.jupyter.widget-view+json": {
       "model_id": "adb7f510e8be48e1af19bc9fdc23f77b",
       "version_major": 2,
       "version_minor": 0
      },
      "text/plain": [
       "Epoch 21/50 [Train]:   0%|          | 0/28 [00:00<?, ?it/s]"
      ]
     },
     "metadata": {},
     "output_type": "display_data"
    },
    {
     "name": "stderr",
     "output_type": "stream",
     "text": [
      "2025-09-11 15:55:35,790 - INFO - Epoch 21/50 | Validation Type Acc: 0.8021\n"
     ]
    },
    {
     "data": {
      "application/vnd.jupyter.widget-view+json": {
       "model_id": "32baca7edca346fbb53361c1850c9912",
       "version_major": 2,
       "version_minor": 0
      },
      "text/plain": [
       "Epoch 22/50 [Train]:   0%|          | 0/28 [00:00<?, ?it/s]"
      ]
     },
     "metadata": {},
     "output_type": "display_data"
    },
    {
     "name": "stderr",
     "output_type": "stream",
     "text": [
      "2025-09-11 15:55:40,294 - INFO - Epoch 22/50 | Validation Type Acc: 0.7448\n"
     ]
    },
    {
     "data": {
      "application/vnd.jupyter.widget-view+json": {
       "model_id": "e91b8cf28aeb4e7293298ea5318b57e8",
       "version_major": 2,
       "version_minor": 0
      },
      "text/plain": [
       "Epoch 23/50 [Train]:   0%|          | 0/28 [00:00<?, ?it/s]"
      ]
     },
     "metadata": {},
     "output_type": "display_data"
    },
    {
     "name": "stderr",
     "output_type": "stream",
     "text": [
      "2025-09-11 15:55:44,773 - INFO - Epoch 23/50 | Validation Type Acc: 0.7969\n"
     ]
    },
    {
     "data": {
      "application/vnd.jupyter.widget-view+json": {
       "model_id": "4734160f70ad4d72924de620a946a4b2",
       "version_major": 2,
       "version_minor": 0
      },
      "text/plain": [
       "Epoch 24/50 [Train]:   0%|          | 0/28 [00:00<?, ?it/s]"
      ]
     },
     "metadata": {},
     "output_type": "display_data"
    },
    {
     "name": "stderr",
     "output_type": "stream",
     "text": [
      "2025-09-11 15:55:49,295 - INFO - Epoch 24/50 | Validation Type Acc: 0.8125\n"
     ]
    },
    {
     "data": {
      "application/vnd.jupyter.widget-view+json": {
       "model_id": "b8d0309bcc194f41834e740fc7b6225e",
       "version_major": 2,
       "version_minor": 0
      },
      "text/plain": [
       "Epoch 25/50 [Train]:   0%|          | 0/28 [00:00<?, ?it/s]"
      ]
     },
     "metadata": {},
     "output_type": "display_data"
    },
    {
     "name": "stderr",
     "output_type": "stream",
     "text": [
      "2025-09-11 15:55:53,766 - INFO - Epoch 25/50 | Validation Type Acc: 0.7969\n"
     ]
    },
    {
     "data": {
      "application/vnd.jupyter.widget-view+json": {
       "model_id": "e27e72e0703347f9b8406e597d2cf24f",
       "version_major": 2,
       "version_minor": 0
      },
      "text/plain": [
       "Epoch 26/50 [Train]:   0%|          | 0/28 [00:00<?, ?it/s]"
      ]
     },
     "metadata": {},
     "output_type": "display_data"
    },
    {
     "name": "stderr",
     "output_type": "stream",
     "text": [
      "2025-09-11 15:55:58,237 - INFO - Epoch 26/50 | Validation Type Acc: 0.7500\n"
     ]
    },
    {
     "data": {
      "application/vnd.jupyter.widget-view+json": {
       "model_id": "a6c2c9eae1e74a0c99ff7b2b19f6630a",
       "version_major": 2,
       "version_minor": 0
      },
      "text/plain": [
       "Epoch 27/50 [Train]:   0%|          | 0/28 [00:00<?, ?it/s]"
      ]
     },
     "metadata": {},
     "output_type": "display_data"
    },
    {
     "name": "stderr",
     "output_type": "stream",
     "text": [
      "2025-09-11 15:56:02,769 - INFO - Epoch 27/50 | Validation Type Acc: 0.8594\n",
      "2025-09-11 15:56:02,840 - INFO - New best multi-task model saved with acc: 0.8594\n"
     ]
    },
    {
     "data": {
      "application/vnd.jupyter.widget-view+json": {
       "model_id": "ae69f9fb4cfb4ac99b470f483423d2c8",
       "version_major": 2,
       "version_minor": 0
      },
      "text/plain": [
       "Epoch 28/50 [Train]:   0%|          | 0/28 [00:00<?, ?it/s]"
      ]
     },
     "metadata": {},
     "output_type": "display_data"
    },
    {
     "name": "stderr",
     "output_type": "stream",
     "text": [
      "2025-09-11 15:56:07,278 - INFO - Epoch 28/50 | Validation Type Acc: 0.7448\n"
     ]
    },
    {
     "data": {
      "application/vnd.jupyter.widget-view+json": {
       "model_id": "f7740589e8ea4929a8813deacc641c66",
       "version_major": 2,
       "version_minor": 0
      },
      "text/plain": [
       "Epoch 29/50 [Train]:   0%|          | 0/28 [00:00<?, ?it/s]"
      ]
     },
     "metadata": {},
     "output_type": "display_data"
    },
    {
     "name": "stderr",
     "output_type": "stream",
     "text": [
      "2025-09-11 15:56:11,713 - INFO - Epoch 29/50 | Validation Type Acc: 0.8281\n"
     ]
    },
    {
     "data": {
      "application/vnd.jupyter.widget-view+json": {
       "model_id": "ac3d2986b2024bf0aa3761f7a1682a72",
       "version_major": 2,
       "version_minor": 0
      },
      "text/plain": [
       "Epoch 30/50 [Train]:   0%|          | 0/28 [00:00<?, ?it/s]"
      ]
     },
     "metadata": {},
     "output_type": "display_data"
    },
    {
     "name": "stderr",
     "output_type": "stream",
     "text": [
      "2025-09-11 15:56:16,136 - INFO - Epoch 30/50 | Validation Type Acc: 0.7917\n"
     ]
    },
    {
     "data": {
      "application/vnd.jupyter.widget-view+json": {
       "model_id": "eb126b5cc1ac4f8cb9b316b7cf7f5ebd",
       "version_major": 2,
       "version_minor": 0
      },
      "text/plain": [
       "Epoch 31/50 [Train]:   0%|          | 0/28 [00:00<?, ?it/s]"
      ]
     },
     "metadata": {},
     "output_type": "display_data"
    },
    {
     "name": "stderr",
     "output_type": "stream",
     "text": [
      "2025-09-11 15:56:20,558 - INFO - Epoch 31/50 | Validation Type Acc: 0.8646\n",
      "2025-09-11 15:56:20,628 - INFO - New best multi-task model saved with acc: 0.8646\n"
     ]
    },
    {
     "data": {
      "application/vnd.jupyter.widget-view+json": {
       "model_id": "bf6370930d374f14b44044d7674f1575",
       "version_major": 2,
       "version_minor": 0
      },
      "text/plain": [
       "Epoch 32/50 [Train]:   0%|          | 0/28 [00:00<?, ?it/s]"
      ]
     },
     "metadata": {},
     "output_type": "display_data"
    },
    {
     "name": "stderr",
     "output_type": "stream",
     "text": [
      "2025-09-11 15:56:25,027 - INFO - Epoch 32/50 | Validation Type Acc: 0.9010\n",
      "2025-09-11 15:56:25,104 - INFO - New best multi-task model saved with acc: 0.9010\n"
     ]
    },
    {
     "data": {
      "application/vnd.jupyter.widget-view+json": {
       "model_id": "28b1175f88cf406b8ca6e23ae2ff7afe",
       "version_major": 2,
       "version_minor": 0
      },
      "text/plain": [
       "Epoch 33/50 [Train]:   0%|          | 0/28 [00:00<?, ?it/s]"
      ]
     },
     "metadata": {},
     "output_type": "display_data"
    },
    {
     "name": "stderr",
     "output_type": "stream",
     "text": [
      "2025-09-11 15:56:29,521 - INFO - Epoch 33/50 | Validation Type Acc: 0.7708\n"
     ]
    },
    {
     "data": {
      "application/vnd.jupyter.widget-view+json": {
       "model_id": "d4e8216a018449b5860caaed009048d2",
       "version_major": 2,
       "version_minor": 0
      },
      "text/plain": [
       "Epoch 34/50 [Train]:   0%|          | 0/28 [00:00<?, ?it/s]"
      ]
     },
     "metadata": {},
     "output_type": "display_data"
    },
    {
     "name": "stderr",
     "output_type": "stream",
     "text": [
      "2025-09-11 15:56:33,927 - INFO - Epoch 34/50 | Validation Type Acc: 0.7500\n"
     ]
    },
    {
     "data": {
      "application/vnd.jupyter.widget-view+json": {
       "model_id": "718be6c221e549e8a5b8da458106d0ea",
       "version_major": 2,
       "version_minor": 0
      },
      "text/plain": [
       "Epoch 35/50 [Train]:   0%|          | 0/28 [00:00<?, ?it/s]"
      ]
     },
     "metadata": {},
     "output_type": "display_data"
    },
    {
     "name": "stderr",
     "output_type": "stream",
     "text": [
      "2025-09-11 15:56:38,493 - INFO - Epoch 35/50 | Validation Type Acc: 0.8646\n"
     ]
    },
    {
     "data": {
      "application/vnd.jupyter.widget-view+json": {
       "model_id": "c4a3f46ca82944298762f00c7dbcd4ca",
       "version_major": 2,
       "version_minor": 0
      },
      "text/plain": [
       "Epoch 36/50 [Train]:   0%|          | 0/28 [00:00<?, ?it/s]"
      ]
     },
     "metadata": {},
     "output_type": "display_data"
    },
    {
     "name": "stderr",
     "output_type": "stream",
     "text": [
      "2025-09-11 15:56:42,931 - INFO - Epoch 36/50 | Validation Type Acc: 0.7865\n"
     ]
    },
    {
     "data": {
      "application/vnd.jupyter.widget-view+json": {
       "model_id": "854386d05ac84ac283ce8c8d7327023c",
       "version_major": 2,
       "version_minor": 0
      },
      "text/plain": [
       "Epoch 37/50 [Train]:   0%|          | 0/28 [00:00<?, ?it/s]"
      ]
     },
     "metadata": {},
     "output_type": "display_data"
    },
    {
     "name": "stderr",
     "output_type": "stream",
     "text": [
      "2025-09-11 15:56:47,339 - INFO - Epoch 37/50 | Validation Type Acc: 0.8438\n"
     ]
    },
    {
     "data": {
      "application/vnd.jupyter.widget-view+json": {
       "model_id": "eb8c31f2f9654f7cb8202af98ce117b5",
       "version_major": 2,
       "version_minor": 0
      },
      "text/plain": [
       "Epoch 38/50 [Train]:   0%|          | 0/28 [00:00<?, ?it/s]"
      ]
     },
     "metadata": {},
     "output_type": "display_data"
    },
    {
     "name": "stderr",
     "output_type": "stream",
     "text": [
      "2025-09-11 15:56:51,753 - INFO - Epoch 38/50 | Validation Type Acc: 0.7448\n"
     ]
    },
    {
     "data": {
      "application/vnd.jupyter.widget-view+json": {
       "model_id": "774d8ff48867411c86327c108cd5288a",
       "version_major": 2,
       "version_minor": 0
      },
      "text/plain": [
       "Epoch 39/50 [Train]:   0%|          | 0/28 [00:00<?, ?it/s]"
      ]
     },
     "metadata": {},
     "output_type": "display_data"
    },
    {
     "name": "stderr",
     "output_type": "stream",
     "text": [
      "2025-09-11 15:56:56,169 - INFO - Epoch 39/50 | Validation Type Acc: 0.8802\n"
     ]
    },
    {
     "data": {
      "application/vnd.jupyter.widget-view+json": {
       "model_id": "03e7ca2a63ec4bf187543ba22dc72baf",
       "version_major": 2,
       "version_minor": 0
      },
      "text/plain": [
       "Epoch 40/50 [Train]:   0%|          | 0/28 [00:00<?, ?it/s]"
      ]
     },
     "metadata": {},
     "output_type": "display_data"
    },
    {
     "name": "stderr",
     "output_type": "stream",
     "text": [
      "2025-09-11 15:57:00,619 - INFO - Epoch 40/50 | Validation Type Acc: 0.8594\n"
     ]
    },
    {
     "data": {
      "application/vnd.jupyter.widget-view+json": {
       "model_id": "efe46e53c8434dd6b43ce6b52d7dc671",
       "version_major": 2,
       "version_minor": 0
      },
      "text/plain": [
       "Epoch 41/50 [Train]:   0%|          | 0/28 [00:00<?, ?it/s]"
      ]
     },
     "metadata": {},
     "output_type": "display_data"
    },
    {
     "name": "stderr",
     "output_type": "stream",
     "text": [
      "2025-09-11 15:57:05,137 - INFO - Epoch 41/50 | Validation Type Acc: 0.8542\n"
     ]
    },
    {
     "data": {
      "application/vnd.jupyter.widget-view+json": {
       "model_id": "bb1b2ed271fa473490b97c6bc1260dff",
       "version_major": 2,
       "version_minor": 0
      },
      "text/plain": [
       "Epoch 42/50 [Train]:   0%|          | 0/28 [00:00<?, ?it/s]"
      ]
     },
     "metadata": {},
     "output_type": "display_data"
    },
    {
     "name": "stderr",
     "output_type": "stream",
     "text": [
      "2025-09-11 15:57:09,663 - INFO - Epoch 42/50 | Validation Type Acc: 0.8177\n"
     ]
    },
    {
     "data": {
      "application/vnd.jupyter.widget-view+json": {
       "model_id": "82d543e52f034874a066eff4da26f35b",
       "version_major": 2,
       "version_minor": 0
      },
      "text/plain": [
       "Epoch 43/50 [Train]:   0%|          | 0/28 [00:00<?, ?it/s]"
      ]
     },
     "metadata": {},
     "output_type": "display_data"
    },
    {
     "name": "stderr",
     "output_type": "stream",
     "text": [
      "2025-09-11 15:57:14,095 - INFO - Epoch 43/50 | Validation Type Acc: 0.8438\n"
     ]
    },
    {
     "data": {
      "application/vnd.jupyter.widget-view+json": {
       "model_id": "a7638d64a9f1448291d66239ff6d1ba2",
       "version_major": 2,
       "version_minor": 0
      },
      "text/plain": [
       "Epoch 44/50 [Train]:   0%|          | 0/28 [00:00<?, ?it/s]"
      ]
     },
     "metadata": {},
     "output_type": "display_data"
    },
    {
     "name": "stderr",
     "output_type": "stream",
     "text": [
      "2025-09-11 15:57:18,527 - INFO - Epoch 44/50 | Validation Type Acc: 0.8125\n"
     ]
    },
    {
     "data": {
      "application/vnd.jupyter.widget-view+json": {
       "model_id": "750c1eb1485a45c5895b913e3c4e5c68",
       "version_major": 2,
       "version_minor": 0
      },
      "text/plain": [
       "Epoch 45/50 [Train]:   0%|          | 0/28 [00:00<?, ?it/s]"
      ]
     },
     "metadata": {},
     "output_type": "display_data"
    },
    {
     "name": "stderr",
     "output_type": "stream",
     "text": [
      "2025-09-11 15:57:23,009 - INFO - Epoch 45/50 | Validation Type Acc: 0.8906\n"
     ]
    },
    {
     "data": {
      "application/vnd.jupyter.widget-view+json": {
       "model_id": "c62850fbf29f4be7b88e574d54a275d9",
       "version_major": 2,
       "version_minor": 0
      },
      "text/plain": [
       "Epoch 46/50 [Train]:   0%|          | 0/28 [00:00<?, ?it/s]"
      ]
     },
     "metadata": {},
     "output_type": "display_data"
    },
    {
     "name": "stderr",
     "output_type": "stream",
     "text": [
      "2025-09-11 15:57:27,565 - INFO - Epoch 46/50 | Validation Type Acc: 0.8229\n"
     ]
    },
    {
     "data": {
      "application/vnd.jupyter.widget-view+json": {
       "model_id": "5cb65cb2a8fb4b48bc912551a6961069",
       "version_major": 2,
       "version_minor": 0
      },
      "text/plain": [
       "Epoch 47/50 [Train]:   0%|          | 0/28 [00:00<?, ?it/s]"
      ]
     },
     "metadata": {},
     "output_type": "display_data"
    },
    {
     "name": "stderr",
     "output_type": "stream",
     "text": [
      "2025-09-11 15:57:32,120 - INFO - Epoch 47/50 | Validation Type Acc: 0.8958\n"
     ]
    },
    {
     "data": {
      "application/vnd.jupyter.widget-view+json": {
       "model_id": "acda3ce9779f4bb786e2327408ce97fd",
       "version_major": 2,
       "version_minor": 0
      },
      "text/plain": [
       "Epoch 48/50 [Train]:   0%|          | 0/28 [00:00<?, ?it/s]"
      ]
     },
     "metadata": {},
     "output_type": "display_data"
    },
    {
     "name": "stderr",
     "output_type": "stream",
     "text": [
      "2025-09-11 15:57:36,556 - INFO - Epoch 48/50 | Validation Type Acc: 0.7760\n"
     ]
    },
    {
     "data": {
      "application/vnd.jupyter.widget-view+json": {
       "model_id": "9b8bbaa15cec449085675e914d4b42cf",
       "version_major": 2,
       "version_minor": 0
      },
      "text/plain": [
       "Epoch 49/50 [Train]:   0%|          | 0/28 [00:00<?, ?it/s]"
      ]
     },
     "metadata": {},
     "output_type": "display_data"
    },
    {
     "name": "stderr",
     "output_type": "stream",
     "text": [
      "2025-09-11 15:57:40,969 - INFO - Epoch 49/50 | Validation Type Acc: 0.8125\n"
     ]
    },
    {
     "data": {
      "application/vnd.jupyter.widget-view+json": {
       "model_id": "02cc8b068dc64f538ee517c602ac4e43",
       "version_major": 2,
       "version_minor": 0
      },
      "text/plain": [
       "Epoch 50/50 [Train]:   0%|          | 0/28 [00:00<?, ?it/s]"
      ]
     },
     "metadata": {},
     "output_type": "display_data"
    },
    {
     "name": "stderr",
     "output_type": "stream",
     "text": [
      "2025-09-11 15:57:45,512 - INFO - Epoch 50/50 | Validation Type Acc: 0.8073\n",
      "2025-09-11 15:57:45,513 - INFO - \n",
      "Pipeline finished successfully.\n"
     ]
    }
   ],
   "source": [
    "setup_logging()\n",
    "\n",
    "MODEL_DIR.mkdir(parents=True, exist_ok=True)\n",
    "\n",
    "if not SKIP_DATA_PREP:\n",
    "    data_prep_success = prepare_data()\n",
    "    if not data_prep_success:\n",
    "        raise RuntimeError(\"Data preparation failed. Check logs for details.\")\n",
    "else:\n",
    "    logging.info(\"Skipping data preparation as requested.\")\n",
    "\n",
    "if torch.cuda.is_available():\n",
    "    device = \"cuda\"\n",
    "elif torch.backends.mps.is_available():\n",
    "    device = \"mps\"\n",
    "else:\n",
    "    device = \"cpu\"\n",
    "logging.info(f\"Using device: {device}\")\n",
    "\n",
    "tfm_train = transforms.Compose([\n",
    "    transforms.RandomHorizontalFlip(), transforms.RandomRotation(15),\n",
    "    transforms.ColorJitter(brightness=0.1, contrast=0.1),\n",
    "    transforms.ToTensor(),\n",
    "    transforms.Normalize([0.485, 0.456, 0.406], [0.229, 0.224, 0.225])\n",
    "])\n",
    "tfm_eval = transforms.Compose([\n",
    "    transforms.ToTensor(),\n",
    "    transforms.Normalize([0.485, 0.456, 0.406], [0.229, 0.224, 0.225])\n",
    "])\n",
    "\n",
    "logging.info(\"\\n=== BASELINE MODEL PIPELINE ===\")\n",
    "train_ds = datasets.ImageFolder(str(TRAIN_DIR), tfm_train)\n",
    "val_ds = datasets.ImageFolder(str(VAL_DIR), tfm_eval)\n",
    "test_ds = datasets.ImageFolder(str(TEST_DIR), tfm_eval)\n",
    "\n",
    "train_dl = DataLoader(train_ds, batch_size=BATCH_SIZE, shuffle=True, num_workers=0)\n",
    "val_dl = DataLoader(val_ds, batch_size=BATCH_SIZE, shuffle=False, num_workers=0)\n",
    "test_dl = DataLoader(test_ds, batch_size=BATCH_SIZE, shuffle=False, num_workers=0)\n",
    "\n",
    "baseline_model = models.resnet18(weights=models.ResNet18_Weights.DEFAULT)\n",
    "baseline_model.fc = nn.Linear(baseline_model.fc.in_features, len(CLASSES))\n",
    "\n",
    "criterion = nn.CrossEntropyLoss()\n",
    "optimizer = optim.AdamW(baseline_model.parameters(), lr=LEARNING_RATE)\n",
    "\n",
    "train_baseline_model(baseline_model, criterion, optimizer, train_dl, val_dl, device, NUM_EPOCHS)\n",
    "\n",
    "logging.info(\"\\nLoading best baseline model for final evaluation.\")\n",
    "baseline_model.load_state_dict(torch.load(MODEL_DIR / 'baseline_cls.pt'))\n",
    "evaluate_model(baseline_model, test_dl, device, class_names=CLASSES)\n",
    "\n",
    "logging.info(\"\\n=== MULTI-TASK MODEL PIPELINE ===\")\n",
    "mt_train_ds = MultiTaskDataset(str(TRAIN_DIR), tfm_train)\n",
    "mt_val_ds = MultiTaskDataset(str(VAL_DIR), tfm_eval)\n",
    "\n",
    "mt_train_dl = DataLoader(mt_train_ds, batch_size=BATCH_SIZE, shuffle=True, num_workers=0)\n",
    "mt_val_dl = DataLoader(mt_val_ds, batch_size=BATCH_SIZE, shuffle=False, num_workers=0)\n",
    "\n",
    "multitask_model = MultiTaskModel(n_types=len(CLASSES), n_grades=len(GRADES))\n",
    "\n",
    "mt_criteria = (nn.CrossEntropyLoss(), nn.CrossEntropyLoss())\n",
    "mt_optimizer = optim.AdamW(multitask_model.parameters(), lr=LEARNING_RATE)\n",
    "\n",
    "train_multitask_model(multitask_model, mt_criteria, mt_optimizer, mt_train_dl, mt_val_dl, device, NUM_EPOCHS)\n",
    "\n",
    "logging.info(\"\\nPipeline finished successfully.\")"
   ]
  },
  {
   "cell_type": "markdown",
   "metadata": {},
   "source": [
    "## 4. Making a Prediction on a New Image\n",
    "\n",
    "After training, you can use this section to load your best `multitask_model` and make a prediction on any single image file."
   ]
  },
  {
   "cell_type": "code",
   "execution_count": 11,
   "metadata": {},
   "outputs": [],
   "source": [
    "def predict_leukemia(model_path, image_path, device):\n",
    "    \"\"\"\n",
    "    Loads the trained multi-task model and predicts the class and grade\n",
    "    for a single input image.\n",
    "    \"\"\"\n",
    "    # 1. Initialize the model architecture (the class MultiTaskModel must be defined)\n",
    "    model = MultiTaskModel(n_types=len(CLASSES), n_grades=len(GRADES))\n",
    "    \n",
    "    # 2. Load the saved weights\n",
    "    model.load_state_dict(torch.load(model_path, map_location=torch.device(device)))\n",
    "    model.to(device)\n",
    "    \n",
    "    # 3. Set the model to evaluation mode\n",
    "    model.eval()\n",
    "\n",
    "    # 4. Define the same image transformations as used for validation/testing\n",
    "    transform = transforms.Compose([\n",
    "        transforms.Resize((IMAGE_SIZE, IMAGE_SIZE)),\n",
    "        transforms.ToTensor(),\n",
    "        transforms.Normalize([0.485, 0.456, 0.406], [0.229, 0.224, 0.225])\n",
    "    ])\n",
    "\n",
    "    # 5. Load and preprocess the image\n",
    "    image = Image.open(image_path).convert('RGB')\n",
    "    image_tensor = transform(image).unsqueeze(0)\n",
    "    image_tensor = image_tensor.to(device)\n",
    "\n",
    "    # 6. Make a prediction\n",
    "    with torch.no_grad():\n",
    "        type_logits, grade_logits = model(image_tensor)\n",
    "        type_pred_idx = torch.argmax(type_logits, dim=1).item()\n",
    "        grade_pred_idx = torch.argmax(grade_logits, dim=1).item()\n",
    "\n",
    "    # 7. Map the index back to the class and grade names\n",
    "    predicted_class = CLASSES[type_pred_idx]\n",
    "    predicted_grade = GRADES[grade_pred_idx]\n",
    "    \n",
    "    return (predicted_class, predicted_grade)"
   ]
  },
  {
   "cell_type": "code",
   "execution_count": 13,
   "metadata": {},
   "outputs": [
    {
     "data": {
      "image/jpeg": "[encoded data removed]",
      "image/png": "[encoded data removed]",
      "text/plain": [
       "<PIL.Image.Image image mode=RGB size=250x250>"
      ]
     },
     "metadata": {},
     "output_type": "display_data"
    },
    {
     "name": "stdout",
     "output_type": "stream",
     "text": [
      "🚀 Prediction Complete!\n",
      "   - Predicted Class: AML\n",
      "   - Predicted Grade: Accelerated\n"
     ]
    }
   ],
   "source": [
    "# --- SETTINGS FOR PREDICTION ---\n",
    "SAVED_MODEL_PATH = MODEL_DIR / 'multitask_model.pt'\n",
    "\n",
    "# ✅ IMPORTANT: Change this to the path of the image you want to classify!\n",
    "YOUR_IMAGE_PATH = input('Enter the path of image:')#'/Users/adarshainamdar/Documents/Major_Project/Unknown-2.jpeg' \n",
    "\n",
    "# --- RUN PREDICTION ---\n",
    "try:\n",
    "    # Display the image\n",
    "    display(Image.open(YOUR_IMAGE_PATH).resize((250, 250)))\n",
    "    \n",
    "    predicted_class, predicted_grade = predict_leukemia(\n",
    "        model_path=SAVED_MODEL_PATH,\n",
    "        image_path=YOUR_IMAGE_PATH,\n",
    "        device=device # This 'device' variable was defined in the training cell\n",
    "    )\n",
    "\n",
    "    print(\"🚀 Prediction Complete!\")\n",
    "    print(f\"   - Predicted Class: {predicted_class}\")\n",
    "    print(f\"   - Predicted Grade: {predicted_grade}\")\n",
    "\n",
    "except FileNotFoundError:\n",
    "    print(f\"Error: The image file was not found at '{YOUR_IMAGE_PATH}'\")\n",
    "    print(\"Please make sure the path is correct and re-run the cell.\")\n",
    "except Exception as e:\n",
    "    print(f\"An error occurred: {e}\")"
   ]
  }
 ],
 "metadata": {
  "kernelspec": {
   "display_name": ".venv",
   "language": "python",
   "name": "python3"
  },
  "language_info": {
   "codemirror_mode": {
    "name": "ipython",
    "version": 3
   },
   "file_extension": ".py",
   "mimetype": "text/x-python",
   "name": "python",
   "nbconvert_exporter": "python",
   "pygments_lexer": "ipython3",
   "version": "3.13.5"
  }
 },
 "nbformat": 4,
 "nbformat_minor": 4
}
